{
 "cells": [
  {
   "cell_type": "markdown",
   "metadata": {},
   "source": [
    "## New analysis"
   ]
  },
  {
   "cell_type": "markdown",
   "metadata": {},
   "source": [
    "Analyzes text, HTML, or a public webpage for the following features:\n",
    "        - Categories\n",
    "        - Concepts\n",
    "        - Emotion\n",
    "        - Entities\n",
    "        - Keywords\n",
    "        - Metadata\n",
    "        - Relations\n",
    "        - Semantic roles\n",
    "        - Sentiment."
   ]
  },
  {
   "cell_type": "code",
   "execution_count": 10,
   "metadata": {},
   "outputs": [
    {
     "name": "stdout",
     "output_type": "stream",
     "text": [
      "{\n",
      "  \"usage\": {\n",
      "    \"text_units\": 1,\n",
      "    \"text_characters\": 89,\n",
      "    \"features\": 2\n",
      "  },\n",
      "  \"language\": \"en\",\n",
      "  \"keywords\": [\n",
      "    {\n",
      "      \"text\": \"Bruce Banner\",\n",
      "      \"relevance\": 0.999938,\n",
      "      \"emotion\": {\n",
      "        \"sadness\": 0.110184,\n",
      "        \"joy\": 0.279904,\n",
      "        \"fear\": 0.072589,\n",
      "        \"disgust\": 0.082855,\n",
      "        \"anger\": 0.123095\n",
      "      },\n",
      "      \"count\": 1\n",
      "    },\n",
      "    {\n",
      "      \"text\": \"Bruce Wayne\",\n",
      "      \"relevance\": 0.984803,\n",
      "      \"emotion\": {\n",
      "        \"sadness\": 0.110184,\n",
      "        \"joy\": 0.279904,\n",
      "        \"fear\": 0.072589,\n",
      "        \"disgust\": 0.082855,\n",
      "        \"anger\": 0.123095\n",
      "      },\n",
      "      \"count\": 1\n",
      "    },\n",
      "    {\n",
      "      \"text\": \"Superman fears\",\n",
      "      \"relevance\": 0.974561,\n",
      "      \"emotion\": {\n",
      "        \"sadness\": 0.141719,\n",
      "        \"joy\": 0.193744,\n",
      "        \"fear\": 0.077596,\n",
      "        \"disgust\": 0.07352,\n",
      "        \"anger\": 0.083215\n",
      "      },\n",
      "      \"count\": 1\n",
      "    },\n",
      "    {\n",
      "      \"text\": \"Hulk\",\n",
      "      \"relevance\": 0.691614,\n",
      "      \"emotion\": {\n",
      "        \"sadness\": 0.110184,\n",
      "        \"joy\": 0.279904,\n",
      "        \"fear\": 0.072589,\n",
      "        \"disgust\": 0.082855,\n",
      "        \"anger\": 0.123095\n",
      "      },\n",
      "      \"count\": 1\n",
      "    },\n",
      "    {\n",
      "      \"text\": \"Banner\",\n",
      "      \"relevance\": 0.644681,\n",
      "      \"emotion\": {\n",
      "        \"sadness\": 0.088568,\n",
      "        \"joy\": 0.339045,\n",
      "        \"fear\": 0.057225,\n",
      "        \"disgust\": 0.082055,\n",
      "        \"anger\": 0.117403\n",
      "      },\n",
      "      \"count\": 1\n",
      "    },\n",
      "    {\n",
      "      \"text\": \"BATMAN\",\n",
      "      \"relevance\": 0.568413,\n",
      "      \"emotion\": {\n",
      "        \"sadness\": 0.110184,\n",
      "        \"joy\": 0.279904,\n",
      "        \"fear\": 0.072589,\n",
      "        \"disgust\": 0.082855,\n",
      "        \"anger\": 0.123095\n",
      "      },\n",
      "      \"count\": 1\n",
      "    },\n",
      "    {\n",
      "      \"text\": \"Wayne\",\n",
      "      \"relevance\": 0.54164,\n",
      "      \"emotion\": {\n",
      "        \"sadness\": 0.088568,\n",
      "        \"joy\": 0.339045,\n",
      "        \"fear\": 0.057225,\n",
      "        \"disgust\": 0.082055,\n",
      "        \"anger\": 0.117403\n",
      "      },\n",
      "      \"count\": 1\n",
      "    }\n",
      "  ],\n",
      "  \"entities\": [\n",
      "    {\n",
      "      \"type\": \"Person\",\n",
      "      \"text\": \"Bruce Banner\",\n",
      "      \"relevance\": 0.931351,\n",
      "      \"count\": 3\n",
      "    },\n",
      "    {\n",
      "      \"type\": \"Person\",\n",
      "      \"text\": \"Wayne\",\n",
      "      \"relevance\": 0.288696,\n",
      "      \"count\": 1\n",
      "    }\n",
      "  ]\n",
      "}\n"
     ]
    }
   ],
   "source": [
    "from __future__ import print_function\n",
    "import json\n",
    "from watson_developer_cloud import NaturalLanguageUnderstandingV1\n",
    "from watson_developer_cloud.natural_language_understanding_v1 import Features, EntitiesOptions, KeywordsOptions, EmotionOptions\n",
    "from watson_developer_cloud import natural_language_understanding_v1\n",
    "\n",
    "# If service instance provides API key authentication\n",
    "# service = NaturalLanguageUnderstandingV1(\n",
    "#     version='2018-03-16',\n",
    "#     ## url is optional, and defaults to the URL below. Use the correct URL for your region.\n",
    "#     url='https://gateway.watsonplatform.net/natural-language-understanding/api',\n",
    "#     iam_apikey='your_apikey')\n",
    "\n",
    "service = NaturalLanguageUnderstandingV1(\n",
    "    version='2018-03-16',\n",
    "    ## url is optional, and defaults to the URL below. Use the correct URL for your region.\n",
    "    # url='https://gateway.watsonplatform.net/natural-language-understanding/api',\n",
    "    iam_apikey=\"vyx1IuQ80kXvCVdZYoD84sQRDysB009L4VoV_ZE526Oa\",\n",
    ")\n",
    "\n",
    "response = service.analyze(\n",
    "    text='Bruce Banner is the Hulk and Bruce Wayne is BATMAN! '\n",
    "    'Superman fears not Banner, but Wayne.',\n",
    "    features=Features(entities=EntitiesOptions(),\n",
    "                      keywords=KeywordsOptions(emotion=True))).get_result()\n",
    "\n",
    "print(json.dumps(response, indent=2))"
   ]
  },
  {
   "cell_type": "code",
   "execution_count": 1,
   "metadata": {},
   "outputs": [],
   "source": [
    "import codecs\n",
    "import json\n",
    "import glob"
   ]
  },
  {
   "cell_type": "code",
   "execution_count": 2,
   "metadata": {},
   "outputs": [
    {
     "data": {
      "text/plain": [
       "'/Volumes/GoogleDrive/My Drive/Yale/4/spring/Research/PolySpeech'"
      ]
     },
     "execution_count": 2,
     "metadata": {},
     "output_type": "execute_result"
    }
   ],
   "source": [
    "with open(\"./dataDir.txt\", 'r') as f:\n",
    "    dir = f.read().strip()\n",
    "dir"
   ]
  },
  {
   "cell_type": "code",
   "execution_count": 3,
   "metadata": {},
   "outputs": [],
   "source": [
    "suffix = \".json\"\n",
    "# prefix = dir + \"/WIL Twitter Data With Vader/\"\n",
    "prefix = dir + \"/WIL Twitter Data/\""
   ]
  },
  {
   "cell_type": "code",
   "execution_count": 4,
   "metadata": {},
   "outputs": [],
   "source": [
    "getName = slice(*(len(prefix),-len(suffix)))"
   ]
  },
  {
   "cell_type": "code",
   "execution_count": 9,
   "metadata": {},
   "outputs": [
    {
     "name": "stdout",
     "output_type": "stream",
     "text": [
      "2065\n",
      "3156\n"
     ]
    }
   ],
   "source": [
    "json_paths = glob.glob(prefix + \"*\" + suffix)\n",
    "print(len(json_paths))\n",
    "json_paths[0]\n",
    "with codecs.open(json_paths[0], 'r', encoding='utf8') as rf: \n",
    "    read_tweets = json.load(rf)\n",
    "    print(len(read_tweets))"
   ]
  },
  {
   "cell_type": "code",
   "execution_count": 62,
   "metadata": {},
   "outputs": [
    {
     "name": "stdout",
     "output_type": "stream",
     "text": [
      "RT @briankoppelman: 1)Some thoughts on the value of reading fiction: When I was in my 20s/early 30s, I read 3 or 4 books a week. Mostly fic…\n",
      "0 heykerikae Tweet count: 3156\n",
      "RT @briankoppelman: 1)Some thoughts on the value of reading fiction: When I was in my 20s/early 30s, I read 3 or 4 books a week. Mostly fic…\n"
     ]
    }
   ],
   "source": [
    "def tagIBM(analyzer, start=0, limit=None):\n",
    "    if limit == None:\n",
    "        limit = itertools.count()\n",
    "    else:\n",
    "        limit = range(start, limit)\n",
    "    for (i,json_path),_ in zip(enumerate(glob.glob(prefix + \"*\" + suffix)), limit):\n",
    "        name = json_path[getName]\n",
    "        with codecs.open(json_path, 'r', encoding='utf8') as rf: \n",
    "            read_tweets = json.load(rf)\n",
    "            read_tweets = [json.loads(t) for t in read_tweets]\n",
    "            tweets = [read_tweets[i]['full_text'] for i,_ in enumerate(read_tweets)]\n",
    "            print(tweets[0])\n",
    "            print(i,name, \"Tweet count:\", len(tweets))\n",
    "            for (j, tweet),_ in zip(enumerate(tweets), limit):\n",
    "                print(tweet)\n",
    "                response = service.analyze(text=tweet,\n",
    "                                           features=Features(emotion=natural_language_understanding_v1.EmotionOptions(),\n",
    "                                                              keywords=KeywordsOptions())).get_result()\n",
    "                read_tweets[j]['IBM'] = response\n",
    "#         with open(outPrefix + name + suffix, 'w') as outfile:\n",
    "#             json.dump(read_tweets, outfile)\n",
    "#         print([read_tweets[i]['IBM'] for i,_ in enumerate(read_tweets)])\n",
    "    return read_tweets\n",
    "tweets = tagIBM(service, limit=1)"
   ]
  },
  {
   "cell_type": "code",
   "execution_count": 63,
   "metadata": {},
   "outputs": [
    {
     "data": {
      "text/plain": [
       "{'created_at': 'Wed Dec 26 00:10:32 +0000 2018',\n",
       " 'full_text': 'RT @briankoppelman: 1)Some thoughts on the value of reading fiction: When I was in my 20s/early 30s, I read 3 or 4 books a week. Mostly fic…',\n",
       " 'hashtags': [],\n",
       " 'id': 1077718265567371264,\n",
       " 'id_str': '1077718265567371264',\n",
       " 'lang': 'en',\n",
       " 'retweet_count': 3107,\n",
       " 'retweeted_status': {'created_at': 'Mon Dec 24 22:24:40 +0000 2018',\n",
       "  'favorite_count': 11094,\n",
       "  'full_text': '1)Some thoughts on the value of reading fiction: When I was in my 20s/early 30s, I read 3 or 4 books a week. Mostly fiction. This sounds like a lot to non-writers. But it’s not. It never felt like work. Or if it did, I was on to the next book.',\n",
       "  'hashtags': [],\n",
       "  'id': 1077329236149571584,\n",
       "  'id_str': '1077329236149571584',\n",
       "  'lang': 'en',\n",
       "  'place': {'attributes': {},\n",
       "   'bounding_box': {'coordinates': [[[-80.147162, 25.7613083],\n",
       "      [-80.1187628, 25.7613083],\n",
       "      [-80.1187628, 25.872623],\n",
       "      [-80.147162, 25.872623]]],\n",
       "    'type': 'Polygon'},\n",
       "   'contained_within': [],\n",
       "   'country': 'United States',\n",
       "   'country_code': 'US',\n",
       "   'full_name': 'Miami Beach, FL',\n",
       "   'id': '0121b92345f0e2b4',\n",
       "   'name': 'Miami Beach',\n",
       "   'place_type': 'city',\n",
       "   'url': 'https://api.twitter.com/1.1/geo/id/0121b92345f0e2b4.json'},\n",
       "  'retweet_count': 3107,\n",
       "  'source': '<a href=\"http://twitter.com/download/iphone\" rel=\"nofollow\">Twitter for iPhone</a>',\n",
       "  'urls': [],\n",
       "  'user': {'id': 16737406, 'id_str': '16737406'},\n",
       "  'user_mentions': []},\n",
       " 'source': '<a href=\"http://twitter.com/download/android\" rel=\"nofollow\">Twitter for Android</a>',\n",
       " 'urls': [],\n",
       " 'user': {'id': 17083778, 'id_str': '17083778'},\n",
       " 'user_mentions': [{'id': 16737406,\n",
       "   'id_str': '16737406',\n",
       "   'name': 'Brian Koppelman',\n",
       "   'screen_name': 'briankoppelman'}],\n",
       " 'IBM': {'usage': {'text_units': 1, 'text_characters': 140, 'features': 2},\n",
       "  'language': 'en',\n",
       "  'keywords': [{'text': 'value of reading fiction',\n",
       "    'relevance': 0.948469,\n",
       "    'count': 1},\n",
       "   {'text': '20s', 'relevance': 0.82297, 'count': 1},\n",
       "   {'text': 'RT', 'relevance': 0.817649, 'count': 1},\n",
       "   {'text': 'thoughts', 'relevance': 0.657903, 'count': 1},\n",
       "   {'text': 'books', 'relevance': 0.565563, 'count': 1},\n",
       "   {'text': 'week', 'relevance': 0.554172, 'count': 1},\n",
       "   {'text': '30s', 'relevance': 0.493918, 'count': 1},\n",
       "   {'text': 'briankoppelman', 'relevance': 0.327459, 'count': 1}],\n",
       "  'emotion': {'document': {'emotion': {'sadness': 0.41707,\n",
       "     'joy': 0.415651,\n",
       "     'fear': 0.131175,\n",
       "     'disgust': 0.073958,\n",
       "     'anger': 0.019712}}}}}"
      ]
     },
     "execution_count": 63,
     "metadata": {},
     "output_type": "execute_result"
    }
   ],
   "source": [
    "tweets[0]"
   ]
  },
  {
   "cell_type": "code",
   "execution_count": 30,
   "metadata": {},
   "outputs": [
    {
     "data": {
      "text/plain": [
       "watson_developer_cloud.natural_language_understanding_v1.EmotionOptions"
      ]
     },
     "execution_count": 30,
     "metadata": {},
     "output_type": "execute_result"
    }
   ],
   "source": [
    "natural_language_understanding_v1.EmotionOptions"
   ]
  },
  {
   "cell_type": "code",
   "execution_count": 35,
   "metadata": {},
   "outputs": [],
   "source": [
    "response = service.analyze(\n",
    "    text=tweets,\n",
    "    features=Features(emotion=natural_language_understanding_v1.EmotionOptions(),\n",
    "                      keywords=KeywordsOptions())).get_result()"
   ]
  },
  {
   "cell_type": "code",
   "execution_count": 36,
   "metadata": {},
   "outputs": [
    {
     "data": {
      "text/plain": [
       "{'usage': {'text_units': 1, 'text_characters': 140, 'features': 2},\n",
       " 'language': 'en',\n",
       " 'keywords': [{'text': 'value of reading fiction',\n",
       "   'relevance': 0.948469,\n",
       "   'count': 1},\n",
       "  {'text': '20s', 'relevance': 0.82297, 'count': 1},\n",
       "  {'text': 'RT', 'relevance': 0.817649, 'count': 1},\n",
       "  {'text': 'thoughts', 'relevance': 0.657903, 'count': 1},\n",
       "  {'text': 'books', 'relevance': 0.565563, 'count': 1},\n",
       "  {'text': 'week', 'relevance': 0.554172, 'count': 1},\n",
       "  {'text': '30s', 'relevance': 0.493918, 'count': 1},\n",
       "  {'text': 'briankoppelman', 'relevance': 0.327459, 'count': 1}],\n",
       " 'emotion': {'document': {'emotion': {'sadness': 0.41707,\n",
       "    'joy': 0.415651,\n",
       "    'fear': 0.131175,\n",
       "    'disgust': 0.073958,\n",
       "    'anger': 0.019712}}}}"
      ]
     },
     "execution_count": 36,
     "metadata": {},
     "output_type": "execute_result"
    }
   ],
   "source": [
    "response"
   ]
  },
  {
   "cell_type": "code",
   "execution_count": null,
   "metadata": {},
   "outputs": [],
   "source": []
  },
  {
   "cell_type": "markdown",
   "metadata": {},
   "source": [
    "## OG analysis"
   ]
  },
  {
   "cell_type": "code",
   "execution_count": 1,
   "metadata": {},
   "outputs": [],
   "source": [
    "from __future__ import print_function\n",
    "import json\n",
    "from os.path import join, dirname\n",
    "from watson_developer_cloud import ToneAnalyzerV3\n",
    "\n",
    "tone_analyzer = ToneAnalyzerV3(\n",
    "    username='e382ff56-867f-4857-a0be-5d3da0968b61',\n",
    "    password='yfRH7C1jLu4A',\n",
    "    version='2017-09-26')"
   ]
  },
  {
   "cell_type": "code",
   "execution_count": 2,
   "metadata": {},
   "outputs": [],
   "source": [
    "from collections import Counter\n",
    "import pandas as pd\n",
    "import numpy as np"
   ]
  },
  {
   "cell_type": "code",
   "execution_count": 17,
   "metadata": {},
   "outputs": [
    {
     "name": "stdout",
     "output_type": "stream",
     "text": [
      "{\n",
      "  \"document_tone\": {\n",
      "    \"tones\": [\n",
      "      {\n",
      "        \"score\": 0.961678,\n",
      "        \"tone_id\": \"joy\",\n",
      "        \"tone_name\": \"Joy\"\n",
      "      },\n",
      "      {\n",
      "        \"score\": 0.983213,\n",
      "        \"tone_id\": \"confident\",\n",
      "        \"tone_name\": \"Confident\"\n",
      "      }\n",
      "    ]\n",
      "  }\n",
      "}\n"
     ]
    }
   ],
   "source": [
    "print(json.dumps(tone_analyzer.tone(tone_input='I am very happy. It is a good day.',\n",
    "                                    content_type=\"text/plain\", sentences=False), indent=2))"
   ]
  },
  {
   "cell_type": "code",
   "execution_count": 4,
   "metadata": {},
   "outputs": [],
   "source": [
    "# df = pd.read_csv('data/week1-mar25-min.csv')"
   ]
  },
  {
   "cell_type": "code",
   "execution_count": 9,
   "metadata": {},
   "outputs": [],
   "source": [
    "df = pd.read_csv('pol_tweets_50.csv')\n",
    "#df = pd.read_csv('men200.csv')"
   ]
  },
  {
   "cell_type": "code",
   "execution_count": 1,
   "metadata": {},
   "outputs": [],
   "source": [
    "#df"
   ]
  },
  {
   "cell_type": "code",
   "execution_count": 14,
   "metadata": {},
   "outputs": [
    {
     "data": {
      "text/plain": [
       "216.0"
      ]
     },
     "execution_count": 14,
     "metadata": {},
     "output_type": "execute_result"
    }
   ],
   "source": [
    "len(df) / 50"
   ]
  },
  {
   "cell_type": "code",
   "execution_count": 15,
   "metadata": {},
   "outputs": [
    {
     "data": {
      "text/plain": [
       "222"
      ]
     },
     "execution_count": 15,
     "metadata": {},
     "output_type": "execute_result"
    }
   ],
   "source": [
    "111 * 2"
   ]
  },
  {
   "cell_type": "code",
   "execution_count": 20,
   "metadata": {},
   "outputs": [
    {
     "name": "stdout",
     "output_type": "stream",
     "text": [
      "progress: i: 0 0.0 %\n",
      "Rewriting previous\n",
      "Rewriting previous\n",
      "Rewriting previous\n",
      "Rewriting previous\n",
      "progress: i: 10 0.9259259259259259 %\n",
      "progress: i: 20 1.8518518518518519 %\n"
     ]
    },
    {
     "ename": "KeyboardInterrupt",
     "evalue": "",
     "output_type": "error",
     "traceback": [
      "\u001b[0;31m---------------------------------------------------------------------------\u001b[0m",
      "\u001b[0;31mKeyboardInterrupt\u001b[0m                         Traceback (most recent call last)",
      "\u001b[0;32m<ipython-input-20-dcc891f94bbb>\u001b[0m in \u001b[0;36m<module>\u001b[0;34m()\u001b[0m\n\u001b[1;32m     10\u001b[0m     \u001b[0mtweet_batch\u001b[0m \u001b[0;34m=\u001b[0m \u001b[0mdf\u001b[0m\u001b[0;34m.\u001b[0m\u001b[0mloc\u001b[0m\u001b[0;34m[\u001b[0m\u001b[0midx\u001b[0m\u001b[0;34m:\u001b[0m\u001b[0midx\u001b[0m\u001b[0;34m+\u001b[0m\u001b[0mstep\u001b[0m\u001b[0;34m,\u001b[0m \u001b[0;34m'tweet_text'\u001b[0m\u001b[0;34m]\u001b[0m\u001b[0;34m\u001b[0m\u001b[0m\n\u001b[1;32m     11\u001b[0m     \u001b[0;31m#tweet_batch = [tweet.replace('.', '--').replace('!', '--') for tweet in tweet_batch]\u001b[0m\u001b[0;34m\u001b[0m\u001b[0;34m\u001b[0m\u001b[0m\n\u001b[0;32m---> 12\u001b[0;31m     \u001b[0mraw\u001b[0m \u001b[0;34m=\u001b[0m \u001b[0mtone_analyzer\u001b[0m\u001b[0;34m.\u001b[0m\u001b[0mtone\u001b[0m\u001b[0;34m(\u001b[0m\u001b[0mtone_input\u001b[0m\u001b[0;34m=\u001b[0m\u001b[0;34m'. '\u001b[0m\u001b[0;34m.\u001b[0m\u001b[0mjoin\u001b[0m\u001b[0;34m(\u001b[0m\u001b[0mtweet_batch\u001b[0m\u001b[0;34m)\u001b[0m\u001b[0;34m,\u001b[0m \u001b[0mcontent_type\u001b[0m\u001b[0;34m=\u001b[0m\u001b[0;34m'text/plain'\u001b[0m\u001b[0;34m,\u001b[0m \u001b[0msentences\u001b[0m\u001b[0;34m=\u001b[0m\u001b[0;32mTrue\u001b[0m\u001b[0;34m)\u001b[0m\u001b[0;34m\u001b[0m\u001b[0m\n\u001b[0m\u001b[1;32m     13\u001b[0m     \u001b[0;32mfor\u001b[0m \u001b[0mj\u001b[0m\u001b[0;34m,\u001b[0m \u001b[0msent_dict\u001b[0m \u001b[0;32min\u001b[0m \u001b[0menumerate\u001b[0m\u001b[0;34m(\u001b[0m\u001b[0mraw\u001b[0m\u001b[0;34m[\u001b[0m\u001b[0;34m'sentences_tone'\u001b[0m\u001b[0;34m]\u001b[0m\u001b[0;34m)\u001b[0m\u001b[0;34m:\u001b[0m\u001b[0;34m\u001b[0m\u001b[0m\n\u001b[1;32m     14\u001b[0m         \u001b[0;31m# find the csv sentence starting with this, if any.\u001b[0m\u001b[0;34m\u001b[0m\u001b[0;34m\u001b[0m\u001b[0m\n",
      "\u001b[0;32m~/.virtualenvs/finance/lib/python3.6/site-packages/watson_developer_cloud/tone_analyzer_v3.py\u001b[0m in \u001b[0;36mtone\u001b[0;34m(self, tone_input, content_type, sentences, tones, content_language, accept_language)\u001b[0m\n\u001b[1;32m    128\u001b[0m             \u001b[0mparams\u001b[0m\u001b[0;34m=\u001b[0m\u001b[0mparams\u001b[0m\u001b[0;34m,\u001b[0m\u001b[0;34m\u001b[0m\u001b[0m\n\u001b[1;32m    129\u001b[0m             \u001b[0mdata\u001b[0m\u001b[0;34m=\u001b[0m\u001b[0mdata\u001b[0m\u001b[0;34m,\u001b[0m\u001b[0;34m\u001b[0m\u001b[0m\n\u001b[0;32m--> 130\u001b[0;31m             accept_json=True)\n\u001b[0m\u001b[1;32m    131\u001b[0m         \u001b[0;32mreturn\u001b[0m \u001b[0mresponse\u001b[0m\u001b[0;34m\u001b[0m\u001b[0m\n\u001b[1;32m    132\u001b[0m \u001b[0;34m\u001b[0m\u001b[0m\n",
      "\u001b[0;32m~/.virtualenvs/finance/lib/python3.6/site-packages/watson_developer_cloud/watson_service.py\u001b[0m in \u001b[0;36mrequest\u001b[0;34m(self, method, url, accept_json, headers, params, json, data, files, **kwargs)\u001b[0m\n\u001b[1;32m    356\u001b[0m                                     \u001b[0mheaders\u001b[0m\u001b[0;34m=\u001b[0m\u001b[0mheaders\u001b[0m\u001b[0;34m,\u001b[0m\u001b[0;34m\u001b[0m\u001b[0m\n\u001b[1;32m    357\u001b[0m                                     \u001b[0mparams\u001b[0m\u001b[0;34m=\u001b[0m\u001b[0mparams\u001b[0m\u001b[0;34m,\u001b[0m \u001b[0mdata\u001b[0m\u001b[0;34m=\u001b[0m\u001b[0mdata\u001b[0m\u001b[0;34m,\u001b[0m \u001b[0mfiles\u001b[0m\u001b[0;34m=\u001b[0m\u001b[0mfiles\u001b[0m\u001b[0;34m,\u001b[0m\u001b[0;34m\u001b[0m\u001b[0m\n\u001b[0;32m--> 358\u001b[0;31m                                     **kwargs)\n\u001b[0m\u001b[1;32m    359\u001b[0m \u001b[0;34m\u001b[0m\u001b[0m\n\u001b[1;32m    360\u001b[0m         \u001b[0;32mif\u001b[0m \u001b[0;36m200\u001b[0m \u001b[0;34m<=\u001b[0m \u001b[0mresponse\u001b[0m\u001b[0;34m.\u001b[0m\u001b[0mstatus_code\u001b[0m \u001b[0;34m<=\u001b[0m \u001b[0;36m299\u001b[0m\u001b[0;34m:\u001b[0m\u001b[0;34m\u001b[0m\u001b[0m\n",
      "\u001b[0;32m~/.virtualenvs/finance/lib/python3.6/site-packages/requests/api.py\u001b[0m in \u001b[0;36mrequest\u001b[0;34m(method, url, **kwargs)\u001b[0m\n\u001b[1;32m     56\u001b[0m     \u001b[0;31m# cases, and look like a memory leak in others.\u001b[0m\u001b[0;34m\u001b[0m\u001b[0;34m\u001b[0m\u001b[0m\n\u001b[1;32m     57\u001b[0m     \u001b[0;32mwith\u001b[0m \u001b[0msessions\u001b[0m\u001b[0;34m.\u001b[0m\u001b[0mSession\u001b[0m\u001b[0;34m(\u001b[0m\u001b[0;34m)\u001b[0m \u001b[0;32mas\u001b[0m \u001b[0msession\u001b[0m\u001b[0;34m:\u001b[0m\u001b[0;34m\u001b[0m\u001b[0m\n\u001b[0;32m---> 58\u001b[0;31m         \u001b[0;32mreturn\u001b[0m \u001b[0msession\u001b[0m\u001b[0;34m.\u001b[0m\u001b[0mrequest\u001b[0m\u001b[0;34m(\u001b[0m\u001b[0mmethod\u001b[0m\u001b[0;34m=\u001b[0m\u001b[0mmethod\u001b[0m\u001b[0;34m,\u001b[0m \u001b[0murl\u001b[0m\u001b[0;34m=\u001b[0m\u001b[0murl\u001b[0m\u001b[0;34m,\u001b[0m \u001b[0;34m**\u001b[0m\u001b[0mkwargs\u001b[0m\u001b[0;34m)\u001b[0m\u001b[0;34m\u001b[0m\u001b[0m\n\u001b[0m\u001b[1;32m     59\u001b[0m \u001b[0;34m\u001b[0m\u001b[0m\n\u001b[1;32m     60\u001b[0m \u001b[0;34m\u001b[0m\u001b[0m\n",
      "\u001b[0;32m~/.virtualenvs/finance/lib/python3.6/site-packages/requests/sessions.py\u001b[0m in \u001b[0;36mrequest\u001b[0;34m(self, method, url, params, data, headers, cookies, files, auth, timeout, allow_redirects, proxies, hooks, stream, verify, cert, json)\u001b[0m\n\u001b[1;32m    506\u001b[0m         }\n\u001b[1;32m    507\u001b[0m         \u001b[0msend_kwargs\u001b[0m\u001b[0;34m.\u001b[0m\u001b[0mupdate\u001b[0m\u001b[0;34m(\u001b[0m\u001b[0msettings\u001b[0m\u001b[0;34m)\u001b[0m\u001b[0;34m\u001b[0m\u001b[0m\n\u001b[0;32m--> 508\u001b[0;31m         \u001b[0mresp\u001b[0m \u001b[0;34m=\u001b[0m \u001b[0mself\u001b[0m\u001b[0;34m.\u001b[0m\u001b[0msend\u001b[0m\u001b[0;34m(\u001b[0m\u001b[0mprep\u001b[0m\u001b[0;34m,\u001b[0m \u001b[0;34m**\u001b[0m\u001b[0msend_kwargs\u001b[0m\u001b[0;34m)\u001b[0m\u001b[0;34m\u001b[0m\u001b[0m\n\u001b[0m\u001b[1;32m    509\u001b[0m \u001b[0;34m\u001b[0m\u001b[0m\n\u001b[1;32m    510\u001b[0m         \u001b[0;32mreturn\u001b[0m \u001b[0mresp\u001b[0m\u001b[0;34m\u001b[0m\u001b[0m\n",
      "\u001b[0;32m~/.virtualenvs/finance/lib/python3.6/site-packages/requests/sessions.py\u001b[0m in \u001b[0;36msend\u001b[0;34m(self, request, **kwargs)\u001b[0m\n\u001b[1;32m    616\u001b[0m \u001b[0;34m\u001b[0m\u001b[0m\n\u001b[1;32m    617\u001b[0m         \u001b[0;31m# Send the request\u001b[0m\u001b[0;34m\u001b[0m\u001b[0;34m\u001b[0m\u001b[0m\n\u001b[0;32m--> 618\u001b[0;31m         \u001b[0mr\u001b[0m \u001b[0;34m=\u001b[0m \u001b[0madapter\u001b[0m\u001b[0;34m.\u001b[0m\u001b[0msend\u001b[0m\u001b[0;34m(\u001b[0m\u001b[0mrequest\u001b[0m\u001b[0;34m,\u001b[0m \u001b[0;34m**\u001b[0m\u001b[0mkwargs\u001b[0m\u001b[0;34m)\u001b[0m\u001b[0;34m\u001b[0m\u001b[0m\n\u001b[0m\u001b[1;32m    619\u001b[0m \u001b[0;34m\u001b[0m\u001b[0m\n\u001b[1;32m    620\u001b[0m         \u001b[0;31m# Total elapsed time of the request (approximately)\u001b[0m\u001b[0;34m\u001b[0m\u001b[0;34m\u001b[0m\u001b[0m\n",
      "\u001b[0;32m~/.virtualenvs/finance/lib/python3.6/site-packages/requests/adapters.py\u001b[0m in \u001b[0;36msend\u001b[0;34m(self, request, stream, timeout, verify, cert, proxies)\u001b[0m\n\u001b[1;32m    438\u001b[0m                     \u001b[0mdecode_content\u001b[0m\u001b[0;34m=\u001b[0m\u001b[0;32mFalse\u001b[0m\u001b[0;34m,\u001b[0m\u001b[0;34m\u001b[0m\u001b[0m\n\u001b[1;32m    439\u001b[0m                     \u001b[0mretries\u001b[0m\u001b[0;34m=\u001b[0m\u001b[0mself\u001b[0m\u001b[0;34m.\u001b[0m\u001b[0mmax_retries\u001b[0m\u001b[0;34m,\u001b[0m\u001b[0;34m\u001b[0m\u001b[0m\n\u001b[0;32m--> 440\u001b[0;31m                     \u001b[0mtimeout\u001b[0m\u001b[0;34m=\u001b[0m\u001b[0mtimeout\u001b[0m\u001b[0;34m\u001b[0m\u001b[0m\n\u001b[0m\u001b[1;32m    441\u001b[0m                 )\n\u001b[1;32m    442\u001b[0m \u001b[0;34m\u001b[0m\u001b[0m\n",
      "\u001b[0;32m~/.virtualenvs/finance/lib/python3.6/site-packages/urllib3/connectionpool.py\u001b[0m in \u001b[0;36murlopen\u001b[0;34m(self, method, url, body, headers, retries, redirect, assert_same_host, timeout, pool_timeout, release_conn, chunked, body_pos, **response_kw)\u001b[0m\n\u001b[1;32m    599\u001b[0m                                                   \u001b[0mtimeout\u001b[0m\u001b[0;34m=\u001b[0m\u001b[0mtimeout_obj\u001b[0m\u001b[0;34m,\u001b[0m\u001b[0;34m\u001b[0m\u001b[0m\n\u001b[1;32m    600\u001b[0m                                                   \u001b[0mbody\u001b[0m\u001b[0;34m=\u001b[0m\u001b[0mbody\u001b[0m\u001b[0;34m,\u001b[0m \u001b[0mheaders\u001b[0m\u001b[0;34m=\u001b[0m\u001b[0mheaders\u001b[0m\u001b[0;34m,\u001b[0m\u001b[0;34m\u001b[0m\u001b[0m\n\u001b[0;32m--> 601\u001b[0;31m                                                   chunked=chunked)\n\u001b[0m\u001b[1;32m    602\u001b[0m \u001b[0;34m\u001b[0m\u001b[0m\n\u001b[1;32m    603\u001b[0m             \u001b[0;31m# If we're going to release the connection in ``finally:``, then\u001b[0m\u001b[0;34m\u001b[0m\u001b[0;34m\u001b[0m\u001b[0m\n",
      "\u001b[0;32m~/.virtualenvs/finance/lib/python3.6/site-packages/urllib3/connectionpool.py\u001b[0m in \u001b[0;36m_make_request\u001b[0;34m(self, conn, method, url, timeout, chunked, **httplib_request_kw)\u001b[0m\n\u001b[1;32m    344\u001b[0m         \u001b[0;31m# Trigger any extra validation we need to do.\u001b[0m\u001b[0;34m\u001b[0m\u001b[0;34m\u001b[0m\u001b[0m\n\u001b[1;32m    345\u001b[0m         \u001b[0;32mtry\u001b[0m\u001b[0;34m:\u001b[0m\u001b[0;34m\u001b[0m\u001b[0m\n\u001b[0;32m--> 346\u001b[0;31m             \u001b[0mself\u001b[0m\u001b[0;34m.\u001b[0m\u001b[0m_validate_conn\u001b[0m\u001b[0;34m(\u001b[0m\u001b[0mconn\u001b[0m\u001b[0;34m)\u001b[0m\u001b[0;34m\u001b[0m\u001b[0m\n\u001b[0m\u001b[1;32m    347\u001b[0m         \u001b[0;32mexcept\u001b[0m \u001b[0;34m(\u001b[0m\u001b[0mSocketTimeout\u001b[0m\u001b[0;34m,\u001b[0m \u001b[0mBaseSSLError\u001b[0m\u001b[0;34m)\u001b[0m \u001b[0;32mas\u001b[0m \u001b[0me\u001b[0m\u001b[0;34m:\u001b[0m\u001b[0;34m\u001b[0m\u001b[0m\n\u001b[1;32m    348\u001b[0m             \u001b[0;31m# Py2 raises this as a BaseSSLError, Py3 raises it as socket timeout.\u001b[0m\u001b[0;34m\u001b[0m\u001b[0;34m\u001b[0m\u001b[0m\n",
      "\u001b[0;32m~/.virtualenvs/finance/lib/python3.6/site-packages/urllib3/connectionpool.py\u001b[0m in \u001b[0;36m_validate_conn\u001b[0;34m(self, conn)\u001b[0m\n\u001b[1;32m    848\u001b[0m         \u001b[0;31m# Force connect early to allow us to validate the connection.\u001b[0m\u001b[0;34m\u001b[0m\u001b[0;34m\u001b[0m\u001b[0m\n\u001b[1;32m    849\u001b[0m         \u001b[0;32mif\u001b[0m \u001b[0;32mnot\u001b[0m \u001b[0mgetattr\u001b[0m\u001b[0;34m(\u001b[0m\u001b[0mconn\u001b[0m\u001b[0;34m,\u001b[0m \u001b[0;34m'sock'\u001b[0m\u001b[0;34m,\u001b[0m \u001b[0;32mNone\u001b[0m\u001b[0;34m)\u001b[0m\u001b[0;34m:\u001b[0m  \u001b[0;31m# AppEngine might not have  `.sock`\u001b[0m\u001b[0;34m\u001b[0m\u001b[0m\n\u001b[0;32m--> 850\u001b[0;31m             \u001b[0mconn\u001b[0m\u001b[0;34m.\u001b[0m\u001b[0mconnect\u001b[0m\u001b[0;34m(\u001b[0m\u001b[0;34m)\u001b[0m\u001b[0;34m\u001b[0m\u001b[0m\n\u001b[0m\u001b[1;32m    851\u001b[0m \u001b[0;34m\u001b[0m\u001b[0m\n\u001b[1;32m    852\u001b[0m         \u001b[0;32mif\u001b[0m \u001b[0;32mnot\u001b[0m \u001b[0mconn\u001b[0m\u001b[0;34m.\u001b[0m\u001b[0mis_verified\u001b[0m\u001b[0;34m:\u001b[0m\u001b[0;34m\u001b[0m\u001b[0m\n",
      "\u001b[0;32m~/.virtualenvs/finance/lib/python3.6/site-packages/urllib3/connection.py\u001b[0m in \u001b[0;36mconnect\u001b[0;34m(self)\u001b[0m\n\u001b[1;32m    324\u001b[0m             \u001b[0mca_cert_dir\u001b[0m\u001b[0;34m=\u001b[0m\u001b[0mself\u001b[0m\u001b[0;34m.\u001b[0m\u001b[0mca_cert_dir\u001b[0m\u001b[0;34m,\u001b[0m\u001b[0;34m\u001b[0m\u001b[0m\n\u001b[1;32m    325\u001b[0m             \u001b[0mserver_hostname\u001b[0m\u001b[0;34m=\u001b[0m\u001b[0mhostname\u001b[0m\u001b[0;34m,\u001b[0m\u001b[0;34m\u001b[0m\u001b[0m\n\u001b[0;32m--> 326\u001b[0;31m             ssl_context=context)\n\u001b[0m\u001b[1;32m    327\u001b[0m \u001b[0;34m\u001b[0m\u001b[0m\n\u001b[1;32m    328\u001b[0m         \u001b[0;32mif\u001b[0m \u001b[0mself\u001b[0m\u001b[0;34m.\u001b[0m\u001b[0massert_fingerprint\u001b[0m\u001b[0;34m:\u001b[0m\u001b[0;34m\u001b[0m\u001b[0m\n",
      "\u001b[0;32m~/.virtualenvs/finance/lib/python3.6/site-packages/urllib3/util/ssl_.py\u001b[0m in \u001b[0;36mssl_wrap_socket\u001b[0;34m(sock, keyfile, certfile, cert_reqs, ca_certs, server_hostname, ssl_version, ciphers, ssl_context, ca_cert_dir)\u001b[0m\n\u001b[1;32m    327\u001b[0m         \u001b[0mcontext\u001b[0m\u001b[0;34m.\u001b[0m\u001b[0mload_cert_chain\u001b[0m\u001b[0;34m(\u001b[0m\u001b[0mcertfile\u001b[0m\u001b[0;34m,\u001b[0m \u001b[0mkeyfile\u001b[0m\u001b[0;34m)\u001b[0m\u001b[0;34m\u001b[0m\u001b[0m\n\u001b[1;32m    328\u001b[0m     \u001b[0;32mif\u001b[0m \u001b[0mHAS_SNI\u001b[0m\u001b[0;34m:\u001b[0m  \u001b[0;31m# Platform-specific: OpenSSL with enabled SNI\u001b[0m\u001b[0;34m\u001b[0m\u001b[0m\n\u001b[0;32m--> 329\u001b[0;31m         \u001b[0;32mreturn\u001b[0m \u001b[0mcontext\u001b[0m\u001b[0;34m.\u001b[0m\u001b[0mwrap_socket\u001b[0m\u001b[0;34m(\u001b[0m\u001b[0msock\u001b[0m\u001b[0;34m,\u001b[0m \u001b[0mserver_hostname\u001b[0m\u001b[0;34m=\u001b[0m\u001b[0mserver_hostname\u001b[0m\u001b[0;34m)\u001b[0m\u001b[0;34m\u001b[0m\u001b[0m\n\u001b[0m\u001b[1;32m    330\u001b[0m \u001b[0;34m\u001b[0m\u001b[0m\n\u001b[1;32m    331\u001b[0m     warnings.warn(\n",
      "\u001b[0;32m~/.virtualenvs/finance/lib/python3.6/site-packages/urllib3/contrib/pyopenssl.py\u001b[0m in \u001b[0;36mwrap_socket\u001b[0;34m(self, sock, server_side, do_handshake_on_connect, suppress_ragged_eofs, server_hostname)\u001b[0m\n\u001b[1;32m    439\u001b[0m         \u001b[0;32mwhile\u001b[0m \u001b[0;32mTrue\u001b[0m\u001b[0;34m:\u001b[0m\u001b[0;34m\u001b[0m\u001b[0m\n\u001b[1;32m    440\u001b[0m             \u001b[0;32mtry\u001b[0m\u001b[0;34m:\u001b[0m\u001b[0;34m\u001b[0m\u001b[0m\n\u001b[0;32m--> 441\u001b[0;31m                 \u001b[0mcnx\u001b[0m\u001b[0;34m.\u001b[0m\u001b[0mdo_handshake\u001b[0m\u001b[0;34m(\u001b[0m\u001b[0;34m)\u001b[0m\u001b[0;34m\u001b[0m\u001b[0m\n\u001b[0m\u001b[1;32m    442\u001b[0m             \u001b[0;32mexcept\u001b[0m \u001b[0mOpenSSL\u001b[0m\u001b[0;34m.\u001b[0m\u001b[0mSSL\u001b[0m\u001b[0;34m.\u001b[0m\u001b[0mWantReadError\u001b[0m\u001b[0;34m:\u001b[0m\u001b[0;34m\u001b[0m\u001b[0m\n\u001b[1;32m    443\u001b[0m                 \u001b[0mrd\u001b[0m \u001b[0;34m=\u001b[0m \u001b[0mutil\u001b[0m\u001b[0;34m.\u001b[0m\u001b[0mwait_for_read\u001b[0m\u001b[0;34m(\u001b[0m\u001b[0msock\u001b[0m\u001b[0;34m,\u001b[0m \u001b[0msock\u001b[0m\u001b[0;34m.\u001b[0m\u001b[0mgettimeout\u001b[0m\u001b[0;34m(\u001b[0m\u001b[0;34m)\u001b[0m\u001b[0;34m)\u001b[0m\u001b[0;34m\u001b[0m\u001b[0m\n",
      "\u001b[0;32m~/.virtualenvs/finance/lib/python3.6/site-packages/OpenSSL/SSL.py\u001b[0m in \u001b[0;36mdo_handshake\u001b[0;34m(self)\u001b[0m\n\u001b[1;32m   1803\u001b[0m         \u001b[0;34m:\u001b[0m\u001b[0;32mreturn\u001b[0m\u001b[0;34m:\u001b[0m \u001b[0;32mNone\u001b[0m\u001b[0;34m.\u001b[0m\u001b[0;34m\u001b[0m\u001b[0m\n\u001b[1;32m   1804\u001b[0m         \"\"\"\n\u001b[0;32m-> 1805\u001b[0;31m         \u001b[0mresult\u001b[0m \u001b[0;34m=\u001b[0m \u001b[0m_lib\u001b[0m\u001b[0;34m.\u001b[0m\u001b[0mSSL_do_handshake\u001b[0m\u001b[0;34m(\u001b[0m\u001b[0mself\u001b[0m\u001b[0;34m.\u001b[0m\u001b[0m_ssl\u001b[0m\u001b[0;34m)\u001b[0m\u001b[0;34m\u001b[0m\u001b[0m\n\u001b[0m\u001b[1;32m   1806\u001b[0m         \u001b[0mself\u001b[0m\u001b[0;34m.\u001b[0m\u001b[0m_raise_ssl_error\u001b[0m\u001b[0;34m(\u001b[0m\u001b[0mself\u001b[0m\u001b[0;34m.\u001b[0m\u001b[0m_ssl\u001b[0m\u001b[0;34m,\u001b[0m \u001b[0mresult\u001b[0m\u001b[0;34m)\u001b[0m\u001b[0;34m\u001b[0m\u001b[0m\n\u001b[1;32m   1807\u001b[0m \u001b[0;34m\u001b[0m\u001b[0m\n",
      "\u001b[0;31mKeyboardInterrupt\u001b[0m: "
     ]
    }
   ],
   "source": [
    "step = 10\n",
    "it = len(df) / step\n",
    "pref_len = 20\n",
    "l=0\n",
    "fails = 1\n",
    "for i in range(int(it)):\n",
    "    idx = i*step\n",
    "    if i % 10 == 0:\n",
    "        print(\"progress: i:\", i, idx*100/len(df), \"%\")\n",
    "    tweet_batch = df.loc[idx:idx+step, 'tweet_text']\n",
    "    #tweet_batch = [tweet.replace('.', '--').replace('!', '--') for tweet in tweet_batch]\n",
    "    raw = tone_analyzer.tone(tone_input='. '.join(tweet_batch), content_type='text/plain', sentences=True)\n",
    "    for j, sent_dict in enumerate(raw['sentences_tone']):\n",
    "        # find the csv sentence starting with this, if any.\n",
    "        # first 20 letters serve as key\n",
    "        key = sent_dict['text'][:pref_len]\n",
    "        # Linear search from index to idx + step for where to put the results\n",
    "        for k in range(step):\n",
    "            if df.loc[idx + k, 'tweet_text'][:pref_len] == key:\n",
    "                if idx + k <= l:\n",
    "                    print('Rewriting previous')\n",
    "                l = idx+k\n",
    "                df.loc[l, 'IBM_text'] = sent_dict['text']\n",
    "                for tone in sent_dict['tones']:\n",
    "                    df.loc[l, tone['tone_name']] = tone['score']\n",
    "                break\n",
    "            if k == step - 1:\n",
    "                # Failure\n",
    "                if fails % 10 == 0:\n",
    "                    fails += 1\n",
    "                    print('Failed 10 matches')\n",
    "print(fails)"
   ]
  },
  {
   "cell_type": "code",
   "execution_count": 22,
   "metadata": {
    "scrolled": true
   },
   "outputs": [
    {
     "data": {
      "text/html": [
       "<div>\n",
       "<style scoped>\n",
       "    .dataframe tbody tr th:only-of-type {\n",
       "        vertical-align: middle;\n",
       "    }\n",
       "\n",
       "    .dataframe tbody tr th {\n",
       "        vertical-align: top;\n",
       "    }\n",
       "\n",
       "    .dataframe thead th {\n",
       "        text-align: right;\n",
       "    }\n",
       "</style>\n",
       "<table border=\"1\" class=\"dataframe\">\n",
       "  <thead>\n",
       "    <tr style=\"text-align: right;\">\n",
       "      <th></th>\n",
       "      <th>first_name</th>\n",
       "      <th>last_name</th>\n",
       "      <th>gender</th>\n",
       "      <th>age</th>\n",
       "      <th>type</th>\n",
       "      <th>senate_class</th>\n",
       "      <th>party</th>\n",
       "      <th>twitter</th>\n",
       "      <th>tweet_id</th>\n",
       "      <th>tweet_text</th>\n",
       "      <th>tweet_retweet_count</th>\n",
       "      <th>tweet_favorite_count</th>\n",
       "      <th>IBM_text</th>\n",
       "      <th>Sadness</th>\n",
       "      <th>Joy</th>\n",
       "      <th>Tentative</th>\n",
       "      <th>Analytical</th>\n",
       "      <th>Confident</th>\n",
       "      <th>Fear</th>\n",
       "      <th>Anger</th>\n",
       "    </tr>\n",
       "  </thead>\n",
       "  <tbody>\n",
       "    <tr>\n",
       "      <th>10790</th>\n",
       "      <td>Kurt</td>\n",
       "      <td>Schrader</td>\n",
       "      <td>M</td>\n",
       "      <td>66</td>\n",
       "      <td>rep</td>\n",
       "      <td>NaN</td>\n",
       "      <td>Democrat</td>\n",
       "      <td>RepSchrader</td>\n",
       "      <td>955165484068036608</td>\n",
       "      <td>My town hall in Polk County originally schedul...</td>\n",
       "      <td>8</td>\n",
       "      <td>5</td>\n",
       "      <td>My town hall in Polk County originally schedul...</td>\n",
       "      <td>NaN</td>\n",
       "      <td>NaN</td>\n",
       "      <td>NaN</td>\n",
       "      <td>NaN</td>\n",
       "      <td>NaN</td>\n",
       "      <td>NaN</td>\n",
       "      <td>NaN</td>\n",
       "    </tr>\n",
       "    <tr>\n",
       "      <th>10791</th>\n",
       "      <td>Kurt</td>\n",
       "      <td>Schrader</td>\n",
       "      <td>M</td>\n",
       "      <td>66</td>\n",
       "      <td>rep</td>\n",
       "      <td>NaN</td>\n",
       "      <td>Democrat</td>\n",
       "      <td>RepSchrader</td>\n",
       "      <td>954464269805989888</td>\n",
       "      <td>My town halls in Tillamook and Lincoln Countie...</td>\n",
       "      <td>4</td>\n",
       "      <td>8</td>\n",
       "      <td>My town halls in Tillamook and Lincoln Countie...</td>\n",
       "      <td>NaN</td>\n",
       "      <td>0.507633</td>\n",
       "      <td>NaN</td>\n",
       "      <td>NaN</td>\n",
       "      <td>NaN</td>\n",
       "      <td>NaN</td>\n",
       "      <td>NaN</td>\n",
       "    </tr>\n",
       "    <tr>\n",
       "      <th>10792</th>\n",
       "      <td>Kurt</td>\n",
       "      <td>Schrader</td>\n",
       "      <td>M</td>\n",
       "      <td>66</td>\n",
       "      <td>rep</td>\n",
       "      <td>NaN</td>\n",
       "      <td>Democrat</td>\n",
       "      <td>RepSchrader</td>\n",
       "      <td>954170091993788416</td>\n",
       "      <td>I wouldn't expect a student government to oper...</td>\n",
       "      <td>9</td>\n",
       "      <td>25</td>\n",
       "      <td>I wouldn't expect a student government to oper...</td>\n",
       "      <td>NaN</td>\n",
       "      <td>NaN</td>\n",
       "      <td>NaN</td>\n",
       "      <td>0.703409</td>\n",
       "      <td>NaN</td>\n",
       "      <td>NaN</td>\n",
       "      <td>NaN</td>\n",
       "    </tr>\n",
       "    <tr>\n",
       "      <th>10793</th>\n",
       "      <td>Kurt</td>\n",
       "      <td>Schrader</td>\n",
       "      <td>M</td>\n",
       "      <td>66</td>\n",
       "      <td>rep</td>\n",
       "      <td>NaN</td>\n",
       "      <td>Democrat</td>\n",
       "      <td>RepSchrader</td>\n",
       "      <td>952307923731935232</td>\n",
       "      <td>Four years ago I met three Marine Corps combat...</td>\n",
       "      <td>13</td>\n",
       "      <td>36</td>\n",
       "      <td>Four years ago I met three Marine Corps combat...</td>\n",
       "      <td>NaN</td>\n",
       "      <td>0.515799</td>\n",
       "      <td>NaN</td>\n",
       "      <td>NaN</td>\n",
       "      <td>NaN</td>\n",
       "      <td>NaN</td>\n",
       "      <td>NaN</td>\n",
       "    </tr>\n",
       "    <tr>\n",
       "      <th>10794</th>\n",
       "      <td>Kurt</td>\n",
       "      <td>Schrader</td>\n",
       "      <td>M</td>\n",
       "      <td>66</td>\n",
       "      <td>rep</td>\n",
       "      <td>NaN</td>\n",
       "      <td>Democrat</td>\n",
       "      <td>RepSchrader</td>\n",
       "      <td>952266732898418688</td>\n",
       "      <td>Thanks to all who came out to see Senator Merk...</td>\n",
       "      <td>4</td>\n",
       "      <td>17</td>\n",
       "      <td>Thanks to all who came out to see Senator Merk...</td>\n",
       "      <td>NaN</td>\n",
       "      <td>0.554443</td>\n",
       "      <td>NaN</td>\n",
       "      <td>0.579367</td>\n",
       "      <td>NaN</td>\n",
       "      <td>NaN</td>\n",
       "      <td>NaN</td>\n",
       "    </tr>\n",
       "    <tr>\n",
       "      <th>10795</th>\n",
       "      <td>Kurt</td>\n",
       "      <td>Schrader</td>\n",
       "      <td>M</td>\n",
       "      <td>66</td>\n",
       "      <td>rep</td>\n",
       "      <td>NaN</td>\n",
       "      <td>Democrat</td>\n",
       "      <td>RepSchrader</td>\n",
       "      <td>951935153919717376</td>\n",
       "      <td>Tune in to News @1190KEX at 1:50 while I speak...</td>\n",
       "      <td>2</td>\n",
       "      <td>5</td>\n",
       "      <td>Tune in to News @1190KEX at 1:50 while I speak...</td>\n",
       "      <td>NaN</td>\n",
       "      <td>NaN</td>\n",
       "      <td>NaN</td>\n",
       "      <td>NaN</td>\n",
       "      <td>NaN</td>\n",
       "      <td>NaN</td>\n",
       "      <td>NaN</td>\n",
       "    </tr>\n",
       "    <tr>\n",
       "      <th>10796</th>\n",
       "      <td>Kurt</td>\n",
       "      <td>Schrader</td>\n",
       "      <td>M</td>\n",
       "      <td>66</td>\n",
       "      <td>rep</td>\n",
       "      <td>NaN</td>\n",
       "      <td>Democrat</td>\n",
       "      <td>RepSchrader</td>\n",
       "      <td>951931235131101184</td>\n",
       "      <td>Thanks to the Canby Rotary for having me today...</td>\n",
       "      <td>2</td>\n",
       "      <td>4</td>\n",
       "      <td>NaN</td>\n",
       "      <td>NaN</td>\n",
       "      <td>NaN</td>\n",
       "      <td>NaN</td>\n",
       "      <td>NaN</td>\n",
       "      <td>NaN</td>\n",
       "      <td>NaN</td>\n",
       "      <td>NaN</td>\n",
       "    </tr>\n",
       "    <tr>\n",
       "      <th>10797</th>\n",
       "      <td>Kurt</td>\n",
       "      <td>Schrader</td>\n",
       "      <td>M</td>\n",
       "      <td>66</td>\n",
       "      <td>rep</td>\n",
       "      <td>NaN</td>\n",
       "      <td>Democrat</td>\n",
       "      <td>RepSchrader</td>\n",
       "      <td>951912635112525824</td>\n",
       "      <td>Happy to see the great work being done by @Car...</td>\n",
       "      <td>5</td>\n",
       "      <td>6</td>\n",
       "      <td>Happy to see the great work being done by @Car...</td>\n",
       "      <td>NaN</td>\n",
       "      <td>0.886998</td>\n",
       "      <td>NaN</td>\n",
       "      <td>NaN</td>\n",
       "      <td>NaN</td>\n",
       "      <td>NaN</td>\n",
       "      <td>NaN</td>\n",
       "    </tr>\n",
       "    <tr>\n",
       "      <th>10798</th>\n",
       "      <td>Kurt</td>\n",
       "      <td>Schrader</td>\n",
       "      <td>M</td>\n",
       "      <td>66</td>\n",
       "      <td>rep</td>\n",
       "      <td>NaN</td>\n",
       "      <td>Democrat</td>\n",
       "      <td>RepSchrader</td>\n",
       "      <td>941714486792142848</td>\n",
       "      <td>Open enrollment ends at MIDNIGHT tonight! Make...</td>\n",
       "      <td>4</td>\n",
       "      <td>2</td>\n",
       "      <td>Open enrollment ends TOMORROW!</td>\n",
       "      <td>NaN</td>\n",
       "      <td>NaN</td>\n",
       "      <td>NaN</td>\n",
       "      <td>NaN</td>\n",
       "      <td>NaN</td>\n",
       "      <td>NaN</td>\n",
       "      <td>NaN</td>\n",
       "    </tr>\n",
       "    <tr>\n",
       "      <th>10799</th>\n",
       "      <td>Kurt</td>\n",
       "      <td>Schrader</td>\n",
       "      <td>M</td>\n",
       "      <td>66</td>\n",
       "      <td>rep</td>\n",
       "      <td>NaN</td>\n",
       "      <td>Democrat</td>\n",
       "      <td>RepSchrader</td>\n",
       "      <td>941359634971062275</td>\n",
       "      <td>Open enrollment ends TOMORROW! Visit https://t...</td>\n",
       "      <td>5</td>\n",
       "      <td>4</td>\n",
       "      <td>NaN</td>\n",
       "      <td>NaN</td>\n",
       "      <td>NaN</td>\n",
       "      <td>NaN</td>\n",
       "      <td>NaN</td>\n",
       "      <td>NaN</td>\n",
       "      <td>NaN</td>\n",
       "      <td>NaN</td>\n",
       "    </tr>\n",
       "  </tbody>\n",
       "</table>\n",
       "</div>"
      ],
      "text/plain": [
       "      first_name last_name gender  age type  senate_class     party  \\\n",
       "10790       Kurt  Schrader      M   66  rep           NaN  Democrat   \n",
       "10791       Kurt  Schrader      M   66  rep           NaN  Democrat   \n",
       "10792       Kurt  Schrader      M   66  rep           NaN  Democrat   \n",
       "10793       Kurt  Schrader      M   66  rep           NaN  Democrat   \n",
       "10794       Kurt  Schrader      M   66  rep           NaN  Democrat   \n",
       "10795       Kurt  Schrader      M   66  rep           NaN  Democrat   \n",
       "10796       Kurt  Schrader      M   66  rep           NaN  Democrat   \n",
       "10797       Kurt  Schrader      M   66  rep           NaN  Democrat   \n",
       "10798       Kurt  Schrader      M   66  rep           NaN  Democrat   \n",
       "10799       Kurt  Schrader      M   66  rep           NaN  Democrat   \n",
       "\n",
       "           twitter            tweet_id  \\\n",
       "10790  RepSchrader  955165484068036608   \n",
       "10791  RepSchrader  954464269805989888   \n",
       "10792  RepSchrader  954170091993788416   \n",
       "10793  RepSchrader  952307923731935232   \n",
       "10794  RepSchrader  952266732898418688   \n",
       "10795  RepSchrader  951935153919717376   \n",
       "10796  RepSchrader  951931235131101184   \n",
       "10797  RepSchrader  951912635112525824   \n",
       "10798  RepSchrader  941714486792142848   \n",
       "10799  RepSchrader  941359634971062275   \n",
       "\n",
       "                                              tweet_text  tweet_retweet_count  \\\n",
       "10790  My town hall in Polk County originally schedul...                    8   \n",
       "10791  My town halls in Tillamook and Lincoln Countie...                    4   \n",
       "10792  I wouldn't expect a student government to oper...                    9   \n",
       "10793  Four years ago I met three Marine Corps combat...                   13   \n",
       "10794  Thanks to all who came out to see Senator Merk...                    4   \n",
       "10795  Tune in to News @1190KEX at 1:50 while I speak...                    2   \n",
       "10796  Thanks to the Canby Rotary for having me today...                    2   \n",
       "10797  Happy to see the great work being done by @Car...                    5   \n",
       "10798  Open enrollment ends at MIDNIGHT tonight! Make...                    4   \n",
       "10799  Open enrollment ends TOMORROW! Visit https://t...                    5   \n",
       "\n",
       "       tweet_favorite_count  \\\n",
       "10790                     5   \n",
       "10791                     8   \n",
       "10792                    25   \n",
       "10793                    36   \n",
       "10794                    17   \n",
       "10795                     5   \n",
       "10796                     4   \n",
       "10797                     6   \n",
       "10798                     2   \n",
       "10799                     4   \n",
       "\n",
       "                                                IBM_text  Sadness       Joy  \\\n",
       "10790  My town hall in Polk County originally schedul...      NaN       NaN   \n",
       "10791  My town halls in Tillamook and Lincoln Countie...      NaN  0.507633   \n",
       "10792  I wouldn't expect a student government to oper...      NaN       NaN   \n",
       "10793  Four years ago I met three Marine Corps combat...      NaN  0.515799   \n",
       "10794  Thanks to all who came out to see Senator Merk...      NaN  0.554443   \n",
       "10795  Tune in to News @1190KEX at 1:50 while I speak...      NaN       NaN   \n",
       "10796                                                NaN      NaN       NaN   \n",
       "10797  Happy to see the great work being done by @Car...      NaN  0.886998   \n",
       "10798                     Open enrollment ends TOMORROW!      NaN       NaN   \n",
       "10799                                                NaN      NaN       NaN   \n",
       "\n",
       "       Tentative  Analytical  Confident  Fear  Anger  \n",
       "10790        NaN         NaN        NaN   NaN    NaN  \n",
       "10791        NaN         NaN        NaN   NaN    NaN  \n",
       "10792        NaN    0.703409        NaN   NaN    NaN  \n",
       "10793        NaN         NaN        NaN   NaN    NaN  \n",
       "10794        NaN    0.579367        NaN   NaN    NaN  \n",
       "10795        NaN         NaN        NaN   NaN    NaN  \n",
       "10796        NaN         NaN        NaN   NaN    NaN  \n",
       "10797        NaN         NaN        NaN   NaN    NaN  \n",
       "10798        NaN         NaN        NaN   NaN    NaN  \n",
       "10799        NaN         NaN        NaN   NaN    NaN  "
      ]
     },
     "execution_count": 22,
     "metadata": {},
     "output_type": "execute_result"
    }
   ],
   "source": [
    "df[-10:]"
   ]
  },
  {
   "cell_type": "code",
   "execution_count": 24,
   "metadata": {},
   "outputs": [],
   "source": [
    "df.to_csv('more-data/all_w_IBM_50.csv')"
   ]
  },
  {
   "cell_type": "code",
   "execution_count": 2,
   "metadata": {},
   "outputs": [],
   "source": [
    "#pd.read_csv('more-data/all_w_IBM_50.csv')"
   ]
  },
  {
   "cell_type": "code",
   "execution_count": null,
   "metadata": {},
   "outputs": [],
   "source": []
  },
  {
   "cell_type": "code",
   "execution_count": null,
   "metadata": {},
   "outputs": [],
   "source": []
  },
  {
   "cell_type": "code",
   "execution_count": null,
   "metadata": {},
   "outputs": [],
   "source": []
  },
  {
   "cell_type": "code",
   "execution_count": null,
   "metadata": {},
   "outputs": [],
   "source": []
  },
  {
   "cell_type": "code",
   "execution_count": null,
   "metadata": {},
   "outputs": [],
   "source": []
  },
  {
   "cell_type": "code",
   "execution_count": null,
   "metadata": {},
   "outputs": [],
   "source": []
  },
  {
   "cell_type": "code",
   "execution_count": 130,
   "metadata": {},
   "outputs": [
    {
     "name": "stdout",
     "output_type": "stream",
     "text": [
      "{'document_tone': {'tones': []}}\n",
      "{'document_tone': {'tones': []}}\n",
      "{'document_tone': {'tones': []}}\n",
      "{'document_tone': {'tones': [{'score': 0.915262, 'tone_id': 'joy', 'tone_name': 'Joy'}]}}\n",
      "Joy 0.915262\n",
      "{'document_tone': {'tones': []}}\n",
      "{'document_tone': {'tones': []}}\n",
      "{'document_tone': {'tones': [{'score': 0.783873, 'tone_id': 'joy', 'tone_name': 'Joy'}]}}\n",
      "Joy 0.783873\n",
      "{'document_tone': {'tones': [{'score': 0.828183, 'tone_id': 'joy', 'tone_name': 'Joy'}]}}\n",
      "Joy 0.828183\n",
      "{'document_tone': {'tones': [{'score': 0.632709, 'tone_id': 'sadness', 'tone_name': 'Sadness'}, {'score': 0.596122, 'tone_id': 'analytical', 'tone_name': 'Analytical'}, {'score': 0.932568, 'tone_id': 'confident', 'tone_name': 'Confident'}]}}\n",
      "Sadness 0.632709\n",
      "Analytical 0.596122\n",
      "Confident 0.932568\n",
      "{'document_tone': {'tones': [{'score': 0.536692, 'tone_id': 'fear', 'tone_name': 'Fear'}]}}\n",
      "Fear 0.536692\n",
      "{'document_tone': {'tones': [{'score': 0.828638, 'tone_id': 'analytical', 'tone_name': 'Analytical'}]}}\n",
      "Analytical 0.828638\n",
      "{'document_tone': {'tones': [{'score': 0.903342, 'tone_id': 'joy', 'tone_name': 'Joy'}]}}\n",
      "Joy 0.903342\n",
      "{'document_tone': {'tones': [{'score': 0.506763, 'tone_id': 'analytical', 'tone_name': 'Analytical'}]}}\n",
      "Analytical 0.506763\n",
      "{'document_tone': {'tones': [{'score': 0.509668, 'tone_id': 'joy', 'tone_name': 'Joy'}]}}\n",
      "Joy 0.509668\n",
      "{'document_tone': {'tones': [{'score': 0.559375, 'tone_id': 'joy', 'tone_name': 'Joy'}, {'score': 0.597565, 'tone_id': 'analytical', 'tone_name': 'Analytical'}]}}\n",
      "Joy 0.559375\n",
      "Analytical 0.597565\n",
      "{'document_tone': {'tones': []}}\n",
      "{'document_tone': {'tones': [{'score': 0.641927, 'tone_id': 'joy', 'tone_name': 'Joy'}]}}\n",
      "Joy 0.641927\n",
      "{'document_tone': {'tones': []}}\n",
      "{'document_tone': {'tones': []}}\n",
      "{'document_tone': {'tones': []}}\n",
      "{'document_tone': {'tones': []}}\n"
     ]
    }
   ],
   "source": [
    "for i, tweet in enumerate(df.loc[:1000, 'tweet_text']):\n",
    "    \n",
    "    raw = tone_analyzer.tone(tone_input=tweet, content_type='text/plain', sentences=False)\n",
    "    print(raw)\n",
    "    for tone in raw['document_tone']['tones']:\n",
    "        print(tone['tone_name'], tone['score'])\n",
    "        df.loc[i, tone['tone_name']] = tone['score']"
   ]
  },
  {
   "cell_type": "code",
   "execution_count": 3,
   "metadata": {},
   "outputs": [],
   "source": [
    "#df"
   ]
  },
  {
   "cell_type": "code",
   "execution_count": 133,
   "metadata": {},
   "outputs": [],
   "source": [
    "genders = ['F', 'M', 'M', 'M', 'F', 'F', 'M', 'M', 'M', 'M', 'M', 'M', 'M', 'M', 'M', 'F', 'M', 'M', 'M', 'M', 'M', 'M', 'M', 'M', 'M', 'M', 'F', 'M', 'F', 'M', 'F', 'F', 'M', 'F', 'M', 'M', 'F', 'M', 'M', 'F', 'F', 'M', 'M', 'M', 'M', 'M', 'F', 'M', 'F', 'F', 'M', 'M', 'M', 'M', 'M', 'M', 'M', 'M', 'M', 'M', 'M', 'M', 'M', 'M', 'M', 'M', 'M', 'M', 'M']\n",
    "names = [\"lisamurkowski\",        \n",
    "\"SenJohnMcCain\",\n",
    "\"JeffFlake\",\n",
    "\"JohnBoozman\",\n",
    "\"SenFeinstein\",\n",
    "\"SenatorBoxer\",\n",
    "\"MarkUdall\",\n",
    "\"SenBennetCO\",\n",
    "\"ChrisMurphyCT\",\n",
    "\"SenBlumenthal\",\n",
    "\"SenatorCarper\",\n",
    "\"ChrisCoons\",\n",
    "\"marcorubio\",\n",
    "\"SaxbyChambliss\",\n",
    "\"brianschatz\",\n",
    "\"maziehirono\",\n",
    "\"MikeCrapo\",\n",
    "\"SenatorRisch\",\n",
    "\"SenatorDurbin\",\n",
    "\"SenDonnelly\",\n",
    "\"SenDanCoats\",\n",
    "\"ChuckGrassley\",\n",
    "\"SenatorHarkin\",\n",
    "\"SenPatRoberts\",\n",
    "\"JerryMoran\",\n",
    "\"SenRandPaul\",\n",
    "\"SenLandrieu\",\n",
    "\"DavidVitter\",\n",
    "\"SenatorBarb\",\n",
    "\"MarkeyMemo\",\n",
    "\"stabenow\",\n",
    "\"amyklobuchar\",\n",
    "\"SenatorWicker\",\n",
    "\"clairecmc\",\n",
    "\"RoyBlunt\",\n",
    "\"jontester\",\n",
    "\"SenatorFischer\",\n",
    "\"SenatorReid\",\n",
    "\"SenDeanHeller\",\n",
    "\"SenatorShaheen\",\n",
    "\"kellyayotte\",\n",
    "\"CoryBooker\",\n",
    "\"SenatorMenendez\",\n",
    "\"MartinHeinrich\",\n",
    "\"SenatorTomUdall\",\n",
    "\"SenSchumer\",\n",
    "\"SenGillibrand\",\n",
    "\"SenatorBurr\",\n",
    "\"SenatorHagan\",\n",
    "\"SenatorHeitkamp\",\n",
    "\"SenJohnHoeven\",\n",
    "\"SenSherrodBrown\",\n",
    "\"robportman\",\n",
    "\"jiminhofe\",\n",
    "\"RonWyden\",\n",
    "\"SenToomey\",\n",
    "\"SenJackReed\",\n",
    "\"SenWhitehouse\",\n",
    "\"GrahamBlog\",\n",
    "\"SenatorTimScott\",\n",
    "\"SenJohnThune\",\n",
    "\"SenMikeLee\",\n",
    "\"SenatorLeahy\",\n",
    "\"timkaine\",\n",
    "\"SenRockefeller\",\n",
    "\"Sen_JoeManchin\",\n",
    "\"SenRonJohnson\",\n",
    "\"SenatorEnzi\",\n",
    "\"SenJohnBarrasso\"]"
   ]
  },
  {
   "cell_type": "code",
   "execution_count": 134,
   "metadata": {},
   "outputs": [
    {
     "data": {
      "text/plain": [
       "69"
      ]
     },
     "execution_count": 134,
     "metadata": {},
     "output_type": "execute_result"
    }
   ],
   "source": [
    "len(names)"
   ]
  },
  {
   "cell_type": "code",
   "execution_count": 135,
   "metadata": {},
   "outputs": [
    {
     "data": {
      "text/plain": [
       "69"
      ]
     },
     "execution_count": 135,
     "metadata": {},
     "output_type": "execute_result"
    }
   ],
   "source": [
    "len(genders)"
   ]
  },
  {
   "cell_type": "code",
   "execution_count": 136,
   "metadata": {},
   "outputs": [],
   "source": [
    "d = {}\n",
    "for i, name in enumerate(names):\n",
    "    d[name] = genders[i]"
   ]
  },
  {
   "cell_type": "code",
   "execution_count": null,
   "metadata": {},
   "outputs": [],
   "source": []
  },
  {
   "cell_type": "code",
   "execution_count": 152,
   "metadata": {},
   "outputs": [],
   "source": [
    "d['KellyAyotte'] = 'F'"
   ]
  },
  {
   "cell_type": "code",
   "execution_count": 4,
   "metadata": {},
   "outputs": [],
   "source": [
    "# for i, name in enumerate(df.loc[:, 'politician_username']):\n",
    "#     try:\n",
    "#         df.loc[i, 'gender'] = d[name]\n",
    "#     except KeyError as e:\n",
    "#         df.loc[i, 'gender'] = 'M'\n",
    "#         print(e, i, name)"
   ]
  },
  {
   "cell_type": "code",
   "execution_count": 146,
   "metadata": {},
   "outputs": [],
   "source": [
    "for i, name in enumerate(df.loc[37700:38775, 'politician_username']):\n",
    "    if name == 'KellyAyotte':\n",
    "        df.loc[i, 'gender'] = 'F'"
   ]
  },
  {
   "cell_type": "code",
   "execution_count": 149,
   "metadata": {},
   "outputs": [
    {
     "data": {
      "text/plain": [
       "politician_name                                              Kelly Ayotte\n",
       "politician_username                                           KellyAyotte\n",
       "tweet_text              Getting ready to rappell off Brady Sullivan wi...\n",
       "tweet_retweet_count                                                     5\n",
       "tweet_favorite_count                                                   68\n",
       "Joy                                                                   NaN\n",
       "Sadness                                                               NaN\n",
       "Analytical                                                            NaN\n",
       "Confident                                                             NaN\n",
       "Fear                                                                  NaN\n",
       "gender                                                                  M\n",
       "Name: 37800, dtype: object"
      ]
     },
     "execution_count": 149,
     "metadata": {},
     "output_type": "execute_result"
    }
   ],
   "source": [
    "df.loc[37800]"
   ]
  },
  {
   "cell_type": "code",
   "execution_count": 137,
   "metadata": {},
   "outputs": [
    {
     "data": {
      "text/plain": [
       "{'ChrisCoons': 'M',\n",
       " 'ChrisMurphyCT': 'M',\n",
       " 'ChuckGrassley': 'M',\n",
       " 'CoryBooker': 'M',\n",
       " 'DavidVitter': 'M',\n",
       " 'GrahamBlog': 'M',\n",
       " 'JeffFlake': 'M',\n",
       " 'JerryMoran': 'M',\n",
       " 'JohnBoozman': 'M',\n",
       " 'MarkUdall': 'M',\n",
       " 'MarkeyMemo': 'M',\n",
       " 'MartinHeinrich': 'M',\n",
       " 'MikeCrapo': 'M',\n",
       " 'RonWyden': 'M',\n",
       " 'RoyBlunt': 'M',\n",
       " 'SaxbyChambliss': 'M',\n",
       " 'SenBennetCO': 'M',\n",
       " 'SenBlumenthal': 'M',\n",
       " 'SenDanCoats': 'M',\n",
       " 'SenDeanHeller': 'M',\n",
       " 'SenDonnelly': 'M',\n",
       " 'SenFeinstein': 'F',\n",
       " 'SenGillibrand': 'F',\n",
       " 'SenJackReed': 'M',\n",
       " 'SenJohnBarrasso': 'M',\n",
       " 'SenJohnHoeven': 'M',\n",
       " 'SenJohnMcCain': 'M',\n",
       " 'SenJohnThune': 'M',\n",
       " 'SenLandrieu': 'F',\n",
       " 'SenMikeLee': 'M',\n",
       " 'SenPatRoberts': 'M',\n",
       " 'SenRandPaul': 'M',\n",
       " 'SenRockefeller': 'M',\n",
       " 'SenRonJohnson': 'M',\n",
       " 'SenSchumer': 'M',\n",
       " 'SenSherrodBrown': 'M',\n",
       " 'SenToomey': 'M',\n",
       " 'SenWhitehouse': 'M',\n",
       " 'Sen_JoeManchin': 'M',\n",
       " 'SenatorBarb': 'F',\n",
       " 'SenatorBoxer': 'F',\n",
       " 'SenatorBurr': 'M',\n",
       " 'SenatorCarper': 'M',\n",
       " 'SenatorDurbin': 'M',\n",
       " 'SenatorEnzi': 'M',\n",
       " 'SenatorFischer': 'F',\n",
       " 'SenatorHagan': 'F',\n",
       " 'SenatorHarkin': 'M',\n",
       " 'SenatorHeitkamp': 'F',\n",
       " 'SenatorLeahy': 'M',\n",
       " 'SenatorMenendez': 'M',\n",
       " 'SenatorReid': 'M',\n",
       " 'SenatorRisch': 'M',\n",
       " 'SenatorShaheen': 'F',\n",
       " 'SenatorTimScott': 'M',\n",
       " 'SenatorTomUdall': 'M',\n",
       " 'SenatorWicker': 'M',\n",
       " 'amyklobuchar': 'F',\n",
       " 'brianschatz': 'M',\n",
       " 'clairecmc': 'F',\n",
       " 'jiminhofe': 'M',\n",
       " 'jontester': 'M',\n",
       " 'kellyayotte': 'F',\n",
       " 'lisamurkowski': 'F',\n",
       " 'marcorubio': 'M',\n",
       " 'maziehirono': 'F',\n",
       " 'robportman': 'M',\n",
       " 'stabenow': 'F',\n",
       " 'timkaine': 'M'}"
      ]
     },
     "execution_count": 137,
     "metadata": {},
     "output_type": "execute_result"
    }
   ],
   "source": [
    "d"
   ]
  },
  {
   "cell_type": "code",
   "execution_count": null,
   "metadata": {},
   "outputs": [],
   "source": []
  },
  {
   "cell_type": "code",
   "execution_count": null,
   "metadata": {},
   "outputs": [],
   "source": []
  },
  {
   "cell_type": "code",
   "execution_count": null,
   "metadata": {},
   "outputs": [],
   "source": []
  },
  {
   "cell_type": "code",
   "execution_count": 190,
   "metadata": {},
   "outputs": [],
   "source": [
    "tweet_batch = df.loc[:500, 'tweet_text']"
   ]
  },
  {
   "cell_type": "code",
   "execution_count": 191,
   "metadata": {},
   "outputs": [],
   "source": [
    "tweet_batch = [tweet.replace('.', '--').replace('!', '--') for tweet in tweet_batch]"
   ]
  },
  {
   "cell_type": "code",
   "execution_count": 192,
   "metadata": {},
   "outputs": [],
   "source": [
    "raw = tone_analyzer.tone(tone_input='. '.join(tweet_batch), content_type='text/plain', sentences=True)"
   ]
  },
  {
   "cell_type": "code",
   "execution_count": 193,
   "metadata": {},
   "outputs": [
    {
     "data": {
      "text/plain": [
       "'The FY18 government funding before the Senate has big wins for Alaska-- As chairman of the Interior Appropriations S------ https://t--co/1eFjj2wdNx'"
      ]
     },
     "execution_count": 193,
     "metadata": {},
     "output_type": "execute_result"
    }
   ],
   "source": [
    "tweet_batch[5]"
   ]
  },
  {
   "cell_type": "code",
   "execution_count": 5,
   "metadata": {},
   "outputs": [],
   "source": [
    "#raw"
   ]
  },
  {
   "cell_type": "code",
   "execution_count": 185,
   "metadata": {},
   "outputs": [
    {
     "data": {
      "text/plain": [
       "'Speaking now to the Alaska State Legislature-- Watch live here: https://t--co/I17YMhkXGV'"
      ]
     },
     "execution_count": 185,
     "metadata": {},
     "output_type": "execute_result"
    }
   ],
   "source": [
    "tweet_batch[100]"
   ]
  },
  {
   "cell_type": "code",
   "execution_count": 164,
   "metadata": {},
   "outputs": [
    {
     "data": {
      "text/plain": [
       "'Today kids in AK joined thousands of young people across the U.S. for \"Kick Butts Day.\" Proud to see so many youth... https://t.co/XfnQ33Mg36'"
      ]
     },
     "execution_count": 164,
     "metadata": {},
     "output_type": "execute_result"
    }
   ],
   "source": [
    "tweet_batch[7]"
   ]
  },
  {
   "cell_type": "code",
   "execution_count": 163,
   "metadata": {},
   "outputs": [
    {
     "data": {
      "text/plain": [
       "'We must protect our most vulnerable victims &amp; bring justice to all who are impacted by these crimes. This evening,... https://t.co/W4tqiuA8FL'"
      ]
     },
     "execution_count": 163,
     "metadata": {},
     "output_type": "execute_result"
    }
   ],
   "source": [
    "tweet_batch[8]"
   ]
  },
  {
   "cell_type": "code",
   "execution_count": 59,
   "metadata": {},
   "outputs": [],
   "source": [
    "with open('data/min2.txt') as f:\n",
    "    content = f.readlines()"
   ]
  },
  {
   "cell_type": "code",
   "execution_count": 6,
   "metadata": {},
   "outputs": [],
   "source": [
    "#print(json.dumps(tone_analyzer.tone(tone_input=''.join(content[:100]), content_type='text/plain'), indent=2))"
   ]
  },
  {
   "cell_type": "code",
   "execution_count": 65,
   "metadata": {},
   "outputs": [],
   "source": [
    "raw = tone_analyzer.tone(tone_input=''.join(content[:100]), content_type='text/plain')"
   ]
  },
  {
   "cell_type": "code",
   "execution_count": 7,
   "metadata": {},
   "outputs": [],
   "source": [
    "#raw['sentences_tone']"
   ]
  },
  {
   "cell_type": "code",
   "execution_count": 72,
   "metadata": {},
   "outputs": [
    {
     "name": "stdout",
     "output_type": "stream",
     "text": [
      "Counter({'Joy': 27, 'Analytical': 15, 'Confident': 6, 'Sadness': 5, 'Tentative': 3, 'Fear': 1, 'Anger': 1})\n"
     ]
    }
   ],
   "source": [
    "c = Counter()\n",
    "for sent_dict in raw['sentences_tone']:\n",
    "    for tone in sent_dict['tones']:\n",
    "        c[tone['tone_name']] += 1\n",
    "#    if sent_dict['tones'] != []:\n",
    "#        print(sent_dict['tones']\n",
    "print(c)"
   ]
  },
  {
   "cell_type": "code",
   "execution_count": null,
   "metadata": {},
   "outputs": [],
   "source": []
  },
  {
   "cell_type": "code",
   "execution_count": null,
   "metadata": {},
   "outputs": [],
   "source": []
  },
  {
   "cell_type": "code",
   "execution_count": null,
   "metadata": {},
   "outputs": [],
   "source": []
  },
  {
   "cell_type": "code",
   "execution_count": null,
   "metadata": {},
   "outputs": [],
   "source": []
  },
  {
   "cell_type": "code",
   "execution_count": null,
   "metadata": {},
   "outputs": [],
   "source": []
  },
  {
   "cell_type": "code",
   "execution_count": null,
   "metadata": {},
   "outputs": [],
   "source": []
  },
  {
   "cell_type": "code",
   "execution_count": null,
   "metadata": {},
   "outputs": [],
   "source": []
  },
  {
   "cell_type": "code",
   "execution_count": 2,
   "metadata": {},
   "outputs": [
    {
     "name": "stdout",
     "output_type": "stream",
     "text": [
      "{\n",
      "  \"utterances_tone\": [\n",
      "    {\n",
      "      \"utterance_id\": 0,\n",
      "      \"utterance_text\": \"I am very happy.\",\n",
      "      \"tones\": [\n",
      "        {\n",
      "          \"score\": 0.912181,\n",
      "          \"tone_id\": \"excited\",\n",
      "          \"tone_name\": \"Excited\"\n",
      "        }\n",
      "      ]\n",
      "    },\n",
      "    {\n",
      "      \"utterance_id\": 1,\n",
      "      \"utterance_text\": \"It is a good day.\",\n",
      "      \"tones\": [\n",
      "        {\n",
      "          \"score\": 0.67376,\n",
      "          \"tone_id\": \"excited\",\n",
      "          \"tone_name\": \"Excited\"\n",
      "        },\n",
      "        {\n",
      "          \"score\": 0.722718,\n",
      "          \"tone_id\": \"satisfied\",\n",
      "          \"tone_name\": \"Satisfied\"\n",
      "        }\n",
      "      ]\n",
      "    }\n",
      "  ]\n",
      "}\n"
     ]
    }
   ],
   "source": [
    "utterances = [{'text': 'I am very happy.', 'user': 'glenn'},\n",
    "              {'text': 'It is a good day.', 'user': 'glenn'}]\n",
    "print(json.dumps(tone_analyzer.tone_chat(utterances), indent=2))"
   ]
  },
  {
   "cell_type": "code",
   "execution_count": 3,
   "metadata": {},
   "outputs": [],
   "source": [
    "arr = tone_analyzer.tone_chat(utterances)"
   ]
  },
  {
   "cell_type": "code",
   "execution_count": 4,
   "metadata": {},
   "outputs": [
    {
     "data": {
      "text/plain": [
       "{'utterances_tone': [{'tones': [{'score': 0.912181,\n",
       "     'tone_id': 'excited',\n",
       "     'tone_name': 'Excited'}],\n",
       "   'utterance_id': 0,\n",
       "   'utterance_text': 'I am very happy.'},\n",
       "  {'tones': [{'score': 0.67376, 'tone_id': 'excited', 'tone_name': 'Excited'},\n",
       "    {'score': 0.722718, 'tone_id': 'satisfied', 'tone_name': 'Satisfied'}],\n",
       "   'utterance_id': 1,\n",
       "   'utterance_text': 'It is a good day.'}]}"
      ]
     },
     "execution_count": 4,
     "metadata": {},
     "output_type": "execute_result"
    }
   ],
   "source": [
    "arr"
   ]
  },
  {
   "cell_type": "code",
   "execution_count": 50,
   "metadata": {},
   "outputs": [
    {
     "name": "stdout",
     "output_type": "stream",
     "text": [
      "{\n",
      "  \"document_tone\": {\n",
      "    \"tones\": [\n",
      "      {\n",
      "        \"score\": 0.961678,\n",
      "        \"tone_id\": \"joy\",\n",
      "        \"tone_name\": \"Joy\"\n",
      "      },\n",
      "      {\n",
      "        \"score\": 0.983213,\n",
      "        \"tone_id\": \"confident\",\n",
      "        \"tone_name\": \"Confident\"\n",
      "      }\n",
      "    ]\n",
      "  }\n",
      "}\n"
     ]
    }
   ],
   "source": [
    "print(json.dumps(tone_analyzer.tone(tone_input='I am very happy. It is a good day.',\n",
    "                                    content_type=\"text/plain\", sentences=False), indent=2))"
   ]
  },
  {
   "cell_type": "code",
   "execution_count": 52,
   "metadata": {},
   "outputs": [
    {
     "data": {
      "text/plain": [
       "[{'text': 'I am very happy.', 'user': 'glenn'},\n",
       " {'text': 'It is a good day.', 'user': 'glenn'}]"
      ]
     },
     "execution_count": 52,
     "metadata": {},
     "output_type": "execute_result"
    }
   ],
   "source": [
    "utterances"
   ]
  },
  {
   "cell_type": "code",
   "execution_count": 53,
   "metadata": {},
   "outputs": [
    {
     "name": "stdout",
     "output_type": "stream",
     "text": [
      "{\n",
      "  \"document_tone\": {\n",
      "    \"tones\": []\n",
      "  }\n",
      "}\n"
     ]
    }
   ],
   "source": [
    "print(json.dumps(tone_analyzer.tone(tone_input=utterances,\n",
    "                                    content_type=\"text/plain\"), indent=2))"
   ]
  },
  {
   "cell_type": "code",
   "execution_count": 6,
   "metadata": {},
   "outputs": [],
   "source": [
    "tone_analyzer.tone?"
   ]
  },
  {
   "cell_type": "code",
   "execution_count": 12,
   "metadata": {},
   "outputs": [],
   "source": [
    "arr = []\n",
    "for line in content:\n",
    "    arr.append(tone_analyzer.tone(tone_input=line, content_type='text/plain', sentences=False))"
   ]
  },
  {
   "cell_type": "code",
   "execution_count": 13,
   "metadata": {},
   "outputs": [
    {
     "data": {
      "text/plain": [
       "[{'document_tone': {'tones': []}},\n",
       " {'document_tone': {'tones': []}},\n",
       " {'document_tone': {'tones': []}},\n",
       " {'document_tone': {'tones': [{'score': 0.915262,\n",
       "     'tone_id': 'joy',\n",
       "     'tone_name': 'Joy'}]}},\n",
       " {'document_tone': {'tones': []}},\n",
       " {'document_tone': {'tones': []}},\n",
       " {'document_tone': {'tones': [{'score': 0.783873,\n",
       "     'tone_id': 'joy',\n",
       "     'tone_name': 'Joy'}]}},\n",
       " {'document_tone': {'tones': [{'score': 0.828183,\n",
       "     'tone_id': 'joy',\n",
       "     'tone_name': 'Joy'}]}},\n",
       " {'document_tone': {'tones': [{'score': 0.632709,\n",
       "     'tone_id': 'sadness',\n",
       "     'tone_name': 'Sadness'},\n",
       "    {'score': 0.932568, 'tone_id': 'confident', 'tone_name': 'Confident'},\n",
       "    {'score': 0.596122, 'tone_id': 'analytical', 'tone_name': 'Analytical'}]}},\n",
       " {'document_tone': {'tones': [{'score': 0.536692,\n",
       "     'tone_id': 'fear',\n",
       "     'tone_name': 'Fear'}]}},\n",
       " {'document_tone': {'tones': [{'score': 0.828638,\n",
       "     'tone_id': 'analytical',\n",
       "     'tone_name': 'Analytical'}]}},\n",
       " {'document_tone': {'tones': [{'score': 0.903342,\n",
       "     'tone_id': 'joy',\n",
       "     'tone_name': 'Joy'}]}},\n",
       " {'document_tone': {'tones': [{'score': 0.506763,\n",
       "     'tone_id': 'analytical',\n",
       "     'tone_name': 'Analytical'}]}},\n",
       " {'document_tone': {'tones': [{'score': 0.509668,\n",
       "     'tone_id': 'joy',\n",
       "     'tone_name': 'Joy'}]}},\n",
       " {'document_tone': {'tones': [{'score': 0.559375,\n",
       "     'tone_id': 'joy',\n",
       "     'tone_name': 'Joy'},\n",
       "    {'score': 0.597565, 'tone_id': 'analytical', 'tone_name': 'Analytical'}]}},\n",
       " {'document_tone': {'tones': []}},\n",
       " {'document_tone': {'tones': [{'score': 0.641927,\n",
       "     'tone_id': 'joy',\n",
       "     'tone_name': 'Joy'}]}},\n",
       " {'document_tone': {'tones': []}},\n",
       " {'document_tone': {'tones': []}},\n",
       " {'document_tone': {'tones': []}},\n",
       " {'document_tone': {'tones': []}},\n",
       " {'document_tone': {'tones': [{'score': 0.58752,\n",
       "     'tone_id': 'sadness',\n",
       "     'tone_name': 'Sadness'},\n",
       "    {'score': 0.862626, 'tone_id': 'confident', 'tone_name': 'Confident'}]}},\n",
       " {'document_tone': {'tones': [{'score': 0.821152,\n",
       "     'tone_id': 'joy',\n",
       "     'tone_name': 'Joy'},\n",
       "    {'score': 0.927401, 'tone_id': 'confident', 'tone_name': 'Confident'}]}},\n",
       " {'document_tone': {'tones': []}},\n",
       " {'document_tone': {'tones': [{'score': 0.762356,\n",
       "     'tone_id': 'analytical',\n",
       "     'tone_name': 'Analytical'}]}},\n",
       " {'document_tone': {'tones': []}},\n",
       " {'document_tone': {'tones': [{'score': 0.894423,\n",
       "     'tone_id': 'joy',\n",
       "     'tone_name': 'Joy'}]}},\n",
       " {'document_tone': {'tones': []}},\n",
       " {'document_tone': {'tones': []}}]"
      ]
     },
     "execution_count": 13,
     "metadata": {},
     "output_type": "execute_result"
    }
   ],
   "source": [
    "arr"
   ]
  },
  {
   "cell_type": "code",
   "execution_count": 39,
   "metadata": {},
   "outputs": [
    {
     "ename": "KeyboardInterrupt",
     "evalue": "",
     "output_type": "error",
     "traceback": [
      "\u001b[0;31m---------------------------------------------------------------------------\u001b[0m",
      "\u001b[0;31mTypeError\u001b[0m                                 Traceback (most recent call last)",
      "\u001b[0;32m~/.virtualenvs/finance/lib/python3.6/site-packages/urllib3/connectionpool.py\u001b[0m in \u001b[0;36m_make_request\u001b[0;34m(self, conn, method, url, timeout, chunked, **httplib_request_kw)\u001b[0m\n\u001b[1;32m    379\u001b[0m             \u001b[0;32mtry\u001b[0m\u001b[0;34m:\u001b[0m  \u001b[0;31m# Python 2.7, use buffering of HTTP responses\u001b[0m\u001b[0;34m\u001b[0m\u001b[0m\n\u001b[0;32m--> 380\u001b[0;31m                 \u001b[0mhttplib_response\u001b[0m \u001b[0;34m=\u001b[0m \u001b[0mconn\u001b[0m\u001b[0;34m.\u001b[0m\u001b[0mgetresponse\u001b[0m\u001b[0;34m(\u001b[0m\u001b[0mbuffering\u001b[0m\u001b[0;34m=\u001b[0m\u001b[0;32mTrue\u001b[0m\u001b[0;34m)\u001b[0m\u001b[0;34m\u001b[0m\u001b[0m\n\u001b[0m\u001b[1;32m    381\u001b[0m             \u001b[0;32mexcept\u001b[0m \u001b[0mTypeError\u001b[0m\u001b[0;34m:\u001b[0m  \u001b[0;31m# Python 2.6 and older, Python 3\u001b[0m\u001b[0;34m\u001b[0m\u001b[0m\n",
      "\u001b[0;31mTypeError\u001b[0m: getresponse() got an unexpected keyword argument 'buffering'",
      "\nDuring handling of the above exception, another exception occurred:\n",
      "\u001b[0;31mKeyboardInterrupt\u001b[0m                         Traceback (most recent call last)",
      "\u001b[0;32m<ipython-input-39-3d31c3ccd643>\u001b[0m in \u001b[0;36m<module>\u001b[0;34m()\u001b[0m\n\u001b[1;32m      1\u001b[0m \u001b[0marr\u001b[0m \u001b[0;34m=\u001b[0m \u001b[0;34m[\u001b[0m\u001b[0;34m]\u001b[0m\u001b[0;34m\u001b[0m\u001b[0m\n\u001b[1;32m      2\u001b[0m \u001b[0;32mfor\u001b[0m \u001b[0mi\u001b[0m \u001b[0;32min\u001b[0m \u001b[0mrange\u001b[0m\u001b[0;34m(\u001b[0m\u001b[0;36m100\u001b[0m\u001b[0;34m)\u001b[0m\u001b[0;34m:\u001b[0m\u001b[0;34m\u001b[0m\u001b[0m\n\u001b[0;32m----> 3\u001b[0;31m     \u001b[0marr\u001b[0m\u001b[0;34m.\u001b[0m\u001b[0mappend\u001b[0m\u001b[0;34m(\u001b[0m\u001b[0mtone_analyzer\u001b[0m\u001b[0;34m.\u001b[0m\u001b[0mtone\u001b[0m\u001b[0;34m(\u001b[0m\u001b[0mtone_input\u001b[0m\u001b[0;34m=\u001b[0m\u001b[0mcontent\u001b[0m\u001b[0;34m[\u001b[0m\u001b[0mi\u001b[0m\u001b[0;34m]\u001b[0m\u001b[0;34m,\u001b[0m \u001b[0mcontent_type\u001b[0m\u001b[0;34m=\u001b[0m\u001b[0;34m'text/plain'\u001b[0m\u001b[0;34m)\u001b[0m\u001b[0;34m)\u001b[0m\u001b[0;34m\u001b[0m\u001b[0m\n\u001b[0m\u001b[1;32m      4\u001b[0m \u001b[0marr\u001b[0m\u001b[0;34m\u001b[0m\u001b[0m\n",
      "\u001b[0;32m~/.virtualenvs/finance/lib/python3.6/site-packages/watson_developer_cloud/tone_analyzer_v3.py\u001b[0m in \u001b[0;36mtone\u001b[0;34m(self, tone_input, content_type, sentences, tones, content_language, accept_language)\u001b[0m\n\u001b[1;32m    128\u001b[0m             \u001b[0mparams\u001b[0m\u001b[0;34m=\u001b[0m\u001b[0mparams\u001b[0m\u001b[0;34m,\u001b[0m\u001b[0;34m\u001b[0m\u001b[0m\n\u001b[1;32m    129\u001b[0m             \u001b[0mdata\u001b[0m\u001b[0;34m=\u001b[0m\u001b[0mdata\u001b[0m\u001b[0;34m,\u001b[0m\u001b[0;34m\u001b[0m\u001b[0m\n\u001b[0;32m--> 130\u001b[0;31m             accept_json=True)\n\u001b[0m\u001b[1;32m    131\u001b[0m         \u001b[0;32mreturn\u001b[0m \u001b[0mresponse\u001b[0m\u001b[0;34m\u001b[0m\u001b[0m\n\u001b[1;32m    132\u001b[0m \u001b[0;34m\u001b[0m\u001b[0m\n",
      "\u001b[0;32m~/.virtualenvs/finance/lib/python3.6/site-packages/watson_developer_cloud/watson_service.py\u001b[0m in \u001b[0;36mrequest\u001b[0;34m(self, method, url, accept_json, headers, params, json, data, files, **kwargs)\u001b[0m\n\u001b[1;32m    356\u001b[0m                                     \u001b[0mheaders\u001b[0m\u001b[0;34m=\u001b[0m\u001b[0mheaders\u001b[0m\u001b[0;34m,\u001b[0m\u001b[0;34m\u001b[0m\u001b[0m\n\u001b[1;32m    357\u001b[0m                                     \u001b[0mparams\u001b[0m\u001b[0;34m=\u001b[0m\u001b[0mparams\u001b[0m\u001b[0;34m,\u001b[0m \u001b[0mdata\u001b[0m\u001b[0;34m=\u001b[0m\u001b[0mdata\u001b[0m\u001b[0;34m,\u001b[0m \u001b[0mfiles\u001b[0m\u001b[0;34m=\u001b[0m\u001b[0mfiles\u001b[0m\u001b[0;34m,\u001b[0m\u001b[0;34m\u001b[0m\u001b[0m\n\u001b[0;32m--> 358\u001b[0;31m                                     **kwargs)\n\u001b[0m\u001b[1;32m    359\u001b[0m \u001b[0;34m\u001b[0m\u001b[0m\n\u001b[1;32m    360\u001b[0m         \u001b[0;32mif\u001b[0m \u001b[0;36m200\u001b[0m \u001b[0;34m<=\u001b[0m \u001b[0mresponse\u001b[0m\u001b[0;34m.\u001b[0m\u001b[0mstatus_code\u001b[0m \u001b[0;34m<=\u001b[0m \u001b[0;36m299\u001b[0m\u001b[0;34m:\u001b[0m\u001b[0;34m\u001b[0m\u001b[0m\n",
      "\u001b[0;32m~/.virtualenvs/finance/lib/python3.6/site-packages/requests/api.py\u001b[0m in \u001b[0;36mrequest\u001b[0;34m(method, url, **kwargs)\u001b[0m\n\u001b[1;32m     56\u001b[0m     \u001b[0;31m# cases, and look like a memory leak in others.\u001b[0m\u001b[0;34m\u001b[0m\u001b[0;34m\u001b[0m\u001b[0m\n\u001b[1;32m     57\u001b[0m     \u001b[0;32mwith\u001b[0m \u001b[0msessions\u001b[0m\u001b[0;34m.\u001b[0m\u001b[0mSession\u001b[0m\u001b[0;34m(\u001b[0m\u001b[0;34m)\u001b[0m \u001b[0;32mas\u001b[0m \u001b[0msession\u001b[0m\u001b[0;34m:\u001b[0m\u001b[0;34m\u001b[0m\u001b[0m\n\u001b[0;32m---> 58\u001b[0;31m         \u001b[0;32mreturn\u001b[0m \u001b[0msession\u001b[0m\u001b[0;34m.\u001b[0m\u001b[0mrequest\u001b[0m\u001b[0;34m(\u001b[0m\u001b[0mmethod\u001b[0m\u001b[0;34m=\u001b[0m\u001b[0mmethod\u001b[0m\u001b[0;34m,\u001b[0m \u001b[0murl\u001b[0m\u001b[0;34m=\u001b[0m\u001b[0murl\u001b[0m\u001b[0;34m,\u001b[0m \u001b[0;34m**\u001b[0m\u001b[0mkwargs\u001b[0m\u001b[0;34m)\u001b[0m\u001b[0;34m\u001b[0m\u001b[0m\n\u001b[0m\u001b[1;32m     59\u001b[0m \u001b[0;34m\u001b[0m\u001b[0m\n\u001b[1;32m     60\u001b[0m \u001b[0;34m\u001b[0m\u001b[0m\n",
      "\u001b[0;32m~/.virtualenvs/finance/lib/python3.6/site-packages/requests/sessions.py\u001b[0m in \u001b[0;36mrequest\u001b[0;34m(self, method, url, params, data, headers, cookies, files, auth, timeout, allow_redirects, proxies, hooks, stream, verify, cert, json)\u001b[0m\n\u001b[1;32m    506\u001b[0m         }\n\u001b[1;32m    507\u001b[0m         \u001b[0msend_kwargs\u001b[0m\u001b[0;34m.\u001b[0m\u001b[0mupdate\u001b[0m\u001b[0;34m(\u001b[0m\u001b[0msettings\u001b[0m\u001b[0;34m)\u001b[0m\u001b[0;34m\u001b[0m\u001b[0m\n\u001b[0;32m--> 508\u001b[0;31m         \u001b[0mresp\u001b[0m \u001b[0;34m=\u001b[0m \u001b[0mself\u001b[0m\u001b[0;34m.\u001b[0m\u001b[0msend\u001b[0m\u001b[0;34m(\u001b[0m\u001b[0mprep\u001b[0m\u001b[0;34m,\u001b[0m \u001b[0;34m**\u001b[0m\u001b[0msend_kwargs\u001b[0m\u001b[0;34m)\u001b[0m\u001b[0;34m\u001b[0m\u001b[0m\n\u001b[0m\u001b[1;32m    509\u001b[0m \u001b[0;34m\u001b[0m\u001b[0m\n\u001b[1;32m    510\u001b[0m         \u001b[0;32mreturn\u001b[0m \u001b[0mresp\u001b[0m\u001b[0;34m\u001b[0m\u001b[0m\n",
      "\u001b[0;32m~/.virtualenvs/finance/lib/python3.6/site-packages/requests/sessions.py\u001b[0m in \u001b[0;36msend\u001b[0;34m(self, request, **kwargs)\u001b[0m\n\u001b[1;32m    616\u001b[0m \u001b[0;34m\u001b[0m\u001b[0m\n\u001b[1;32m    617\u001b[0m         \u001b[0;31m# Send the request\u001b[0m\u001b[0;34m\u001b[0m\u001b[0;34m\u001b[0m\u001b[0m\n\u001b[0;32m--> 618\u001b[0;31m         \u001b[0mr\u001b[0m \u001b[0;34m=\u001b[0m \u001b[0madapter\u001b[0m\u001b[0;34m.\u001b[0m\u001b[0msend\u001b[0m\u001b[0;34m(\u001b[0m\u001b[0mrequest\u001b[0m\u001b[0;34m,\u001b[0m \u001b[0;34m**\u001b[0m\u001b[0mkwargs\u001b[0m\u001b[0;34m)\u001b[0m\u001b[0;34m\u001b[0m\u001b[0m\n\u001b[0m\u001b[1;32m    619\u001b[0m \u001b[0;34m\u001b[0m\u001b[0m\n\u001b[1;32m    620\u001b[0m         \u001b[0;31m# Total elapsed time of the request (approximately)\u001b[0m\u001b[0;34m\u001b[0m\u001b[0;34m\u001b[0m\u001b[0m\n",
      "\u001b[0;32m~/.virtualenvs/finance/lib/python3.6/site-packages/requests/adapters.py\u001b[0m in \u001b[0;36msend\u001b[0;34m(self, request, stream, timeout, verify, cert, proxies)\u001b[0m\n\u001b[1;32m    438\u001b[0m                     \u001b[0mdecode_content\u001b[0m\u001b[0;34m=\u001b[0m\u001b[0;32mFalse\u001b[0m\u001b[0;34m,\u001b[0m\u001b[0;34m\u001b[0m\u001b[0m\n\u001b[1;32m    439\u001b[0m                     \u001b[0mretries\u001b[0m\u001b[0;34m=\u001b[0m\u001b[0mself\u001b[0m\u001b[0;34m.\u001b[0m\u001b[0mmax_retries\u001b[0m\u001b[0;34m,\u001b[0m\u001b[0;34m\u001b[0m\u001b[0m\n\u001b[0;32m--> 440\u001b[0;31m                     \u001b[0mtimeout\u001b[0m\u001b[0;34m=\u001b[0m\u001b[0mtimeout\u001b[0m\u001b[0;34m\u001b[0m\u001b[0m\n\u001b[0m\u001b[1;32m    441\u001b[0m                 )\n\u001b[1;32m    442\u001b[0m \u001b[0;34m\u001b[0m\u001b[0m\n",
      "\u001b[0;32m~/.virtualenvs/finance/lib/python3.6/site-packages/urllib3/connectionpool.py\u001b[0m in \u001b[0;36murlopen\u001b[0;34m(self, method, url, body, headers, retries, redirect, assert_same_host, timeout, pool_timeout, release_conn, chunked, body_pos, **response_kw)\u001b[0m\n\u001b[1;32m    599\u001b[0m                                                   \u001b[0mtimeout\u001b[0m\u001b[0;34m=\u001b[0m\u001b[0mtimeout_obj\u001b[0m\u001b[0;34m,\u001b[0m\u001b[0;34m\u001b[0m\u001b[0m\n\u001b[1;32m    600\u001b[0m                                                   \u001b[0mbody\u001b[0m\u001b[0;34m=\u001b[0m\u001b[0mbody\u001b[0m\u001b[0;34m,\u001b[0m \u001b[0mheaders\u001b[0m\u001b[0;34m=\u001b[0m\u001b[0mheaders\u001b[0m\u001b[0;34m,\u001b[0m\u001b[0;34m\u001b[0m\u001b[0m\n\u001b[0;32m--> 601\u001b[0;31m                                                   chunked=chunked)\n\u001b[0m\u001b[1;32m    602\u001b[0m \u001b[0;34m\u001b[0m\u001b[0m\n\u001b[1;32m    603\u001b[0m             \u001b[0;31m# If we're going to release the connection in ``finally:``, then\u001b[0m\u001b[0;34m\u001b[0m\u001b[0;34m\u001b[0m\u001b[0m\n",
      "\u001b[0;32m~/.virtualenvs/finance/lib/python3.6/site-packages/urllib3/connectionpool.py\u001b[0m in \u001b[0;36m_make_request\u001b[0;34m(self, conn, method, url, timeout, chunked, **httplib_request_kw)\u001b[0m\n\u001b[1;32m    381\u001b[0m             \u001b[0;32mexcept\u001b[0m \u001b[0mTypeError\u001b[0m\u001b[0;34m:\u001b[0m  \u001b[0;31m# Python 2.6 and older, Python 3\u001b[0m\u001b[0;34m\u001b[0m\u001b[0m\n\u001b[1;32m    382\u001b[0m                 \u001b[0;32mtry\u001b[0m\u001b[0;34m:\u001b[0m\u001b[0;34m\u001b[0m\u001b[0m\n\u001b[0;32m--> 383\u001b[0;31m                     \u001b[0mhttplib_response\u001b[0m \u001b[0;34m=\u001b[0m \u001b[0mconn\u001b[0m\u001b[0;34m.\u001b[0m\u001b[0mgetresponse\u001b[0m\u001b[0;34m(\u001b[0m\u001b[0;34m)\u001b[0m\u001b[0;34m\u001b[0m\u001b[0m\n\u001b[0m\u001b[1;32m    384\u001b[0m                 \u001b[0;32mexcept\u001b[0m \u001b[0mException\u001b[0m \u001b[0;32mas\u001b[0m \u001b[0me\u001b[0m\u001b[0;34m:\u001b[0m\u001b[0;34m\u001b[0m\u001b[0m\n\u001b[1;32m    385\u001b[0m                     \u001b[0;31m# Remove the TypeError from the exception chain in Python 3;\u001b[0m\u001b[0;34m\u001b[0m\u001b[0;34m\u001b[0m\u001b[0m\n",
      "\u001b[0;32m/usr/local/Cellar/python3/3.6.2/Frameworks/Python.framework/Versions/3.6/lib/python3.6/http/client.py\u001b[0m in \u001b[0;36mgetresponse\u001b[0;34m(self)\u001b[0m\n\u001b[1;32m   1329\u001b[0m         \u001b[0;32mtry\u001b[0m\u001b[0;34m:\u001b[0m\u001b[0;34m\u001b[0m\u001b[0m\n\u001b[1;32m   1330\u001b[0m             \u001b[0;32mtry\u001b[0m\u001b[0;34m:\u001b[0m\u001b[0;34m\u001b[0m\u001b[0m\n\u001b[0;32m-> 1331\u001b[0;31m                 \u001b[0mresponse\u001b[0m\u001b[0;34m.\u001b[0m\u001b[0mbegin\u001b[0m\u001b[0;34m(\u001b[0m\u001b[0;34m)\u001b[0m\u001b[0;34m\u001b[0m\u001b[0m\n\u001b[0m\u001b[1;32m   1332\u001b[0m             \u001b[0;32mexcept\u001b[0m \u001b[0mConnectionError\u001b[0m\u001b[0;34m:\u001b[0m\u001b[0;34m\u001b[0m\u001b[0m\n\u001b[1;32m   1333\u001b[0m                 \u001b[0mself\u001b[0m\u001b[0;34m.\u001b[0m\u001b[0mclose\u001b[0m\u001b[0;34m(\u001b[0m\u001b[0;34m)\u001b[0m\u001b[0;34m\u001b[0m\u001b[0m\n",
      "\u001b[0;32m/usr/local/Cellar/python3/3.6.2/Frameworks/Python.framework/Versions/3.6/lib/python3.6/http/client.py\u001b[0m in \u001b[0;36mbegin\u001b[0;34m(self)\u001b[0m\n\u001b[1;32m    295\u001b[0m         \u001b[0;31m# read until we get a non-100 response\u001b[0m\u001b[0;34m\u001b[0m\u001b[0;34m\u001b[0m\u001b[0m\n\u001b[1;32m    296\u001b[0m         \u001b[0;32mwhile\u001b[0m \u001b[0;32mTrue\u001b[0m\u001b[0;34m:\u001b[0m\u001b[0;34m\u001b[0m\u001b[0m\n\u001b[0;32m--> 297\u001b[0;31m             \u001b[0mversion\u001b[0m\u001b[0;34m,\u001b[0m \u001b[0mstatus\u001b[0m\u001b[0;34m,\u001b[0m \u001b[0mreason\u001b[0m \u001b[0;34m=\u001b[0m \u001b[0mself\u001b[0m\u001b[0;34m.\u001b[0m\u001b[0m_read_status\u001b[0m\u001b[0;34m(\u001b[0m\u001b[0;34m)\u001b[0m\u001b[0;34m\u001b[0m\u001b[0m\n\u001b[0m\u001b[1;32m    298\u001b[0m             \u001b[0;32mif\u001b[0m \u001b[0mstatus\u001b[0m \u001b[0;34m!=\u001b[0m \u001b[0mCONTINUE\u001b[0m\u001b[0;34m:\u001b[0m\u001b[0;34m\u001b[0m\u001b[0m\n\u001b[1;32m    299\u001b[0m                 \u001b[0;32mbreak\u001b[0m\u001b[0;34m\u001b[0m\u001b[0m\n",
      "\u001b[0;32m/usr/local/Cellar/python3/3.6.2/Frameworks/Python.framework/Versions/3.6/lib/python3.6/http/client.py\u001b[0m in \u001b[0;36m_read_status\u001b[0;34m(self)\u001b[0m\n\u001b[1;32m    256\u001b[0m \u001b[0;34m\u001b[0m\u001b[0m\n\u001b[1;32m    257\u001b[0m     \u001b[0;32mdef\u001b[0m \u001b[0m_read_status\u001b[0m\u001b[0;34m(\u001b[0m\u001b[0mself\u001b[0m\u001b[0;34m)\u001b[0m\u001b[0;34m:\u001b[0m\u001b[0;34m\u001b[0m\u001b[0m\n\u001b[0;32m--> 258\u001b[0;31m         \u001b[0mline\u001b[0m \u001b[0;34m=\u001b[0m \u001b[0mstr\u001b[0m\u001b[0;34m(\u001b[0m\u001b[0mself\u001b[0m\u001b[0;34m.\u001b[0m\u001b[0mfp\u001b[0m\u001b[0;34m.\u001b[0m\u001b[0mreadline\u001b[0m\u001b[0;34m(\u001b[0m\u001b[0m_MAXLINE\u001b[0m \u001b[0;34m+\u001b[0m \u001b[0;36m1\u001b[0m\u001b[0;34m)\u001b[0m\u001b[0;34m,\u001b[0m \u001b[0;34m\"iso-8859-1\"\u001b[0m\u001b[0;34m)\u001b[0m\u001b[0;34m\u001b[0m\u001b[0m\n\u001b[0m\u001b[1;32m    259\u001b[0m         \u001b[0;32mif\u001b[0m \u001b[0mlen\u001b[0m\u001b[0;34m(\u001b[0m\u001b[0mline\u001b[0m\u001b[0;34m)\u001b[0m \u001b[0;34m>\u001b[0m \u001b[0m_MAXLINE\u001b[0m\u001b[0;34m:\u001b[0m\u001b[0;34m\u001b[0m\u001b[0m\n\u001b[1;32m    260\u001b[0m             \u001b[0;32mraise\u001b[0m \u001b[0mLineTooLong\u001b[0m\u001b[0;34m(\u001b[0m\u001b[0;34m\"status line\"\u001b[0m\u001b[0;34m)\u001b[0m\u001b[0;34m\u001b[0m\u001b[0m\n",
      "\u001b[0;32m/usr/local/Cellar/python3/3.6.2/Frameworks/Python.framework/Versions/3.6/lib/python3.6/socket.py\u001b[0m in \u001b[0;36mreadinto\u001b[0;34m(self, b)\u001b[0m\n\u001b[1;32m    584\u001b[0m         \u001b[0;32mwhile\u001b[0m \u001b[0;32mTrue\u001b[0m\u001b[0;34m:\u001b[0m\u001b[0;34m\u001b[0m\u001b[0m\n\u001b[1;32m    585\u001b[0m             \u001b[0;32mtry\u001b[0m\u001b[0;34m:\u001b[0m\u001b[0;34m\u001b[0m\u001b[0m\n\u001b[0;32m--> 586\u001b[0;31m                 \u001b[0;32mreturn\u001b[0m \u001b[0mself\u001b[0m\u001b[0;34m.\u001b[0m\u001b[0m_sock\u001b[0m\u001b[0;34m.\u001b[0m\u001b[0mrecv_into\u001b[0m\u001b[0;34m(\u001b[0m\u001b[0mb\u001b[0m\u001b[0;34m)\u001b[0m\u001b[0;34m\u001b[0m\u001b[0m\n\u001b[0m\u001b[1;32m    587\u001b[0m             \u001b[0;32mexcept\u001b[0m \u001b[0mtimeout\u001b[0m\u001b[0;34m:\u001b[0m\u001b[0;34m\u001b[0m\u001b[0m\n\u001b[1;32m    588\u001b[0m                 \u001b[0mself\u001b[0m\u001b[0;34m.\u001b[0m\u001b[0m_timeout_occurred\u001b[0m \u001b[0;34m=\u001b[0m \u001b[0;32mTrue\u001b[0m\u001b[0;34m\u001b[0m\u001b[0m\n",
      "\u001b[0;32m~/.virtualenvs/finance/lib/python3.6/site-packages/urllib3/contrib/pyopenssl.py\u001b[0m in \u001b[0;36mrecv_into\u001b[0;34m(self, *args, **kwargs)\u001b[0m\n\u001b[1;32m    278\u001b[0m     \u001b[0;32mdef\u001b[0m \u001b[0mrecv_into\u001b[0m\u001b[0;34m(\u001b[0m\u001b[0mself\u001b[0m\u001b[0;34m,\u001b[0m \u001b[0;34m*\u001b[0m\u001b[0margs\u001b[0m\u001b[0;34m,\u001b[0m \u001b[0;34m**\u001b[0m\u001b[0mkwargs\u001b[0m\u001b[0;34m)\u001b[0m\u001b[0;34m:\u001b[0m\u001b[0;34m\u001b[0m\u001b[0m\n\u001b[1;32m    279\u001b[0m         \u001b[0;32mtry\u001b[0m\u001b[0;34m:\u001b[0m\u001b[0;34m\u001b[0m\u001b[0m\n\u001b[0;32m--> 280\u001b[0;31m             \u001b[0;32mreturn\u001b[0m \u001b[0mself\u001b[0m\u001b[0;34m.\u001b[0m\u001b[0mconnection\u001b[0m\u001b[0;34m.\u001b[0m\u001b[0mrecv_into\u001b[0m\u001b[0;34m(\u001b[0m\u001b[0;34m*\u001b[0m\u001b[0margs\u001b[0m\u001b[0;34m,\u001b[0m \u001b[0;34m**\u001b[0m\u001b[0mkwargs\u001b[0m\u001b[0;34m)\u001b[0m\u001b[0;34m\u001b[0m\u001b[0m\n\u001b[0m\u001b[1;32m    281\u001b[0m         \u001b[0;32mexcept\u001b[0m \u001b[0mOpenSSL\u001b[0m\u001b[0;34m.\u001b[0m\u001b[0mSSL\u001b[0m\u001b[0;34m.\u001b[0m\u001b[0mSysCallError\u001b[0m \u001b[0;32mas\u001b[0m \u001b[0me\u001b[0m\u001b[0;34m:\u001b[0m\u001b[0;34m\u001b[0m\u001b[0m\n\u001b[1;32m    282\u001b[0m             \u001b[0;32mif\u001b[0m \u001b[0mself\u001b[0m\u001b[0;34m.\u001b[0m\u001b[0msuppress_ragged_eofs\u001b[0m \u001b[0;32mand\u001b[0m \u001b[0me\u001b[0m\u001b[0;34m.\u001b[0m\u001b[0margs\u001b[0m \u001b[0;34m==\u001b[0m \u001b[0;34m(\u001b[0m\u001b[0;34m-\u001b[0m\u001b[0;36m1\u001b[0m\u001b[0;34m,\u001b[0m \u001b[0;34m'Unexpected EOF'\u001b[0m\u001b[0;34m)\u001b[0m\u001b[0;34m:\u001b[0m\u001b[0;34m\u001b[0m\u001b[0m\n",
      "\u001b[0;32m~/.virtualenvs/finance/lib/python3.6/site-packages/OpenSSL/SSL.py\u001b[0m in \u001b[0;36mrecv_into\u001b[0;34m(self, buffer, nbytes, flags)\u001b[0m\n\u001b[1;32m   1712\u001b[0m             \u001b[0mresult\u001b[0m \u001b[0;34m=\u001b[0m \u001b[0m_lib\u001b[0m\u001b[0;34m.\u001b[0m\u001b[0mSSL_peek\u001b[0m\u001b[0;34m(\u001b[0m\u001b[0mself\u001b[0m\u001b[0;34m.\u001b[0m\u001b[0m_ssl\u001b[0m\u001b[0;34m,\u001b[0m \u001b[0mbuf\u001b[0m\u001b[0;34m,\u001b[0m \u001b[0mnbytes\u001b[0m\u001b[0;34m)\u001b[0m\u001b[0;34m\u001b[0m\u001b[0m\n\u001b[1;32m   1713\u001b[0m         \u001b[0;32melse\u001b[0m\u001b[0;34m:\u001b[0m\u001b[0;34m\u001b[0m\u001b[0m\n\u001b[0;32m-> 1714\u001b[0;31m             \u001b[0mresult\u001b[0m \u001b[0;34m=\u001b[0m \u001b[0m_lib\u001b[0m\u001b[0;34m.\u001b[0m\u001b[0mSSL_read\u001b[0m\u001b[0;34m(\u001b[0m\u001b[0mself\u001b[0m\u001b[0;34m.\u001b[0m\u001b[0m_ssl\u001b[0m\u001b[0;34m,\u001b[0m \u001b[0mbuf\u001b[0m\u001b[0;34m,\u001b[0m \u001b[0mnbytes\u001b[0m\u001b[0;34m)\u001b[0m\u001b[0;34m\u001b[0m\u001b[0m\n\u001b[0m\u001b[1;32m   1715\u001b[0m         \u001b[0mself\u001b[0m\u001b[0;34m.\u001b[0m\u001b[0m_raise_ssl_error\u001b[0m\u001b[0;34m(\u001b[0m\u001b[0mself\u001b[0m\u001b[0;34m.\u001b[0m\u001b[0m_ssl\u001b[0m\u001b[0;34m,\u001b[0m \u001b[0mresult\u001b[0m\u001b[0;34m)\u001b[0m\u001b[0;34m\u001b[0m\u001b[0m\n\u001b[1;32m   1716\u001b[0m \u001b[0;34m\u001b[0m\u001b[0m\n",
      "\u001b[0;31mKeyboardInterrupt\u001b[0m: "
     ]
    }
   ],
   "source": [
    "arr = []\n",
    "for i in range(100):\n",
    "    arr.append(tone_analyzer.tone(tone_input=content[i], content_type='text/plain'))\n",
    "arr"
   ]
  },
  {
   "cell_type": "code",
   "execution_count": 38,
   "metadata": {},
   "outputs": [
    {
     "data": {
      "text/plain": [
       "{'document_tone': {'tones': [{'score': 1.0,\n",
       "    'tone_id': 'joy',\n",
       "    'tone_name': 'Joy'}]}}"
      ]
     },
     "execution_count": 38,
     "metadata": {},
     "output_type": "execute_result"
    }
   ],
   "source": [
    "with open('IBM-resources/tone-example.json') as tone_json:\n",
    "    # print(tone_json.readlines())\n",
    "    tone = tone_analyzer.tone(tone_input=json.load(tone_json)['text'],\n",
    "                              content_type='text/plain')\n",
    "tone"
   ]
  },
  {
   "cell_type": "code",
   "execution_count": 49,
   "metadata": {},
   "outputs": [
    {
     "ename": "TypeError",
     "evalue": "tone() missing 1 required positional argument: 'content_type'",
     "output_type": "error",
     "traceback": [
      "\u001b[0;31m---------------------------------------------------------------------------\u001b[0m",
      "\u001b[0;31mTypeError\u001b[0m                                 Traceback (most recent call last)",
      "\u001b[0;32m<ipython-input-49-52df5c7e10f0>\u001b[0m in \u001b[0;36m<module>\u001b[0;34m()\u001b[0m\n\u001b[1;32m      1\u001b[0m utterances = [{'text': 'I am very happy.', 'user': 'glenn'},\n\u001b[1;32m      2\u001b[0m               {'text': 'It is a good day.', 'user': 'glenn'}]\n\u001b[0;32m----> 3\u001b[0;31m \u001b[0mprint\u001b[0m\u001b[0;34m(\u001b[0m\u001b[0mjson\u001b[0m\u001b[0;34m.\u001b[0m\u001b[0mdumps\u001b[0m\u001b[0;34m(\u001b[0m\u001b[0mtone_analyzer\u001b[0m\u001b[0;34m.\u001b[0m\u001b[0mtone\u001b[0m\u001b[0;34m(\u001b[0m\u001b[0mtone_input\u001b[0m\u001b[0;34m=\u001b[0m\u001b[0mutterances\u001b[0m\u001b[0;34m)\u001b[0m\u001b[0;34m,\u001b[0m \u001b[0mindent\u001b[0m\u001b[0;34m=\u001b[0m\u001b[0;36m2\u001b[0m\u001b[0;34m)\u001b[0m\u001b[0;34m)\u001b[0m\u001b[0;34m\u001b[0m\u001b[0m\n\u001b[0m",
      "\u001b[0;31mTypeError\u001b[0m: tone() missing 1 required positional argument: 'content_type'"
     ]
    }
   ],
   "source": [
    "utterances = [{'text': 'I am very happy.', 'user': 'glenn'},\n",
    "              {'text': 'It is a good day.', 'user': 'glenn'}]\n",
    "print(json.dumps(tone_analyzer.tone(tone_input=utterances), indent=2))\n"
   ]
  },
  {
   "cell_type": "code",
   "execution_count": 41,
   "metadata": {},
   "outputs": [],
   "source": [
    "tone_analyzer.tone_chat?"
   ]
  },
  {
   "cell_type": "code",
   "execution_count": 58,
   "metadata": {},
   "outputs": [],
   "source": [
    "tone_analyzer.tone?"
   ]
  },
  {
   "cell_type": "code",
   "execution_count": 46,
   "metadata": {},
   "outputs": [
    {
     "ename": "AttributeError",
     "evalue": "'ToneAnalyzerV3' object has no attribute 'ToneInput'",
     "output_type": "error",
     "traceback": [
      "\u001b[0;31m---------------------------------------------------------------------------\u001b[0m",
      "\u001b[0;31mAttributeError\u001b[0m                            Traceback (most recent call last)",
      "\u001b[0;32m<ipython-input-46-16b63183f392>\u001b[0m in \u001b[0;36m<module>\u001b[0;34m()\u001b[0m\n\u001b[0;32m----> 1\u001b[0;31m \u001b[0mtone_analyzer\u001b[0m\u001b[0;34m.\u001b[0m\u001b[0mToneInput\u001b[0m\u001b[0;34m\u001b[0m\u001b[0m\n\u001b[0m",
      "\u001b[0;31mAttributeError\u001b[0m: 'ToneAnalyzerV3' object has no attribute 'ToneInput'"
     ]
    }
   ],
   "source": [
    "tone_analyzer.ToneInput"
   ]
  },
  {
   "cell_type": "code",
   "execution_count": 47,
   "metadata": {},
   "outputs": [
    {
     "ename": "AttributeError",
     "evalue": "type object 'ToneAnalyzerV3' has no attribute 'ToneInput'",
     "output_type": "error",
     "traceback": [
      "\u001b[0;31m---------------------------------------------------------------------------\u001b[0m",
      "\u001b[0;31mAttributeError\u001b[0m                            Traceback (most recent call last)",
      "\u001b[0;32m<ipython-input-47-4e2aa92794ba>\u001b[0m in \u001b[0;36m<module>\u001b[0;34m()\u001b[0m\n\u001b[0;32m----> 1\u001b[0;31m \u001b[0mToneAnalyzerV3\u001b[0m\u001b[0;34m.\u001b[0m\u001b[0mToneInput\u001b[0m\u001b[0;34m\u001b[0m\u001b[0m\n\u001b[0m",
      "\u001b[0;31mAttributeError\u001b[0m: type object 'ToneAnalyzerV3' has no attribute 'ToneInput'"
     ]
    }
   ],
   "source": [
    "ToneAnalyzerV3.ToneInput"
   ]
  },
  {
   "cell_type": "code",
   "execution_count": 56,
   "metadata": {},
   "outputs": [],
   "source": [
    "with open('IBM-resources/tone-example.json') as tone_json:\n",
    "    tone = tone_analyzer.tone(json.load(tone_json)['text'], \"text/plain\", sentences=True)"
   ]
  },
  {
   "cell_type": "code",
   "execution_count": 57,
   "metadata": {},
   "outputs": [
    {
     "data": {
      "text/plain": [
       "{'document_tone': {'tones': [{'score': 1.0,\n",
       "    'tone_id': 'joy',\n",
       "    'tone_name': 'Joy'}]}}"
      ]
     },
     "execution_count": 57,
     "metadata": {},
     "output_type": "execute_result"
    }
   ],
   "source": [
    "tone"
   ]
  }
 ],
 "metadata": {
  "kernelspec": {
   "display_name": "PolySpeech",
   "language": "python",
   "name": "polyspeech"
  },
  "language_info": {
   "codemirror_mode": {
    "name": "ipython",
    "version": 3
   },
   "file_extension": ".py",
   "mimetype": "text/x-python",
   "name": "python",
   "nbconvert_exporter": "python",
   "pygments_lexer": "ipython3",
   "version": "3.7.2"
  }
 },
 "nbformat": 4,
 "nbformat_minor": 2
}

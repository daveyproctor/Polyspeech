{
 "cells": [
  {
   "cell_type": "code",
   "execution_count": 3,
   "metadata": {},
   "outputs": [],
   "source": [
    "from collections import Counter\n",
    "import pandas as pd\n",
    "import numpy as np"
   ]
  },
  {
   "cell_type": "code",
   "execution_count": 4,
   "metadata": {},
   "outputs": [],
   "source": [
    "genders = ['F', 'M', 'M', 'M', 'F', 'F', 'M', 'M', 'M', 'M', 'M', 'M', 'M', 'M', 'M', 'F', 'M', 'M', 'M', 'M', 'M', 'M', 'M', 'M', 'M', 'M', 'F', 'M', 'F', 'M', 'F', 'F', 'M', 'F', 'M', 'M', 'F', 'M', 'M', 'F', 'F', 'M', 'M', 'M', 'M', 'M', 'F', 'M', 'F', 'F', 'M', 'M', 'M', 'M', 'M', 'M', 'M', 'M', 'M', 'M', 'M', 'M', 'M', 'M', 'M', 'M', 'M', 'M', 'M'] \n",
    "names = [\"lisamurkowski\", \"SenJohnMcCain\", \"JeffFlake\", \"JohnBoozman\", \"SenFeinstein\", \"SenatorBoxer\", \"MarkUdall\", \"SenBennetCO\", \"ChrisMurphyCT\", \"SenBlumenthal\", \"SenatorCarper\", \"ChrisCoons\", \"marcorubio\", \"SaxbyChambliss\", \"brianschatz\", \"maziehirono\", \"MikeCrapo\", \"SenatorRisch\", \"SenatorDurbin\", \"SenDonnelly\", \"SenDanCoats\", \"ChuckGrassley\", \"SenatorHarkin\", \"SenPatRoberts\", \"JerryMoran\", \"SenRandPaul\", \"SenLandrieu\", \"DavidVitter\", \"SenatorBarb\", \"MarkeyMemo\", \"stabenow\", \"amyklobuchar\", \"SenatorWicker\", \"clairecmc\", \"RoyBlunt\", \"jontester\", \"SenatorFischer\", \"SenatorReid\", \"SenDeanHeller\", \"SenatorShaheen\", \"kellyayotte\", \"CoryBooker\", \"SenatorMenendez\", \"MartinHeinrich\", \"SenatorTomUdall\", \"SenSchumer\", \"SenGillibrand\", \"SenatorBurr\", \"SenatorHagan\", \"SenatorHeitkamp\", \"SenJohnHoeven\", \"SenSherrodBrown\", \"robportman\", \"jiminhofe\", \"RonWyden\", \"SenToomey\", \"SenJackReed\", \"SenWhitehouse\", \"GrahamBlog\", \"SenatorTimScott\", \"SenJohnThune\", \"SenMikeLee\", \"SenatorLeahy\", \"timkaine\", \"SenRockefeller\", \"Sen_JoeManchin\", \"SenRonJohnson\", \"SenatorEnzi\", \"SenJohnBarrasso\"]"
   ]
  },
  {
   "cell_type": "code",
   "execution_count": 9,
   "metadata": {},
   "outputs": [],
   "source": [
    "gend_names = list(zip(names, genders))\n",
    "gend_names = sorted(gend_names, key=lambda x: x[1])"
   ]
  },
  {
   "cell_type": "code",
   "execution_count": 13,
   "metadata": {},
   "outputs": [
    {
     "data": {
      "text/plain": [
       "['lisamurkowski',\n",
       " 'SenFeinstein',\n",
       " 'SenatorBoxer',\n",
       " 'maziehirono',\n",
       " 'SenLandrieu',\n",
       " 'SenatorBarb',\n",
       " 'stabenow',\n",
       " 'amyklobuchar',\n",
       " 'clairecmc',\n",
       " 'SenatorFischer',\n",
       " 'SenatorShaheen',\n",
       " 'kellyayotte',\n",
       " 'SenGillibrand',\n",
       " 'SenatorHagan',\n",
       " 'SenatorHeitkamp']"
      ]
     },
     "execution_count": 13,
     "metadata": {},
     "output_type": "execute_result"
    }
   ],
   "source": [
    "women = gend_names[:15]\n",
    "women = [woman[0] for woman in women]\n",
    "women"
   ]
  },
  {
   "cell_type": "code",
   "execution_count": 22,
   "metadata": {},
   "outputs": [],
   "source": [
    "women_parties = ['D', 'R', 'D', 'D', 'D', 'D', 'D', 'D', 'D', 'R', 'D', 'R', 'D', 'D', 'D'] "
   ]
  },
  {
   "cell_type": "code",
   "execution_count": 14,
   "metadata": {},
   "outputs": [
    {
     "data": {
      "text/plain": [
       "['SenJohnMcCain',\n",
       " 'JeffFlake',\n",
       " 'JohnBoozman',\n",
       " 'MarkUdall',\n",
       " 'SenBennetCO',\n",
       " 'ChrisMurphyCT',\n",
       " 'SenBlumenthal',\n",
       " 'SenatorCarper',\n",
       " 'ChrisCoons',\n",
       " 'marcorubio',\n",
       " 'SaxbyChambliss',\n",
       " 'brianschatz',\n",
       " 'MikeCrapo',\n",
       " 'SenatorRisch',\n",
       " 'SenatorDurbin',\n",
       " 'SenDonnelly',\n",
       " 'SenDanCoats',\n",
       " 'ChuckGrassley',\n",
       " 'SenatorHarkin',\n",
       " 'SenPatRoberts',\n",
       " 'JerryMoran',\n",
       " 'SenRandPaul',\n",
       " 'DavidVitter',\n",
       " 'MarkeyMemo',\n",
       " 'SenatorWicker',\n",
       " 'RoyBlunt',\n",
       " 'jontester',\n",
       " 'SenatorReid',\n",
       " 'SenDeanHeller',\n",
       " 'CoryBooker',\n",
       " 'SenatorMenendez',\n",
       " 'MartinHeinrich',\n",
       " 'SenatorTomUdall',\n",
       " 'SenSchumer',\n",
       " 'SenatorBurr',\n",
       " 'SenJohnHoeven',\n",
       " 'SenSherrodBrown',\n",
       " 'robportman',\n",
       " 'jiminhofe',\n",
       " 'RonWyden',\n",
       " 'SenToomey',\n",
       " 'SenJackReed',\n",
       " 'SenWhitehouse',\n",
       " 'GrahamBlog',\n",
       " 'SenatorTimScott',\n",
       " 'SenJohnThune',\n",
       " 'SenMikeLee',\n",
       " 'SenatorLeahy',\n",
       " 'timkaine',\n",
       " 'SenRockefeller',\n",
       " 'Sen_JoeManchin',\n",
       " 'SenRonJohnson',\n",
       " 'SenatorEnzi',\n",
       " 'SenJohnBarrasso']"
      ]
     },
     "execution_count": 14,
     "metadata": {},
     "output_type": "execute_result"
    }
   ],
   "source": [
    "men = [man[0] for man in gend_names[15:]]\n",
    "men"
   ]
  },
  {
   "cell_type": "code",
   "execution_count": 21,
   "metadata": {},
   "outputs": [
    {
     "name": "stdout",
     "output_type": "stream",
     "text": [
      "mostly_male\n"
     ]
    }
   ],
   "source": [
    "import gender_guesser.detector as gender\n",
    "d = gender.Detector()\n",
    "print(d.get_gender(u\"Cory\"))"
   ]
  },
  {
   "cell_type": "code",
   "execution_count": 23,
   "metadata": {},
   "outputs": [],
   "source": [
    "min_men_parties = ['R',\n",
    "'R',\n",
    "'R',\n",
    "'D',\n",
    "'D',\n",
    "'D',\n",
    "'D',\n",
    "'D',\n",
    "'D',\n",
    "'R',\n",
    "'R',\n",
    "'R',\n",
    "'R',\n",
    "'R',\n",
    "'D',\n",
    "'D',\n",
    "'R',\n",
    "'R',\n",
    "'D',\n",
    "'R',\n",
    "'R',\n",
    "'R',\n",
    "'R',\n",
    "'R',\n",
    "'R',\n",
    "'D',\n",
    "'D',\n",
    "'R',\n",
    "'D',\n",
    "'D',\n",
    "'D',\n",
    "'D',\n",
    "'D',\n",
    "'R']"
   ]
  },
  {
   "cell_type": "code",
   "execution_count": 24,
   "metadata": {},
   "outputs": [],
   "source": [
    "min_men = ['SenJohnMcCain',\n",
    " 'JeffFlake',\n",
    " 'JohnBoozman',\n",
    " 'MarkUdall',\n",
    " 'SenBennetCO',\n",
    " 'ChrisMurphyCT',\n",
    " 'SenBlumenthal',\n",
    " 'SenatorCarper',\n",
    " 'ChrisCoons',\n",
    " 'marcorubio',\n",
    " 'SaxbyChambliss',\n",
    " 'brianschatz',\n",
    " 'MikeCrapo',\n",
    " 'SenatorRisch',\n",
    " 'SenatorDurbin',\n",
    " 'SenDonnelly',\n",
    " 'SenDanCoats',\n",
    " 'ChuckGrassley',\n",
    " 'SenatorHarkin',\n",
    " 'SenPatRoberts',\n",
    " 'JerryMoran',\n",
    " 'SenRandPaul',\n",
    " 'DavidVitter',\n",
    " 'SenatorWicker',\n",
    " 'RoyBlunt',\n",
    " 'jontester',\n",
    " 'SenatorReid',\n",
    " 'SenDeanHeller',\n",
    " 'CoryBooker',\n",
    " 'SenatorMenendez',\n",
    " 'MartinHeinrich',\n",
    " 'SenatorTomUdall',\n",
    " 'SenSchumer',\n",
    " 'SenatorBurr',\n",
    " ]"
   ]
  },
  {
   "cell_type": "code",
   "execution_count": 25,
   "metadata": {},
   "outputs": [
    {
     "data": {
      "text/plain": [
       "[('MarkUdall', 'D'),\n",
       " ('SenBennetCO', 'D'),\n",
       " ('ChrisMurphyCT', 'D'),\n",
       " ('SenBlumenthal', 'D'),\n",
       " ('SenatorCarper', 'D'),\n",
       " ('ChrisCoons', 'D'),\n",
       " ('SenatorDurbin', 'D'),\n",
       " ('SenDonnelly', 'D'),\n",
       " ('SenatorHarkin', 'D'),\n",
       " ('jontester', 'D'),\n",
       " ('SenatorReid', 'D'),\n",
       " ('CoryBooker', 'D'),\n",
       " ('SenatorMenendez', 'D'),\n",
       " ('MartinHeinrich', 'D'),\n",
       " ('SenatorTomUdall', 'D'),\n",
       " ('SenSchumer', 'D'),\n",
       " ('SenJohnMcCain', 'R'),\n",
       " ('JeffFlake', 'R'),\n",
       " ('JohnBoozman', 'R'),\n",
       " ('marcorubio', 'R'),\n",
       " ('SaxbyChambliss', 'R'),\n",
       " ('brianschatz', 'R'),\n",
       " ('MikeCrapo', 'R'),\n",
       " ('SenatorRisch', 'R'),\n",
       " ('SenDanCoats', 'R'),\n",
       " ('ChuckGrassley', 'R'),\n",
       " ('SenPatRoberts', 'R'),\n",
       " ('JerryMoran', 'R'),\n",
       " ('SenRandPaul', 'R'),\n",
       " ('DavidVitter', 'R'),\n",
       " ('SenatorWicker', 'R'),\n",
       " ('RoyBlunt', 'R'),\n",
       " ('SenDeanHeller', 'R'),\n",
       " ('SenatorBurr', 'R')]"
      ]
     },
     "execution_count": 25,
     "metadata": {},
     "output_type": "execute_result"
    }
   ],
   "source": [
    "min_menparties_s = sorted(zip(min_men, min_men_parties), key=lambda x: x[1])\n",
    "min_menparties_s"
   ]
  },
  {
   "cell_type": "code",
   "execution_count": 26,
   "metadata": {},
   "outputs": [
    {
     "data": {
      "text/plain": [
       "[('lisamurkowski', 'D'),\n",
       " ('SenatorBoxer', 'D'),\n",
       " ('maziehirono', 'D'),\n",
       " ('SenLandrieu', 'D'),\n",
       " ('SenatorBarb', 'D'),\n",
       " ('stabenow', 'D'),\n",
       " ('amyklobuchar', 'D'),\n",
       " ('clairecmc', 'D'),\n",
       " ('SenatorShaheen', 'D'),\n",
       " ('SenGillibrand', 'D'),\n",
       " ('SenatorHagan', 'D'),\n",
       " ('SenatorHeitkamp', 'D'),\n",
       " ('SenFeinstein', 'R'),\n",
       " ('SenatorFischer', 'R'),\n",
       " ('kellyayotte', 'R')]"
      ]
     },
     "execution_count": 26,
     "metadata": {},
     "output_type": "execute_result"
    }
   ],
   "source": [
    "womenparties_s = sorted(zip(women, women_parties), key=lambda x: x[1])\n",
    "womenparties_s"
   ]
  },
  {
   "cell_type": "code",
   "execution_count": null,
   "metadata": {},
   "outputs": [],
   "source": []
  }
 ],
 "metadata": {
  "kernelspec": {
   "display_name": "Python 3",
   "language": "python",
   "name": "python3"
  },
  "language_info": {
   "codemirror_mode": {
    "name": "ipython",
    "version": 3
   },
   "file_extension": ".py",
   "mimetype": "text/x-python",
   "name": "python",
   "nbconvert_exporter": "python",
   "pygments_lexer": "ipython3",
   "version": "3.6.2"
  }
 },
 "nbformat": 4,
 "nbformat_minor": 2
}

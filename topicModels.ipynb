{
 "cells": [
  {
   "cell_type": "markdown",
   "metadata": {},
   "source": [
    "https://github.com/susanli2016/Machine-Learning-with-Python"
   ]
  },
  {
   "cell_type": "code",
   "execution_count": 2,
   "metadata": {},
   "outputs": [],
   "source": [
    "import spacy\n",
    "spacy.load('en')\n",
    "from spacy.lang.en import English\n",
    "parser = English()\n",
    "\n",
    "def tokenize(text):\n",
    "    lda_tokens = []\n",
    "    tokens = parser(text)\n",
    "    for token in tokens:\n",
    "        if token.orth_.isspace():\n",
    "            continue\n",
    "        elif token.like_url:\n",
    "            lda_tokens.append('URL')\n",
    "        elif token.orth_.startswith('@'):\n",
    "            lda_tokens.append('SCREEN_NAME')\n",
    "        else:\n",
    "            lda_tokens.append(token.lower_)\n",
    "    return lda_tokens"
   ]
  },
  {
   "cell_type": "code",
   "execution_count": 3,
   "metadata": {},
   "outputs": [
    {
     "name": "stderr",
     "output_type": "stream",
     "text": [
      "[nltk_data] Downloading package wordnet to\n",
      "[nltk_data]     /Users/daveyproctor/nltk_data...\n",
      "[nltk_data]   Package wordnet is already up-to-date!\n"
     ]
    },
    {
     "data": {
      "text/plain": [
       "True"
      ]
     },
     "execution_count": 3,
     "metadata": {},
     "output_type": "execute_result"
    }
   ],
   "source": [
    "import nltk\n",
    "nltk.download('wordnet')"
   ]
  },
  {
   "cell_type": "code",
   "execution_count": 4,
   "metadata": {},
   "outputs": [],
   "source": [
    "from nltk.corpus import wordnet as wn\n",
    "def get_lemma(word):\n",
    "    lemma = wn.morphy(word)\n",
    "    if lemma is None:\n",
    "        return word\n",
    "    else:\n",
    "        return lemma\n",
    "    \n",
    "from nltk.stem.wordnet import WordNetLemmatizer\n",
    "def get_lemma2(word):\n",
    "    return WordNetLemmatizer().lemmatize(word)"
   ]
  },
  {
   "cell_type": "code",
   "execution_count": 5,
   "metadata": {},
   "outputs": [
    {
     "name": "stdout",
     "output_type": "stream",
     "text": [
      "dogs dog dog\n",
      "ran run ran\n",
      "discouraged discourage discouraged\n"
     ]
    }
   ],
   "source": [
    "for w in ['dogs', 'ran', 'discouraged']:\n",
    "    print(w, get_lemma(w), get_lemma2(w))"
   ]
  },
  {
   "cell_type": "code",
   "execution_count": 6,
   "metadata": {},
   "outputs": [
    {
     "name": "stderr",
     "output_type": "stream",
     "text": [
      "[nltk_data] Downloading package stopwords to\n",
      "[nltk_data]     /Users/daveyproctor/nltk_data...\n",
      "[nltk_data]   Package stopwords is already up-to-date!\n"
     ]
    }
   ],
   "source": [
    "nltk.download('stopwords')\n",
    "en_stop = set(nltk.corpus.stopwords.words('english'))"
   ]
  },
  {
   "cell_type": "code",
   "execution_count": 7,
   "metadata": {},
   "outputs": [],
   "source": [
    "def prepare_text_for_lda(text):\n",
    "    tokens = tokenize(text)\n",
    "    tokens = [token for token in tokens if len(token) > 4]\n",
    "    tokens = [token for token in tokens if token not in en_stop]\n",
    "    tokens = [get_lemma(token) for token in tokens]\n",
    "    return tokens"
   ]
  },
  {
   "cell_type": "code",
   "execution_count": 8,
   "metadata": {},
   "outputs": [
    {
     "name": "stdout",
     "output_type": "stream",
     "text": [
      "['animate', 'history', 'building', 'bridge', 'discipline']\n",
      "['porqpine', 'distribute', 'collaborative', 'search', 'engine']\n",
      "['efficient', 'algorithm', 'mining', 'association', 'rule', 'large', 'database']\n",
      "['sparql', 'sparql', 'continuous', 'query']\n",
      "['gothic', 'glare', 'optimizer', 'dynamic', 'range', 'image', 'content', 'implementation', 'video']\n",
      "['indexing', 'store', 'relational', 'database']\n",
      "['energy', 'scalable', 'margin', 'propagation', 'base', 'analog', 'support', 'vector', 'machine']\n",
      "['demonstration', 'scidb', 'science', 'orient']\n",
      "['engineering', 'visual', 'software', 'circuit', 'board']\n",
      "['parallel', 'architecture', 'tracing', 'embed', 'intersection', 'algorithm']\n",
      "['sampling', 'clock', 'jitter', 'estimation', 'compensation', 'circuit']\n",
      "['joint', 'relevance', 'freshness', 'learning', 'clickthroughs', 'search']\n",
      "['empirical', 'evaluation', 'technique', 'measuring', 'available', 'bandwidth']\n",
      "['supporting', 'ontology', 'base', 'semantic', 'match', 'rdbms']\n",
      "['motion', 'compensation', 'system', 'efficiency', 'reference', 'frame', 'fetch', 'scheme', 'h.264/avc', 'decoding']\n",
      "['eclipse', 'attack', 'overlay', 'network', 'threat', 'defense']\n",
      "['international', 'workshop', 'question', 'answer', 'qaweb2008']\n"
     ]
    }
   ],
   "source": [
    "import random\n",
    "text_data = []\n",
    "with open('data/dataset.csv') as f:\n",
    "    for line in f:\n",
    "        tokens = prepare_text_for_lda(line)\n",
    "        if random.random() > .99:\n",
    "            print(tokens)\n",
    "            text_data.append(tokens)"
   ]
  },
  {
   "cell_type": "code",
   "execution_count": 29,
   "metadata": {},
   "outputs": [],
   "source": [
    "import pandas as pd"
   ]
  },
  {
   "cell_type": "code",
   "execution_count": 30,
   "metadata": {},
   "outputs": [],
   "source": [
    "tweetsDF = pd.read_csv(\"data/tweets.csv\")"
   ]
  },
  {
   "cell_type": "code",
   "execution_count": 52,
   "metadata": {},
   "outputs": [],
   "source": [
    "rawTweets = tweetsDF.loc[:,\"full_text\"]"
   ]
  },
  {
   "cell_type": "markdown",
   "metadata": {},
   "source": [
    "## Or, choosing to treat tweet sets as documents"
   ]
  },
  {
   "cell_type": "code",
   "execution_count": 53,
   "metadata": {},
   "outputs": [],
   "source": [
    "rawTweets = tweetsDF.groupby('twitter_account')['full_text'].apply(lambda x: \"%s\" % ' --\\n '.join(x))"
   ]
  },
  {
   "cell_type": "code",
   "execution_count": 54,
   "metadata": {},
   "outputs": [],
   "source": [
    "preppedTweets = [prepare_text_for_lda(text) for text in rawTweets]"
   ]
  },
  {
   "cell_type": "code",
   "execution_count": 64,
   "metadata": {},
   "outputs": [],
   "source": [
    "text_data = preppedTweets"
   ]
  },
  {
   "cell_type": "code",
   "execution_count": 65,
   "metadata": {},
   "outputs": [],
   "source": [
    "from gensim import corpora\n",
    "dictionary = corpora.Dictionary(text_data)"
   ]
  },
  {
   "cell_type": "code",
   "execution_count": 66,
   "metadata": {},
   "outputs": [],
   "source": [
    "corpus = [dictionary.doc2bow(text) for text in text_data]"
   ]
  },
  {
   "cell_type": "code",
   "execution_count": 67,
   "metadata": {},
   "outputs": [],
   "source": [
    "import pickle\n",
    "pickle.dump(corpus, open('data/corpus.pkl', 'wb'))\n",
    "dictionary.save('dictionary.gensim')"
   ]
  },
  {
   "cell_type": "markdown",
   "metadata": {},
   "source": [
    "### Try 5 topics"
   ]
  },
  {
   "cell_type": "code",
   "execution_count": 70,
   "metadata": {},
   "outputs": [],
   "source": [
    "import gensim\n",
    "NUM_TOPICS = 20\n",
    "ldamodel = gensim.models.ldamodel.LdaModel(corpus, num_topics = NUM_TOPICS, id2word=dictionary, passes=15)\n",
    "ldamodel.save('LDAModels/model5.gensim')"
   ]
  },
  {
   "cell_type": "code",
   "execution_count": 72,
   "metadata": {},
   "outputs": [
    {
     "name": "stdout",
     "output_type": "stream",
     "text": [
      "(0, '0.029*\"SCREEN_NAME\" + 0.009*\"people\" + 0.007*\"support\" + 0.007*\"congress\" + 0.006*\"hawaii\"')\n",
      "(1, '0.001*\"SCREEN_NAME\" + 0.000*\"today\" + 0.000*\"american\" + 0.000*\"house\" + 0.000*\"family\"')\n",
      "(2, '0.000*\"SCREEN_NAME\" + 0.000*\"today\" + 0.000*\"american\" + 0.000*\"president\" + 0.000*\"people\"')\n",
      "(3, '0.000*\"SCREEN_NAME\" + 0.000*\"today\" + 0.000*\"american\" + 0.000*\"trump\" + 0.000*\"great\"')\n",
      "(4, '0.000*\"SCREEN_NAME\" + 0.000*\"today\" + 0.000*\"american\" + 0.000*\"community\" + 0.000*\"support\"')\n",
      "(5, '0.000*\"SCREEN_NAME\" + 0.000*\"today\" + 0.000*\"american\" + 0.000*\"family\" + 0.000*\"great\"')\n",
      "(6, '0.000*\"SCREEN_NAME\" + 0.000*\"american\" + 0.000*\"great\" + 0.000*\"today\" + 0.000*\"family\"')\n",
      "(7, '0.064*\"SCREEN_NAME\" + 0.008*\"today\" + 0.008*\"american\" + 0.006*\"congress\" + 0.006*\"trump\"')\n",
      "(8, '0.017*\"SCREEN_NAME\" + 0.011*\"right\" + 0.011*\"goodtrouble--\" + 0.010*\"never\" + 0.009*\"people\"')\n",
      "(9, '0.039*\"SCREEN_NAME\" + 0.011*\"today\" + 0.008*\"american\" + 0.007*\"president\" + 0.005*\"family\"')\n",
      "(10, '0.000*\"SCREEN_NAME\" + 0.000*\"american\" + 0.000*\"today\" + 0.000*\"president\" + 0.000*\"congress\"')\n",
      "(11, '0.000*\"SCREEN_NAME\" + 0.000*\"today\" + 0.000*\"american\" + 0.000*\"family\" + 0.000*\"president\"')\n",
      "(12, '0.000*\"SCREEN_NAME\" + 0.000*\"american\" + 0.000*\"family\" + 0.000*\"congress\" + 0.000*\"president\"')\n",
      "(13, '0.001*\"SCREEN_NAME\" + 0.000*\"american\" + 0.000*\"today\" + 0.000*\"president\" + 0.000*\"family\"')\n",
      "(14, '0.000*\"SCREEN_NAME\" + 0.000*\"today\" + 0.000*\"american\" + 0.000*\"trump\" + 0.000*\"people\"')\n",
      "(15, '0.004*\"trumpshutdown\" + 0.003*\"delay\" + 0.003*\"texas\" + 0.003*\"SCREEN_NAME\" + 0.003*\"child\"')\n",
      "(16, '0.015*\"washington\" + 0.014*\"healthcare\" + 0.011*\"insurance\" + 0.011*\"earthquake\" + 0.010*\"state\"')\n",
      "(17, '0.037*\"SCREEN_NAME\" + 0.008*\"today\" + 0.006*\"family\" + 0.006*\"proud\" + 0.006*\"congress\"')\n",
      "(18, '0.027*\"SCREEN_NAME\" + 0.009*\"today\" + 0.009*\"american\" + 0.007*\"family\" + 0.006*\"president\"')\n",
      "(19, '0.000*\"SCREEN_NAME\" + 0.000*\"today\" + 0.000*\"family\" + 0.000*\"trump\" + 0.000*\"american\"')\n"
     ]
    }
   ],
   "source": [
    "topics = ldamodel.print_topics(num_words=5)\n",
    "for topic in topics:\n",
    "    print(topic)"
   ]
  },
  {
   "cell_type": "code",
   "execution_count": 43,
   "metadata": {},
   "outputs": [
    {
     "data": {
      "text/plain": [
       "[(1, 1),\n",
       " (2, 1),\n",
       " (3, 1),\n",
       " (4, 2),\n",
       " (5, 3),\n",
       " (6, 1),\n",
       " (7, 1),\n",
       " (8, 2),\n",
       " (9, 1),\n",
       " (10, 1),\n",
       " (11, 1),\n",
       " (12, 1),\n",
       " (13, 1),\n",
       " (14, 1),\n",
       " (15, 1)]"
      ]
     },
     "execution_count": 43,
     "metadata": {},
     "output_type": "execute_result"
    }
   ],
   "source": [
    "corpus[1]"
   ]
  },
  {
   "cell_type": "code",
   "execution_count": 44,
   "metadata": {},
   "outputs": [
    {
     "data": {
      "text/plain": [
       "[(0, 0.010312753),\n",
       " (1, 0.010149187),\n",
       " (2, 0.010219812),\n",
       " (3, 0.7818724),\n",
       " (4, 0.18744586)]"
      ]
     },
     "execution_count": 44,
     "metadata": {},
     "output_type": "execute_result"
    }
   ],
   "source": [
    "ldamodel.get_document_topics(corpus[1])"
   ]
  },
  {
   "cell_type": "code",
   "execution_count": 45,
   "metadata": {},
   "outputs": [
    {
     "data": {
      "text/plain": [
       "['trumpshutdown',\n",
       " 'federal',\n",
       " 'worker',\n",
       " 'safety',\n",
       " 'delay',\n",
       " 'airport',\n",
       " 'return',\n",
       " 'process',\n",
       " 'delay',\n",
       " 'refund',\n",
       " 'check',\n",
       " 'senior',\n",
       " 'veteran',\n",
       " 'apply',\n",
       " 'assistance',\n",
       " 'process',\n",
       " 'delay',\n",
       " 'check',\n",
       " 'endshutdown']"
      ]
     },
     "execution_count": 45,
     "metadata": {},
     "output_type": "execute_result"
    }
   ],
   "source": [
    "text_data[1]"
   ]
  },
  {
   "cell_type": "code",
   "execution_count": 46,
   "metadata": {},
   "outputs": [
    {
     "data": {
      "text/plain": [
       "8209"
      ]
     },
     "execution_count": 46,
     "metadata": {},
     "output_type": "execute_result"
    }
   ],
   "source": [
    "len(text_data)"
   ]
  },
  {
   "cell_type": "code",
   "execution_count": 47,
   "metadata": {},
   "outputs": [
    {
     "data": {
      "text/plain": [
       "'#TrumpShutdown not just about federal workers, it’s about all of us.  If we fly, safety &amp; delays at airports; if we file tax return, no one to process &amp; delays in refund check; if a Senior or veteran applying for assistance,  no one to process &amp; delay in checks.  #EndShutdown https://t.co/g16aYNihPU'"
      ]
     },
     "execution_count": 47,
     "metadata": {},
     "output_type": "execute_result"
    }
   ],
   "source": [
    "tweetsDF.loc[1,\"full_text\"]"
   ]
  },
  {
   "cell_type": "code",
   "execution_count": null,
   "metadata": {},
   "outputs": [],
   "source": []
  },
  {
   "cell_type": "code",
   "execution_count": null,
   "metadata": {},
   "outputs": [],
   "source": []
  },
  {
   "cell_type": "code",
   "execution_count": 14,
   "metadata": {},
   "outputs": [
    {
     "name": "stdout",
     "output_type": "stream",
     "text": [
      "[(10, 1), (35, 1), (63, 1)]\n",
      "[(0, 0.050020237), (1, 0.050021715), (2, 0.5497505), (3, 0.051872116), (4, 0.2983354)]\n"
     ]
    }
   ],
   "source": [
    "new_doc = 'Practical Bayesian Optimization of Machine Learning Algorithms'\n",
    "new_doc = prepare_text_for_lda(new_doc)\n",
    "new_doc_bow = dictionary.doc2bow(new_doc)\n",
    "print(new_doc_bow)\n",
    "print(ldamodel.get_document_topics(new_doc_bow))"
   ]
  },
  {
   "cell_type": "code",
   "execution_count": 15,
   "metadata": {},
   "outputs": [
    {
     "name": "stdout",
     "output_type": "stream",
     "text": [
      "(0, '0.031*\"compensation\" + 0.018*\"frame\" + 0.018*\"motion\" + 0.018*\"decoding\"')\n",
      "(1, '0.035*\"algorithm\" + 0.035*\"sparql\" + 0.020*\"search\" + 0.020*\"database\"')\n",
      "(2, '0.023*\"circuit\" + 0.023*\"base\" + 0.023*\"threat\" + 0.023*\"eclipse\"')\n"
     ]
    }
   ],
   "source": [
    "ldamodel = gensim.models.ldamodel.LdaModel(corpus, num_topics = 3, id2word=dictionary, passes=15)\n",
    "ldamodel.save('LDAModels/model3.gensim')\n",
    "topics = ldamodel.print_topics(num_words=4)\n",
    "for topic in topics:\n",
    "    print(topic)"
   ]
  },
  {
   "cell_type": "code",
   "execution_count": 16,
   "metadata": {},
   "outputs": [
    {
     "name": "stdout",
     "output_type": "stream",
     "text": [
      "(0, '0.071*\"empirical\" + 0.071*\"available\" + 0.071*\"measuring\" + 0.071*\"evaluation\"')\n",
      "(1, '0.073*\"base\" + 0.038*\"machine\" + 0.038*\"propagation\" + 0.038*\"energy\"')\n",
      "(2, '0.051*\"database\" + 0.051*\"algorithm\" + 0.051*\"large\" + 0.051*\"association\"')\n",
      "(3, '0.071*\"search\" + 0.071*\"joint\" + 0.071*\"clickthroughs\" + 0.071*\"relevance\"')\n",
      "(4, '0.047*\"h.264/avc\" + 0.047*\"frame\" + 0.047*\"reference\" + 0.047*\"scheme\"')\n",
      "(5, '0.075*\"engineering\" + 0.075*\"visual\" + 0.075*\"board\" + 0.075*\"software\"')\n",
      "(6, '0.037*\"dynamic\" + 0.037*\"gothic\" + 0.037*\"content\" + 0.037*\"video\"')\n",
      "(7, '0.071*\"compensation\" + 0.071*\"circuit\" + 0.071*\"jitter\" + 0.071*\"estimation\"')\n",
      "(8, '0.085*\"sparql\" + 0.045*\"eclipse\" + 0.045*\"discipline\" + 0.045*\"network\"')\n",
      "(9, '0.010*\"search\" + 0.010*\"algorithm\" + 0.010*\"query\" + 0.010*\"sparql\"')\n"
     ]
    }
   ],
   "source": [
    "ldamodel = gensim.models.ldamodel.LdaModel(corpus, num_topics = 10, id2word=dictionary, passes=15)\n",
    "ldamodel.save('LDAModels/model10.gensim')\n",
    "topics = ldamodel.print_topics(num_words=4)\n",
    "for topic in topics:\n",
    "    print(topic)"
   ]
  },
  {
   "cell_type": "markdown",
   "metadata": {},
   "source": [
    "### pyLDAvis"
   ]
  },
  {
   "cell_type": "code",
   "execution_count": 17,
   "metadata": {},
   "outputs": [],
   "source": [
    "dictionary = gensim.corpora.Dictionary.load('dictionary.gensim')\n",
    "corpus = pickle.load(open('data/corpus.pkl', 'rb'))\n",
    "lda = gensim.models.ldamodel.LdaModel.load('LDAModels/model5.gensim')"
   ]
  },
  {
   "cell_type": "code",
   "execution_count": 19,
   "metadata": {},
   "outputs": [
    {
     "name": "stderr",
     "output_type": "stream",
     "text": [
      "exception calling callback for <Future at 0x126e1b240 state=finished raised TerminatedWorkerError>\n",
      "Traceback (most recent call last):\n",
      "  File \"/Users/daveyproctor/.virtualenvs/PolySpeech/lib/python3.7/site-packages/joblib/externals/loky/_base.py\", line 625, in _invoke_callbacks\n",
      "    callback(self)\n",
      "  File \"/Users/daveyproctor/.virtualenvs/PolySpeech/lib/python3.7/site-packages/joblib/parallel.py\", line 309, in __call__\n",
      "    self.parallel.dispatch_next()\n",
      "  File \"/Users/daveyproctor/.virtualenvs/PolySpeech/lib/python3.7/site-packages/joblib/parallel.py\", line 731, in dispatch_next\n",
      "    if not self.dispatch_one_batch(self._original_iterator):\n",
      "  File \"/Users/daveyproctor/.virtualenvs/PolySpeech/lib/python3.7/site-packages/joblib/parallel.py\", line 759, in dispatch_one_batch\n",
      "    self._dispatch(tasks)\n",
      "  File \"/Users/daveyproctor/.virtualenvs/PolySpeech/lib/python3.7/site-packages/joblib/parallel.py\", line 716, in _dispatch\n",
      "    job = self._backend.apply_async(batch, callback=cb)\n",
      "  File \"/Users/daveyproctor/.virtualenvs/PolySpeech/lib/python3.7/site-packages/joblib/_parallel_backends.py\", line 510, in apply_async\n",
      "    future = self._workers.submit(SafeFunction(func))\n",
      "  File \"/Users/daveyproctor/.virtualenvs/PolySpeech/lib/python3.7/site-packages/joblib/externals/loky/reusable_executor.py\", line 151, in submit\n",
      "    fn, *args, **kwargs)\n",
      "  File \"/Users/daveyproctor/.virtualenvs/PolySpeech/lib/python3.7/site-packages/joblib/externals/loky/process_executor.py\", line 1022, in submit\n",
      "    raise self._flags.broken\n",
      "joblib.externals.loky.process_executor.TerminatedWorkerError: A worker process managed by the executor was unexpectedly terminated. This could be caused by a segmentation fault while calling the function or by an excessive memory usage causing the Operating System to kill the worker. The exit codes of the workers are {EXIT(1)}\n",
      "/Users/daveyproctor/.virtualenvs/PolySpeech/lib/python3.7/site-packages/joblib/externals/loky/backend/semaphore_tracker.py:74: UserWarning: semaphore_tracker: process died unexpectedly, relaunching.  Some semaphores might leak.\n",
      "  warnings.warn('semaphore_tracker: process died unexpectedly, '\n"
     ]
    },
    {
     "ename": "TerminatedWorkerError",
     "evalue": "A worker process managed by the executor was unexpectedly terminated. This could be caused by a segmentation fault while calling the function or by an excessive memory usage causing the Operating System to kill the worker. The exit codes of the workers are {EXIT(1)}",
     "output_type": "error",
     "traceback": [
      "\u001b[0;31m---------------------------------------------------------------------------\u001b[0m",
      "\u001b[0;31mTerminatedWorkerError\u001b[0m                     Traceback (most recent call last)",
      "\u001b[0;32m<ipython-input-19-978c9a209cef>\u001b[0m in \u001b[0;36m<module>\u001b[0;34m\u001b[0m\n\u001b[1;32m      1\u001b[0m \u001b[0;32mimport\u001b[0m \u001b[0mpyLDAvis\u001b[0m\u001b[0;34m.\u001b[0m\u001b[0mgensim\u001b[0m\u001b[0;34m\u001b[0m\u001b[0;34m\u001b[0m\u001b[0m\n\u001b[0;32m----> 2\u001b[0;31m \u001b[0mlda_display\u001b[0m \u001b[0;34m=\u001b[0m \u001b[0mpyLDAvis\u001b[0m\u001b[0;34m.\u001b[0m\u001b[0mgensim\u001b[0m\u001b[0;34m.\u001b[0m\u001b[0mprepare\u001b[0m\u001b[0;34m(\u001b[0m\u001b[0mlda\u001b[0m\u001b[0;34m,\u001b[0m \u001b[0mcorpus\u001b[0m\u001b[0;34m,\u001b[0m \u001b[0mdictionary\u001b[0m\u001b[0;34m,\u001b[0m \u001b[0msort_topics\u001b[0m\u001b[0;34m=\u001b[0m\u001b[0;32mFalse\u001b[0m\u001b[0;34m)\u001b[0m\u001b[0;34m\u001b[0m\u001b[0;34m\u001b[0m\u001b[0m\n\u001b[0m\u001b[1;32m      3\u001b[0m \u001b[0mpyLDAvis\u001b[0m\u001b[0;34m.\u001b[0m\u001b[0mdisplay\u001b[0m\u001b[0;34m(\u001b[0m\u001b[0mlda_display\u001b[0m\u001b[0;34m)\u001b[0m\u001b[0;34m\u001b[0m\u001b[0;34m\u001b[0m\u001b[0m\n",
      "\u001b[0;32m~/.virtualenvs/PolySpeech/lib/python3.7/site-packages/pyLDAvis/gensim.py\u001b[0m in \u001b[0;36mprepare\u001b[0;34m(topic_model, corpus, dictionary, doc_topic_dist, **kwargs)\u001b[0m\n\u001b[1;32m    117\u001b[0m     \"\"\"\n\u001b[1;32m    118\u001b[0m     \u001b[0mopts\u001b[0m \u001b[0;34m=\u001b[0m \u001b[0mfp\u001b[0m\u001b[0;34m.\u001b[0m\u001b[0mmerge\u001b[0m\u001b[0;34m(\u001b[0m\u001b[0m_extract_data\u001b[0m\u001b[0;34m(\u001b[0m\u001b[0mtopic_model\u001b[0m\u001b[0;34m,\u001b[0m \u001b[0mcorpus\u001b[0m\u001b[0;34m,\u001b[0m \u001b[0mdictionary\u001b[0m\u001b[0;34m,\u001b[0m \u001b[0mdoc_topic_dist\u001b[0m\u001b[0;34m)\u001b[0m\u001b[0;34m,\u001b[0m \u001b[0mkwargs\u001b[0m\u001b[0;34m)\u001b[0m\u001b[0;34m\u001b[0m\u001b[0;34m\u001b[0m\u001b[0m\n\u001b[0;32m--> 119\u001b[0;31m     \u001b[0;32mreturn\u001b[0m \u001b[0mvis_prepare\u001b[0m\u001b[0;34m(\u001b[0m\u001b[0;34m**\u001b[0m\u001b[0mopts\u001b[0m\u001b[0;34m)\u001b[0m\u001b[0;34m\u001b[0m\u001b[0;34m\u001b[0m\u001b[0m\n\u001b[0m",
      "\u001b[0;32m~/.virtualenvs/PolySpeech/lib/python3.7/site-packages/pyLDAvis/_prepare.py\u001b[0m in \u001b[0;36mprepare\u001b[0;34m(topic_term_dists, doc_topic_dists, doc_lengths, vocab, term_frequency, R, lambda_step, mds, n_jobs, plot_opts, sort_topics)\u001b[0m\n\u001b[1;32m    396\u001b[0m    \u001b[0mterm_frequency\u001b[0m \u001b[0;34m=\u001b[0m \u001b[0mnp\u001b[0m\u001b[0;34m.\u001b[0m\u001b[0msum\u001b[0m\u001b[0;34m(\u001b[0m\u001b[0mterm_topic_freq\u001b[0m\u001b[0;34m,\u001b[0m \u001b[0maxis\u001b[0m\u001b[0;34m=\u001b[0m\u001b[0;36m0\u001b[0m\u001b[0;34m)\u001b[0m\u001b[0;34m\u001b[0m\u001b[0;34m\u001b[0m\u001b[0m\n\u001b[1;32m    397\u001b[0m \u001b[0;34m\u001b[0m\u001b[0m\n\u001b[0;32m--> 398\u001b[0;31m    \u001b[0mtopic_info\u001b[0m         \u001b[0;34m=\u001b[0m \u001b[0m_topic_info\u001b[0m\u001b[0;34m(\u001b[0m\u001b[0mtopic_term_dists\u001b[0m\u001b[0;34m,\u001b[0m \u001b[0mtopic_proportion\u001b[0m\u001b[0;34m,\u001b[0m \u001b[0mterm_frequency\u001b[0m\u001b[0;34m,\u001b[0m \u001b[0mterm_topic_freq\u001b[0m\u001b[0;34m,\u001b[0m \u001b[0mvocab\u001b[0m\u001b[0;34m,\u001b[0m \u001b[0mlambda_step\u001b[0m\u001b[0;34m,\u001b[0m \u001b[0mR\u001b[0m\u001b[0;34m,\u001b[0m \u001b[0mn_jobs\u001b[0m\u001b[0;34m)\u001b[0m\u001b[0;34m\u001b[0m\u001b[0;34m\u001b[0m\u001b[0m\n\u001b[0m\u001b[1;32m    399\u001b[0m    \u001b[0mtoken_table\u001b[0m        \u001b[0;34m=\u001b[0m \u001b[0m_token_table\u001b[0m\u001b[0;34m(\u001b[0m\u001b[0mtopic_info\u001b[0m\u001b[0;34m,\u001b[0m \u001b[0mterm_topic_freq\u001b[0m\u001b[0;34m,\u001b[0m \u001b[0mvocab\u001b[0m\u001b[0;34m,\u001b[0m \u001b[0mterm_frequency\u001b[0m\u001b[0;34m)\u001b[0m\u001b[0;34m\u001b[0m\u001b[0;34m\u001b[0m\u001b[0m\n\u001b[1;32m    400\u001b[0m    \u001b[0mtopic_coordinates\u001b[0m \u001b[0;34m=\u001b[0m \u001b[0m_topic_coordinates\u001b[0m\u001b[0;34m(\u001b[0m\u001b[0mmds\u001b[0m\u001b[0;34m,\u001b[0m \u001b[0mtopic_term_dists\u001b[0m\u001b[0;34m,\u001b[0m \u001b[0mtopic_proportion\u001b[0m\u001b[0;34m)\u001b[0m\u001b[0;34m\u001b[0m\u001b[0;34m\u001b[0m\u001b[0m\n",
      "\u001b[0;32m~/.virtualenvs/PolySpeech/lib/python3.7/site-packages/pyLDAvis/_prepare.py\u001b[0m in \u001b[0;36m_topic_info\u001b[0;34m(topic_term_dists, topic_proportion, term_frequency, term_topic_freq, vocab, lambda_step, R, n_jobs)\u001b[0m\n\u001b[1;32m    253\u001b[0m \u001b[0;34m\u001b[0m\u001b[0m\n\u001b[1;32m    254\u001b[0m    top_terms = pd.concat(Parallel(n_jobs=n_jobs)(delayed(_find_relevance_chunks)(log_ttd, log_lift, R, ls) \\\n\u001b[0;32m--> 255\u001b[0;31m                                                  for ls in _job_chunks(lambda_seq, n_jobs)))\n\u001b[0m\u001b[1;32m    256\u001b[0m    \u001b[0mtopic_dfs\u001b[0m \u001b[0;34m=\u001b[0m \u001b[0mmap\u001b[0m\u001b[0;34m(\u001b[0m\u001b[0mtopic_top_term_df\u001b[0m\u001b[0;34m,\u001b[0m \u001b[0menumerate\u001b[0m\u001b[0;34m(\u001b[0m\u001b[0mtop_terms\u001b[0m\u001b[0;34m.\u001b[0m\u001b[0mT\u001b[0m\u001b[0;34m.\u001b[0m\u001b[0miterrows\u001b[0m\u001b[0;34m(\u001b[0m\u001b[0;34m)\u001b[0m\u001b[0;34m,\u001b[0m \u001b[0;36m1\u001b[0m\u001b[0;34m)\u001b[0m\u001b[0;34m)\u001b[0m\u001b[0;34m\u001b[0m\u001b[0;34m\u001b[0m\u001b[0m\n\u001b[1;32m    257\u001b[0m    \u001b[0;32mreturn\u001b[0m \u001b[0mpd\u001b[0m\u001b[0;34m.\u001b[0m\u001b[0mconcat\u001b[0m\u001b[0;34m(\u001b[0m\u001b[0;34m[\u001b[0m\u001b[0mdefault_term_info\u001b[0m\u001b[0;34m]\u001b[0m \u001b[0;34m+\u001b[0m \u001b[0mlist\u001b[0m\u001b[0;34m(\u001b[0m\u001b[0mtopic_dfs\u001b[0m\u001b[0;34m)\u001b[0m\u001b[0;34m)\u001b[0m\u001b[0;34m\u001b[0m\u001b[0;34m\u001b[0m\u001b[0m\n",
      "\u001b[0;32m~/.virtualenvs/PolySpeech/lib/python3.7/site-packages/joblib/parallel.py\u001b[0m in \u001b[0;36m__call__\u001b[0;34m(self, iterable)\u001b[0m\n\u001b[1;32m    932\u001b[0m \u001b[0;34m\u001b[0m\u001b[0m\n\u001b[1;32m    933\u001b[0m             \u001b[0;32mwith\u001b[0m \u001b[0mself\u001b[0m\u001b[0;34m.\u001b[0m\u001b[0m_backend\u001b[0m\u001b[0;34m.\u001b[0m\u001b[0mretrieval_context\u001b[0m\u001b[0;34m(\u001b[0m\u001b[0;34m)\u001b[0m\u001b[0;34m:\u001b[0m\u001b[0;34m\u001b[0m\u001b[0;34m\u001b[0m\u001b[0m\n\u001b[0;32m--> 934\u001b[0;31m                 \u001b[0mself\u001b[0m\u001b[0;34m.\u001b[0m\u001b[0mretrieve\u001b[0m\u001b[0;34m(\u001b[0m\u001b[0;34m)\u001b[0m\u001b[0;34m\u001b[0m\u001b[0;34m\u001b[0m\u001b[0m\n\u001b[0m\u001b[1;32m    935\u001b[0m             \u001b[0;31m# Make sure that we get a last message telling us we are done\u001b[0m\u001b[0;34m\u001b[0m\u001b[0;34m\u001b[0m\u001b[0;34m\u001b[0m\u001b[0m\n\u001b[1;32m    936\u001b[0m             \u001b[0melapsed_time\u001b[0m \u001b[0;34m=\u001b[0m \u001b[0mtime\u001b[0m\u001b[0;34m.\u001b[0m\u001b[0mtime\u001b[0m\u001b[0;34m(\u001b[0m\u001b[0;34m)\u001b[0m \u001b[0;34m-\u001b[0m \u001b[0mself\u001b[0m\u001b[0;34m.\u001b[0m\u001b[0m_start_time\u001b[0m\u001b[0;34m\u001b[0m\u001b[0;34m\u001b[0m\u001b[0m\n",
      "\u001b[0;32m~/.virtualenvs/PolySpeech/lib/python3.7/site-packages/joblib/parallel.py\u001b[0m in \u001b[0;36mretrieve\u001b[0;34m(self)\u001b[0m\n\u001b[1;32m    831\u001b[0m             \u001b[0;32mtry\u001b[0m\u001b[0;34m:\u001b[0m\u001b[0;34m\u001b[0m\u001b[0;34m\u001b[0m\u001b[0m\n\u001b[1;32m    832\u001b[0m                 \u001b[0;32mif\u001b[0m \u001b[0mgetattr\u001b[0m\u001b[0;34m(\u001b[0m\u001b[0mself\u001b[0m\u001b[0;34m.\u001b[0m\u001b[0m_backend\u001b[0m\u001b[0;34m,\u001b[0m \u001b[0;34m'supports_timeout'\u001b[0m\u001b[0;34m,\u001b[0m \u001b[0;32mFalse\u001b[0m\u001b[0;34m)\u001b[0m\u001b[0;34m:\u001b[0m\u001b[0;34m\u001b[0m\u001b[0;34m\u001b[0m\u001b[0m\n\u001b[0;32m--> 833\u001b[0;31m                     \u001b[0mself\u001b[0m\u001b[0;34m.\u001b[0m\u001b[0m_output\u001b[0m\u001b[0;34m.\u001b[0m\u001b[0mextend\u001b[0m\u001b[0;34m(\u001b[0m\u001b[0mjob\u001b[0m\u001b[0;34m.\u001b[0m\u001b[0mget\u001b[0m\u001b[0;34m(\u001b[0m\u001b[0mtimeout\u001b[0m\u001b[0;34m=\u001b[0m\u001b[0mself\u001b[0m\u001b[0;34m.\u001b[0m\u001b[0mtimeout\u001b[0m\u001b[0;34m)\u001b[0m\u001b[0;34m)\u001b[0m\u001b[0;34m\u001b[0m\u001b[0;34m\u001b[0m\u001b[0m\n\u001b[0m\u001b[1;32m    834\u001b[0m                 \u001b[0;32melse\u001b[0m\u001b[0;34m:\u001b[0m\u001b[0;34m\u001b[0m\u001b[0;34m\u001b[0m\u001b[0m\n\u001b[1;32m    835\u001b[0m                     \u001b[0mself\u001b[0m\u001b[0;34m.\u001b[0m\u001b[0m_output\u001b[0m\u001b[0;34m.\u001b[0m\u001b[0mextend\u001b[0m\u001b[0;34m(\u001b[0m\u001b[0mjob\u001b[0m\u001b[0;34m.\u001b[0m\u001b[0mget\u001b[0m\u001b[0;34m(\u001b[0m\u001b[0;34m)\u001b[0m\u001b[0;34m)\u001b[0m\u001b[0;34m\u001b[0m\u001b[0;34m\u001b[0m\u001b[0m\n",
      "\u001b[0;32m~/.virtualenvs/PolySpeech/lib/python3.7/site-packages/joblib/_parallel_backends.py\u001b[0m in \u001b[0;36mwrap_future_result\u001b[0;34m(future, timeout)\u001b[0m\n\u001b[1;32m    519\u001b[0m         AsyncResults.get from multiprocessing.\"\"\"\n\u001b[1;32m    520\u001b[0m         \u001b[0;32mtry\u001b[0m\u001b[0;34m:\u001b[0m\u001b[0;34m\u001b[0m\u001b[0;34m\u001b[0m\u001b[0m\n\u001b[0;32m--> 521\u001b[0;31m             \u001b[0;32mreturn\u001b[0m \u001b[0mfuture\u001b[0m\u001b[0;34m.\u001b[0m\u001b[0mresult\u001b[0m\u001b[0;34m(\u001b[0m\u001b[0mtimeout\u001b[0m\u001b[0;34m=\u001b[0m\u001b[0mtimeout\u001b[0m\u001b[0;34m)\u001b[0m\u001b[0;34m\u001b[0m\u001b[0;34m\u001b[0m\u001b[0m\n\u001b[0m\u001b[1;32m    522\u001b[0m         \u001b[0;32mexcept\u001b[0m \u001b[0mLokyTimeoutError\u001b[0m\u001b[0;34m:\u001b[0m\u001b[0;34m\u001b[0m\u001b[0;34m\u001b[0m\u001b[0m\n\u001b[1;32m    523\u001b[0m             \u001b[0;32mraise\u001b[0m \u001b[0mTimeoutError\u001b[0m\u001b[0;34m(\u001b[0m\u001b[0;34m)\u001b[0m\u001b[0;34m\u001b[0m\u001b[0;34m\u001b[0m\u001b[0m\n",
      "\u001b[0;32m/usr/local/Cellar/python/3.7.2/Frameworks/Python.framework/Versions/3.7/lib/python3.7/concurrent/futures/_base.py\u001b[0m in \u001b[0;36mresult\u001b[0;34m(self, timeout)\u001b[0m\n\u001b[1;32m    430\u001b[0m                 \u001b[0;32mraise\u001b[0m \u001b[0mCancelledError\u001b[0m\u001b[0;34m(\u001b[0m\u001b[0;34m)\u001b[0m\u001b[0;34m\u001b[0m\u001b[0;34m\u001b[0m\u001b[0m\n\u001b[1;32m    431\u001b[0m             \u001b[0;32melif\u001b[0m \u001b[0mself\u001b[0m\u001b[0;34m.\u001b[0m\u001b[0m_state\u001b[0m \u001b[0;34m==\u001b[0m \u001b[0mFINISHED\u001b[0m\u001b[0;34m:\u001b[0m\u001b[0;34m\u001b[0m\u001b[0;34m\u001b[0m\u001b[0m\n\u001b[0;32m--> 432\u001b[0;31m                 \u001b[0;32mreturn\u001b[0m \u001b[0mself\u001b[0m\u001b[0;34m.\u001b[0m\u001b[0m__get_result\u001b[0m\u001b[0;34m(\u001b[0m\u001b[0;34m)\u001b[0m\u001b[0;34m\u001b[0m\u001b[0;34m\u001b[0m\u001b[0m\n\u001b[0m\u001b[1;32m    433\u001b[0m             \u001b[0;32melse\u001b[0m\u001b[0;34m:\u001b[0m\u001b[0;34m\u001b[0m\u001b[0;34m\u001b[0m\u001b[0m\n\u001b[1;32m    434\u001b[0m                 \u001b[0;32mraise\u001b[0m \u001b[0mTimeoutError\u001b[0m\u001b[0;34m(\u001b[0m\u001b[0;34m)\u001b[0m\u001b[0;34m\u001b[0m\u001b[0;34m\u001b[0m\u001b[0m\n",
      "\u001b[0;32m/usr/local/Cellar/python/3.7.2/Frameworks/Python.framework/Versions/3.7/lib/python3.7/concurrent/futures/_base.py\u001b[0m in \u001b[0;36m__get_result\u001b[0;34m(self)\u001b[0m\n\u001b[1;32m    382\u001b[0m     \u001b[0;32mdef\u001b[0m \u001b[0m__get_result\u001b[0m\u001b[0;34m(\u001b[0m\u001b[0mself\u001b[0m\u001b[0;34m)\u001b[0m\u001b[0;34m:\u001b[0m\u001b[0;34m\u001b[0m\u001b[0;34m\u001b[0m\u001b[0m\n\u001b[1;32m    383\u001b[0m         \u001b[0;32mif\u001b[0m \u001b[0mself\u001b[0m\u001b[0;34m.\u001b[0m\u001b[0m_exception\u001b[0m\u001b[0;34m:\u001b[0m\u001b[0;34m\u001b[0m\u001b[0;34m\u001b[0m\u001b[0m\n\u001b[0;32m--> 384\u001b[0;31m             \u001b[0;32mraise\u001b[0m \u001b[0mself\u001b[0m\u001b[0;34m.\u001b[0m\u001b[0m_exception\u001b[0m\u001b[0;34m\u001b[0m\u001b[0;34m\u001b[0m\u001b[0m\n\u001b[0m\u001b[1;32m    385\u001b[0m         \u001b[0;32melse\u001b[0m\u001b[0;34m:\u001b[0m\u001b[0;34m\u001b[0m\u001b[0;34m\u001b[0m\u001b[0m\n\u001b[1;32m    386\u001b[0m             \u001b[0;32mreturn\u001b[0m \u001b[0mself\u001b[0m\u001b[0;34m.\u001b[0m\u001b[0m_result\u001b[0m\u001b[0;34m\u001b[0m\u001b[0;34m\u001b[0m\u001b[0m\n",
      "\u001b[0;32m~/.virtualenvs/PolySpeech/lib/python3.7/site-packages/joblib/externals/loky/_base.py\u001b[0m in \u001b[0;36m_invoke_callbacks\u001b[0;34m(self)\u001b[0m\n\u001b[1;32m    623\u001b[0m         \u001b[0;32mfor\u001b[0m \u001b[0mcallback\u001b[0m \u001b[0;32min\u001b[0m \u001b[0mself\u001b[0m\u001b[0;34m.\u001b[0m\u001b[0m_done_callbacks\u001b[0m\u001b[0;34m:\u001b[0m\u001b[0;34m\u001b[0m\u001b[0;34m\u001b[0m\u001b[0m\n\u001b[1;32m    624\u001b[0m             \u001b[0;32mtry\u001b[0m\u001b[0;34m:\u001b[0m\u001b[0;34m\u001b[0m\u001b[0;34m\u001b[0m\u001b[0m\n\u001b[0;32m--> 625\u001b[0;31m                 \u001b[0mcallback\u001b[0m\u001b[0;34m(\u001b[0m\u001b[0mself\u001b[0m\u001b[0;34m)\u001b[0m\u001b[0;34m\u001b[0m\u001b[0;34m\u001b[0m\u001b[0m\n\u001b[0m\u001b[1;32m    626\u001b[0m             \u001b[0;32mexcept\u001b[0m \u001b[0mBaseException\u001b[0m\u001b[0;34m:\u001b[0m\u001b[0;34m\u001b[0m\u001b[0;34m\u001b[0m\u001b[0m\n\u001b[1;32m    627\u001b[0m                 \u001b[0mLOGGER\u001b[0m\u001b[0;34m.\u001b[0m\u001b[0mexception\u001b[0m\u001b[0;34m(\u001b[0m\u001b[0;34m'exception calling callback for %r'\u001b[0m\u001b[0;34m,\u001b[0m \u001b[0mself\u001b[0m\u001b[0;34m)\u001b[0m\u001b[0;34m\u001b[0m\u001b[0;34m\u001b[0m\u001b[0m\n",
      "\u001b[0;32m~/.virtualenvs/PolySpeech/lib/python3.7/site-packages/joblib/parallel.py\u001b[0m in \u001b[0;36m__call__\u001b[0;34m(self, out)\u001b[0m\n\u001b[1;32m    307\u001b[0m         \u001b[0;32mwith\u001b[0m \u001b[0mself\u001b[0m\u001b[0;34m.\u001b[0m\u001b[0mparallel\u001b[0m\u001b[0;34m.\u001b[0m\u001b[0m_lock\u001b[0m\u001b[0;34m:\u001b[0m\u001b[0;34m\u001b[0m\u001b[0;34m\u001b[0m\u001b[0m\n\u001b[1;32m    308\u001b[0m             \u001b[0;32mif\u001b[0m \u001b[0mself\u001b[0m\u001b[0;34m.\u001b[0m\u001b[0mparallel\u001b[0m\u001b[0;34m.\u001b[0m\u001b[0m_original_iterator\u001b[0m \u001b[0;32mis\u001b[0m \u001b[0;32mnot\u001b[0m \u001b[0;32mNone\u001b[0m\u001b[0;34m:\u001b[0m\u001b[0;34m\u001b[0m\u001b[0;34m\u001b[0m\u001b[0m\n\u001b[0;32m--> 309\u001b[0;31m                 \u001b[0mself\u001b[0m\u001b[0;34m.\u001b[0m\u001b[0mparallel\u001b[0m\u001b[0;34m.\u001b[0m\u001b[0mdispatch_next\u001b[0m\u001b[0;34m(\u001b[0m\u001b[0;34m)\u001b[0m\u001b[0;34m\u001b[0m\u001b[0;34m\u001b[0m\u001b[0m\n\u001b[0m\u001b[1;32m    310\u001b[0m \u001b[0;34m\u001b[0m\u001b[0m\n\u001b[1;32m    311\u001b[0m \u001b[0;34m\u001b[0m\u001b[0m\n",
      "\u001b[0;32m~/.virtualenvs/PolySpeech/lib/python3.7/site-packages/joblib/parallel.py\u001b[0m in \u001b[0;36mdispatch_next\u001b[0;34m(self)\u001b[0m\n\u001b[1;32m    729\u001b[0m \u001b[0;34m\u001b[0m\u001b[0m\n\u001b[1;32m    730\u001b[0m         \"\"\"\n\u001b[0;32m--> 731\u001b[0;31m         \u001b[0;32mif\u001b[0m \u001b[0;32mnot\u001b[0m \u001b[0mself\u001b[0m\u001b[0;34m.\u001b[0m\u001b[0mdispatch_one_batch\u001b[0m\u001b[0;34m(\u001b[0m\u001b[0mself\u001b[0m\u001b[0;34m.\u001b[0m\u001b[0m_original_iterator\u001b[0m\u001b[0;34m)\u001b[0m\u001b[0;34m:\u001b[0m\u001b[0;34m\u001b[0m\u001b[0;34m\u001b[0m\u001b[0m\n\u001b[0m\u001b[1;32m    732\u001b[0m             \u001b[0mself\u001b[0m\u001b[0;34m.\u001b[0m\u001b[0m_iterating\u001b[0m \u001b[0;34m=\u001b[0m \u001b[0;32mFalse\u001b[0m\u001b[0;34m\u001b[0m\u001b[0;34m\u001b[0m\u001b[0m\n\u001b[1;32m    733\u001b[0m             \u001b[0mself\u001b[0m\u001b[0;34m.\u001b[0m\u001b[0m_original_iterator\u001b[0m \u001b[0;34m=\u001b[0m \u001b[0;32mNone\u001b[0m\u001b[0;34m\u001b[0m\u001b[0;34m\u001b[0m\u001b[0m\n",
      "\u001b[0;32m~/.virtualenvs/PolySpeech/lib/python3.7/site-packages/joblib/parallel.py\u001b[0m in \u001b[0;36mdispatch_one_batch\u001b[0;34m(self, iterator)\u001b[0m\n\u001b[1;32m    757\u001b[0m                 \u001b[0;32mreturn\u001b[0m \u001b[0;32mFalse\u001b[0m\u001b[0;34m\u001b[0m\u001b[0;34m\u001b[0m\u001b[0m\n\u001b[1;32m    758\u001b[0m             \u001b[0;32melse\u001b[0m\u001b[0;34m:\u001b[0m\u001b[0;34m\u001b[0m\u001b[0;34m\u001b[0m\u001b[0m\n\u001b[0;32m--> 759\u001b[0;31m                 \u001b[0mself\u001b[0m\u001b[0;34m.\u001b[0m\u001b[0m_dispatch\u001b[0m\u001b[0;34m(\u001b[0m\u001b[0mtasks\u001b[0m\u001b[0;34m)\u001b[0m\u001b[0;34m\u001b[0m\u001b[0;34m\u001b[0m\u001b[0m\n\u001b[0m\u001b[1;32m    760\u001b[0m                 \u001b[0;32mreturn\u001b[0m \u001b[0;32mTrue\u001b[0m\u001b[0;34m\u001b[0m\u001b[0;34m\u001b[0m\u001b[0m\n\u001b[1;32m    761\u001b[0m \u001b[0;34m\u001b[0m\u001b[0m\n",
      "\u001b[0;32m~/.virtualenvs/PolySpeech/lib/python3.7/site-packages/joblib/parallel.py\u001b[0m in \u001b[0;36m_dispatch\u001b[0;34m(self, batch)\u001b[0m\n\u001b[1;32m    714\u001b[0m         \u001b[0;32mwith\u001b[0m \u001b[0mself\u001b[0m\u001b[0;34m.\u001b[0m\u001b[0m_lock\u001b[0m\u001b[0;34m:\u001b[0m\u001b[0;34m\u001b[0m\u001b[0;34m\u001b[0m\u001b[0m\n\u001b[1;32m    715\u001b[0m             \u001b[0mjob_idx\u001b[0m \u001b[0;34m=\u001b[0m \u001b[0mlen\u001b[0m\u001b[0;34m(\u001b[0m\u001b[0mself\u001b[0m\u001b[0;34m.\u001b[0m\u001b[0m_jobs\u001b[0m\u001b[0;34m)\u001b[0m\u001b[0;34m\u001b[0m\u001b[0;34m\u001b[0m\u001b[0m\n\u001b[0;32m--> 716\u001b[0;31m             \u001b[0mjob\u001b[0m \u001b[0;34m=\u001b[0m \u001b[0mself\u001b[0m\u001b[0;34m.\u001b[0m\u001b[0m_backend\u001b[0m\u001b[0;34m.\u001b[0m\u001b[0mapply_async\u001b[0m\u001b[0;34m(\u001b[0m\u001b[0mbatch\u001b[0m\u001b[0;34m,\u001b[0m \u001b[0mcallback\u001b[0m\u001b[0;34m=\u001b[0m\u001b[0mcb\u001b[0m\u001b[0;34m)\u001b[0m\u001b[0;34m\u001b[0m\u001b[0;34m\u001b[0m\u001b[0m\n\u001b[0m\u001b[1;32m    717\u001b[0m             \u001b[0;31m# A job can complete so quickly than its callback is\u001b[0m\u001b[0;34m\u001b[0m\u001b[0;34m\u001b[0m\u001b[0;34m\u001b[0m\u001b[0m\n\u001b[1;32m    718\u001b[0m             \u001b[0;31m# called before we get here, causing self._jobs to\u001b[0m\u001b[0;34m\u001b[0m\u001b[0;34m\u001b[0m\u001b[0;34m\u001b[0m\u001b[0m\n",
      "\u001b[0;32m~/.virtualenvs/PolySpeech/lib/python3.7/site-packages/joblib/_parallel_backends.py\u001b[0m in \u001b[0;36mapply_async\u001b[0;34m(self, func, callback)\u001b[0m\n\u001b[1;32m    508\u001b[0m     \u001b[0;32mdef\u001b[0m \u001b[0mapply_async\u001b[0m\u001b[0;34m(\u001b[0m\u001b[0mself\u001b[0m\u001b[0;34m,\u001b[0m \u001b[0mfunc\u001b[0m\u001b[0;34m,\u001b[0m \u001b[0mcallback\u001b[0m\u001b[0;34m=\u001b[0m\u001b[0;32mNone\u001b[0m\u001b[0;34m)\u001b[0m\u001b[0;34m:\u001b[0m\u001b[0;34m\u001b[0m\u001b[0;34m\u001b[0m\u001b[0m\n\u001b[1;32m    509\u001b[0m         \u001b[0;34m\"\"\"Schedule a func to be run\"\"\"\u001b[0m\u001b[0;34m\u001b[0m\u001b[0;34m\u001b[0m\u001b[0m\n\u001b[0;32m--> 510\u001b[0;31m         \u001b[0mfuture\u001b[0m \u001b[0;34m=\u001b[0m \u001b[0mself\u001b[0m\u001b[0;34m.\u001b[0m\u001b[0m_workers\u001b[0m\u001b[0;34m.\u001b[0m\u001b[0msubmit\u001b[0m\u001b[0;34m(\u001b[0m\u001b[0mSafeFunction\u001b[0m\u001b[0;34m(\u001b[0m\u001b[0mfunc\u001b[0m\u001b[0;34m)\u001b[0m\u001b[0;34m)\u001b[0m\u001b[0;34m\u001b[0m\u001b[0;34m\u001b[0m\u001b[0m\n\u001b[0m\u001b[1;32m    511\u001b[0m         \u001b[0mfuture\u001b[0m\u001b[0;34m.\u001b[0m\u001b[0mget\u001b[0m \u001b[0;34m=\u001b[0m \u001b[0mfunctools\u001b[0m\u001b[0;34m.\u001b[0m\u001b[0mpartial\u001b[0m\u001b[0;34m(\u001b[0m\u001b[0mself\u001b[0m\u001b[0;34m.\u001b[0m\u001b[0mwrap_future_result\u001b[0m\u001b[0;34m,\u001b[0m \u001b[0mfuture\u001b[0m\u001b[0;34m)\u001b[0m\u001b[0;34m\u001b[0m\u001b[0;34m\u001b[0m\u001b[0m\n\u001b[1;32m    512\u001b[0m         \u001b[0;32mif\u001b[0m \u001b[0mcallback\u001b[0m \u001b[0;32mis\u001b[0m \u001b[0;32mnot\u001b[0m \u001b[0;32mNone\u001b[0m\u001b[0;34m:\u001b[0m\u001b[0;34m\u001b[0m\u001b[0;34m\u001b[0m\u001b[0m\n",
      "\u001b[0;32m~/.virtualenvs/PolySpeech/lib/python3.7/site-packages/joblib/externals/loky/reusable_executor.py\u001b[0m in \u001b[0;36msubmit\u001b[0;34m(self, fn, *args, **kwargs)\u001b[0m\n\u001b[1;32m    149\u001b[0m         \u001b[0;32mwith\u001b[0m \u001b[0mself\u001b[0m\u001b[0;34m.\u001b[0m\u001b[0m_submit_resize_lock\u001b[0m\u001b[0;34m:\u001b[0m\u001b[0;34m\u001b[0m\u001b[0;34m\u001b[0m\u001b[0m\n\u001b[1;32m    150\u001b[0m             return super(_ReusablePoolExecutor, self).submit(\n\u001b[0;32m--> 151\u001b[0;31m                 fn, *args, **kwargs)\n\u001b[0m\u001b[1;32m    152\u001b[0m \u001b[0;34m\u001b[0m\u001b[0m\n\u001b[1;32m    153\u001b[0m     \u001b[0;32mdef\u001b[0m \u001b[0m_resize\u001b[0m\u001b[0;34m(\u001b[0m\u001b[0mself\u001b[0m\u001b[0;34m,\u001b[0m \u001b[0mmax_workers\u001b[0m\u001b[0;34m)\u001b[0m\u001b[0;34m:\u001b[0m\u001b[0;34m\u001b[0m\u001b[0;34m\u001b[0m\u001b[0m\n",
      "\u001b[0;32m~/.virtualenvs/PolySpeech/lib/python3.7/site-packages/joblib/externals/loky/process_executor.py\u001b[0m in \u001b[0;36msubmit\u001b[0;34m(self, fn, *args, **kwargs)\u001b[0m\n\u001b[1;32m   1020\u001b[0m         \u001b[0;32mwith\u001b[0m \u001b[0mself\u001b[0m\u001b[0;34m.\u001b[0m\u001b[0m_flags\u001b[0m\u001b[0;34m.\u001b[0m\u001b[0mshutdown_lock\u001b[0m\u001b[0;34m:\u001b[0m\u001b[0;34m\u001b[0m\u001b[0;34m\u001b[0m\u001b[0m\n\u001b[1;32m   1021\u001b[0m             \u001b[0;32mif\u001b[0m \u001b[0mself\u001b[0m\u001b[0;34m.\u001b[0m\u001b[0m_flags\u001b[0m\u001b[0;34m.\u001b[0m\u001b[0mbroken\u001b[0m \u001b[0;32mis\u001b[0m \u001b[0;32mnot\u001b[0m \u001b[0;32mNone\u001b[0m\u001b[0;34m:\u001b[0m\u001b[0;34m\u001b[0m\u001b[0;34m\u001b[0m\u001b[0m\n\u001b[0;32m-> 1022\u001b[0;31m                 \u001b[0;32mraise\u001b[0m \u001b[0mself\u001b[0m\u001b[0;34m.\u001b[0m\u001b[0m_flags\u001b[0m\u001b[0;34m.\u001b[0m\u001b[0mbroken\u001b[0m\u001b[0;34m\u001b[0m\u001b[0;34m\u001b[0m\u001b[0m\n\u001b[0m\u001b[1;32m   1023\u001b[0m             \u001b[0;32mif\u001b[0m \u001b[0mself\u001b[0m\u001b[0;34m.\u001b[0m\u001b[0m_flags\u001b[0m\u001b[0;34m.\u001b[0m\u001b[0mshutdown\u001b[0m\u001b[0;34m:\u001b[0m\u001b[0;34m\u001b[0m\u001b[0;34m\u001b[0m\u001b[0m\n\u001b[1;32m   1024\u001b[0m                 raise ShutdownExecutorError(\n",
      "\u001b[0;31mTerminatedWorkerError\u001b[0m: A worker process managed by the executor was unexpectedly terminated. This could be caused by a segmentation fault while calling the function or by an excessive memory usage causing the Operating System to kill the worker. The exit codes of the workers are {EXIT(1)}"
     ]
    }
   ],
   "source": [
    "import pyLDAvis.gensim\n",
    "lda_display = pyLDAvis.gensim.prepare(lda, corpus, dictionary, sort_topics=False)\n",
    "pyLDAvis.display(lda_display)"
   ]
  },
  {
   "cell_type": "code",
   "execution_count": 20,
   "metadata": {},
   "outputs": [
    {
     "name": "stderr",
     "output_type": "stream",
     "text": [
      "/Users/daveyproctor/.virtualenvs/PolySpeech/lib/python3.7/site-packages/joblib/externals/loky/backend/semaphore_tracker.py:74: UserWarning: semaphore_tracker: process died unexpectedly, relaunching.  Some semaphores might leak.\n",
      "  warnings.warn('semaphore_tracker: process died unexpectedly, '\n",
      "exception calling callback for <Future at 0x126ec5b38 state=finished raised TerminatedWorkerError>\n",
      "Traceback (most recent call last):\n",
      "  File \"/Users/daveyproctor/.virtualenvs/PolySpeech/lib/python3.7/site-packages/joblib/externals/loky/_base.py\", line 625, in _invoke_callbacks\n",
      "    callback(self)\n",
      "  File \"/Users/daveyproctor/.virtualenvs/PolySpeech/lib/python3.7/site-packages/joblib/parallel.py\", line 309, in __call__\n",
      "    self.parallel.dispatch_next()\n",
      "  File \"/Users/daveyproctor/.virtualenvs/PolySpeech/lib/python3.7/site-packages/joblib/parallel.py\", line 731, in dispatch_next\n",
      "    if not self.dispatch_one_batch(self._original_iterator):\n",
      "  File \"/Users/daveyproctor/.virtualenvs/PolySpeech/lib/python3.7/site-packages/joblib/parallel.py\", line 759, in dispatch_one_batch\n",
      "    self._dispatch(tasks)\n",
      "  File \"/Users/daveyproctor/.virtualenvs/PolySpeech/lib/python3.7/site-packages/joblib/parallel.py\", line 716, in _dispatch\n",
      "    job = self._backend.apply_async(batch, callback=cb)\n",
      "  File \"/Users/daveyproctor/.virtualenvs/PolySpeech/lib/python3.7/site-packages/joblib/_parallel_backends.py\", line 510, in apply_async\n",
      "    future = self._workers.submit(SafeFunction(func))\n",
      "  File \"/Users/daveyproctor/.virtualenvs/PolySpeech/lib/python3.7/site-packages/joblib/externals/loky/reusable_executor.py\", line 151, in submit\n",
      "    fn, *args, **kwargs)\n",
      "  File \"/Users/daveyproctor/.virtualenvs/PolySpeech/lib/python3.7/site-packages/joblib/externals/loky/process_executor.py\", line 1022, in submit\n",
      "    raise self._flags.broken\n",
      "joblib.externals.loky.process_executor.TerminatedWorkerError: A worker process managed by the executor was unexpectedly terminated. This could be caused by a segmentation fault while calling the function or by an excessive memory usage causing the Operating System to kill the worker. The exit codes of the workers are {EXIT(1)}\n",
      "/Users/daveyproctor/.virtualenvs/PolySpeech/lib/python3.7/site-packages/joblib/externals/loky/backend/semaphore_tracker.py:74: UserWarning: semaphore_tracker: process died unexpectedly, relaunching.  Some semaphores might leak.\n",
      "  warnings.warn('semaphore_tracker: process died unexpectedly, '\n"
     ]
    },
    {
     "ename": "TerminatedWorkerError",
     "evalue": "A worker process managed by the executor was unexpectedly terminated. This could be caused by a segmentation fault while calling the function or by an excessive memory usage causing the Operating System to kill the worker. The exit codes of the workers are {EXIT(1)}",
     "output_type": "error",
     "traceback": [
      "\u001b[0;31m---------------------------------------------------------------------------\u001b[0m",
      "\u001b[0;31mTerminatedWorkerError\u001b[0m                     Traceback (most recent call last)",
      "\u001b[0;32m<ipython-input-20-f5355aa06392>\u001b[0m in \u001b[0;36m<module>\u001b[0;34m\u001b[0m\n\u001b[1;32m      1\u001b[0m \u001b[0mlda3\u001b[0m \u001b[0;34m=\u001b[0m \u001b[0mgensim\u001b[0m\u001b[0;34m.\u001b[0m\u001b[0mmodels\u001b[0m\u001b[0;34m.\u001b[0m\u001b[0mldamodel\u001b[0m\u001b[0;34m.\u001b[0m\u001b[0mLdaModel\u001b[0m\u001b[0;34m.\u001b[0m\u001b[0mload\u001b[0m\u001b[0;34m(\u001b[0m\u001b[0;34m'model3.gensim'\u001b[0m\u001b[0;34m)\u001b[0m\u001b[0;34m\u001b[0m\u001b[0;34m\u001b[0m\u001b[0m\n\u001b[0;32m----> 2\u001b[0;31m \u001b[0mlda_display3\u001b[0m \u001b[0;34m=\u001b[0m \u001b[0mpyLDAvis\u001b[0m\u001b[0;34m.\u001b[0m\u001b[0mgensim\u001b[0m\u001b[0;34m.\u001b[0m\u001b[0mprepare\u001b[0m\u001b[0;34m(\u001b[0m\u001b[0mlda3\u001b[0m\u001b[0;34m,\u001b[0m \u001b[0mcorpus\u001b[0m\u001b[0;34m,\u001b[0m \u001b[0mdictionary\u001b[0m\u001b[0;34m,\u001b[0m \u001b[0msort_topics\u001b[0m\u001b[0;34m=\u001b[0m\u001b[0;32mFalse\u001b[0m\u001b[0;34m)\u001b[0m\u001b[0;34m\u001b[0m\u001b[0;34m\u001b[0m\u001b[0m\n\u001b[0m\u001b[1;32m      3\u001b[0m \u001b[0mpyLDAvis\u001b[0m\u001b[0;34m.\u001b[0m\u001b[0mdisplay\u001b[0m\u001b[0;34m(\u001b[0m\u001b[0mlda_display3\u001b[0m\u001b[0;34m)\u001b[0m\u001b[0;34m\u001b[0m\u001b[0;34m\u001b[0m\u001b[0m\n",
      "\u001b[0;32m~/.virtualenvs/PolySpeech/lib/python3.7/site-packages/pyLDAvis/gensim.py\u001b[0m in \u001b[0;36mprepare\u001b[0;34m(topic_model, corpus, dictionary, doc_topic_dist, **kwargs)\u001b[0m\n\u001b[1;32m    117\u001b[0m     \"\"\"\n\u001b[1;32m    118\u001b[0m     \u001b[0mopts\u001b[0m \u001b[0;34m=\u001b[0m \u001b[0mfp\u001b[0m\u001b[0;34m.\u001b[0m\u001b[0mmerge\u001b[0m\u001b[0;34m(\u001b[0m\u001b[0m_extract_data\u001b[0m\u001b[0;34m(\u001b[0m\u001b[0mtopic_model\u001b[0m\u001b[0;34m,\u001b[0m \u001b[0mcorpus\u001b[0m\u001b[0;34m,\u001b[0m \u001b[0mdictionary\u001b[0m\u001b[0;34m,\u001b[0m \u001b[0mdoc_topic_dist\u001b[0m\u001b[0;34m)\u001b[0m\u001b[0;34m,\u001b[0m \u001b[0mkwargs\u001b[0m\u001b[0;34m)\u001b[0m\u001b[0;34m\u001b[0m\u001b[0;34m\u001b[0m\u001b[0m\n\u001b[0;32m--> 119\u001b[0;31m     \u001b[0;32mreturn\u001b[0m \u001b[0mvis_prepare\u001b[0m\u001b[0;34m(\u001b[0m\u001b[0;34m**\u001b[0m\u001b[0mopts\u001b[0m\u001b[0;34m)\u001b[0m\u001b[0;34m\u001b[0m\u001b[0;34m\u001b[0m\u001b[0m\n\u001b[0m",
      "\u001b[0;32m~/.virtualenvs/PolySpeech/lib/python3.7/site-packages/pyLDAvis/_prepare.py\u001b[0m in \u001b[0;36mprepare\u001b[0;34m(topic_term_dists, doc_topic_dists, doc_lengths, vocab, term_frequency, R, lambda_step, mds, n_jobs, plot_opts, sort_topics)\u001b[0m\n\u001b[1;32m    396\u001b[0m    \u001b[0mterm_frequency\u001b[0m \u001b[0;34m=\u001b[0m \u001b[0mnp\u001b[0m\u001b[0;34m.\u001b[0m\u001b[0msum\u001b[0m\u001b[0;34m(\u001b[0m\u001b[0mterm_topic_freq\u001b[0m\u001b[0;34m,\u001b[0m \u001b[0maxis\u001b[0m\u001b[0;34m=\u001b[0m\u001b[0;36m0\u001b[0m\u001b[0;34m)\u001b[0m\u001b[0;34m\u001b[0m\u001b[0;34m\u001b[0m\u001b[0m\n\u001b[1;32m    397\u001b[0m \u001b[0;34m\u001b[0m\u001b[0m\n\u001b[0;32m--> 398\u001b[0;31m    \u001b[0mtopic_info\u001b[0m         \u001b[0;34m=\u001b[0m \u001b[0m_topic_info\u001b[0m\u001b[0;34m(\u001b[0m\u001b[0mtopic_term_dists\u001b[0m\u001b[0;34m,\u001b[0m \u001b[0mtopic_proportion\u001b[0m\u001b[0;34m,\u001b[0m \u001b[0mterm_frequency\u001b[0m\u001b[0;34m,\u001b[0m \u001b[0mterm_topic_freq\u001b[0m\u001b[0;34m,\u001b[0m \u001b[0mvocab\u001b[0m\u001b[0;34m,\u001b[0m \u001b[0mlambda_step\u001b[0m\u001b[0;34m,\u001b[0m \u001b[0mR\u001b[0m\u001b[0;34m,\u001b[0m \u001b[0mn_jobs\u001b[0m\u001b[0;34m)\u001b[0m\u001b[0;34m\u001b[0m\u001b[0;34m\u001b[0m\u001b[0m\n\u001b[0m\u001b[1;32m    399\u001b[0m    \u001b[0mtoken_table\u001b[0m        \u001b[0;34m=\u001b[0m \u001b[0m_token_table\u001b[0m\u001b[0;34m(\u001b[0m\u001b[0mtopic_info\u001b[0m\u001b[0;34m,\u001b[0m \u001b[0mterm_topic_freq\u001b[0m\u001b[0;34m,\u001b[0m \u001b[0mvocab\u001b[0m\u001b[0;34m,\u001b[0m \u001b[0mterm_frequency\u001b[0m\u001b[0;34m)\u001b[0m\u001b[0;34m\u001b[0m\u001b[0;34m\u001b[0m\u001b[0m\n\u001b[1;32m    400\u001b[0m    \u001b[0mtopic_coordinates\u001b[0m \u001b[0;34m=\u001b[0m \u001b[0m_topic_coordinates\u001b[0m\u001b[0;34m(\u001b[0m\u001b[0mmds\u001b[0m\u001b[0;34m,\u001b[0m \u001b[0mtopic_term_dists\u001b[0m\u001b[0;34m,\u001b[0m \u001b[0mtopic_proportion\u001b[0m\u001b[0;34m)\u001b[0m\u001b[0;34m\u001b[0m\u001b[0;34m\u001b[0m\u001b[0m\n",
      "\u001b[0;32m~/.virtualenvs/PolySpeech/lib/python3.7/site-packages/pyLDAvis/_prepare.py\u001b[0m in \u001b[0;36m_topic_info\u001b[0;34m(topic_term_dists, topic_proportion, term_frequency, term_topic_freq, vocab, lambda_step, R, n_jobs)\u001b[0m\n\u001b[1;32m    253\u001b[0m \u001b[0;34m\u001b[0m\u001b[0m\n\u001b[1;32m    254\u001b[0m    top_terms = pd.concat(Parallel(n_jobs=n_jobs)(delayed(_find_relevance_chunks)(log_ttd, log_lift, R, ls) \\\n\u001b[0;32m--> 255\u001b[0;31m                                                  for ls in _job_chunks(lambda_seq, n_jobs)))\n\u001b[0m\u001b[1;32m    256\u001b[0m    \u001b[0mtopic_dfs\u001b[0m \u001b[0;34m=\u001b[0m \u001b[0mmap\u001b[0m\u001b[0;34m(\u001b[0m\u001b[0mtopic_top_term_df\u001b[0m\u001b[0;34m,\u001b[0m \u001b[0menumerate\u001b[0m\u001b[0;34m(\u001b[0m\u001b[0mtop_terms\u001b[0m\u001b[0;34m.\u001b[0m\u001b[0mT\u001b[0m\u001b[0;34m.\u001b[0m\u001b[0miterrows\u001b[0m\u001b[0;34m(\u001b[0m\u001b[0;34m)\u001b[0m\u001b[0;34m,\u001b[0m \u001b[0;36m1\u001b[0m\u001b[0;34m)\u001b[0m\u001b[0;34m)\u001b[0m\u001b[0;34m\u001b[0m\u001b[0;34m\u001b[0m\u001b[0m\n\u001b[1;32m    257\u001b[0m    \u001b[0;32mreturn\u001b[0m \u001b[0mpd\u001b[0m\u001b[0;34m.\u001b[0m\u001b[0mconcat\u001b[0m\u001b[0;34m(\u001b[0m\u001b[0;34m[\u001b[0m\u001b[0mdefault_term_info\u001b[0m\u001b[0;34m]\u001b[0m \u001b[0;34m+\u001b[0m \u001b[0mlist\u001b[0m\u001b[0;34m(\u001b[0m\u001b[0mtopic_dfs\u001b[0m\u001b[0;34m)\u001b[0m\u001b[0;34m)\u001b[0m\u001b[0;34m\u001b[0m\u001b[0;34m\u001b[0m\u001b[0m\n",
      "\u001b[0;32m~/.virtualenvs/PolySpeech/lib/python3.7/site-packages/joblib/parallel.py\u001b[0m in \u001b[0;36m__call__\u001b[0;34m(self, iterable)\u001b[0m\n\u001b[1;32m    932\u001b[0m \u001b[0;34m\u001b[0m\u001b[0m\n\u001b[1;32m    933\u001b[0m             \u001b[0;32mwith\u001b[0m \u001b[0mself\u001b[0m\u001b[0;34m.\u001b[0m\u001b[0m_backend\u001b[0m\u001b[0;34m.\u001b[0m\u001b[0mretrieval_context\u001b[0m\u001b[0;34m(\u001b[0m\u001b[0;34m)\u001b[0m\u001b[0;34m:\u001b[0m\u001b[0;34m\u001b[0m\u001b[0;34m\u001b[0m\u001b[0m\n\u001b[0;32m--> 934\u001b[0;31m                 \u001b[0mself\u001b[0m\u001b[0;34m.\u001b[0m\u001b[0mretrieve\u001b[0m\u001b[0;34m(\u001b[0m\u001b[0;34m)\u001b[0m\u001b[0;34m\u001b[0m\u001b[0;34m\u001b[0m\u001b[0m\n\u001b[0m\u001b[1;32m    935\u001b[0m             \u001b[0;31m# Make sure that we get a last message telling us we are done\u001b[0m\u001b[0;34m\u001b[0m\u001b[0;34m\u001b[0m\u001b[0;34m\u001b[0m\u001b[0m\n\u001b[1;32m    936\u001b[0m             \u001b[0melapsed_time\u001b[0m \u001b[0;34m=\u001b[0m \u001b[0mtime\u001b[0m\u001b[0;34m.\u001b[0m\u001b[0mtime\u001b[0m\u001b[0;34m(\u001b[0m\u001b[0;34m)\u001b[0m \u001b[0;34m-\u001b[0m \u001b[0mself\u001b[0m\u001b[0;34m.\u001b[0m\u001b[0m_start_time\u001b[0m\u001b[0;34m\u001b[0m\u001b[0;34m\u001b[0m\u001b[0m\n",
      "\u001b[0;32m~/.virtualenvs/PolySpeech/lib/python3.7/site-packages/joblib/parallel.py\u001b[0m in \u001b[0;36mretrieve\u001b[0;34m(self)\u001b[0m\n\u001b[1;32m    831\u001b[0m             \u001b[0;32mtry\u001b[0m\u001b[0;34m:\u001b[0m\u001b[0;34m\u001b[0m\u001b[0;34m\u001b[0m\u001b[0m\n\u001b[1;32m    832\u001b[0m                 \u001b[0;32mif\u001b[0m \u001b[0mgetattr\u001b[0m\u001b[0;34m(\u001b[0m\u001b[0mself\u001b[0m\u001b[0;34m.\u001b[0m\u001b[0m_backend\u001b[0m\u001b[0;34m,\u001b[0m \u001b[0;34m'supports_timeout'\u001b[0m\u001b[0;34m,\u001b[0m \u001b[0;32mFalse\u001b[0m\u001b[0;34m)\u001b[0m\u001b[0;34m:\u001b[0m\u001b[0;34m\u001b[0m\u001b[0;34m\u001b[0m\u001b[0m\n\u001b[0;32m--> 833\u001b[0;31m                     \u001b[0mself\u001b[0m\u001b[0;34m.\u001b[0m\u001b[0m_output\u001b[0m\u001b[0;34m.\u001b[0m\u001b[0mextend\u001b[0m\u001b[0;34m(\u001b[0m\u001b[0mjob\u001b[0m\u001b[0;34m.\u001b[0m\u001b[0mget\u001b[0m\u001b[0;34m(\u001b[0m\u001b[0mtimeout\u001b[0m\u001b[0;34m=\u001b[0m\u001b[0mself\u001b[0m\u001b[0;34m.\u001b[0m\u001b[0mtimeout\u001b[0m\u001b[0;34m)\u001b[0m\u001b[0;34m)\u001b[0m\u001b[0;34m\u001b[0m\u001b[0;34m\u001b[0m\u001b[0m\n\u001b[0m\u001b[1;32m    834\u001b[0m                 \u001b[0;32melse\u001b[0m\u001b[0;34m:\u001b[0m\u001b[0;34m\u001b[0m\u001b[0;34m\u001b[0m\u001b[0m\n\u001b[1;32m    835\u001b[0m                     \u001b[0mself\u001b[0m\u001b[0;34m.\u001b[0m\u001b[0m_output\u001b[0m\u001b[0;34m.\u001b[0m\u001b[0mextend\u001b[0m\u001b[0;34m(\u001b[0m\u001b[0mjob\u001b[0m\u001b[0;34m.\u001b[0m\u001b[0mget\u001b[0m\u001b[0;34m(\u001b[0m\u001b[0;34m)\u001b[0m\u001b[0;34m)\u001b[0m\u001b[0;34m\u001b[0m\u001b[0;34m\u001b[0m\u001b[0m\n",
      "\u001b[0;32m~/.virtualenvs/PolySpeech/lib/python3.7/site-packages/joblib/_parallel_backends.py\u001b[0m in \u001b[0;36mwrap_future_result\u001b[0;34m(future, timeout)\u001b[0m\n\u001b[1;32m    519\u001b[0m         AsyncResults.get from multiprocessing.\"\"\"\n\u001b[1;32m    520\u001b[0m         \u001b[0;32mtry\u001b[0m\u001b[0;34m:\u001b[0m\u001b[0;34m\u001b[0m\u001b[0;34m\u001b[0m\u001b[0m\n\u001b[0;32m--> 521\u001b[0;31m             \u001b[0;32mreturn\u001b[0m \u001b[0mfuture\u001b[0m\u001b[0;34m.\u001b[0m\u001b[0mresult\u001b[0m\u001b[0;34m(\u001b[0m\u001b[0mtimeout\u001b[0m\u001b[0;34m=\u001b[0m\u001b[0mtimeout\u001b[0m\u001b[0;34m)\u001b[0m\u001b[0;34m\u001b[0m\u001b[0;34m\u001b[0m\u001b[0m\n\u001b[0m\u001b[1;32m    522\u001b[0m         \u001b[0;32mexcept\u001b[0m \u001b[0mLokyTimeoutError\u001b[0m\u001b[0;34m:\u001b[0m\u001b[0;34m\u001b[0m\u001b[0;34m\u001b[0m\u001b[0m\n\u001b[1;32m    523\u001b[0m             \u001b[0;32mraise\u001b[0m \u001b[0mTimeoutError\u001b[0m\u001b[0;34m(\u001b[0m\u001b[0;34m)\u001b[0m\u001b[0;34m\u001b[0m\u001b[0;34m\u001b[0m\u001b[0m\n",
      "\u001b[0;32m/usr/local/Cellar/python/3.7.2/Frameworks/Python.framework/Versions/3.7/lib/python3.7/concurrent/futures/_base.py\u001b[0m in \u001b[0;36mresult\u001b[0;34m(self, timeout)\u001b[0m\n\u001b[1;32m    430\u001b[0m                 \u001b[0;32mraise\u001b[0m \u001b[0mCancelledError\u001b[0m\u001b[0;34m(\u001b[0m\u001b[0;34m)\u001b[0m\u001b[0;34m\u001b[0m\u001b[0;34m\u001b[0m\u001b[0m\n\u001b[1;32m    431\u001b[0m             \u001b[0;32melif\u001b[0m \u001b[0mself\u001b[0m\u001b[0;34m.\u001b[0m\u001b[0m_state\u001b[0m \u001b[0;34m==\u001b[0m \u001b[0mFINISHED\u001b[0m\u001b[0;34m:\u001b[0m\u001b[0;34m\u001b[0m\u001b[0;34m\u001b[0m\u001b[0m\n\u001b[0;32m--> 432\u001b[0;31m                 \u001b[0;32mreturn\u001b[0m \u001b[0mself\u001b[0m\u001b[0;34m.\u001b[0m\u001b[0m__get_result\u001b[0m\u001b[0;34m(\u001b[0m\u001b[0;34m)\u001b[0m\u001b[0;34m\u001b[0m\u001b[0;34m\u001b[0m\u001b[0m\n\u001b[0m\u001b[1;32m    433\u001b[0m             \u001b[0;32melse\u001b[0m\u001b[0;34m:\u001b[0m\u001b[0;34m\u001b[0m\u001b[0;34m\u001b[0m\u001b[0m\n\u001b[1;32m    434\u001b[0m                 \u001b[0;32mraise\u001b[0m \u001b[0mTimeoutError\u001b[0m\u001b[0;34m(\u001b[0m\u001b[0;34m)\u001b[0m\u001b[0;34m\u001b[0m\u001b[0;34m\u001b[0m\u001b[0m\n",
      "\u001b[0;32m/usr/local/Cellar/python/3.7.2/Frameworks/Python.framework/Versions/3.7/lib/python3.7/concurrent/futures/_base.py\u001b[0m in \u001b[0;36m__get_result\u001b[0;34m(self)\u001b[0m\n\u001b[1;32m    382\u001b[0m     \u001b[0;32mdef\u001b[0m \u001b[0m__get_result\u001b[0m\u001b[0;34m(\u001b[0m\u001b[0mself\u001b[0m\u001b[0;34m)\u001b[0m\u001b[0;34m:\u001b[0m\u001b[0;34m\u001b[0m\u001b[0;34m\u001b[0m\u001b[0m\n\u001b[1;32m    383\u001b[0m         \u001b[0;32mif\u001b[0m \u001b[0mself\u001b[0m\u001b[0;34m.\u001b[0m\u001b[0m_exception\u001b[0m\u001b[0;34m:\u001b[0m\u001b[0;34m\u001b[0m\u001b[0;34m\u001b[0m\u001b[0m\n\u001b[0;32m--> 384\u001b[0;31m             \u001b[0;32mraise\u001b[0m \u001b[0mself\u001b[0m\u001b[0;34m.\u001b[0m\u001b[0m_exception\u001b[0m\u001b[0;34m\u001b[0m\u001b[0;34m\u001b[0m\u001b[0m\n\u001b[0m\u001b[1;32m    385\u001b[0m         \u001b[0;32melse\u001b[0m\u001b[0;34m:\u001b[0m\u001b[0;34m\u001b[0m\u001b[0;34m\u001b[0m\u001b[0m\n\u001b[1;32m    386\u001b[0m             \u001b[0;32mreturn\u001b[0m \u001b[0mself\u001b[0m\u001b[0;34m.\u001b[0m\u001b[0m_result\u001b[0m\u001b[0;34m\u001b[0m\u001b[0;34m\u001b[0m\u001b[0m\n",
      "\u001b[0;32m~/.virtualenvs/PolySpeech/lib/python3.7/site-packages/joblib/externals/loky/_base.py\u001b[0m in \u001b[0;36m_invoke_callbacks\u001b[0;34m(self)\u001b[0m\n\u001b[1;32m    623\u001b[0m         \u001b[0;32mfor\u001b[0m \u001b[0mcallback\u001b[0m \u001b[0;32min\u001b[0m \u001b[0mself\u001b[0m\u001b[0;34m.\u001b[0m\u001b[0m_done_callbacks\u001b[0m\u001b[0;34m:\u001b[0m\u001b[0;34m\u001b[0m\u001b[0;34m\u001b[0m\u001b[0m\n\u001b[1;32m    624\u001b[0m             \u001b[0;32mtry\u001b[0m\u001b[0;34m:\u001b[0m\u001b[0;34m\u001b[0m\u001b[0;34m\u001b[0m\u001b[0m\n\u001b[0;32m--> 625\u001b[0;31m                 \u001b[0mcallback\u001b[0m\u001b[0;34m(\u001b[0m\u001b[0mself\u001b[0m\u001b[0;34m)\u001b[0m\u001b[0;34m\u001b[0m\u001b[0;34m\u001b[0m\u001b[0m\n\u001b[0m\u001b[1;32m    626\u001b[0m             \u001b[0;32mexcept\u001b[0m \u001b[0mBaseException\u001b[0m\u001b[0;34m:\u001b[0m\u001b[0;34m\u001b[0m\u001b[0;34m\u001b[0m\u001b[0m\n\u001b[1;32m    627\u001b[0m                 \u001b[0mLOGGER\u001b[0m\u001b[0;34m.\u001b[0m\u001b[0mexception\u001b[0m\u001b[0;34m(\u001b[0m\u001b[0;34m'exception calling callback for %r'\u001b[0m\u001b[0;34m,\u001b[0m \u001b[0mself\u001b[0m\u001b[0;34m)\u001b[0m\u001b[0;34m\u001b[0m\u001b[0;34m\u001b[0m\u001b[0m\n",
      "\u001b[0;32m~/.virtualenvs/PolySpeech/lib/python3.7/site-packages/joblib/parallel.py\u001b[0m in \u001b[0;36m__call__\u001b[0;34m(self, out)\u001b[0m\n\u001b[1;32m    307\u001b[0m         \u001b[0;32mwith\u001b[0m \u001b[0mself\u001b[0m\u001b[0;34m.\u001b[0m\u001b[0mparallel\u001b[0m\u001b[0;34m.\u001b[0m\u001b[0m_lock\u001b[0m\u001b[0;34m:\u001b[0m\u001b[0;34m\u001b[0m\u001b[0;34m\u001b[0m\u001b[0m\n\u001b[1;32m    308\u001b[0m             \u001b[0;32mif\u001b[0m \u001b[0mself\u001b[0m\u001b[0;34m.\u001b[0m\u001b[0mparallel\u001b[0m\u001b[0;34m.\u001b[0m\u001b[0m_original_iterator\u001b[0m \u001b[0;32mis\u001b[0m \u001b[0;32mnot\u001b[0m \u001b[0;32mNone\u001b[0m\u001b[0;34m:\u001b[0m\u001b[0;34m\u001b[0m\u001b[0;34m\u001b[0m\u001b[0m\n\u001b[0;32m--> 309\u001b[0;31m                 \u001b[0mself\u001b[0m\u001b[0;34m.\u001b[0m\u001b[0mparallel\u001b[0m\u001b[0;34m.\u001b[0m\u001b[0mdispatch_next\u001b[0m\u001b[0;34m(\u001b[0m\u001b[0;34m)\u001b[0m\u001b[0;34m\u001b[0m\u001b[0;34m\u001b[0m\u001b[0m\n\u001b[0m\u001b[1;32m    310\u001b[0m \u001b[0;34m\u001b[0m\u001b[0m\n\u001b[1;32m    311\u001b[0m \u001b[0;34m\u001b[0m\u001b[0m\n",
      "\u001b[0;32m~/.virtualenvs/PolySpeech/lib/python3.7/site-packages/joblib/parallel.py\u001b[0m in \u001b[0;36mdispatch_next\u001b[0;34m(self)\u001b[0m\n\u001b[1;32m    729\u001b[0m \u001b[0;34m\u001b[0m\u001b[0m\n\u001b[1;32m    730\u001b[0m         \"\"\"\n\u001b[0;32m--> 731\u001b[0;31m         \u001b[0;32mif\u001b[0m \u001b[0;32mnot\u001b[0m \u001b[0mself\u001b[0m\u001b[0;34m.\u001b[0m\u001b[0mdispatch_one_batch\u001b[0m\u001b[0;34m(\u001b[0m\u001b[0mself\u001b[0m\u001b[0;34m.\u001b[0m\u001b[0m_original_iterator\u001b[0m\u001b[0;34m)\u001b[0m\u001b[0;34m:\u001b[0m\u001b[0;34m\u001b[0m\u001b[0;34m\u001b[0m\u001b[0m\n\u001b[0m\u001b[1;32m    732\u001b[0m             \u001b[0mself\u001b[0m\u001b[0;34m.\u001b[0m\u001b[0m_iterating\u001b[0m \u001b[0;34m=\u001b[0m \u001b[0;32mFalse\u001b[0m\u001b[0;34m\u001b[0m\u001b[0;34m\u001b[0m\u001b[0m\n\u001b[1;32m    733\u001b[0m             \u001b[0mself\u001b[0m\u001b[0;34m.\u001b[0m\u001b[0m_original_iterator\u001b[0m \u001b[0;34m=\u001b[0m \u001b[0;32mNone\u001b[0m\u001b[0;34m\u001b[0m\u001b[0;34m\u001b[0m\u001b[0m\n",
      "\u001b[0;32m~/.virtualenvs/PolySpeech/lib/python3.7/site-packages/joblib/parallel.py\u001b[0m in \u001b[0;36mdispatch_one_batch\u001b[0;34m(self, iterator)\u001b[0m\n\u001b[1;32m    757\u001b[0m                 \u001b[0;32mreturn\u001b[0m \u001b[0;32mFalse\u001b[0m\u001b[0;34m\u001b[0m\u001b[0;34m\u001b[0m\u001b[0m\n\u001b[1;32m    758\u001b[0m             \u001b[0;32melse\u001b[0m\u001b[0;34m:\u001b[0m\u001b[0;34m\u001b[0m\u001b[0;34m\u001b[0m\u001b[0m\n\u001b[0;32m--> 759\u001b[0;31m                 \u001b[0mself\u001b[0m\u001b[0;34m.\u001b[0m\u001b[0m_dispatch\u001b[0m\u001b[0;34m(\u001b[0m\u001b[0mtasks\u001b[0m\u001b[0;34m)\u001b[0m\u001b[0;34m\u001b[0m\u001b[0;34m\u001b[0m\u001b[0m\n\u001b[0m\u001b[1;32m    760\u001b[0m                 \u001b[0;32mreturn\u001b[0m \u001b[0;32mTrue\u001b[0m\u001b[0;34m\u001b[0m\u001b[0;34m\u001b[0m\u001b[0m\n\u001b[1;32m    761\u001b[0m \u001b[0;34m\u001b[0m\u001b[0m\n",
      "\u001b[0;32m~/.virtualenvs/PolySpeech/lib/python3.7/site-packages/joblib/parallel.py\u001b[0m in \u001b[0;36m_dispatch\u001b[0;34m(self, batch)\u001b[0m\n\u001b[1;32m    714\u001b[0m         \u001b[0;32mwith\u001b[0m \u001b[0mself\u001b[0m\u001b[0;34m.\u001b[0m\u001b[0m_lock\u001b[0m\u001b[0;34m:\u001b[0m\u001b[0;34m\u001b[0m\u001b[0;34m\u001b[0m\u001b[0m\n\u001b[1;32m    715\u001b[0m             \u001b[0mjob_idx\u001b[0m \u001b[0;34m=\u001b[0m \u001b[0mlen\u001b[0m\u001b[0;34m(\u001b[0m\u001b[0mself\u001b[0m\u001b[0;34m.\u001b[0m\u001b[0m_jobs\u001b[0m\u001b[0;34m)\u001b[0m\u001b[0;34m\u001b[0m\u001b[0;34m\u001b[0m\u001b[0m\n\u001b[0;32m--> 716\u001b[0;31m             \u001b[0mjob\u001b[0m \u001b[0;34m=\u001b[0m \u001b[0mself\u001b[0m\u001b[0;34m.\u001b[0m\u001b[0m_backend\u001b[0m\u001b[0;34m.\u001b[0m\u001b[0mapply_async\u001b[0m\u001b[0;34m(\u001b[0m\u001b[0mbatch\u001b[0m\u001b[0;34m,\u001b[0m \u001b[0mcallback\u001b[0m\u001b[0;34m=\u001b[0m\u001b[0mcb\u001b[0m\u001b[0;34m)\u001b[0m\u001b[0;34m\u001b[0m\u001b[0;34m\u001b[0m\u001b[0m\n\u001b[0m\u001b[1;32m    717\u001b[0m             \u001b[0;31m# A job can complete so quickly than its callback is\u001b[0m\u001b[0;34m\u001b[0m\u001b[0;34m\u001b[0m\u001b[0;34m\u001b[0m\u001b[0m\n\u001b[1;32m    718\u001b[0m             \u001b[0;31m# called before we get here, causing self._jobs to\u001b[0m\u001b[0;34m\u001b[0m\u001b[0;34m\u001b[0m\u001b[0;34m\u001b[0m\u001b[0m\n",
      "\u001b[0;32m~/.virtualenvs/PolySpeech/lib/python3.7/site-packages/joblib/_parallel_backends.py\u001b[0m in \u001b[0;36mapply_async\u001b[0;34m(self, func, callback)\u001b[0m\n\u001b[1;32m    508\u001b[0m     \u001b[0;32mdef\u001b[0m \u001b[0mapply_async\u001b[0m\u001b[0;34m(\u001b[0m\u001b[0mself\u001b[0m\u001b[0;34m,\u001b[0m \u001b[0mfunc\u001b[0m\u001b[0;34m,\u001b[0m \u001b[0mcallback\u001b[0m\u001b[0;34m=\u001b[0m\u001b[0;32mNone\u001b[0m\u001b[0;34m)\u001b[0m\u001b[0;34m:\u001b[0m\u001b[0;34m\u001b[0m\u001b[0;34m\u001b[0m\u001b[0m\n\u001b[1;32m    509\u001b[0m         \u001b[0;34m\"\"\"Schedule a func to be run\"\"\"\u001b[0m\u001b[0;34m\u001b[0m\u001b[0;34m\u001b[0m\u001b[0m\n\u001b[0;32m--> 510\u001b[0;31m         \u001b[0mfuture\u001b[0m \u001b[0;34m=\u001b[0m \u001b[0mself\u001b[0m\u001b[0;34m.\u001b[0m\u001b[0m_workers\u001b[0m\u001b[0;34m.\u001b[0m\u001b[0msubmit\u001b[0m\u001b[0;34m(\u001b[0m\u001b[0mSafeFunction\u001b[0m\u001b[0;34m(\u001b[0m\u001b[0mfunc\u001b[0m\u001b[0;34m)\u001b[0m\u001b[0;34m)\u001b[0m\u001b[0;34m\u001b[0m\u001b[0;34m\u001b[0m\u001b[0m\n\u001b[0m\u001b[1;32m    511\u001b[0m         \u001b[0mfuture\u001b[0m\u001b[0;34m.\u001b[0m\u001b[0mget\u001b[0m \u001b[0;34m=\u001b[0m \u001b[0mfunctools\u001b[0m\u001b[0;34m.\u001b[0m\u001b[0mpartial\u001b[0m\u001b[0;34m(\u001b[0m\u001b[0mself\u001b[0m\u001b[0;34m.\u001b[0m\u001b[0mwrap_future_result\u001b[0m\u001b[0;34m,\u001b[0m \u001b[0mfuture\u001b[0m\u001b[0;34m)\u001b[0m\u001b[0;34m\u001b[0m\u001b[0;34m\u001b[0m\u001b[0m\n\u001b[1;32m    512\u001b[0m         \u001b[0;32mif\u001b[0m \u001b[0mcallback\u001b[0m \u001b[0;32mis\u001b[0m \u001b[0;32mnot\u001b[0m \u001b[0;32mNone\u001b[0m\u001b[0;34m:\u001b[0m\u001b[0;34m\u001b[0m\u001b[0;34m\u001b[0m\u001b[0m\n",
      "\u001b[0;32m~/.virtualenvs/PolySpeech/lib/python3.7/site-packages/joblib/externals/loky/reusable_executor.py\u001b[0m in \u001b[0;36msubmit\u001b[0;34m(self, fn, *args, **kwargs)\u001b[0m\n\u001b[1;32m    149\u001b[0m         \u001b[0;32mwith\u001b[0m \u001b[0mself\u001b[0m\u001b[0;34m.\u001b[0m\u001b[0m_submit_resize_lock\u001b[0m\u001b[0;34m:\u001b[0m\u001b[0;34m\u001b[0m\u001b[0;34m\u001b[0m\u001b[0m\n\u001b[1;32m    150\u001b[0m             return super(_ReusablePoolExecutor, self).submit(\n\u001b[0;32m--> 151\u001b[0;31m                 fn, *args, **kwargs)\n\u001b[0m\u001b[1;32m    152\u001b[0m \u001b[0;34m\u001b[0m\u001b[0m\n\u001b[1;32m    153\u001b[0m     \u001b[0;32mdef\u001b[0m \u001b[0m_resize\u001b[0m\u001b[0;34m(\u001b[0m\u001b[0mself\u001b[0m\u001b[0;34m,\u001b[0m \u001b[0mmax_workers\u001b[0m\u001b[0;34m)\u001b[0m\u001b[0;34m:\u001b[0m\u001b[0;34m\u001b[0m\u001b[0;34m\u001b[0m\u001b[0m\n",
      "\u001b[0;32m~/.virtualenvs/PolySpeech/lib/python3.7/site-packages/joblib/externals/loky/process_executor.py\u001b[0m in \u001b[0;36msubmit\u001b[0;34m(self, fn, *args, **kwargs)\u001b[0m\n\u001b[1;32m   1020\u001b[0m         \u001b[0;32mwith\u001b[0m \u001b[0mself\u001b[0m\u001b[0;34m.\u001b[0m\u001b[0m_flags\u001b[0m\u001b[0;34m.\u001b[0m\u001b[0mshutdown_lock\u001b[0m\u001b[0;34m:\u001b[0m\u001b[0;34m\u001b[0m\u001b[0;34m\u001b[0m\u001b[0m\n\u001b[1;32m   1021\u001b[0m             \u001b[0;32mif\u001b[0m \u001b[0mself\u001b[0m\u001b[0;34m.\u001b[0m\u001b[0m_flags\u001b[0m\u001b[0;34m.\u001b[0m\u001b[0mbroken\u001b[0m \u001b[0;32mis\u001b[0m \u001b[0;32mnot\u001b[0m \u001b[0;32mNone\u001b[0m\u001b[0;34m:\u001b[0m\u001b[0;34m\u001b[0m\u001b[0;34m\u001b[0m\u001b[0m\n\u001b[0;32m-> 1022\u001b[0;31m                 \u001b[0;32mraise\u001b[0m \u001b[0mself\u001b[0m\u001b[0;34m.\u001b[0m\u001b[0m_flags\u001b[0m\u001b[0;34m.\u001b[0m\u001b[0mbroken\u001b[0m\u001b[0;34m\u001b[0m\u001b[0;34m\u001b[0m\u001b[0m\n\u001b[0m\u001b[1;32m   1023\u001b[0m             \u001b[0;32mif\u001b[0m \u001b[0mself\u001b[0m\u001b[0;34m.\u001b[0m\u001b[0m_flags\u001b[0m\u001b[0;34m.\u001b[0m\u001b[0mshutdown\u001b[0m\u001b[0;34m:\u001b[0m\u001b[0;34m\u001b[0m\u001b[0;34m\u001b[0m\u001b[0m\n\u001b[1;32m   1024\u001b[0m                 raise ShutdownExecutorError(\n",
      "\u001b[0;31mTerminatedWorkerError\u001b[0m: A worker process managed by the executor was unexpectedly terminated. This could be caused by a segmentation fault while calling the function or by an excessive memory usage causing the Operating System to kill the worker. The exit codes of the workers are {EXIT(1)}"
     ]
    }
   ],
   "source": [
    "lda3 = gensim.models.ldamodel.LdaModel.load('model3.gensim')\n",
    "lda_display3 = pyLDAvis.gensim.prepare(lda3, corpus, dictionary, sort_topics=False)\n",
    "pyLDAvis.display(lda_display3)"
   ]
  },
  {
   "cell_type": "code",
   "execution_count": 25,
   "metadata": {},
   "outputs": [
    {
     "name": "stderr",
     "output_type": "stream",
     "text": [
      "/Users/sli/anaconda3/lib/python3.6/site-packages/pyLDAvis/_prepare.py:387: DeprecationWarning: \n",
      ".ix is deprecated. Please use\n",
      ".loc for label based indexing or\n",
      ".iloc for positional indexing\n",
      "\n",
      "See the documentation here:\n",
      "http://pandas.pydata.org/pandas-docs/stable/indexing.html#ix-indexer-is-deprecated\n",
      "  topic_term_dists = topic_term_dists.ix[topic_order]\n"
     ]
    },
    {
     "data": {
      "text/html": [
       "\n",
       "<link rel=\"stylesheet\" type=\"text/css\" href=\"https://cdn.rawgit.com/bmabey/pyLDAvis/files/ldavis.v1.0.0.css\">\n",
       "\n",
       "\n",
       "<div id=\"ldavis_el119801123903365847082471480\"></div>\n",
       "<script type=\"text/javascript\">\n",
       "\n",
       "var ldavis_el119801123903365847082471480_data = {\"mdsDat\": {\"Freq\": [17.700016021728516, 12.269986152648926, 17.69561195373535, 8.649770736694336, 1.5263055562973022, 5.3358378410339355, 1.89667546749115, 10.792621612548828, 18.797338485717773, 5.33582878112793], \"cluster\": [1, 1, 1, 1, 1, 1, 1, 1, 1, 1], \"topics\": [1, 2, 3, 4, 5, 6, 7, 8, 9, 10], \"x\": [-0.15491344651965638, 0.010288401831942792, -0.05914143588381205, -0.015553043731654776, -0.005259111372909749, 0.039021942268401194, -0.004791290884594789, 0.020670924641406175, 0.17314870079929381, -0.003471641148415996], \"y\": [0.12129466269199704, 0.06477138710056453, -0.17104432047443294, -0.058058898498967705, 0.0022589144330581244, 0.015244289304812019, 0.0024175648070001777, -0.021101845431874152, 0.04033106666375412, 0.003887179404088572]}, \"tinfo\": {\"Category\": [\"Default\", \"Default\", \"Default\", \"Default\", \"Default\", \"Default\", \"Default\", \"Default\", \"Default\", \"Default\", \"Default\", \"Default\", \"Default\", \"Default\", \"Default\", \"Default\", \"Default\", \"Default\", \"Default\", \"Default\", \"Default\", \"Default\", \"Default\", \"Default\", \"Default\", \"Default\", \"Default\", \"Default\", \"Default\", \"Default\", \"Topic1\", \"Topic1\", \"Topic1\", \"Topic1\", \"Topic1\", \"Topic1\", \"Topic1\", \"Topic1\", \"Topic1\", \"Topic1\", \"Topic1\", \"Topic1\", \"Topic1\", \"Topic1\", \"Topic1\", \"Topic1\", \"Topic1\", \"Topic1\", \"Topic1\", \"Topic1\", \"Topic1\", \"Topic1\", \"Topic1\", \"Topic1\", \"Topic1\", \"Topic1\", \"Topic1\", \"Topic1\", \"Topic1\", \"Topic1\", \"Topic1\", \"Topic1\", \"Topic1\", \"Topic1\", \"Topic1\", \"Topic1\", \"Topic1\", \"Topic2\", \"Topic2\", \"Topic2\", \"Topic2\", \"Topic2\", \"Topic2\", \"Topic2\", \"Topic2\", \"Topic2\", \"Topic2\", \"Topic2\", \"Topic2\", \"Topic2\", \"Topic2\", \"Topic2\", \"Topic2\", \"Topic2\", \"Topic2\", \"Topic2\", \"Topic2\", \"Topic2\", \"Topic2\", \"Topic2\", \"Topic2\", \"Topic2\", \"Topic2\", \"Topic2\", \"Topic2\", \"Topic2\", \"Topic2\", \"Topic2\", \"Topic2\", \"Topic2\", \"Topic2\", \"Topic2\", \"Topic2\", \"Topic2\", \"Topic2\", \"Topic2\", \"Topic2\", \"Topic2\", \"Topic2\", \"Topic2\", \"Topic2\", \"Topic2\", \"Topic3\", \"Topic3\", \"Topic3\", \"Topic3\", \"Topic3\", \"Topic3\", \"Topic3\", \"Topic3\", \"Topic3\", \"Topic3\", \"Topic3\", \"Topic3\", \"Topic3\", \"Topic3\", \"Topic3\", \"Topic3\", \"Topic3\", \"Topic3\", \"Topic3\", \"Topic3\", \"Topic3\", \"Topic3\", \"Topic3\", \"Topic3\", \"Topic3\", \"Topic3\", \"Topic3\", \"Topic3\", \"Topic3\", \"Topic3\", \"Topic3\", \"Topic3\", \"Topic3\", \"Topic3\", \"Topic3\", \"Topic3\", \"Topic3\", \"Topic3\", \"Topic3\", \"Topic4\", \"Topic4\", \"Topic4\", \"Topic4\", \"Topic4\", \"Topic4\", \"Topic4\", \"Topic4\", \"Topic4\", \"Topic4\", \"Topic4\", \"Topic4\", \"Topic4\", \"Topic4\", \"Topic4\", \"Topic4\", \"Topic4\", \"Topic4\", \"Topic4\", \"Topic4\", \"Topic4\", \"Topic4\", \"Topic4\", \"Topic4\", \"Topic4\", \"Topic4\", \"Topic4\", \"Topic4\", \"Topic4\", \"Topic4\", \"Topic4\", \"Topic4\", \"Topic4\", \"Topic4\", \"Topic4\", \"Topic4\", \"Topic4\", \"Topic4\", \"Topic4\", \"Topic4\", \"Topic4\", \"Topic4\", \"Topic4\", \"Topic4\", \"Topic4\", \"Topic4\", \"Topic4\", \"Topic5\", \"Topic5\", \"Topic5\", \"Topic5\", \"Topic5\", \"Topic5\", \"Topic5\", \"Topic5\", \"Topic5\", \"Topic5\", \"Topic5\", \"Topic5\", \"Topic5\", \"Topic5\", \"Topic5\", \"Topic5\", \"Topic5\", \"Topic5\", \"Topic5\", \"Topic5\", \"Topic5\", \"Topic5\", \"Topic5\", \"Topic5\", \"Topic5\", \"Topic5\", \"Topic5\", \"Topic5\", \"Topic5\", \"Topic5\", \"Topic5\", \"Topic5\", \"Topic5\", \"Topic5\", \"Topic5\", \"Topic5\", \"Topic5\", \"Topic5\", \"Topic5\", \"Topic5\", \"Topic5\", \"Topic5\", \"Topic5\", \"Topic5\", \"Topic5\", \"Topic5\", \"Topic5\", \"Topic5\", \"Topic5\", \"Topic5\", \"Topic5\", \"Topic5\", \"Topic5\", \"Topic6\", \"Topic6\", \"Topic6\", \"Topic6\", \"Topic6\", \"Topic6\", \"Topic6\", \"Topic6\", \"Topic6\", \"Topic6\", \"Topic6\", \"Topic6\", \"Topic6\", \"Topic6\", \"Topic6\", \"Topic6\", \"Topic6\", \"Topic6\", \"Topic6\", \"Topic6\", \"Topic6\", \"Topic6\", \"Topic6\", \"Topic6\", \"Topic6\", \"Topic6\", \"Topic6\", \"Topic6\", \"Topic6\", \"Topic6\", \"Topic6\", \"Topic6\", \"Topic6\", \"Topic6\", \"Topic6\", \"Topic6\", \"Topic6\", \"Topic6\", \"Topic6\", \"Topic6\", \"Topic6\", \"Topic6\", \"Topic6\", \"Topic6\", \"Topic6\", \"Topic6\", \"Topic6\", \"Topic6\", \"Topic6\", \"Topic6\", \"Topic6\", \"Topic7\", \"Topic7\", \"Topic7\", \"Topic7\", \"Topic7\", \"Topic7\", \"Topic7\", \"Topic7\", \"Topic7\", \"Topic7\", \"Topic7\", \"Topic7\", \"Topic7\", \"Topic7\", \"Topic7\", \"Topic7\", \"Topic7\", \"Topic7\", \"Topic7\", \"Topic7\", \"Topic7\", \"Topic7\", \"Topic7\", \"Topic7\", \"Topic7\", \"Topic7\", \"Topic7\", \"Topic7\", \"Topic7\", \"Topic7\", \"Topic7\", \"Topic7\", \"Topic7\", \"Topic7\", \"Topic7\", \"Topic7\", \"Topic7\", \"Topic7\", \"Topic7\", \"Topic7\", \"Topic7\", \"Topic7\", \"Topic7\", \"Topic7\", \"Topic7\", \"Topic7\", \"Topic7\", \"Topic7\", \"Topic7\", \"Topic7\", \"Topic7\", \"Topic7\", \"Topic7\", \"Topic8\", \"Topic8\", \"Topic8\", \"Topic8\", \"Topic8\", \"Topic8\", \"Topic8\", \"Topic8\", \"Topic8\", \"Topic8\", \"Topic8\", \"Topic8\", \"Topic8\", \"Topic8\", \"Topic8\", \"Topic8\", \"Topic8\", \"Topic8\", \"Topic8\", \"Topic8\", \"Topic8\", \"Topic8\", \"Topic8\", \"Topic8\", \"Topic8\", \"Topic8\", \"Topic8\", \"Topic8\", \"Topic8\", \"Topic8\", \"Topic8\", \"Topic8\", \"Topic8\", \"Topic8\", \"Topic8\", \"Topic8\", \"Topic8\", \"Topic8\", \"Topic8\", \"Topic8\", \"Topic8\", \"Topic8\", \"Topic8\", \"Topic8\", \"Topic8\", \"Topic8\", \"Topic9\", \"Topic9\", \"Topic9\", \"Topic9\", \"Topic9\", \"Topic9\", \"Topic9\", \"Topic9\", \"Topic9\", \"Topic9\", \"Topic9\", \"Topic9\", \"Topic9\", \"Topic9\", \"Topic9\", \"Topic9\", \"Topic9\", \"Topic9\", \"Topic9\", \"Topic9\", \"Topic9\", \"Topic9\", \"Topic9\", \"Topic9\", \"Topic9\", \"Topic9\", \"Topic9\", \"Topic9\", \"Topic9\", \"Topic9\", \"Topic9\", \"Topic9\", \"Topic9\", \"Topic9\", \"Topic9\", \"Topic9\", \"Topic9\", \"Topic9\", \"Topic9\", \"Topic10\", \"Topic10\", \"Topic10\", \"Topic10\", \"Topic10\", \"Topic10\", \"Topic10\", \"Topic10\", \"Topic10\", \"Topic10\", \"Topic10\", \"Topic10\", \"Topic10\", \"Topic10\", \"Topic10\", \"Topic10\", \"Topic10\", \"Topic10\", \"Topic10\", \"Topic10\", \"Topic10\", \"Topic10\", \"Topic10\", \"Topic10\", \"Topic10\", \"Topic10\", \"Topic10\", \"Topic10\", \"Topic10\", \"Topic10\", \"Topic10\", \"Topic10\", \"Topic10\", \"Topic10\", \"Topic10\", \"Topic10\", \"Topic10\", \"Topic10\", \"Topic10\", \"Topic10\", \"Topic10\", \"Topic10\", \"Topic10\", \"Topic10\", \"Topic10\", \"Topic10\", \"Topic10\"], \"Freq\": [1.0, 1.0, 1.0, 0.0, 2.0, 0.0, 0.0, 0.0, 0.0, 0.0, 0.0, 0.0, 0.0, 0.0, 1.0, 1.0, 1.0, 1.0, 1.0, 2.0, 1.0, 0.0, 0.0, 0.0, 0.0, 0.0, 0.0, 0.0, 0.0, 0.0, 1.3239994049072266, 1.3239994049072266, 0.6935235261917114, 0.6935235261917114, 0.6935235261917114, 0.6935235261917114, 0.6935235261917114, 0.6935235261917114, 0.6935235261917114, 0.6935235261917114, 0.6935235261917114, 0.6935235261917114, 0.6935235261917114, 0.6935235261917114, 0.6935235261917114, 0.6935235261917114, 0.6935235261917114, 0.6935235261917114, 0.6935235261917114, 0.6935235261917114, 0.6935235261917114, 0.6935235261917114, 0.6935216784477234, 0.6935191750526428, 0.06304764002561569, 0.0630476102232933, 0.0630476102232933, 0.0630476102232933, 0.0630476102232933, 0.0630476102232933, 0.0630476102232933, 0.0630476102232933, 0.0630476102232933, 0.0630476325750351, 0.0630476102232933, 0.0630476102232933, 0.0630476102232933, 0.6304819583892822, 0.6304819583892822, 0.6304819583892822, 0.6304819583892822, 0.6304819583892822, 0.6304819583892822, 0.6304819583892822, 0.6304819583892822, 0.6304819583892822, 0.6304819583892822, 0.6304819583892822, 0.6304819583892822, 0.6304819583892822, 0.6304819583892822, 0.6304815411567688, 0.6304836273193359, 0.6304823160171509, 0.05731659755110741, 0.057316556572914124, 0.057316556572914124, 0.057316556572914124, 0.057316556572914124, 0.057316556572914124, 0.057316556572914124, 0.057316556572914124, 0.05731656029820442, 0.05731656029820442, 0.05731656402349472, 0.05731656402349472, 0.05731656402349472, 0.057316556572914124, 0.057316556572914124, 0.057316556572914124, 0.057316556572914124, 0.05731658637523651, 0.05731657147407532, 0.057316556572914124, 0.05731656029820442, 0.057316556572914124, 0.05731656029820442, 0.057316556572914124, 0.057316556572914124, 0.05731656402349472, 0.057316556572914124, 0.057316556572914124, 0.6933510303497314, 0.6933510303497314, 0.6933510303497314, 0.6933510303497314, 0.6933510303497314, 0.6933510303497314, 0.6933510303497314, 0.6933510303497314, 0.6933510899543762, 0.6933510303497314, 0.6933510303497314, 0.6933510303497314, 0.6933510303497314, 0.6933510899543762, 0.6933510899543762, 0.6933510303497314, 0.6933510303497314, 0.6933510303497314, 0.6933510303497314, 0.6933510303497314, 0.6933510303497314, 1.3236745595932007, 0.6933490037918091, 0.6933495998382568, 0.6933408975601196, 0.06303197145462036, 0.06303192675113678, 0.06303192675113678, 0.06303192675113678, 0.06303192675113678, 0.06303192675113678, 0.06303192675113678, 0.06303193420171738, 0.06303192675113678, 0.06303192675113678, 0.06303192675113678, 0.06303192675113678, 0.06303193420171738, 0.06303193420171738, 0.5374436378479004, 0.5374436378479004, 0.5374436378479004, 0.5374436378479004, 0.5374436378479004, 0.5374436378479004, 0.5374436378479004, 0.5374436378479004, 0.5374436378479004, 0.5374436378479004, 0.5374452471733093, 0.5374488234519958, 0.048858556896448135, 0.04885852709412575, 0.04885852709412575, 0.04885852709412575, 0.04885852709412575, 0.04885852709412575, 0.04885852709412575, 0.04885852709412575, 0.04885852709412575, 0.04885852709412575, 0.048858530819416046, 0.048858530819416046, 0.048858530819416046, 0.048858530819416046, 0.048858530819416046, 0.04885852709412575, 0.04885852709412575, 0.04885852709412575, 0.04885852709412575, 0.04885852709412575, 0.04885852709412575, 0.04885852709412575, 0.04885852709412575, 0.04885852709412575, 0.04885852709412575, 0.048858534544706345, 0.04885852709412575, 0.04885852709412575, 0.04885852709412575, 0.04885852709412575, 0.04885852709412575, 0.048858530819416046, 0.04885852709412575, 0.04885852709412575, 0.04885852709412575, 0.01731524057686329, 0.017315229400992393, 0.017315227538347244, 0.017315227538347244, 0.017315227538347244, 0.017315227538347244, 0.017315227538347244, 0.017315229400992393, 0.017315229400992393, 0.017315227538347244, 0.017315231263637543, 0.017315231263637543, 0.017315229400992393, 0.017315229400992393, 0.017315227538347244, 0.017315229400992393, 0.017315227538347244, 0.017315229400992393, 0.017315227538347244, 0.017315229400992393, 0.017315231263637543, 0.017315231263637543, 0.017315229400992393, 0.017315229400992393, 0.017315229400992393, 0.017315229400992393, 0.017315227538347244, 0.017315227538347244, 0.017315227538347244, 0.017315227538347244, 0.017315227538347244, 0.017315227538347244, 0.01731523498892784, 0.017315229400992393, 0.017315227538347244, 0.017315227538347244, 0.017315227538347244, 0.017315227538347244, 0.017315229400992393, 0.017315227538347244, 0.017315227538347244, 0.017315229400992393, 0.017315227538347244, 0.017315227538347244, 0.017315229400992393, 0.017315227538347244, 0.017315227538347244, 0.017315229400992393, 0.017315227538347244, 0.017315231263637543, 0.017315227538347244, 0.017315229400992393, 0.017315227538347244, 0.4426655173301697, 0.4426655173301697, 0.4426655173301697, 0.44266724586486816, 0.44266724586486816, 0.44266724586486816, 0.040242359042167664, 0.04024233669042587, 0.040242332965135574, 0.040242332965135574, 0.040242332965135574, 0.040242332965135574, 0.040242332965135574, 0.04024233669042587, 0.04024234041571617, 0.04024233669042587, 0.040242332965135574, 0.04024233669042587, 0.04024233669042587, 0.040242332965135574, 0.04024233669042587, 0.040242332965135574, 0.040242332965135574, 0.04024233669042587, 0.04024233669042587, 0.04024233669042587, 0.04024233669042587, 0.04024233669042587, 0.04024233669042587, 0.04024233669042587, 0.040242332965135574, 0.040242332965135574, 0.040242332965135574, 0.040242332965135574, 0.040242332965135574, 0.04024234041571617, 0.04024234041571617, 0.04024234041571617, 0.04024235159158707, 0.04024234041571617, 0.04024234041571617, 0.04024234041571617, 0.04024234041571617, 0.040242332965135574, 0.040242332965135574, 0.040242332965135574, 0.040242332965135574, 0.04024233669042587, 0.04024233669042587, 0.040242332965135574, 0.040242332965135574, 0.21833805739879608, 0.019848929718136787, 0.019848929718136787, 0.019848929718136787, 0.019848929718136787, 0.019848929718136787, 0.019848929718136787, 0.019848929718136787, 0.019848929718136787, 0.019848929718136787, 0.019848933443427086, 0.019848929718136787, 0.019848929718136787, 0.019848929718136787, 0.019848929718136787, 0.019848929718136787, 0.019848929718136787, 0.019848929718136787, 0.019848929718136787, 0.019848929718136787, 0.019848933443427086, 0.019848929718136787, 0.019848929718136787, 0.019848929718136787, 0.019848929718136787, 0.019848929718136787, 0.019848929718136787, 0.019848929718136787, 0.019848929718136787, 0.019848929718136787, 0.019848929718136787, 0.019848929718136787, 0.019848933443427086, 0.019848933443427086, 0.019848933443427086, 0.019848933443427086, 0.019848933443427086, 0.019848933443427086, 0.019848933443427086, 0.019848935306072235, 0.019848933443427086, 0.019848933443427086, 0.019848933443427086, 0.019848929718136787, 0.019848929718136787, 0.019848929718136787, 0.019848929718136787, 0.019848929718136787, 0.019848929718136787, 0.019848929718136787, 0.019848929718136787, 0.019848929718136787, 0.019848929718136787, 0.5958006978034973, 0.5958006978034973, 0.5958006978034973, 0.5958006978034973, 0.5958006978034973, 0.5958006978034973, 0.5958006978034973, 0.5958006978034973, 0.5958006978034973, 0.5958006978034973, 0.5958006978034973, 0.5958006978034973, 0.5958011150360107, 0.5958013534545898, 0.5958036780357361, 0.05416373535990715, 0.054163724184036255, 0.05416371673345566, 0.05416371673345566, 0.05416371673345566, 0.05416371673345566, 0.05416371673345566, 0.054163724184036255, 0.05416371673345566, 0.05416371673345566, 0.05416372790932655, 0.05416371673345566, 0.054163724184036255, 0.054163724184036255, 0.054163724184036255, 0.054163724184036255, 0.05416371673345566, 0.054163724184036255, 0.054163724184036255, 0.054163724184036255, 0.05416371673345566, 0.05416371673345566, 0.05416371673345566, 0.05416371673345566, 0.05416371673345566, 0.05416371673345566, 0.054163724184036255, 0.054163724184036255, 0.05416371673345566, 0.05416371673345566, 0.05416371673345566, 1.4060815572738647, 0.7365190982818604, 0.7365190982818604, 0.736518919467926, 0.736518919467926, 0.736518919467926, 0.7365189790725708, 0.7365190982818604, 0.7365190982818604, 0.7365190982818604, 0.7365190982818604, 0.736518919467926, 0.7365189790725708, 0.7365189790725708, 0.7365189790725708, 0.7365189790725708, 0.7365189790725708, 0.7365189790725708, 0.736518919467926, 0.7365161776542664, 0.7365161776542664, 0.7365161776542664, 0.7365182042121887, 0.7365185618400574, 0.7365204691886902, 0.06695632636547089, 0.0669562891125679, 0.0669562891125679, 0.0669562816619873, 0.0669562816619873, 0.0669562816619873, 0.0669562816619873, 0.0669562891125679, 0.0669562816619873, 0.0669562816619873, 0.0669563040137291, 0.0669562816619873, 0.0669562891125679, 0.0669562891125679, 0.442665159702301, 0.442665159702301, 0.44266510009765625, 0.44266510009765625, 0.44266510009765625, 0.44266510009765625, 0.04024232178926468, 0.04024229571223259, 0.04024229571223259, 0.04024229571223259, 0.04024229571223259, 0.04024229571223259, 0.04024229571223259, 0.04024229571223259, 0.04024229571223259, 0.04024229571223259, 0.04024229571223259, 0.04024229571223259, 0.04024229571223259, 0.04024229571223259, 0.04024229571223259, 0.04024229571223259, 0.04024229571223259, 0.04024229571223259, 0.04024229571223259, 0.04024229571223259, 0.04024229571223259, 0.04024229571223259, 0.04024229571223259, 0.04024229571223259, 0.04024229571223259, 0.04024229571223259, 0.04024229571223259, 0.04024229571223259, 0.04024229571223259, 0.04024229571223259, 0.04024229571223259, 0.04024229571223259, 0.04024229571223259, 0.04024229571223259, 0.04024229571223259, 0.04024229571223259, 0.04024229571223259, 0.04024229571223259, 0.04024229571223259, 0.04024229571223259, 0.04024229571223259], \"Term\": [\"radio\", \"network\", \"cognitive\", \"programming\", \"circuit\", \"pixel\", \"retinal\", \"sensor\", \"image\", \"stimulation\", \"spike\", \"large\", \"connectivity\", \"scale\", \"system\", \"database\", \"computer\", \"object\", \"processor\", \"management\", \"design\", \"generation\", \"realistic\", \"transformation\", \"shape\", \"polyhedral\", \"simple\", \"domain\", \"chemical\", \"model\", \"system\", \"database\", \"technical\", \"h.264/avc\", \"integration\", \"linear\", \"piece\", \"rigorous\", \"reduce\", \"overview\", \"subdivision\", \"uniform\", \"surface\", \"toward\", \"recursive\", \"complexity\", \"practical\", \"issue\", \"continuous\", \"encoding\", \"selection\", \"constraint\", \"distribute\", \"management\", \"programming\", \"image\", \"pixel\", \"retinal\", \"spike\", \"sensor\", \"stimulation\", \"scale\", \"large\", \"circuit\", \"framework\", \"model\", \"accelerate\", \"fault\", \"challenge\", \"architecture\", \"tolerance\", \"storage\", \"arithmetic\", \"operations\", \"parallel\", \"regenerate\", \"byzantine\", \"code\", \"exact\", \"search\", \"opportunity\", \"processor\", \"distribute\", \"graphics\", \"programming\", \"image\", \"pixel\", \"retinal\", \"spike\", \"sensor\", \"stimulation\", \"scale\", \"connectivity\", \"large\", \"shape\", \"realistic\", \"simple\", \"reaction\", \"chemical\", \"model\", \"domain\", \"circuit\", \"object\", \"document\", \"relaxation\", \"perturbation\", \"output\", \"modeling\", \"device\", \"computer\", \"bin\", \"algorithm\", \"multi\", \"shaders\", \"hardness\", \"level\", \"problem\", \"survivable\", \"accelerate\", \"hardware\", \"reference\", \"battery\", \"framework\", \"optimal\", \"wireless\", \"multiversion\", \"document\", \"node\", \"approximation\", \"using\", \"current\", \"speed\", \"class\", \"management\", \"object\", \"efficient\", \"circuit\", \"programming\", \"spike\", \"pixel\", \"retinal\", \"image\", \"stimulation\", \"sensor\", \"connectivity\", \"large\", \"scale\", \"device\", \"architecture\", \"relaxation\", \"query\", \"chemical\", \"domain\", \"polyhedral\", \"shape\", \"reaction\", \"model\", \"transformation\", \"generation\", \"realistic\", \"simple\", \"object\", \"circuit\", \"programming\", \"image\", \"pixel\", \"retinal\", \"spike\", \"sensor\", \"stimulation\", \"scale\", \"connectivity\", \"large\", \"query\", \"relaxation\", \"output\", \"offset\", \"perturbation\", \"cancellation\", \"crossing\", \"base\", \"instruction\", \"folding\", \"stack\", \"memory\", \"parallel\", \"device\", \"multiversion\", \"management\", \"document\", \"accurate\", \"aid\", \"algorithm\", \"bin\", \"computer\", \"modeling\", \"operations\", \"architecture\", \"programming\", \"spike\", \"image\", \"pixel\", \"retinal\", \"sensor\", \"stimulation\", \"connectivity\", \"large\", \"scale\", \"realistic\", \"generation\", \"domain\", \"transformation\", \"model\", \"polyhedral\", \"reaction\", \"simple\", \"chemical\", \"shape\", \"output\", \"query\", \"relaxation\", \"offset\", \"base\", \"folding\", \"perturbation\", \"crossing\", \"cancellation\", \"stack\", \"memory\", \"instruction\", \"circuit\", \"toward\", \"accurate\", \"aid\", \"algorithm\", \"bin\", \"computer\", \"device\", \"modeling\", \"shaders\", \"architecture\", \"arithmetic\", \"graphics\", \"operations\", \"parallel\", \"processor\", \"document\", \"management\", \"multiversion\", \"reference\", \"using\", \"connectivity\", \"large\", \"scale\", \"cognitive\", \"network\", \"radio\", \"programming\", \"image\", \"pixel\", \"retinal\", \"spike\", \"sensor\", \"stimulation\", \"reaction\", \"realistic\", \"shape\", \"model\", \"generation\", \"simple\", \"chemical\", \"transformation\", \"polyhedral\", \"domain\", \"instruction\", \"base\", \"crossing\", \"output\", \"perturbation\", \"relaxation\", \"query\", \"folding\", \"offset\", \"cancellation\", \"memory\", \"stack\", \"graphics\", \"search\", \"speed\", \"circuit\", \"subdivision\", \"processor\", \"management\", \"object\", \"bin\", \"aid\", \"algorithm\", \"accurate\", \"computer\", \"toward\", \"device\", \"modeling\", \"programming\", \"image\", \"pixel\", \"retinal\", \"spike\", \"sensor\", \"stimulation\", \"connectivity\", \"scale\", \"large\", \"realistic\", \"reaction\", \"domain\", \"chemical\", \"transformation\", \"polyhedral\", \"generation\", \"simple\", \"model\", \"shape\", \"output\", \"perturbation\", \"query\", \"relaxation\", \"offset\", \"base\", \"crossing\", \"cancellation\", \"memory\", \"folding\", \"instruction\", \"stack\", \"subdivision\", \"opportunity\", \"challenge\", \"design\", \"object\", \"database\", \"processor\", \"circuit\", \"management\", \"constraint\", \"system\", \"accurate\", \"algorithm\", \"aid\", \"computer\", \"bin\", \"toward\", \"device\", \"modeling\", \"architecture\", \"arithmetic\", \"perturbation\", \"stack\", \"query\", \"relaxation\", \"base\", \"cancellation\", \"crossing\", \"offset\", \"output\", \"folding\", \"instruction\", \"memory\", \"processor\", \"design\", \"circuit\", \"programming\", \"spike\", \"image\", \"stimulation\", \"sensor\", \"retinal\", \"pixel\", \"large\", \"connectivity\", \"scale\", \"generation\", \"chemical\", \"domain\", \"transformation\", \"shape\", \"realistic\", \"model\", \"polyhedral\", \"simple\", \"toward\", \"accurate\", \"reaction\", \"device\", \"aid\", \"algorithm\", \"bin\", \"computer\", \"shaders\", \"modeling\", \"architecture\", \"arithmetic\", \"computer\", \"cooperation\", \"allocation\", \"aid\", \"algorithm\", \"bin\", \"device\", \"resource\", \"ofdma\", \"flexible\", \"channel\", \"accurate\", \"parameter\", \"setting\", \"animation\", \"approach\", \"gallery\", \"general\", \"modeling\", \"cognitive\", \"network\", \"radio\", \"design\", \"graphics\", \"efficient\", \"programming\", \"image\", \"spike\", \"pixel\", \"retinal\", \"stimulation\", \"sensor\", \"large\", \"scale\", \"connectivity\", \"circuit\", \"output\", \"perturbation\", \"query\", \"stimulation\", \"sensor\", \"retinal\", \"spike\", \"image\", \"pixel\", \"programming\", \"connectivity\", \"scale\", \"large\", \"reaction\", \"generation\", \"simple\", \"polyhedral\", \"shape\", \"realistic\", \"domain\", \"transformation\", \"model\", \"chemical\", \"crossing\", \"base\", \"offset\", \"instruction\", \"output\", \"perturbation\", \"query\", \"relaxation\", \"stack\", \"folding\", \"memory\", \"cancellation\", \"aid\", \"algorithm\", \"accurate\", \"computer\", \"device\", \"modeling\", \"bin\", \"toward\", \"architecture\", \"arithmetic\", \"graphics\", \"operations\", \"parallel\", \"processor\", \"document\"], \"Total\": [1.0, 1.0, 1.0, 0.0, 2.0, 0.0, 0.0, 0.0, 0.0, 0.0, 0.0, 0.0, 0.0, 0.0, 1.0, 1.0, 1.0, 1.0, 1.0, 2.0, 1.0, 0.0, 0.0, 0.0, 0.0, 0.0, 0.0, 0.0, 0.0, 0.0, 1.7319751977920532, 1.7319751977920532, 1.1014991998672485, 1.1014991998672485, 1.1014991998672485, 1.1014991998672485, 1.1014991998672485, 1.1014991998672485, 1.1014991998672485, 1.1014991998672485, 1.101499319076538, 1.101499319076538, 1.101499319076538, 1.101499319076538, 1.101499319076538, 1.101499319076538, 1.101499319076538, 1.101499319076538, 1.101499319076538, 1.101499319076538, 1.101499319076538, 1.101499319076538, 1.6746646165847778, 2.36213755607605, 0.6695128083229065, 0.8734462261199951, 0.8734462261199951, 0.8734462261199951, 0.8734462261199951, 0.8734462857246399, 0.8734462857246399, 0.8734465837478638, 0.8734465837478638, 2.1315624713897705, 1.1013425588607788, 0.9596084952354431, 1.1013425588607788, 1.0441887378692627, 1.0441887378692627, 1.0441887378692627, 1.0441887378692627, 1.0441887378692627, 1.0441887378692627, 1.0441887378692627, 1.0441887378692627, 1.0441887378692627, 1.0441887378692627, 1.0441887378692627, 1.0441887378692627, 1.0441888570785522, 1.0441888570785522, 1.585825800895691, 1.6746646165847778, 1.7137514352798462, 0.6695128083229065, 0.8734462261199951, 0.8734462261199951, 0.8734462261199951, 0.8734462261199951, 0.8734462857246399, 0.8734462857246399, 0.8734465837478638, 0.8734465837478638, 0.8734465837478638, 0.9596085548400879, 0.9596085548400879, 0.9596085548400879, 0.9596084952354431, 0.9596084952354431, 0.9596084952354431, 0.9596085548400879, 2.1315624713897705, 1.5899271965026855, 1.1013425588607788, 1.0126603841781616, 1.0126603841781616, 1.0126603841781616, 1.140586018562317, 1.1405861377716064, 1.8101487159729004, 1.140586018562317, 1.140586018562317, 1.1013425588607788, 1.1013425588607788, 1.1013425588607788, 1.1013425588607788, 1.1013425588607788, 1.1013425588607788, 1.1013425588607788, 1.1013425588607788, 1.1013425588607788, 1.1013425588607788, 1.1013425588607788, 1.1013425588607788, 1.1013425588607788, 1.1013425588607788, 1.1013425588607788, 1.1013425588607788, 1.1013425588607788, 1.1013425588607788, 1.1013425588607788, 1.1013425588607788, 1.1013425588607788, 2.36213755607605, 1.5899271965026855, 1.7709053754806519, 2.1315624713897705, 0.6695128083229065, 0.8734462261199951, 0.8734462261199951, 0.8734462261199951, 0.8734462261199951, 0.8734462857246399, 0.8734462857246399, 0.8734465837478638, 0.8734465837478638, 0.8734465837478638, 1.1405861377716064, 1.0441887378692627, 1.0126603841781616, 1.0126603841781616, 0.9596084952354431, 0.9596085548400879, 0.9596085548400879, 0.9596085548400879, 0.9596084952354431, 0.9596084952354431, 0.9596085548400879, 0.9596085548400879, 0.9596085548400879, 0.9596085548400879, 1.5899271965026855, 2.1315624713897705, 0.6695128083229065, 0.8734462261199951, 0.8734462261199951, 0.8734462261199951, 0.8734462261199951, 0.8734462857246399, 0.8734462857246399, 0.8734465837478638, 0.8734465837478638, 0.8734465837478638, 1.0126603841781616, 1.0126603841781616, 1.0126603841781616, 1.0126603841781616, 1.0126603841781616, 1.0126603841781616, 1.0126603841781616, 1.0126603841781616, 1.0126603841781616, 1.0126603841781616, 1.0126603841781616, 1.0126603841781616, 1.0441887378692627, 1.1405861377716064, 1.1013425588607788, 2.36213755607605, 1.1013425588607788, 1.140586018562317, 1.140586018562317, 1.140586018562317, 1.140586018562317, 1.8101487159729004, 1.140586018562317, 1.0441887378692627, 1.0441887378692627, 0.6695128083229065, 0.8734462261199951, 0.8734462261199951, 0.8734462261199951, 0.8734462261199951, 0.8734462857246399, 0.8734462857246399, 0.8734465837478638, 0.8734465837478638, 0.8734465837478638, 0.9596085548400879, 0.9596085548400879, 0.9596085548400879, 0.9596085548400879, 0.9596084952354431, 0.9596085548400879, 0.9596084952354431, 0.9596085548400879, 0.9596084952354431, 0.9596085548400879, 1.0126603841781616, 1.0126603841781616, 1.0126603841781616, 1.0126603841781616, 1.0126603841781616, 1.0126603841781616, 1.0126603841781616, 1.0126603841781616, 1.0126603841781616, 1.0126603841781616, 1.0126603841781616, 1.0126603841781616, 2.1315624713897705, 1.101499319076538, 1.140586018562317, 1.140586018562317, 1.140586018562317, 1.140586018562317, 1.8101487159729004, 1.1405861377716064, 1.140586018562317, 1.1013425588607788, 1.0441887378692627, 1.0441887378692627, 1.7137514352798462, 1.0441887378692627, 1.0441887378692627, 1.585825800895691, 1.1013425588607788, 2.36213755607605, 1.1013425588607788, 1.1013425588607788, 1.1013425588607788, 0.8734465837478638, 0.8734465837478638, 0.8734465837478638, 1.5430082082748413, 1.5430082082748413, 1.5430082082748413, 0.6695128083229065, 0.8734462261199951, 0.8734462261199951, 0.8734462261199951, 0.8734462261199951, 0.8734462857246399, 0.8734462857246399, 0.9596084952354431, 0.9596085548400879, 0.9596085548400879, 0.9596084952354431, 0.9596085548400879, 0.9596085548400879, 0.9596084952354431, 0.9596085548400879, 0.9596085548400879, 0.9596085548400879, 1.0126603841781616, 1.0126603841781616, 1.0126603841781616, 1.0126603841781616, 1.0126603841781616, 1.0126603841781616, 1.0126603841781616, 1.0126603841781616, 1.0126603841781616, 1.0126603841781616, 1.0126603841781616, 1.0126603841781616, 1.7137514352798462, 1.0441888570785522, 1.1013425588607788, 2.1315624713897705, 1.101499319076538, 1.585825800895691, 2.36213755607605, 1.5899271965026855, 1.140586018562317, 1.140586018562317, 1.140586018562317, 1.140586018562317, 1.8101487159729004, 1.101499319076538, 1.1405861377716064, 1.140586018562317, 0.6695128083229065, 0.8734462261199951, 0.8734462261199951, 0.8734462261199951, 0.8734462261199951, 0.8734462857246399, 0.8734462857246399, 0.8734465837478638, 0.8734465837478638, 0.8734465837478638, 0.9596085548400879, 0.9596084952354431, 0.9596085548400879, 0.9596084952354431, 0.9596085548400879, 0.9596085548400879, 0.9596085548400879, 0.9596085548400879, 0.9596084952354431, 0.9596085548400879, 1.0126603841781616, 1.0126603841781616, 1.0126603841781616, 1.0126603841781616, 1.0126603841781616, 1.0126603841781616, 1.0126603841781616, 1.0126603841781616, 1.0126603841781616, 1.0126603841781616, 1.0126603841781616, 1.0126603841781616, 1.101499319076538, 1.0441888570785522, 1.0441887378692627, 1.6822229623794556, 1.5899271965026855, 1.7319751977920532, 1.585825800895691, 2.1315624713897705, 2.36213755607605, 1.101499319076538, 1.7319751977920532, 1.140586018562317, 1.140586018562317, 1.140586018562317, 1.8101487159729004, 1.140586018562317, 1.101499319076538, 1.1405861377716064, 1.140586018562317, 1.0441887378692627, 1.0441887378692627, 1.0126603841781616, 1.0126603841781616, 1.0126603841781616, 1.0126603841781616, 1.0126603841781616, 1.0126603841781616, 1.0126603841781616, 1.0126603841781616, 1.0126603841781616, 1.0126603841781616, 1.0126603841781616, 1.0126603841781616, 1.585825800895691, 1.6822229623794556, 2.1315624713897705, 0.6695128083229065, 0.8734462261199951, 0.8734462261199951, 0.8734462857246399, 0.8734462857246399, 0.8734462261199951, 0.8734462261199951, 0.8734465837478638, 0.8734465837478638, 0.8734465837478638, 0.9596085548400879, 0.9596084952354431, 0.9596085548400879, 0.9596085548400879, 0.9596085548400879, 0.9596085548400879, 0.9596084952354431, 0.9596085548400879, 0.9596085548400879, 1.101499319076538, 1.140586018562317, 0.9596084952354431, 1.1405861377716064, 1.140586018562317, 1.140586018562317, 1.140586018562317, 1.8101487159729004, 1.1013425588607788, 1.140586018562317, 1.0441887378692627, 1.0441887378692627, 1.8101487159729004, 1.140586256980896, 1.140586256980896, 1.140586018562317, 1.140586018562317, 1.140586018562317, 1.1405861377716064, 1.140586256980896, 1.140586256980896, 1.140586256980896, 1.140586256980896, 1.140586018562317, 1.1405861377716064, 1.1405861377716064, 1.1405861377716064, 1.1405861377716064, 1.1405861377716064, 1.1405861377716064, 1.140586018562317, 1.5430082082748413, 1.5430082082748413, 1.5430082082748413, 1.6822229623794556, 1.7137514352798462, 1.7709053754806519, 0.6695128083229065, 0.8734462261199951, 0.8734462261199951, 0.8734462261199951, 0.8734462261199951, 0.8734462857246399, 0.8734462857246399, 0.8734465837478638, 0.8734465837478638, 0.8734465837478638, 2.1315624713897705, 1.0126603841781616, 1.0126603841781616, 1.0126603841781616, 0.8734462857246399, 0.8734462857246399, 0.8734462261199951, 0.8734462261199951, 0.8734462261199951, 0.8734462261199951, 0.6695128083229065, 0.8734465837478638, 0.8734465837478638, 0.8734465837478638, 0.9596084952354431, 0.9596085548400879, 0.9596085548400879, 0.9596085548400879, 0.9596085548400879, 0.9596085548400879, 0.9596085548400879, 0.9596085548400879, 0.9596084952354431, 0.9596084952354431, 1.0126603841781616, 1.0126603841781616, 1.0126603841781616, 1.0126603841781616, 1.0126603841781616, 1.0126603841781616, 1.0126603841781616, 1.0126603841781616, 1.0126603841781616, 1.0126603841781616, 1.0126603841781616, 1.0126603841781616, 1.140586018562317, 1.140586018562317, 1.140586018562317, 1.8101487159729004, 1.1405861377716064, 1.140586018562317, 1.140586018562317, 1.101499319076538, 1.0441887378692627, 1.0441887378692627, 1.7137514352798462, 1.0441887378692627, 1.0441887378692627, 1.585825800895691, 1.1013425588607788], \"loglift\": [30.0, 29.0, 28.0, 27.0, 26.0, 25.0, 24.0, 23.0, 22.0, 21.0, 20.0, 19.0, 18.0, 17.0, 16.0, 15.0, 14.0, 13.0, 12.0, 11.0, 10.0, 9.0, 8.0, 7.0, 6.0, 5.0, 4.0, 3.0, 2.0, 1.0, 1.4630000591278076, 1.4630000591278076, 1.2690000534057617, 1.2690000534057617, 1.2690000534057617, 1.2690000534057617, 1.2690000534057617, 1.2690000534057617, 1.2690000534057617, 1.2690000534057617, 1.2690000534057617, 1.2690000534057617, 1.2690000534057617, 1.2690000534057617, 1.2690000534057617, 1.2690000534057617, 1.2690000534057617, 1.2690000534057617, 1.2690000534057617, 1.2690000534057617, 1.2690000534057617, 1.2690000534057617, 0.8500000238418579, 0.5060999989509583, -0.6310999989509583, -0.8970000147819519, -0.8970000147819519, -0.8970000147819519, -0.8970000147819519, -0.8970000147819519, -0.8970000147819519, -0.8970000147819519, -0.8970000147819519, -1.7891000509262085, -1.1288000345230103, -0.9909999966621399, -1.1288000345230103, 1.593500018119812, 1.593500018119812, 1.593500018119812, 1.593500018119812, 1.593500018119812, 1.593500018119812, 1.593500018119812, 1.593500018119812, 1.593500018119812, 1.593500018119812, 1.593500018119812, 1.593500018119812, 1.593500018119812, 1.593500018119812, 1.1756000518798828, 1.1210999488830566, 1.098099946975708, -0.35989999771118164, -0.6258000135421753, -0.6258000135421753, -0.6258000135421753, -0.6258000135421753, -0.6258000135421753, -0.6258000135421753, -0.6258000135421753, -0.6258000135421753, -0.6258000135421753, -0.7199000120162964, -0.7199000120162964, -0.7199000120162964, -0.7199000120162964, -0.7199000120162964, -0.7199000120162964, -0.7199000120162964, -1.5180000066757202, -1.2247999906539917, -0.857699990272522, -0.7736999988555908, -0.7736999988555908, -0.7736999988555908, -0.8927000164985657, -0.8927000164985657, -1.354599952697754, -0.8927000164985657, -0.8927000164985657, 1.2690999507904053, 1.2690999507904053, 1.2690999507904053, 1.2690999507904053, 1.2690999507904053, 1.2690999507904053, 1.2690999507904053, 1.2690999507904053, 1.2690999507904053, 1.2690999507904053, 1.2690999507904053, 1.2690999507904053, 1.2690999507904053, 1.2690999507904053, 1.2690999507904053, 1.2690999507904053, 1.2690999507904053, 1.2690999507904053, 1.2690999507904053, 1.2690999507904053, 1.2690999507904053, 1.1526999473571777, 0.9018999934196472, 0.7940999865531921, 0.6087999939918518, -0.6310999989509583, -0.8970000147819519, -0.8970000147819519, -0.8970000147819519, -0.8970000147819519, -0.8970000147819519, -0.8970000147819519, -0.8970000147819519, -0.8970000147819519, -0.8970000147819519, -1.1638000011444092, -1.0755000114440918, -1.044800043106079, -1.044800043106079, 1.867900013923645, 1.867900013923645, 1.867900013923645, 1.867900013923645, 1.867900013923645, 1.867900013923645, 1.867900013923645, 1.867900013923645, 1.867900013923645, 1.867900013923645, 1.3630000352859497, 1.0699000358581543, -0.17000000178813934, -0.4359000027179718, -0.4359000027179718, -0.4359000027179718, -0.4359000027179718, -0.4359000027179718, -0.4359000027179718, -0.4359000027179718, -0.4359000027179718, -0.4359000027179718, -0.5838000178337097, -0.5838000178337097, -0.5838000178337097, -0.5838000178337097, -0.5838000178337097, -0.5838000178337097, -0.5838000178337097, -0.5838000178337097, -0.5838000178337097, -0.5838000178337097, -0.5838000178337097, -0.5838000178337097, -0.6144000291824341, -0.7027000188827515, -0.6676999926567078, -1.430799961090088, -0.6676999926567078, -0.7027000188827515, -0.7027000188827515, -0.7027000188827515, -0.7027000188827515, -1.1646000146865845, -0.7027000188827515, -0.6144000291824341, -0.6144000291824341, 0.527400016784668, 0.2615000009536743, 0.2615000009536743, 0.2615000009536743, 0.2615000009536743, 0.2615000009536743, 0.2615000009536743, 0.2615000009536743, 0.2615000009536743, 0.2615000009536743, 0.16740000247955322, 0.16740000247955322, 0.16740000247955322, 0.16740000247955322, 0.16740000247955322, 0.16740000247955322, 0.16740000247955322, 0.16740000247955322, 0.16740000247955322, 0.16740000247955322, 0.1136000007390976, 0.1136000007390976, 0.1136000007390976, 0.1136000007390976, 0.1136000007390976, 0.1136000007390976, 0.1136000007390976, 0.1136000007390976, 0.1136000007390976, 0.1136000007390976, 0.1136000007390976, 0.1136000007390976, -0.6306999921798706, 0.029500000178813934, -0.005400000140070915, -0.005400000140070915, -0.005400000140070915, -0.005400000140070915, -0.4672999978065491, -0.005400000140070915, -0.005400000140070915, 0.029600000008940697, 0.08290000259876251, 0.08290000259876251, -0.4124999940395355, 0.08290000259876251, 0.08290000259876251, -0.33500000834465027, 0.029600000008940697, -0.7333999872207642, 0.029600000008940697, 0.029600000008940697, 0.029600000008940697, 2.2511000633239746, 2.2511000633239746, 2.2511000633239746, 1.6821000576019287, 1.6821000576019287, 1.6821000576019287, 0.11909999698400497, -0.1467999964952469, -0.1467999964952469, -0.1467999964952469, -0.1467999964952469, -0.1467999964952469, -0.1467999964952469, -0.24089999496936798, -0.24089999496936798, -0.24089999496936798, -0.24089999496936798, -0.24089999496936798, -0.24089999496936798, -0.24089999496936798, -0.24089999496936798, -0.24089999496936798, -0.24089999496936798, -0.2946999967098236, -0.2946999967098236, -0.2946999967098236, -0.2946999967098236, -0.2946999967098236, -0.2946999967098236, -0.2946999967098236, -0.2946999967098236, -0.2946999967098236, -0.2946999967098236, -0.2946999967098236, -0.2946999967098236, -0.8208000063896179, -0.3253999948501587, -0.37860000133514404, -1.0390000343322754, -0.37880000472068787, -0.7432000041007996, -1.141700029373169, -0.7458000183105469, -0.41370001435279846, -0.41370001435279846, -0.41370001435279846, -0.41370001435279846, -0.8755000233650208, -0.37880000472068787, -0.41370001435279846, -0.41370001435279846, 2.844599962234497, 0.18080000579357147, 0.18080000579357147, 0.18080000579357147, 0.18080000579357147, 0.18080000579357147, 0.18080000579357147, 0.18080000579357147, 0.18080000579357147, 0.18080000579357147, 0.08669999986886978, 0.08669999986886978, 0.08669999986886978, 0.08669999986886978, 0.08669999986886978, 0.08669999986886978, 0.08669999986886978, 0.08669999986886978, 0.08669999986886978, 0.08669999986886978, 0.03290000185370445, 0.03290000185370445, 0.03290000185370445, 0.03290000185370445, 0.03290000185370445, 0.03290000185370445, 0.03290000185370445, 0.03290000185370445, 0.03290000185370445, 0.03290000185370445, 0.03290000185370445, 0.03290000185370445, -0.05119999870657921, 0.002199999988079071, 0.002199999988079071, -0.474700003862381, -0.41819998621940613, -0.5037999749183655, -0.4156000018119812, -0.7113999724388123, -0.8141000270843506, -0.05119999870657921, -0.5037999749183655, -0.08609999716281891, -0.08609999716281891, -0.08609999716281891, -0.5479000210762024, -0.08609999716281891, -0.05119999870657921, -0.08609999716281891, -0.08609999716281891, 0.002199999988079071, 0.002199999988079071, 1.6958999633789062, 1.6958999633789062, 1.6958999633789062, 1.6958999633789062, 1.6958999633789062, 1.6958999633789062, 1.6958999633789062, 1.6958999633789062, 1.6958999633789062, 1.6958999633789062, 1.6958999633789062, 1.6958999633789062, 1.2474000453948975, 1.1883000135421753, 0.9516000151634216, -0.2881999909877777, -0.554099977016449, -0.554099977016449, -0.554099977016449, -0.554099977016449, -0.554099977016449, -0.554099977016449, -0.554099977016449, -0.554099977016449, -0.554099977016449, -0.6481999754905701, -0.6481999754905701, -0.6481999754905701, -0.6481999754905701, -0.6481999754905701, -0.6481999754905701, -0.6481999754905701, -0.6481999754905701, -0.6481999754905701, -0.7860999703407288, -0.8209999799728394, -0.6481999754905701, -0.8209999799728394, -0.8209999799728394, -0.8209999799728394, -0.8209999799728394, -1.2827999591827393, -0.7860000133514404, -0.8209999799728394, -0.732699990272522, -0.732699990272522, 1.4189000129699707, 1.2340999841690063, 1.2340999841690063, 1.2340999841690063, 1.2340999841690063, 1.2340999841690063, 1.2340999841690063, 1.2340999841690063, 1.2340999841690063, 1.2340999841690063, 1.2340999841690063, 1.2340999841690063, 1.2340999841690063, 1.2340999841690063, 1.2340999841690063, 1.2340999841690063, 1.2340999841690063, 1.2340999841690063, 1.2340999841690063, 0.9319000244140625, 0.9319000244140625, 0.9319000244140625, 0.8454999923706055, 0.8269000053405762, 0.7940999865531921, -0.6310999989509583, -0.8970000147819519, -0.8970000147819519, -0.8970000147819519, -0.8970000147819519, -0.8970000147819519, -0.8970000147819519, -0.8970000147819519, -0.8970000147819519, -0.8970000147819519, -1.7891000509262085, -1.044800043106079, -1.044800043106079, -1.044800043106079, 2.2511000633239746, 2.2511000633239746, 2.2511000633239746, 2.2511000633239746, 2.2511000633239746, 2.2511000633239746, 0.11909999698400497, -0.1467999964952469, -0.1467999964952469, -0.1467999964952469, -0.24089999496936798, -0.24089999496936798, -0.24089999496936798, -0.24089999496936798, -0.24089999496936798, -0.24089999496936798, -0.24089999496936798, -0.24089999496936798, -0.24089999496936798, -0.24089999496936798, -0.2946999967098236, -0.2946999967098236, -0.2946999967098236, -0.2946999967098236, -0.2946999967098236, -0.2946999967098236, -0.2946999967098236, -0.2946999967098236, -0.2946999967098236, -0.2946999967098236, -0.2946999967098236, -0.2946999967098236, -0.41370001435279846, -0.41370001435279846, -0.41370001435279846, -0.8755000233650208, -0.41370001435279846, -0.41370001435279846, -0.41370001435279846, -0.37880000472068787, -0.3253999948501587, -0.3253999948501587, -0.8208000063896179, -0.3253999948501587, -0.3253999948501587, -0.7432000041007996, -0.37860000133514404], \"logprob\": [30.0, 29.0, 28.0, 27.0, 26.0, 25.0, 24.0, 23.0, 22.0, 21.0, 20.0, 19.0, 18.0, 17.0, 16.0, 15.0, 14.0, 13.0, 12.0, 11.0, 10.0, 9.0, 8.0, 7.0, 6.0, 5.0, 4.0, 3.0, 2.0, 1.0, -2.8929998874664307, -2.8929998874664307, -3.539599895477295, -3.539599895477295, -3.539599895477295, -3.539599895477295, -3.539599895477295, -3.539599895477295, -3.539599895477295, -3.539599895477295, -3.539599895477295, -3.539599895477295, -3.539599895477295, -3.539599895477295, -3.539599895477295, -3.539599895477295, -3.539599895477295, -3.539599895477295, -3.539599895477295, -3.539599895477295, -3.539599895477295, -3.539599895477295, -3.539599895477295, -3.539599895477295, -5.9375, -5.9375, -5.9375, -5.9375, -5.9375, -5.9375, -5.9375, -5.9375, -5.9375, -5.9375, -5.9375, -5.9375, -5.9375, -3.2685000896453857, -3.2685000896453857, -3.2685000896453857, -3.2685000896453857, -3.2685000896453857, -3.2685000896453857, -3.2685000896453857, -3.2685000896453857, -3.2685000896453857, -3.2685000896453857, -3.2685000896453857, -3.2685000896453857, -3.2685000896453857, -3.2685000896453857, -3.2685000896453857, -3.2685000896453857, -3.2685000896453857, -5.666399955749512, -5.666399955749512, -5.666399955749512, -5.666399955749512, -5.666399955749512, -5.666399955749512, -5.666399955749512, -5.666399955749512, -5.666399955749512, -5.666399955749512, -5.666399955749512, -5.666399955749512, -5.666399955749512, -5.666399955749512, -5.666399955749512, -5.666399955749512, -5.666399955749512, -5.666399955749512, -5.666399955749512, -5.666399955749512, -5.666399955749512, -5.666399955749512, -5.666399955749512, -5.666399955749512, -5.666399955749512, -5.666399955749512, -5.666399955749512, -5.666399955749512, -3.539599895477295, -3.539599895477295, -3.539599895477295, -3.539599895477295, -3.539599895477295, -3.539599895477295, -3.539599895477295, -3.539599895477295, -3.539599895477295, -3.539599895477295, -3.539599895477295, -3.539599895477295, -3.539599895477295, -3.539599895477295, -3.539599895477295, -3.539599895477295, -3.539599895477295, -3.539599895477295, -3.539599895477295, -3.539599895477295, -3.539599895477295, -2.8929998874664307, -3.539599895477295, -3.539599895477295, -3.5397000312805176, -5.9375, -5.9375, -5.9375, -5.9375, -5.9375, -5.9375, -5.9375, -5.9375, -5.9375, -5.9375, -5.9375, -5.9375, -5.9375, -5.9375, -3.0785999298095703, -3.0785999298095703, -3.0785999298095703, -3.0785999298095703, -3.0785999298095703, -3.0785999298095703, -3.0785999298095703, -3.0785999298095703, -3.0785999298095703, -3.0785999298095703, -3.0785999298095703, -3.0785999298095703, -5.476500034332275, -5.476500034332275, -5.476500034332275, -5.476500034332275, -5.476500034332275, -5.476500034332275, -5.476500034332275, -5.476500034332275, -5.476500034332275, -5.476500034332275, -5.476500034332275, -5.476500034332275, -5.476500034332275, -5.476500034332275, -5.476500034332275, -5.476500034332275, -5.476500034332275, -5.476500034332275, -5.476500034332275, -5.476500034332275, -5.476500034332275, -5.476500034332275, -5.476500034332275, -5.476500034332275, -5.476500034332275, -5.476500034332275, -5.476500034332275, -5.476500034332275, -5.476500034332275, -5.476500034332275, -5.476500034332275, -5.476500034332275, -5.476500034332275, -5.476500034332275, -5.476500034332275, -4.779099941253662, -4.779099941253662, -4.779099941253662, -4.779099941253662, -4.779099941253662, -4.779099941253662, -4.779099941253662, -4.779099941253662, -4.779099941253662, -4.779099941253662, -4.779099941253662, -4.779099941253662, -4.779099941253662, -4.779099941253662, -4.779099941253662, -4.779099941253662, -4.779099941253662, -4.779099941253662, -4.779099941253662, -4.779099941253662, -4.779099941253662, -4.779099941253662, -4.779099941253662, -4.779099941253662, -4.779099941253662, -4.779099941253662, -4.779099941253662, -4.779099941253662, -4.779099941253662, -4.779099941253662, -4.779099941253662, -4.779099941253662, -4.779099941253662, -4.779099941253662, -4.779099941253662, -4.779099941253662, -4.779099941253662, -4.779099941253662, -4.779099941253662, -4.779099941253662, -4.779099941253662, -4.779099941253662, -4.779099941253662, -4.779099941253662, -4.779099941253662, -4.779099941253662, -4.779099941253662, -4.779099941253662, -4.779099941253662, -4.779099941253662, -4.779099941253662, -4.779099941253662, -4.779099941253662, -2.7894999980926514, -2.7894999980926514, -2.7894999980926514, -2.7894999980926514, -2.7894999980926514, -2.7894999980926514, -5.187399864196777, -5.187399864196777, -5.187399864196777, -5.187399864196777, -5.187399864196777, -5.187399864196777, -5.187399864196777, -5.187399864196777, -5.187399864196777, -5.187399864196777, -5.187399864196777, -5.187399864196777, -5.187399864196777, -5.187399864196777, -5.187399864196777, -5.187399864196777, -5.187399864196777, -5.187399864196777, -5.187399864196777, -5.187399864196777, -5.187399864196777, -5.187399864196777, -5.187399864196777, -5.187399864196777, -5.187399864196777, -5.187399864196777, -5.187399864196777, -5.187399864196777, -5.187399864196777, -5.187399864196777, -5.187399864196777, -5.187399864196777, -5.187399864196777, -5.187399864196777, -5.187399864196777, -5.187399864196777, -5.187399864196777, -5.187399864196777, -5.187399864196777, -5.187399864196777, -5.187399864196777, -5.187399864196777, -5.187399864196777, -5.187399864196777, -5.187399864196777, -2.461899995803833, -4.859799861907959, -4.859799861907959, -4.859799861907959, -4.859799861907959, -4.859799861907959, -4.859799861907959, -4.859799861907959, -4.859799861907959, -4.859799861907959, -4.859799861907959, -4.859799861907959, -4.859799861907959, -4.859799861907959, -4.859799861907959, -4.859799861907959, -4.859799861907959, -4.859799861907959, -4.859799861907959, -4.859799861907959, -4.859799861907959, -4.859799861907959, -4.859799861907959, -4.859799861907959, -4.859799861907959, -4.859799861907959, -4.859799861907959, -4.859799861907959, -4.859799861907959, -4.859799861907959, -4.859799861907959, -4.859799861907959, -4.859799861907959, -4.859799861907959, -4.859799861907959, -4.859799861907959, -4.859799861907959, -4.859799861907959, -4.859799861907959, -4.859799861907959, -4.859799861907959, -4.859799861907959, -4.859799861907959, -4.859799861907959, -4.859799861907959, -4.859799861907959, -4.859799861907959, -4.859799861907959, -4.859799861907959, -4.859799861907959, -4.859799861907959, -4.859799861907959, -4.859799861907959, -3.1967999935150146, -3.1967999935150146, -3.1967999935150146, -3.1967999935150146, -3.1967999935150146, -3.1967999935150146, -3.1967999935150146, -3.1967999935150146, -3.1967999935150146, -3.1967999935150146, -3.1967999935150146, -3.1967999935150146, -3.1967999935150146, -3.1967999935150146, -3.1967999935150146, -5.594699859619141, -5.594699859619141, -5.594699859619141, -5.594699859619141, -5.594699859619141, -5.594699859619141, -5.594699859619141, -5.594699859619141, -5.594699859619141, -5.594699859619141, -5.594699859619141, -5.594699859619141, -5.594699859619141, -5.594699859619141, -5.594699859619141, -5.594699859619141, -5.594699859619141, -5.594699859619141, -5.594699859619141, -5.594699859619141, -5.594699859619141, -5.594699859619141, -5.594699859619141, -5.594699859619141, -5.594699859619141, -5.594699859619141, -5.594699859619141, -5.594699859619141, -5.594699859619141, -5.594699859619141, -5.594699859619141, -2.8929998874664307, -3.539599895477295, -3.539599895477295, -3.539599895477295, -3.539599895477295, -3.539599895477295, -3.539599895477295, -3.539599895477295, -3.539599895477295, -3.539599895477295, -3.539599895477295, -3.539599895477295, -3.539599895477295, -3.539599895477295, -3.539599895477295, -3.539599895477295, -3.539599895477295, -3.539599895477295, -3.539599895477295, -3.539599895477295, -3.539599895477295, -3.539599895477295, -3.539599895477295, -3.539599895477295, -3.539599895477295, -5.9375, -5.9375, -5.9375, -5.9375, -5.9375, -5.9375, -5.9375, -5.9375, -5.9375, -5.9375, -5.9375, -5.9375, -5.9375, -5.9375, -2.7894999980926514, -2.7894999980926514, -2.7894999980926514, -2.7894999980926514, -2.7894999980926514, -2.7894999980926514, -5.187399864196777, -5.187399864196777, -5.187399864196777, -5.187399864196777, -5.187399864196777, -5.187399864196777, -5.187399864196777, -5.187399864196777, -5.187399864196777, -5.187399864196777, -5.187399864196777, -5.187399864196777, -5.187399864196777, -5.187399864196777, -5.187399864196777, -5.187399864196777, -5.187399864196777, -5.187399864196777, -5.187399864196777, -5.187399864196777, -5.187399864196777, -5.187399864196777, -5.187399864196777, -5.187399864196777, -5.187399864196777, -5.187399864196777, -5.187399864196777, -5.187399864196777, -5.187399864196777, -5.187399864196777, -5.187399864196777, -5.187399864196777, -5.187399864196777, -5.187399864196777, -5.187399864196777, -5.187399864196777, -5.187399864196777, -5.187399864196777, -5.187399864196777, -5.187399864196777, -5.187399864196777]}, \"token.table\": {\"Topic\": [3, 9, 9, 9, 9, 9, 9, 3, 2, 2, 8, 3, 9, 2, 8, 2, 9, 4, 3, 4, 8, 3, 2, 9, 1, 9, 1, 1, 9, 8, 3, 1, 8, 9, 9, 1, 2, 3, 4, 3, 9, 1, 2, 2, 9, 8, 3, 9, 9, 4, 2, 9, 1, 3, 3, 8, 1, 1, 3, 1, 1, 3, 8, 4, 9, 3, 3, 9, 3, 3, 4, 9, 8, 2, 2, 3, 8, 1, 2, 9, 8, 1, 4, 1, 3, 2, 8, 8, 9, 4, 4, 1, 1, 3, 2, 8, 9, 1, 2, 1, 9, 3, 4, 4, 3, 8, 2, 1, 1, 3, 1, 1, 2, 1, 4, 1, 3, 3], \"Freq\": [0.9079827070236206, 0.8767423033714294, 0.8767423033714294, 0.8767423033714294, 0.8767421245574951, 0.8767421841621399, 0.8767421841621399, 0.9079827070236206, 0.9576812982559204, 0.9576812982559204, 0.9874979257583618, 0.9079827070236206, 0.8767423033714294, 0.9576812982559204, 0.9874979257583618, 0.9576812982559204, 0.8767421245574951, 1.0420916080474854, 0.46913942694664, 0.46913942694664, 0.46913942694664, 0.9079827070236206, 0.9576812982559204, 0.6480847001075745, 0.9078534841537476, 0.5524408221244812, 0.9078534841537476, 0.9078534841537476, 0.8767421245574951, 0.9874979257583618, 0.9079827070236206, 0.5773754715919495, 0.5944515466690063, 0.5944515466690063, 0.8767421841621399, 0.5971344709396362, 0.5971344709396362, 0.9079827070236206, 1.0420916080474854, 0.5646829009056091, 0.5646829009056091, 0.9078534841537476, 0.9576812982559204, 0.9576812982559204, 0.8767421245574951, 0.9874979257583618, 0.9079827070236206, 0.8767421841621399, 0.8767421841621399, 1.0420916080474854, 0.5835151672363281, 0.5835151672363281, 0.9078536033630371, 0.9079827070236206, 0.9079827070236206, 0.9874979257583618, 0.9078536033630371, 0.9078534841537476, 0.9079827070236206, 0.9078536033630371, 0.4233453571796417, 0.4233453571796417, 0.9874979257583618, 1.0420916080474854, 0.8767423033714294, 0.9079827070236206, 0.9079827070236206, 0.6480847001075745, 0.9079827070236206, 0.628959596157074, 0.628959596157074, 0.8767421245574951, 0.9874979257583618, 0.9576812982559204, 0.9576811790466309, 0.9079827070236206, 0.9874979257583618, 0.9078536033630371, 0.9576812982559204, 0.8767421841621399, 0.9874979257583618, 0.9078536033630371, 1.0420916080474854, 0.9078534841537476, 0.9079827070236206, 0.6305862665176392, 0.6305862665176392, 0.9874979257583618, 0.6480847001075745, 1.0420916080474854, 1.0420916080474854, 0.9078534841537476, 0.9078536033630371, 0.9079827070236206, 0.9576812982559204, 0.9874979257583618, 0.8767421245574951, 0.9078536033630371, 0.9576811790466309, 0.9078534841537476, 0.8767421841621399, 0.9079827070236206, 1.0420916080474854, 1.0420916080474854, 0.9079827070236206, 0.9874979257583618, 0.9576812982559204, 0.9078534841537476, 0.9078534841537476, 0.9079827070236206, 0.5773754715919495, 0.9078536033630371, 0.9576812982559204, 0.9078534841537476, 1.0420916080474854, 0.9078534841537476, 0.9079827070236206, 0.9079827070236206], \"Term\": [\"accelerate\", \"accurate\", \"aid\", \"algorithm\", \"allocation\", \"animation\", \"approach\", \"approximation\", \"architecture\", \"arithmetic\", \"base\", \"battery\", \"bin\", \"byzantine\", \"cancellation\", \"challenge\", \"channel\", \"chemical\", \"circuit\", \"circuit\", \"circuit\", \"class\", \"code\", \"cognitive\", \"complexity\", \"computer\", \"constraint\", \"continuous\", \"cooperation\", \"crossing\", \"current\", \"database\", \"design\", \"design\", \"device\", \"distribute\", \"distribute\", \"document\", \"domain\", \"efficient\", \"efficient\", \"encoding\", \"exact\", \"fault\", \"flexible\", \"folding\", \"framework\", \"gallery\", \"general\", \"generation\", \"graphics\", \"graphics\", \"h.264/avc\", \"hardness\", \"hardware\", \"instruction\", \"integration\", \"issue\", \"level\", \"linear\", \"management\", \"management\", \"memory\", \"model\", \"modeling\", \"multi\", \"multiversion\", \"network\", \"node\", \"object\", \"object\", \"ofdma\", \"offset\", \"operations\", \"opportunity\", \"optimal\", \"output\", \"overview\", \"parallel\", \"parameter\", \"perturbation\", \"piece\", \"polyhedral\", \"practical\", \"problem\", \"processor\", \"processor\", \"query\", \"radio\", \"reaction\", \"realistic\", \"recursive\", \"reduce\", \"reference\", \"regenerate\", \"relaxation\", \"resource\", \"rigorous\", \"search\", \"selection\", \"setting\", \"shaders\", \"shape\", \"simple\", \"speed\", \"stack\", \"storage\", \"subdivision\", \"surface\", \"survivable\", \"system\", \"technical\", \"tolerance\", \"toward\", \"transformation\", \"uniform\", \"using\", \"wireless\"]}, \"R\": 30, \"lambda.step\": 0.01, \"plot.opts\": {\"xlab\": \"PC1\", \"ylab\": \"PC2\"}, \"topic.order\": [1, 2, 3, 4, 5, 6, 7, 8, 9, 10]};\n",
       "\n",
       "function LDAvis_load_lib(url, callback){\n",
       "  var s = document.createElement('script');\n",
       "  s.src = url;\n",
       "  s.async = true;\n",
       "  s.onreadystatechange = s.onload = callback;\n",
       "  s.onerror = function(){console.warn(\"failed to load library \" + url);};\n",
       "  document.getElementsByTagName(\"head\")[0].appendChild(s);\n",
       "}\n",
       "\n",
       "if(typeof(LDAvis) !== \"undefined\"){\n",
       "   // already loaded: just create the visualization\n",
       "   !function(LDAvis){\n",
       "       new LDAvis(\"#\" + \"ldavis_el119801123903365847082471480\", ldavis_el119801123903365847082471480_data);\n",
       "   }(LDAvis);\n",
       "}else if(typeof define === \"function\" && define.amd){\n",
       "   // require.js is available: use it to load d3/LDAvis\n",
       "   require.config({paths: {d3: \"https://cdnjs.cloudflare.com/ajax/libs/d3/3.5.5/d3.min\"}});\n",
       "   require([\"d3\"], function(d3){\n",
       "      window.d3 = d3;\n",
       "      LDAvis_load_lib(\"https://cdn.rawgit.com/bmabey/pyLDAvis/files/ldavis.v1.0.0.js\", function(){\n",
       "        new LDAvis(\"#\" + \"ldavis_el119801123903365847082471480\", ldavis_el119801123903365847082471480_data);\n",
       "      });\n",
       "    });\n",
       "}else{\n",
       "    // require.js not available: dynamically load d3 & LDAvis\n",
       "    LDAvis_load_lib(\"https://cdnjs.cloudflare.com/ajax/libs/d3/3.5.5/d3.min.js\", function(){\n",
       "         LDAvis_load_lib(\"https://cdn.rawgit.com/bmabey/pyLDAvis/files/ldavis.v1.0.0.js\", function(){\n",
       "                 new LDAvis(\"#\" + \"ldavis_el119801123903365847082471480\", ldavis_el119801123903365847082471480_data);\n",
       "            })\n",
       "         });\n",
       "}\n",
       "</script>"
      ],
      "text/plain": [
       "<IPython.core.display.HTML object>"
      ]
     },
     "execution_count": 25,
     "metadata": {},
     "output_type": "execute_result"
    }
   ],
   "source": [
    "lda10 = gensim.models.ldamodel.LdaModel.load('model10.gensim')\n",
    "lda_display10 = pyLDAvis.gensim.prepare(lda10, corpus, dictionary, sort_topics=False)\n",
    "pyLDAvis.display(lda_display10)"
   ]
  }
 ],
 "metadata": {
  "kernelspec": {
   "display_name": "PolySpeech",
   "language": "python",
   "name": "polyspeech"
  },
  "language_info": {
   "codemirror_mode": {
    "name": "ipython",
    "version": 3
   },
   "file_extension": ".py",
   "mimetype": "text/x-python",
   "name": "python",
   "nbconvert_exporter": "python",
   "pygments_lexer": "ipython3",
   "version": "3.7.2"
  }
 },
 "nbformat": 4,
 "nbformat_minor": 2
}

{
 "cells": [
  {
   "cell_type": "code",
   "execution_count": 1,
   "metadata": {},
   "outputs": [],
   "source": [
    "%load_ext autoreload\n",
    "%autoreload 2"
   ]
  },
  {
   "cell_type": "code",
   "execution_count": 2,
   "metadata": {},
   "outputs": [],
   "source": [
    "import pandas as pd"
   ]
  },
  {
   "cell_type": "code",
   "execution_count": 3,
   "metadata": {},
   "outputs": [],
   "source": [
    "allTweets = pd.read_csv(\"/Users/daveyproctor/Documents/Polyspeech/data/tweets/raw/tweetsDFMinReadable.csv\")"
   ]
  },
  {
   "cell_type": "code",
   "execution_count": 4,
   "metadata": {
    "scrolled": true
   },
   "outputs": [
    {
     "name": "stdout",
     "output_type": "stream",
     "text": [
      "/Users/daveyproctor/Documents/Polyspeech/\n",
      "/Users/daveyproctor/Documents/Polyspeech/logs/lda_model.log\n"
     ]
    }
   ],
   "source": [
    "from LDATwitterModel import LDATwitterModel"
   ]
  },
  {
   "cell_type": "code",
   "execution_count": 5,
   "metadata": {},
   "outputs": [],
   "source": [
    "text_data_grouped = None"
   ]
  },
  {
   "cell_type": "code",
   "execution_count": 21,
   "metadata": {
    "scrolled": false
   },
   "outputs": [
    {
     "name": "stderr",
     "output_type": "stream",
     "text": [
      "2019-03-23 17:50:16,287 : INFO : adding document #0 to Dictionary(0 unique tokens: [])\n"
     ]
    },
    {
     "name": "stdout",
     "output_type": "stream",
     "text": [
      "Getting Documents...0    [SCREEN_NAME, today, official, launch, thirstb...\n",
      "1    [SCREEN_NAME, SCREEN_NAME, move, lakers, SCREE...\n",
      "2    [commercial, SCREEN_NAME, address, industrial,...\n",
      "3    [proud, school, student, graduate, couple, wee...\n",
      "4    [SCREEN_NAME, deserve, SCREEN_NAME, warren, gr...\n",
      "5    [super, brawl, bryanlowry3, super, brawl, bria...\n",
      "6    [SCREEN_NAME, SCREEN_NAME, exhaustive, minute,...\n",
      "7    [SCREEN_NAME, SCREEN_NAME, watch, cspan, SCREE...\n",
      "8    [congratulations, river, valley, chamber, comm...\n",
      "9    [SCREEN_NAME, congratulations, award, winner, ...\n",
      "Name: preppedTweets, dtype: object\n",
      "Done.\n",
      "Getting Dictionary..."
     ]
    },
    {
     "name": "stderr",
     "output_type": "stream",
     "text": [
      "2019-03-23 17:50:35,744 : INFO : built Dictionary(580066 unique tokens: ['1.4b.', 'SCREEN_NAME', '^%q#^)%(#^%!#^%?*^', 'administration', 'africa']...) from 2065 documents (total 24318467 corpus positions)\n"
     ]
    },
    {
     "name": "stdout",
     "output_type": "stream",
     "text": [
      "Done.\n",
      "Getting Corpus...Done.\n"
     ]
    }
   ],
   "source": [
    "# first pass in null for text_data_grouped\n",
    "model = LDATwitterModel(text_data=text_data_grouped, grouped=True, NUM_TOPICS=10)"
   ]
  },
  {
   "cell_type": "code",
   "execution_count": 10,
   "metadata": {
    "scrolled": true
   },
   "outputs": [],
   "source": [
    "# Get it by pass in null above first\n",
    "text_data_grouped = model.text_data"
   ]
  },
  {
   "cell_type": "code",
   "execution_count": 11,
   "metadata": {},
   "outputs": [
    {
     "data": {
      "text/plain": [
       "['SCREEN_NAME',\n",
       " 'today',\n",
       " 'official',\n",
       " 'launch',\n",
       " 'thirstbook',\n",
       " 'order',\n",
       " 'right',\n",
       " 'SCREEN_NAME',\n",
       " 'SCREEN_NAME',\n",
       " 'worldwaterday',\n",
       " 'team',\n",
       " 'SCREEN_NAME',\n",
       " 'pair',\n",
       " 'yellow',\n",
       " 'earbuds',\n",
       " 'helping',\n",
       " 'SCREEN_NAME',\n",
       " 'support',\n",
       " 'charity',\n",
       " 'water',\n",
       " 'match',\n",
       " 'campaign',\n",
       " 'prosecco',\n",
       " 'thanks',\n",
       " 'SCREEN_NAME',\n",
       " 'skysecco',\n",
       " 'needaflighthome',\n",
       " 'happen',\n",
       " 'kindness',\n",
       " 'indiegogo',\n",
       " 'SCREEN_NAME',\n",
       " 'africa',\n",
       " 'crisis',\n",
       " 'seriously',\n",
       " 'still',\n",
       " 'bring',\n",
       " 'tears',\n",
       " 'lovethishow',\n",
       " 'presidentbartletsaveus',\n",
       " 'SCREEN_NAME',\n",
       " 'always',\n",
       " 'visiting',\n",
       " 'school',\n",
       " 'thank',\n",
       " 'host',\n",
       " 'today',\n",
       " 'SCREEN_NAME',\n",
       " 'story',\n",
       " 'student',\n",
       " 'reachinghigher',\n",
       " 'continu',\n",
       " 'SCREEN_NAME',\n",
       " 'president',\n",
       " 'trump',\n",
       " 'nobody',\n",
       " 'health',\n",
       " 'could',\n",
       " 'complicate',\n",
       " 'bernie',\n",
       " 'sander',\n",
       " 'SCREEN_NAME',\n",
       " 'diversity',\n",
       " 'voice',\n",
       " 'critical',\n",
       " 'raising',\n",
       " 'awareness',\n",
       " 'making',\n",
       " 'positive',\n",
       " 'change',\n",
       " 'especially',\n",
       " 'right',\n",
       " 'resist',\n",
       " 'SCREEN_NAME',\n",
       " 'winner',\n",
       " 'judiciary',\n",
       " 'separation',\n",
       " 'power',\n",
       " 'constitution',\n",
       " 'american',\n",
       " 'values',\n",
       " 'democracy',\n",
       " 'loser',\n",
       " 'SCREEN_NAME',\n",
       " 'president',\n",
       " 'unite',\n",
       " 'state',\n",
       " 'twitter',\n",
       " 'blast',\n",
       " 'american',\n",
       " 'company',\n",
       " 'business',\n",
       " 'trump',\n",
       " 'still',\n",
       " 'living',\n",
       " 'shopping',\n",
       " 'today',\n",
       " 'shopnordstrom',\n",
       " 'SCREEN_NAME',\n",
       " '^%q#^)%(#^%!#^%?*^',\n",
       " 'devosvote',\n",
       " 'spinelessrepublicans',\n",
       " 'SCREEN_NAME',\n",
       " 'devos',\n",
       " 'billionaire',\n",
       " 'charter',\n",
       " 'school',\n",
       " 'lobbyist',\n",
       " 'would',\n",
       " 'disastrous',\n",
       " 'wrong',\n",
       " 'public',\n",
       " 'education',\n",
       " 'confirm',\n",
       " 'SCREEN_NAME',\n",
       " 'devos',\n",
       " 'billionaire',\n",
       " 'charter',\n",
       " 'school',\n",
       " 'lobbyist',\n",
       " 'would',\n",
       " 'disastrous',\n",
       " 'wrong',\n",
       " 'public',\n",
       " 'education',\n",
       " 'confirm',\n",
       " 'SCREEN_NAME',\n",
       " 'melania',\n",
       " 'trump',\n",
       " 'stays',\n",
       " 'trump',\n",
       " 'tower',\n",
       " 'taxpayer',\n",
       " 'approx',\n",
       " '1.4b.',\n",
       " 'populist',\n",
       " 'gorgeous',\n",
       " 'story',\n",
       " 'SCREEN_NAME',\n",
       " 'remember',\n",
       " 'institute',\n",
       " 'calculate',\n",
       " 'chance',\n",
       " 'kill',\n",
       " 'refugee',\n",
       " 'america',\n",
       " 'billion',\n",
       " 'lightnin',\n",
       " 'SCREEN_NAME',\n",
       " 'clothes',\n",
       " 'back',\n",
       " 'storm',\n",
       " 'better',\n",
       " 'SCREEN_NAME',\n",
       " 'emergency',\n",
       " 'protest',\n",
       " 'outside',\n",
       " 'terminal',\n",
       " 'international',\n",
       " 'arrival',\n",
       " 'SCREEN_NAME',\n",
       " 'note',\n",
       " 'history',\n",
       " 'trump',\n",
       " 'administration',\n",
       " 'executive',\n",
       " 'order',\n",
       " 'ban',\n",
       " 'refugee',\n",
       " 'entering',\n",
       " 'unite',\n",
       " 'state',\n",
       " 'holocaust',\n",
       " 'remem',\n",
       " 'SCREEN_NAME',\n",
       " 'nightmare',\n",
       " 'betrayal',\n",
       " 'nobannowall',\n",
       " 'refugeeswelcome',\n",
       " 'resist',\n",
       " 'SCREEN_NAME',\n",
       " 'SCREEN_NAME',\n",
       " 'SCREEN_NAME',\n",
       " 'welcome',\n",
       " 'refugee',\n",
       " 'resettlement',\n",
       " 'demonstrate',\n",
       " 'values',\n",
       " 'refugeeswelcome',\n",
       " 'SCREEN_NAME',\n",
       " 'SCREEN_NAME',\n",
       " 'SCREEN_NAME',\n",
       " 'welcome',\n",
       " 'refugee',\n",
       " 'resettlement',\n",
       " 'demonstrate',\n",
       " 'values',\n",
       " 'refugeeswelcome',\n",
       " 'SCREEN_NAME',\n",
       " 'SCREEN_NAME',\n",
       " 'SCREEN_NAME',\n",
       " 'welcome',\n",
       " 'refugee',\n",
       " 'resettlement',\n",
       " 'demonstrate',\n",
       " 'values',\n",
       " 'refugeeswelcome',\n",
       " 'SCREEN_NAME',\n",
       " 'SCREEN_NAME',\n",
       " 'welcome',\n",
       " 'refugee',\n",
       " 'resettlement',\n",
       " 'demonstrate',\n",
       " 'american',\n",
       " 'values',\n",
       " 'refugeeswelcome']"
      ]
     },
     "execution_count": 11,
     "metadata": {},
     "output_type": "execute_result"
    }
   ],
   "source": [
    "text_data_grouped.loc[0]"
   ]
  },
  {
   "cell_type": "code",
   "execution_count": 18,
   "metadata": {},
   "outputs": [
    {
     "data": {
      "text/plain": [
       "'/Users/daveyproctor/Documents/Polyspeech/data/tweets/analysis/LDA/LDAModels/model.docNum=None.grouped=True.NUM_TOPICS=10.gensim'"
      ]
     },
     "execution_count": 18,
     "metadata": {},
     "output_type": "execute_result"
    }
   ],
   "source": [
    "model.modelPath"
   ]
  },
  {
   "cell_type": "code",
   "execution_count": 22,
   "metadata": {
    "scrolled": false
   },
   "outputs": [
    {
     "name": "stderr",
     "output_type": "stream",
     "text": [
      "2019-03-23 17:51:05,630 : INFO : loading LdaModel object from /Users/daveyproctor/Documents/Polyspeech/data/tweets/analysis/LDA/LDAModels/model.docNum=None.grouped=True.NUM_TOPICS=10.gensim\n",
      "2019-03-23 17:51:05,653 : INFO : loading expElogbeta from /Users/daveyproctor/Documents/Polyspeech/data/tweets/analysis/LDA/LDAModels/model.docNum=None.grouped=True.NUM_TOPICS=10.gensim.expElogbeta.npy with mmap=None\n",
      "2019-03-23 17:51:05,703 : INFO : setting ignored attribute dispatcher to None\n",
      "2019-03-23 17:51:05,705 : INFO : setting ignored attribute id2word to None\n",
      "2019-03-23 17:51:05,706 : INFO : setting ignored attribute state to None\n",
      "2019-03-23 17:51:05,708 : INFO : loaded /Users/daveyproctor/Documents/Polyspeech/data/tweets/analysis/LDA/LDAModels/model.docNum=None.grouped=True.NUM_TOPICS=10.gensim\n",
      "2019-03-23 17:51:05,713 : INFO : loading LdaState object from /Users/daveyproctor/Documents/Polyspeech/data/tweets/analysis/LDA/LDAModels/model.docNum=None.grouped=True.NUM_TOPICS=10.gensim.state\n",
      "2019-03-23 17:51:05,941 : INFO : loaded /Users/daveyproctor/Documents/Polyspeech/data/tweets/analysis/LDA/LDAModels/model.docNum=None.grouped=True.NUM_TOPICS=10.gensim.state\n"
     ]
    },
    {
     "name": "stdout",
     "output_type": "stream",
     "text": [
      "Found pretrained model /Users/daveyproctor/Documents/Polyspeech/data/tweets/analysis/LDA/LDAModels/model.docNum=None.grouped=True.NUM_TOPICS=10.gensim\n"
     ]
    }
   ],
   "source": [
    "model.train()"
   ]
  },
  {
   "cell_type": "code",
   "execution_count": 23,
   "metadata": {},
   "outputs": [
    {
     "name": "stderr",
     "output_type": "stream",
     "text": [
      "2019-03-23 17:51:09,708 : INFO : topic #0 (0.100): 0.001*\"grassi\" + 0.001*\"attleboro\" + 0.000*\"magop\" + 0.000*\"reelectleonhoward\" + 0.000*\"vitali\" + 0.000*\"loyalsock\" + 0.000*\"rottkamp\" + 0.000*\"nysscpa\" + 0.000*\"massgop\" + 0.000*\"a&amp;e\" + 0.000*\"SCREEN_NAME\" + 0.000*\"today\"\n",
      "2019-03-23 17:51:09,721 : INFO : topic #1 (0.100): 0.027*\"michigan\" + 0.016*\"today\" + 0.013*\"state\" + 0.011*\"house\" + 0.009*\"grand\" + 0.008*\"coffee\" + 0.008*\"rapid\" + 0.007*\"community\" + 0.007*\"please\" + 0.006*\"school\" + 0.005*\"great\" + 0.005*\"friday\"\n",
      "2019-03-23 17:51:09,735 : INFO : topic #2 (0.100): 0.012*\"lynwood\" + 0.004*\"medford\" + 0.002*\"3totweet\" + 0.002*\"penta\" + 0.001*\"firebaugh\" + 0.001*\"mayorsolache\" + 0.001*\"teamsolache\" + 0.000*\"ellington\" + 0.000*\"medforddebate\" + 0.000*\"resolve\" + 0.000*\"councillor\" + 0.000*\"councilor\"\n",
      "2019-03-23 17:51:09,743 : INFO : topic #3 (0.100): 0.150*\"SCREEN_NAME\" + 0.006*\"world\" + 0.005*\"people\" + 0.005*\"child\" + 0.003*\"great\" + 0.003*\"change\" + 0.003*\"right\" + 0.003*\"today\" + 0.003*\"thanks\" + 0.002*\"travel\" + 0.002*\"would\" + 0.002*\"climate\"\n",
      "2019-03-23 17:51:09,760 : INFO : topic #4 (0.100): 0.051*\"SCREEN_NAME\" + 0.014*\"txlege\" + 0.014*\"texas\" + 0.013*\"today\" + 0.011*\"thank\" + 0.010*\"great\" + 0.008*\"honor\" + 0.008*\"state\" + 0.007*\"community\" + 0.005*\"family\" + 0.005*\"school\" + 0.005*\"senate\"\n",
      "2019-03-23 17:51:09,775 : INFO : topic #5 (0.100): 0.193*\"SCREEN_NAME\" + 0.009*\"great\" + 0.008*\"today\" + 0.008*\"thank\" + 0.005*\"thanks\" + 0.005*\"state\" + 0.004*\"school\" + 0.004*\"support\" + 0.004*\"tonight\" + 0.003*\"happy\" + 0.003*\"woman\" + 0.003*\"people\"\n",
      "2019-03-23 17:51:09,792 : INFO : topic #6 (0.100): 0.041*\"SCREEN_NAME\" + 0.008*\"sobre\" + 0.007*\"cancer\" + 0.007*\"gracias\" + 0.004*\"argentina\" + 0.004*\"netde\" + 0.004*\"venezuela\" + 0.003*\"buenos\" + 0.003*\"coon\" + 0.003*\"todos\" + 0.003*\"puerto\" + 0.003*\"chewychunks\"\n",
      "2019-03-23 17:51:09,813 : INFO : topic #7 (0.100): 0.012*\"fairfield\" + 0.010*\"photo\" + 0.008*\"heart\" + 0.007*\"amp;i\" + 0.007*\"owner\" + 0.006*\"download\" + 0.006*\"manual\" + 0.006*\"podcast\" + 0.005*\"fairfieldct\" + 0.004*\"7atues\" + 0.004*\"5&amp;5\" + 0.004*\"wellness\"\n",
      "2019-03-23 17:51:09,833 : INFO : topic #8 (0.100): 0.081*\"SCREEN_NAME\" + 0.011*\"today\" + 0.007*\"american\" + 0.006*\"great\" + 0.006*\"family\" + 0.005*\"house\" + 0.005*\"trump\" + 0.004*\"health\" + 0.004*\"thank\" + 0.004*\"people\" + 0.004*\"support\" + 0.004*\"state\"\n",
      "2019-03-23 17:51:09,851 : INFO : topic #9 (0.100): 0.008*\"fitbit\" + 0.008*\"fitstats_en_us\" + 0.008*\"steps\" + 0.007*\"mile\" + 0.004*\"travel\" + 0.001*\"~unknown\" + 0.000*\"huntsville\" + 0.000*\"lumsden\" + 0.000*\"~john\" + 0.000*\"chattooga\" + 0.000*\"trophy\" + 0.000*\"~steve\"\n"
     ]
    },
    {
     "data": {
      "text/plain": [
       "[(0,\n",
       "  '0.001*\"grassi\" + 0.001*\"attleboro\" + 0.000*\"magop\" + 0.000*\"reelectleonhoward\" + 0.000*\"vitali\" + 0.000*\"loyalsock\" + 0.000*\"rottkamp\" + 0.000*\"nysscpa\" + 0.000*\"massgop\" + 0.000*\"a&amp;e\" + 0.000*\"SCREEN_NAME\" + 0.000*\"today\"'),\n",
       " (1,\n",
       "  '0.027*\"michigan\" + 0.016*\"today\" + 0.013*\"state\" + 0.011*\"house\" + 0.009*\"grand\" + 0.008*\"coffee\" + 0.008*\"rapid\" + 0.007*\"community\" + 0.007*\"please\" + 0.006*\"school\" + 0.005*\"great\" + 0.005*\"friday\"'),\n",
       " (2,\n",
       "  '0.012*\"lynwood\" + 0.004*\"medford\" + 0.002*\"3totweet\" + 0.002*\"penta\" + 0.001*\"firebaugh\" + 0.001*\"mayorsolache\" + 0.001*\"teamsolache\" + 0.000*\"ellington\" + 0.000*\"medforddebate\" + 0.000*\"resolve\" + 0.000*\"councillor\" + 0.000*\"councilor\"'),\n",
       " (3,\n",
       "  '0.150*\"SCREEN_NAME\" + 0.006*\"world\" + 0.005*\"people\" + 0.005*\"child\" + 0.003*\"great\" + 0.003*\"change\" + 0.003*\"right\" + 0.003*\"today\" + 0.003*\"thanks\" + 0.002*\"travel\" + 0.002*\"would\" + 0.002*\"climate\"'),\n",
       " (4,\n",
       "  '0.051*\"SCREEN_NAME\" + 0.014*\"txlege\" + 0.014*\"texas\" + 0.013*\"today\" + 0.011*\"thank\" + 0.010*\"great\" + 0.008*\"honor\" + 0.008*\"state\" + 0.007*\"community\" + 0.005*\"family\" + 0.005*\"school\" + 0.005*\"senate\"'),\n",
       " (5,\n",
       "  '0.193*\"SCREEN_NAME\" + 0.009*\"great\" + 0.008*\"today\" + 0.008*\"thank\" + 0.005*\"thanks\" + 0.005*\"state\" + 0.004*\"school\" + 0.004*\"support\" + 0.004*\"tonight\" + 0.003*\"happy\" + 0.003*\"woman\" + 0.003*\"people\"'),\n",
       " (6,\n",
       "  '0.041*\"SCREEN_NAME\" + 0.008*\"sobre\" + 0.007*\"cancer\" + 0.007*\"gracias\" + 0.004*\"argentina\" + 0.004*\"netde\" + 0.004*\"venezuela\" + 0.003*\"buenos\" + 0.003*\"coon\" + 0.003*\"todos\" + 0.003*\"puerto\" + 0.003*\"chewychunks\"'),\n",
       " (7,\n",
       "  '0.012*\"fairfield\" + 0.010*\"photo\" + 0.008*\"heart\" + 0.007*\"amp;i\" + 0.007*\"owner\" + 0.006*\"download\" + 0.006*\"manual\" + 0.006*\"podcast\" + 0.005*\"fairfieldct\" + 0.004*\"7atues\" + 0.004*\"5&amp;5\" + 0.004*\"wellness\"'),\n",
       " (8,\n",
       "  '0.081*\"SCREEN_NAME\" + 0.011*\"today\" + 0.007*\"american\" + 0.006*\"great\" + 0.006*\"family\" + 0.005*\"house\" + 0.005*\"trump\" + 0.004*\"health\" + 0.004*\"thank\" + 0.004*\"people\" + 0.004*\"support\" + 0.004*\"state\"'),\n",
       " (9,\n",
       "  '0.008*\"fitbit\" + 0.008*\"fitstats_en_us\" + 0.008*\"steps\" + 0.007*\"mile\" + 0.004*\"travel\" + 0.001*\"~unknown\" + 0.000*\"huntsville\" + 0.000*\"lumsden\" + 0.000*\"~john\" + 0.000*\"chattooga\" + 0.000*\"trophy\" + 0.000*\"~steve\"')]"
      ]
     },
     "execution_count": 23,
     "metadata": {},
     "output_type": "execute_result"
    }
   ],
   "source": [
    "model.ldamodel.print_topics(num_words=12)"
   ]
  },
  {
   "cell_type": "code",
   "execution_count": 15,
   "metadata": {},
   "outputs": [
    {
     "data": {
      "text/plain": [
       "'RT @NewEng_DadLife: Why is it that when the CDC says to throw out your romaine lettuce everyone takes it as gospel yet when the same agency…'"
      ]
     },
     "execution_count": 15,
     "metadata": {},
     "output_type": "execute_result"
    }
   ],
   "source": [
    "allTweets.loc[3,\"full_text\"]"
   ]
  },
  {
   "cell_type": "code",
   "execution_count": 16,
   "metadata": {
    "scrolled": true
   },
   "outputs": [
    {
     "data": {
      "text/plain": [
       "['proud',\n",
       " 'school',\n",
       " 'student',\n",
       " 'graduate',\n",
       " 'couple',\n",
       " 'week',\n",
       " 'SCREEN_NAME',\n",
       " 'SCREEN_NAME',\n",
       " 'thank',\n",
       " 'friend',\n",
       " 'wishing',\n",
       " 'happy',\n",
       " 'birthday',\n",
       " 'friend',\n",
       " 'SCREEN_NAME',\n",
       " 'SCREEN_NAME',\n",
       " 'SCREEN_NAME',\n",
       " 'jimmy',\n",
       " 'eldridge',\n",
       " 'attendance',\n",
       " 'mention',\n",
       " 'jenci',\n",
       " 'SCREEN_NAME',\n",
       " 'SCREEN_NAME',\n",
       " 'thank',\n",
       " 'secretary',\n",
       " 'state',\n",
       " 'speaking',\n",
       " 'rotary',\n",
       " 'spending',\n",
       " 'plant',\n",
       " 'jackson',\n",
       " 'happy',\n",
       " 'birthday',\n",
       " 'wonderful',\n",
       " 'awesome',\n",
       " 'speaker',\n",
       " 'enjoy',\n",
       " 'morning',\n",
       " 'think',\n",
       " 'blessing',\n",
       " 'citizen',\n",
       " 'great',\n",
       " 'nation',\n",
       " 'bless',\n",
       " 'SCREEN_NAME',\n",
       " 'SCREEN_NAME',\n",
       " 'scott',\n",
       " 'thank',\n",
       " 'great',\n",
       " 'leader',\n",
       " 'friend',\n",
       " 'SCREEN_NAME',\n",
       " 'SCREEN_NAME',\n",
       " 'SCREEN_NAME',\n",
       " 'proud',\n",
       " 'hargett',\n",
       " 'prove',\n",
       " 'great',\n",
       " 'leader',\n",
       " 'treasurer',\n",
       " 'lillard',\n",
       " 'frankie',\n",
       " 'radio',\n",
       " 'treasurer',\n",
       " 'lillard',\n",
       " 'lattimore',\n",
       " 'beautiful',\n",
       " 'SCREEN_NAME',\n",
       " 'lambuth',\n",
       " 'campus',\n",
       " 'taking',\n",
       " 'treasurer',\n",
       " 'lillard',\n",
       " 'SCREEN_NAME',\n",
       " 'lambuth',\n",
       " 'campus',\n",
       " 'nursing',\n",
       " 'great',\n",
       " 'treas',\n",
       " 'lillard',\n",
       " 'mayor',\n",
       " 'harris',\n",
       " 'several',\n",
       " 'county',\n",
       " 'commissioner',\n",
       " 'jackson',\n",
       " 'treasurer',\n",
       " 'david',\n",
       " 'lillard',\n",
       " 'jackson',\n",
       " 'today',\n",
       " 'honor',\n",
       " 'state',\n",
       " 'treasurer',\n",
       " 'david',\n",
       " 'lillard',\n",
       " 'jackson',\n",
       " 'today',\n",
       " 'several',\n",
       " 'meeting',\n",
       " 'SCREEN_NAME',\n",
       " 'thanks',\n",
       " 'jimmy',\n",
       " 'eldridge',\n",
       " 'great',\n",
       " 'program',\n",
       " 'morning',\n",
       " 'rotary',\n",
       " 'friend',\n",
       " 'happy']"
      ]
     },
     "execution_count": 16,
     "metadata": {},
     "output_type": "execute_result"
    }
   ],
   "source": [
    "tweet = model.text_data[3]\n",
    "tweet"
   ]
  },
  {
   "cell_type": "code",
   "execution_count": 24,
   "metadata": {
    "scrolled": true
   },
   "outputs": [
    {
     "name": "stdout",
     "output_type": "stream",
     "text": [
      "[(4, 0.19055402), (5, 0.80188674)]\n"
     ]
    }
   ],
   "source": [
    "new_doc2bow = model.dictionary.doc2bow(tweet)\n",
    "print(model.ldamodel.get_document_topics(new_doc2bow))"
   ]
  },
  {
   "cell_type": "code",
   "execution_count": null,
   "metadata": {},
   "outputs": [],
   "source": []
  }
 ],
 "metadata": {
  "kernelspec": {
   "display_name": "PolySpeech",
   "language": "python",
   "name": "polyspeech"
  },
  "language_info": {
   "codemirror_mode": {
    "name": "ipython",
    "version": 3
   },
   "file_extension": ".py",
   "mimetype": "text/x-python",
   "name": "python",
   "nbconvert_exporter": "python",
   "pygments_lexer": "ipython3",
   "version": "3.7.2"
  }
 },
 "nbformat": 4,
 "nbformat_minor": 2
}

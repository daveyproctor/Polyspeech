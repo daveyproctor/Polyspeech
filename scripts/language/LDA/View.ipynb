{
 "cells": [
  {
   "cell_type": "code",
   "execution_count": 2,
   "metadata": {},
   "outputs": [],
   "source": [
    "%load_ext autoreload\n",
    "%autoreload 2"
   ]
  },
  {
   "cell_type": "code",
   "execution_count": 8,
   "metadata": {},
   "outputs": [],
   "source": [
    "import pandas as pd"
   ]
  },
  {
   "cell_type": "code",
   "execution_count": 9,
   "metadata": {},
   "outputs": [],
   "source": [
    "allTweets = pd.read_csv(\"/Users/daveyproctor/Documents/Polyspeech/data/tweets/raw/tweetsDFMinReadable.csv\")"
   ]
  },
  {
   "cell_type": "code",
   "execution_count": 3,
   "metadata": {
    "scrolled": true
   },
   "outputs": [],
   "source": [
    "from LDATwitterModel import LDATwitterModel"
   ]
  },
  {
   "cell_type": "code",
   "execution_count": null,
   "metadata": {},
   "outputs": [],
   "source": [
    "text_data_grouped = None"
   ]
  },
  {
   "cell_type": "code",
   "execution_count": 27,
   "metadata": {
    "scrolled": false
   },
   "outputs": [
    {
     "name": "stderr",
     "output_type": "stream",
     "text": [
      "2019-02-27 00:05:56,426 : INFO : adding document #0 to Dictionary(0 unique tokens: [])\n"
     ]
    },
    {
     "name": "stdout",
     "output_type": "stream",
     "text": [
      "Getting Documents...0    [SCREEN_NAME, today, official, launch, thirstb...\n",
      "1    [SCREEN_NAME, SCREEN_NAME, move, lakers, SCREE...\n",
      "2    [commercial, SCREEN_NAME, address, industrial,...\n",
      "3    [proud, school, student, graduate, couple, wee...\n",
      "4    [SCREEN_NAME, deserve, SCREEN_NAME, warren, gr...\n",
      "5    [super, brawl, bryanlowry3, super, brawl, bria...\n",
      "6    [SCREEN_NAME, SCREEN_NAME, exhaustive, minute,...\n",
      "7    [SCREEN_NAME, SCREEN_NAME, watch, cspan, SCREE...\n",
      "8    [congratulations, river, valley, chamber, comm...\n",
      "9    [SCREEN_NAME, congratulations, award, winner, ...\n",
      "Name: preppedTweets, dtype: object\n",
      "Done.\n",
      "Getting Dictionary..."
     ]
    },
    {
     "name": "stderr",
     "output_type": "stream",
     "text": [
      "2019-02-27 00:06:12,782 : INFO : built Dictionary(580066 unique tokens: ['1.4b.', 'SCREEN_NAME', '^%q#^)%(#^%!#^%?*^', 'administration', 'africa']...) from 2065 documents (total 24318467 corpus positions)\n"
     ]
    },
    {
     "name": "stdout",
     "output_type": "stream",
     "text": [
      "Done.\n",
      "Getting Corpus...Done.\n"
     ]
    }
   ],
   "source": [
    "# first pass in null for text_data_grouped\n",
    "model = LDATwitterModel(text_data=text_data_grouped, grouped=True)"
   ]
  },
  {
   "cell_type": "code",
   "execution_count": 26,
   "metadata": {
    "scrolled": true
   },
   "outputs": [
    {
     "name": "stdout",
     "output_type": "stream",
     "text": [
      "/Users/daveyproctor/Documents/Polyspeech/\n",
      "/Users/daveyproctor/Documents/Polyspeech/logs/lda_model.log\n"
     ]
    }
   ],
   "source": [
    "# Get it by pass in null above first\n",
    "text_data_grouped = model.text_data"
   ]
  },
  {
   "cell_type": "code",
   "execution_count": 29,
   "metadata": {
    "scrolled": true
   },
   "outputs": [
    {
     "name": "stderr",
     "output_type": "stream",
     "text": [
      "2019-02-27 00:10:26,903 : INFO : loading LdaModel object from /Users/daveyproctor/Documents/Polyspeech/data/tweets/analysis/LDA/LDAModels/model.docNum=None.grouped=True.NUM_TOPICS=5.gensim\n",
      "2019-02-27 00:10:26,935 : INFO : using symmetric alpha at 0.2\n",
      "2019-02-27 00:10:26,936 : INFO : using symmetric eta at 0.2\n",
      "2019-02-27 00:10:27,103 : INFO : using serial LDA version on this node\n",
      "2019-02-27 00:10:27,434 : INFO : running online (multi-pass) LDA training, 5 topics, 15 passes over the supplied corpus of 2065 documents, updating model once every 2000 documents, evaluating perplexity every 2065 documents, iterating 50x with a convergence threshold of 0.001000\n",
      "2019-02-27 00:10:27,438 : INFO : PROGRESS: pass 0, at document #2000/2065\n",
      "2019-02-27 00:10:35,558 : INFO : merging changes from 2000 documents into a model of 2065 documents\n",
      "2019-02-27 00:10:35,989 : INFO : topic #0 (0.200): 0.143*\"SCREEN_NAME\" + 0.006*\"great\" + 0.006*\"today\" + 0.004*\"house\" + 0.004*\"thank\" + 0.004*\"state\" + 0.003*\"support\" + 0.003*\"family\" + 0.003*\"people\" + 0.003*\"thanks\"\n",
      "2019-02-27 00:10:35,997 : INFO : topic #1 (0.200): 0.099*\"SCREEN_NAME\" + 0.010*\"today\" + 0.005*\"great\" + 0.005*\"american\" + 0.004*\"trump\" + 0.004*\"state\" + 0.004*\"thank\" + 0.004*\"family\" + 0.004*\"thanks\" + 0.004*\"support\"\n",
      "2019-02-27 00:10:36,011 : INFO : topic #2 (0.200): 0.088*\"SCREEN_NAME\" + 0.009*\"today\" + 0.008*\"great\" + 0.004*\"family\" + 0.004*\"thanks\" + 0.004*\"state\" + 0.004*\"american\" + 0.003*\"trump\" + 0.003*\"thank\" + 0.003*\"would\"\n",
      "2019-02-27 00:10:36,026 : INFO : topic #3 (0.200): 0.094*\"SCREEN_NAME\" + 0.010*\"today\" + 0.006*\"great\" + 0.005*\"american\" + 0.005*\"thank\" + 0.004*\"thanks\" + 0.004*\"people\" + 0.004*\"trump\" + 0.003*\"family\" + 0.003*\"congress\"\n",
      "2019-02-27 00:10:36,041 : INFO : topic #4 (0.200): 0.094*\"SCREEN_NAME\" + 0.009*\"today\" + 0.005*\"american\" + 0.004*\"people\" + 0.004*\"support\" + 0.004*\"great\" + 0.004*\"thank\" + 0.004*\"house\" + 0.004*\"state\" + 0.003*\"family\"\n",
      "2019-02-27 00:10:36,055 : INFO : topic diff=3.685116, rho=1.000000\n",
      "2019-02-27 00:10:37,554 : INFO : -8.448 per-word bound, 349.1 perplexity estimate based on a held-out corpus of 65 documents with 486380 words\n",
      "2019-02-27 00:10:37,555 : INFO : PROGRESS: pass 0, at document #2065/2065\n",
      "2019-02-27 00:10:37,926 : INFO : merging changes from 65 documents into a model of 2065 documents\n",
      "2019-02-27 00:10:38,112 : INFO : topic #0 (0.200): 0.172*\"SCREEN_NAME\" + 0.007*\"great\" + 0.006*\"today\" + 0.005*\"thank\" + 0.004*\"state\" + 0.004*\"people\" + 0.004*\"thanks\" + 0.003*\"support\" + 0.003*\"school\" + 0.003*\"woman\"\n",
      "2019-02-27 00:10:38,122 : INFO : topic #1 (0.200): 0.095*\"SCREEN_NAME\" + 0.010*\"today\" + 0.006*\"thank\" + 0.006*\"great\" + 0.005*\"state\" + 0.005*\"community\" + 0.004*\"family\" + 0.004*\"support\" + 0.004*\"thanks\" + 0.004*\"american\"\n",
      "2019-02-27 00:10:38,135 : INFO : topic #2 (0.200): 0.077*\"SCREEN_NAME\" + 0.010*\"today\" + 0.010*\"great\" + 0.005*\"thank\" + 0.005*\"state\" + 0.004*\"community\" + 0.004*\"family\" + 0.004*\"thanks\" + 0.004*\"school\" + 0.003*\"honor\"\n",
      "2019-02-27 00:10:38,143 : INFO : topic #3 (0.200): 0.087*\"SCREEN_NAME\" + 0.011*\"today\" + 0.007*\"great\" + 0.007*\"thank\" + 0.004*\"state\" + 0.004*\"honor\" + 0.004*\"thanks\" + 0.004*\"community\" + 0.004*\"family\" + 0.003*\"people\"\n",
      "2019-02-27 00:10:38,165 : INFO : topic #4 (0.200): 0.089*\"SCREEN_NAME\" + 0.009*\"today\" + 0.005*\"state\" + 0.005*\"thank\" + 0.004*\"people\" + 0.004*\"support\" + 0.004*\"great\" + 0.003*\"american\" + 0.003*\"house\" + 0.003*\"right\"\n",
      "2019-02-27 00:10:38,172 : INFO : topic diff=0.995127, rho=0.707107\n",
      "2019-02-27 00:10:38,186 : INFO : PROGRESS: pass 1, at document #2000/2065\n",
      "2019-02-27 00:10:47,195 : INFO : merging changes from 2000 documents into a model of 2065 documents\n",
      "2019-02-27 00:10:47,378 : INFO : topic #0 (0.200): 0.181*\"SCREEN_NAME\" + 0.007*\"great\" + 0.006*\"today\" + 0.004*\"thank\" + 0.004*\"thanks\" + 0.004*\"people\" + 0.003*\"state\" + 0.003*\"support\" + 0.003*\"woman\" + 0.003*\"world\"\n",
      "2019-02-27 00:10:47,387 : INFO : topic #1 (0.200): 0.086*\"SCREEN_NAME\" + 0.010*\"today\" + 0.006*\"american\" + 0.005*\"family\" + 0.005*\"trump\" + 0.005*\"great\" + 0.004*\"state\" + 0.004*\"thank\" + 0.004*\"community\" + 0.004*\"support\"\n",
      "2019-02-27 00:10:47,402 : INFO : topic #2 (0.200): 0.067*\"SCREEN_NAME\" + 0.010*\"today\" + 0.010*\"great\" + 0.005*\"thank\" + 0.005*\"state\" + 0.005*\"photo\" + 0.004*\"community\" + 0.004*\"school\" + 0.004*\"thanks\" + 0.004*\"family\"\n",
      "2019-02-27 00:10:47,415 : INFO : topic #3 (0.200): 0.080*\"SCREEN_NAME\" + 0.012*\"today\" + 0.009*\"great\" + 0.007*\"thank\" + 0.005*\"honor\" + 0.005*\"thanks\" + 0.004*\"state\" + 0.004*\"family\" + 0.004*\"american\" + 0.004*\"house\"\n",
      "2019-02-27 00:10:47,439 : INFO : topic #4 (0.200): 0.080*\"SCREEN_NAME\" + 0.009*\"today\" + 0.005*\"american\" + 0.004*\"house\" + 0.004*\"state\" + 0.004*\"people\" + 0.004*\"support\" + 0.004*\"thank\" + 0.004*\"great\" + 0.004*\"family\"\n",
      "2019-02-27 00:10:47,447 : INFO : topic diff=0.653165, rho=0.574248\n",
      "2019-02-27 00:10:48,944 : INFO : -8.044 per-word bound, 264.0 perplexity estimate based on a held-out corpus of 65 documents with 486380 words\n",
      "2019-02-27 00:10:48,945 : INFO : PROGRESS: pass 1, at document #2065/2065\n",
      "2019-02-27 00:10:49,309 : INFO : merging changes from 65 documents into a model of 2065 documents\n",
      "2019-02-27 00:10:49,480 : INFO : topic #0 (0.200): 0.180*\"SCREEN_NAME\" + 0.006*\"great\" + 0.006*\"today\" + 0.005*\"thank\" + 0.004*\"people\" + 0.004*\"thanks\" + 0.003*\"state\" + 0.003*\"woman\" + 0.003*\"support\" + 0.003*\"world\"\n",
      "2019-02-27 00:10:49,490 : INFO : topic #1 (0.200): 0.083*\"SCREEN_NAME\" + 0.010*\"today\" + 0.006*\"american\" + 0.005*\"family\" + 0.005*\"great\" + 0.005*\"trump\" + 0.005*\"thank\" + 0.005*\"state\" + 0.005*\"community\" + 0.004*\"people\"\n",
      "2019-02-27 00:10:49,508 : INFO : topic #2 (0.200): 0.060*\"SCREEN_NAME\" + 0.011*\"today\" + 0.010*\"great\" + 0.009*\"texas\" + 0.009*\"txlege\" + 0.008*\"thank\" + 0.006*\"state\" + 0.005*\"community\" + 0.005*\"honor\" + 0.005*\"school\"\n",
      "2019-02-27 00:10:49,517 : INFO : topic #3 (0.200): 0.072*\"SCREEN_NAME\" + 0.014*\"today\" + 0.009*\"great\" + 0.008*\"thank\" + 0.006*\"state\" + 0.005*\"honor\" + 0.005*\"community\" + 0.004*\"family\" + 0.004*\"thanks\" + 0.004*\"house\"\n",
      "2019-02-27 00:10:49,540 : INFO : topic #4 (0.200): 0.074*\"SCREEN_NAME\" + 0.008*\"today\" + 0.005*\"state\" + 0.005*\"thank\" + 0.004*\"support\" + 0.004*\"great\" + 0.004*\"house\" + 0.004*\"people\" + 0.004*\"american\" + 0.004*\"ksleg\"\n",
      "2019-02-27 00:10:49,550 : INFO : topic diff=0.468172, rho=0.574248\n",
      "2019-02-27 00:10:49,563 : INFO : PROGRESS: pass 2, at document #2000/2065\n",
      "2019-02-27 00:10:58,058 : INFO : merging changes from 2000 documents into a model of 2065 documents\n",
      "2019-02-27 00:10:58,222 : INFO : topic #0 (0.200): 0.188*\"SCREEN_NAME\" + 0.006*\"great\" + 0.006*\"today\" + 0.004*\"thank\" + 0.004*\"thanks\" + 0.004*\"people\" + 0.003*\"state\" + 0.003*\"woman\" + 0.003*\"world\" + 0.003*\"support\"\n",
      "2019-02-27 00:10:58,230 : INFO : topic #1 (0.200): 0.083*\"SCREEN_NAME\" + 0.010*\"today\" + 0.007*\"american\" + 0.005*\"family\" + 0.005*\"trump\" + 0.005*\"great\" + 0.004*\"people\" + 0.004*\"house\" + 0.004*\"health\" + 0.004*\"thank\"\n",
      "2019-02-27 00:10:58,240 : INFO : topic #2 (0.200): 0.054*\"SCREEN_NAME\" + 0.011*\"today\" + 0.010*\"great\" + 0.008*\"texas\" + 0.008*\"txlege\" + 0.007*\"thank\" + 0.006*\"photo\" + 0.005*\"state\" + 0.005*\"community\" + 0.005*\"school\"\n",
      "2019-02-27 00:10:58,249 : INFO : topic #3 (0.200): 0.072*\"SCREEN_NAME\" + 0.015*\"today\" + 0.011*\"great\" + 0.008*\"thank\" + 0.006*\"state\" + 0.006*\"honor\" + 0.005*\"thanks\" + 0.005*\"house\" + 0.005*\"county\" + 0.004*\"family\"\n",
      "2019-02-27 00:10:58,261 : INFO : topic #4 (0.200): 0.070*\"SCREEN_NAME\" + 0.007*\"today\" + 0.005*\"state\" + 0.004*\"thank\" + 0.004*\"support\" + 0.004*\"great\" + 0.003*\"house\" + 0.003*\"people\" + 0.003*\"american\" + 0.003*\"community\"\n",
      "2019-02-27 00:10:58,265 : INFO : topic diff=0.381435, rho=0.497981\n",
      "2019-02-27 00:10:59,666 : INFO : -7.873 per-word bound, 234.4 perplexity estimate based on a held-out corpus of 65 documents with 486380 words\n",
      "2019-02-27 00:10:59,667 : INFO : PROGRESS: pass 2, at document #2065/2065\n",
      "2019-02-27 00:11:00,001 : INFO : merging changes from 65 documents into a model of 2065 documents\n",
      "2019-02-27 00:11:00,167 : INFO : topic #0 (0.200): 0.186*\"SCREEN_NAME\" + 0.006*\"great\" + 0.006*\"today\" + 0.005*\"thank\" + 0.004*\"people\" + 0.004*\"thanks\" + 0.003*\"state\" + 0.003*\"woman\" + 0.003*\"world\" + 0.003*\"first\"\n"
     ]
    },
    {
     "name": "stderr",
     "output_type": "stream",
     "text": [
      "2019-02-27 00:11:00,175 : INFO : topic #1 (0.200): 0.082*\"SCREEN_NAME\" + 0.009*\"today\" + 0.006*\"american\" + 0.005*\"family\" + 0.005*\"trump\" + 0.005*\"great\" + 0.005*\"people\" + 0.004*\"health\" + 0.004*\"thank\" + 0.004*\"house\"\n",
      "2019-02-27 00:11:00,185 : INFO : topic #2 (0.200): 0.060*\"SCREEN_NAME\" + 0.014*\"txlege\" + 0.013*\"texas\" + 0.012*\"today\" + 0.010*\"thank\" + 0.010*\"great\" + 0.006*\"honor\" + 0.006*\"state\" + 0.005*\"community\" + 0.005*\"corpus\"\n",
      "2019-02-27 00:11:00,193 : INFO : topic #3 (0.200): 0.069*\"SCREEN_NAME\" + 0.015*\"today\" + 0.012*\"great\" + 0.008*\"thank\" + 0.008*\"state\" + 0.006*\"honor\" + 0.005*\"county\" + 0.005*\"house\" + 0.005*\"thanks\" + 0.005*\"community\"\n",
      "2019-02-27 00:11:00,200 : INFO : topic #4 (0.200): 0.064*\"SCREEN_NAME\" + 0.006*\"today\" + 0.006*\"state\" + 0.006*\"thank\" + 0.005*\"community\" + 0.005*\"ksleg\" + 0.005*\"brooklyn\" + 0.004*\"great\" + 0.004*\"leavenworth\" + 0.004*\"family\"\n",
      "2019-02-27 00:11:00,204 : INFO : topic diff=0.353303, rho=0.497981\n",
      "2019-02-27 00:11:00,211 : INFO : PROGRESS: pass 3, at document #2000/2065\n",
      "2019-02-27 00:11:08,031 : INFO : merging changes from 2000 documents into a model of 2065 documents\n",
      "2019-02-27 00:11:08,192 : INFO : topic #0 (0.200): 0.192*\"SCREEN_NAME\" + 0.006*\"great\" + 0.005*\"today\" + 0.004*\"thank\" + 0.004*\"people\" + 0.004*\"thanks\" + 0.003*\"state\" + 0.003*\"world\" + 0.003*\"woman\" + 0.003*\"first\"\n",
      "2019-02-27 00:11:08,199 : INFO : topic #1 (0.200): 0.084*\"SCREEN_NAME\" + 0.010*\"today\" + 0.007*\"american\" + 0.005*\"family\" + 0.005*\"trump\" + 0.005*\"great\" + 0.004*\"people\" + 0.004*\"house\" + 0.004*\"health\" + 0.004*\"support\"\n",
      "2019-02-27 00:11:08,210 : INFO : topic #2 (0.200): 0.056*\"SCREEN_NAME\" + 0.013*\"txlege\" + 0.013*\"texas\" + 0.011*\"today\" + 0.009*\"great\" + 0.009*\"thank\" + 0.006*\"honor\" + 0.005*\"state\" + 0.005*\"community\" + 0.005*\"photo\"\n",
      "2019-02-27 00:11:08,219 : INFO : topic #3 (0.200): 0.069*\"SCREEN_NAME\" + 0.015*\"today\" + 0.013*\"great\" + 0.008*\"thank\" + 0.008*\"state\" + 0.006*\"county\" + 0.006*\"thanks\" + 0.006*\"honor\" + 0.006*\"house\" + 0.005*\"community\"\n",
      "2019-02-27 00:11:08,229 : INFO : topic #4 (0.200): 0.060*\"SCREEN_NAME\" + 0.006*\"state\" + 0.005*\"today\" + 0.005*\"thank\" + 0.004*\"community\" + 0.004*\"brooklyn\" + 0.004*\"ksleg\" + 0.004*\"great\" + 0.003*\"support\" + 0.003*\"family\"\n",
      "2019-02-27 00:11:08,233 : INFO : topic diff=0.298012, rho=0.445767\n",
      "2019-02-27 00:11:09,641 : INFO : -7.769 per-word bound, 218.1 perplexity estimate based on a held-out corpus of 65 documents with 486380 words\n",
      "2019-02-27 00:11:09,642 : INFO : PROGRESS: pass 3, at document #2065/2065\n",
      "2019-02-27 00:11:09,979 : INFO : merging changes from 65 documents into a model of 2065 documents\n",
      "2019-02-27 00:11:10,140 : INFO : topic #0 (0.200): 0.190*\"SCREEN_NAME\" + 0.006*\"great\" + 0.005*\"today\" + 0.004*\"thank\" + 0.004*\"people\" + 0.004*\"thanks\" + 0.003*\"woman\" + 0.003*\"world\" + 0.003*\"state\" + 0.003*\"first\"\n",
      "2019-02-27 00:11:10,150 : INFO : topic #1 (0.200): 0.083*\"SCREEN_NAME\" + 0.009*\"today\" + 0.006*\"american\" + 0.005*\"family\" + 0.005*\"trump\" + 0.005*\"great\" + 0.005*\"people\" + 0.004*\"health\" + 0.004*\"house\" + 0.004*\"support\"\n",
      "2019-02-27 00:11:10,161 : INFO : topic #2 (0.200): 0.064*\"SCREEN_NAME\" + 0.016*\"txlege\" + 0.014*\"texas\" + 0.012*\"today\" + 0.010*\"thank\" + 0.009*\"great\" + 0.007*\"honor\" + 0.007*\"teamina\" + 0.006*\"hd124\" + 0.006*\"state\"\n",
      "2019-02-27 00:11:10,171 : INFO : topic #3 (0.200): 0.070*\"SCREEN_NAME\" + 0.015*\"today\" + 0.013*\"great\" + 0.009*\"state\" + 0.009*\"thank\" + 0.006*\"county\" + 0.006*\"house\" + 0.006*\"thanks\" + 0.005*\"honor\" + 0.005*\"community\"\n",
      "2019-02-27 00:11:10,178 : INFO : topic #4 (0.200): 0.058*\"SCREEN_NAME\" + 0.007*\"thank\" + 0.007*\"community\" + 0.007*\"state\" + 0.006*\"brooklyn\" + 0.005*\"today\" + 0.005*\"ksleg\" + 0.005*\"great\" + 0.004*\"family\" + 0.004*\"honor\"\n",
      "2019-02-27 00:11:10,182 : INFO : topic diff=0.321857, rho=0.445767\n",
      "2019-02-27 00:11:10,190 : INFO : PROGRESS: pass 4, at document #2000/2065\n",
      "2019-02-27 00:11:17,896 : INFO : merging changes from 2000 documents into a model of 2065 documents\n",
      "2019-02-27 00:11:18,053 : INFO : topic #0 (0.200): 0.196*\"SCREEN_NAME\" + 0.006*\"great\" + 0.005*\"today\" + 0.004*\"thank\" + 0.004*\"people\" + 0.004*\"thanks\" + 0.003*\"world\" + 0.003*\"woman\" + 0.003*\"first\" + 0.003*\"state\"\n",
      "2019-02-27 00:11:18,060 : INFO : topic #1 (0.200): 0.085*\"SCREEN_NAME\" + 0.010*\"today\" + 0.007*\"american\" + 0.005*\"family\" + 0.005*\"trump\" + 0.005*\"great\" + 0.004*\"people\" + 0.004*\"house\" + 0.004*\"health\" + 0.004*\"support\"\n",
      "2019-02-27 00:11:18,068 : INFO : topic #2 (0.200): 0.060*\"SCREEN_NAME\" + 0.015*\"txlege\" + 0.015*\"texas\" + 0.012*\"today\" + 0.010*\"thank\" + 0.009*\"great\" + 0.006*\"honor\" + 0.005*\"teamina\" + 0.005*\"state\" + 0.005*\"hd124\"\n",
      "2019-02-27 00:11:18,076 : INFO : topic #3 (0.200): 0.069*\"SCREEN_NAME\" + 0.015*\"today\" + 0.014*\"great\" + 0.009*\"state\" + 0.009*\"thank\" + 0.007*\"county\" + 0.006*\"thanks\" + 0.006*\"house\" + 0.006*\"honor\" + 0.005*\"school\"\n",
      "2019-02-27 00:11:18,086 : INFO : topic #4 (0.200): 0.054*\"SCREEN_NAME\" + 0.006*\"thank\" + 0.006*\"community\" + 0.006*\"state\" + 0.005*\"brooklyn\" + 0.005*\"today\" + 0.004*\"great\" + 0.004*\"ksleg\" + 0.004*\"family\" + 0.003*\"honor\"\n",
      "2019-02-27 00:11:18,090 : INFO : topic diff=0.258222, rho=0.407147\n",
      "2019-02-27 00:11:19,493 : INFO : -7.710 per-word bound, 209.4 perplexity estimate based on a held-out corpus of 65 documents with 486380 words\n",
      "2019-02-27 00:11:19,494 : INFO : PROGRESS: pass 4, at document #2065/2065\n",
      "2019-02-27 00:11:19,823 : INFO : merging changes from 65 documents into a model of 2065 documents\n",
      "2019-02-27 00:11:19,983 : INFO : topic #0 (0.200): 0.192*\"SCREEN_NAME\" + 0.006*\"great\" + 0.005*\"today\" + 0.004*\"thank\" + 0.004*\"people\" + 0.004*\"thanks\" + 0.003*\"world\" + 0.003*\"woman\" + 0.003*\"first\" + 0.003*\"right\"\n",
      "2019-02-27 00:11:19,991 : INFO : topic #1 (0.200): 0.084*\"SCREEN_NAME\" + 0.010*\"today\" + 0.006*\"american\" + 0.005*\"family\" + 0.005*\"trump\" + 0.005*\"great\" + 0.005*\"people\" + 0.004*\"house\" + 0.004*\"health\" + 0.004*\"support\"\n",
      "2019-02-27 00:11:19,999 : INFO : topic #2 (0.200): 0.067*\"SCREEN_NAME\" + 0.016*\"txlege\" + 0.015*\"texas\" + 0.012*\"today\" + 0.011*\"thank\" + 0.009*\"great\" + 0.008*\"teamina\" + 0.007*\"hd124\" + 0.007*\"honor\" + 0.006*\"state\"\n",
      "2019-02-27 00:11:20,007 : INFO : topic #3 (0.200): 0.071*\"SCREEN_NAME\" + 0.015*\"today\" + 0.014*\"great\" + 0.009*\"state\" + 0.009*\"thank\" + 0.006*\"county\" + 0.006*\"thanks\" + 0.006*\"house\" + 0.005*\"honor\" + 0.005*\"happy\"\n",
      "2019-02-27 00:11:20,016 : INFO : topic #4 (0.200): 0.054*\"SCREEN_NAME\" + 0.008*\"thank\" + 0.008*\"community\" + 0.007*\"state\" + 0.006*\"brooklyn\" + 0.005*\"great\" + 0.005*\"today\" + 0.005*\"ksleg\" + 0.004*\"honor\" + 0.004*\"family\"\n",
      "2019-02-27 00:11:20,021 : INFO : topic diff=0.266046, rho=0.407147\n",
      "2019-02-27 00:11:20,027 : INFO : PROGRESS: pass 5, at document #2000/2065\n",
      "2019-02-27 00:11:27,715 : INFO : merging changes from 2000 documents into a model of 2065 documents\n",
      "2019-02-27 00:11:27,879 : INFO : topic #0 (0.200): 0.197*\"SCREEN_NAME\" + 0.006*\"great\" + 0.005*\"today\" + 0.004*\"thank\" + 0.004*\"people\" + 0.004*\"thanks\" + 0.003*\"world\" + 0.003*\"woman\" + 0.003*\"first\" + 0.003*\"right\"\n",
      "2019-02-27 00:11:27,886 : INFO : topic #1 (0.200): 0.085*\"SCREEN_NAME\" + 0.010*\"today\" + 0.007*\"american\" + 0.005*\"family\" + 0.005*\"trump\" + 0.005*\"great\" + 0.004*\"people\" + 0.004*\"house\" + 0.004*\"health\" + 0.004*\"support\"\n",
      "2019-02-27 00:11:27,897 : INFO : topic #2 (0.200): 0.064*\"SCREEN_NAME\" + 0.015*\"txlege\" + 0.015*\"texas\" + 0.012*\"today\" + 0.010*\"thank\" + 0.009*\"great\" + 0.007*\"teamina\" + 0.006*\"honor\" + 0.006*\"hd124\" + 0.005*\"state\"\n",
      "2019-02-27 00:11:27,905 : INFO : topic #3 (0.200): 0.071*\"SCREEN_NAME\" + 0.015*\"today\" + 0.015*\"great\" + 0.009*\"state\" + 0.009*\"thank\" + 0.007*\"county\" + 0.006*\"thanks\" + 0.006*\"house\" + 0.005*\"honor\" + 0.005*\"school\"\n",
      "2019-02-27 00:11:27,913 : INFO : topic #4 (0.200): 0.051*\"SCREEN_NAME\" + 0.007*\"thank\" + 0.007*\"community\" + 0.006*\"state\" + 0.006*\"brooklyn\" + 0.005*\"great\" + 0.005*\"today\" + 0.004*\"ksleg\" + 0.004*\"honor\" + 0.004*\"family\"\n",
      "2019-02-27 00:11:27,918 : INFO : topic diff=0.237303, rho=0.377090\n",
      "2019-02-27 00:11:29,315 : INFO : -7.679 per-word bound, 204.9 perplexity estimate based on a held-out corpus of 65 documents with 486380 words\n",
      "2019-02-27 00:11:29,316 : INFO : PROGRESS: pass 5, at document #2065/2065\n",
      "2019-02-27 00:11:29,646 : INFO : merging changes from 65 documents into a model of 2065 documents\n"
     ]
    },
    {
     "name": "stderr",
     "output_type": "stream",
     "text": [
      "2019-02-27 00:11:29,809 : INFO : topic #0 (0.200): 0.193*\"SCREEN_NAME\" + 0.005*\"great\" + 0.005*\"today\" + 0.004*\"thank\" + 0.004*\"people\" + 0.004*\"thanks\" + 0.003*\"world\" + 0.003*\"woman\" + 0.003*\"first\" + 0.003*\"right\"\n",
      "2019-02-27 00:11:29,818 : INFO : topic #1 (0.200): 0.085*\"SCREEN_NAME\" + 0.010*\"today\" + 0.006*\"american\" + 0.005*\"family\" + 0.005*\"trump\" + 0.005*\"great\" + 0.005*\"people\" + 0.004*\"house\" + 0.004*\"health\" + 0.004*\"support\"\n",
      "2019-02-27 00:11:29,829 : INFO : topic #2 (0.200): 0.070*\"SCREEN_NAME\" + 0.016*\"txlege\" + 0.015*\"texas\" + 0.012*\"today\" + 0.011*\"thank\" + 0.009*\"great\" + 0.008*\"teamina\" + 0.007*\"hd124\" + 0.006*\"honor\" + 0.006*\"state\"\n",
      "2019-02-27 00:11:29,838 : INFO : topic #3 (0.200): 0.074*\"SCREEN_NAME\" + 0.015*\"today\" + 0.014*\"great\" + 0.010*\"state\" + 0.009*\"thank\" + 0.007*\"county\" + 0.006*\"thanks\" + 0.006*\"house\" + 0.005*\"honor\" + 0.005*\"happy\"\n",
      "2019-02-27 00:11:29,846 : INFO : topic #4 (0.200): 0.052*\"SCREEN_NAME\" + 0.008*\"thank\" + 0.008*\"community\" + 0.007*\"state\" + 0.006*\"brooklyn\" + 0.005*\"great\" + 0.005*\"ksleg\" + 0.005*\"today\" + 0.005*\"honor\" + 0.004*\"family\"\n",
      "2019-02-27 00:11:29,850 : INFO : topic diff=0.239690, rho=0.377090\n",
      "2019-02-27 00:11:29,858 : INFO : PROGRESS: pass 6, at document #2000/2065\n",
      "2019-02-27 00:11:37,550 : INFO : merging changes from 2000 documents into a model of 2065 documents\n",
      "2019-02-27 00:11:37,711 : INFO : topic #0 (0.200): 0.198*\"SCREEN_NAME\" + 0.005*\"great\" + 0.005*\"today\" + 0.004*\"people\" + 0.004*\"thank\" + 0.004*\"thanks\" + 0.003*\"world\" + 0.003*\"first\" + 0.003*\"woman\" + 0.003*\"right\"\n",
      "2019-02-27 00:11:37,717 : INFO : topic #1 (0.200): 0.086*\"SCREEN_NAME\" + 0.010*\"today\" + 0.006*\"american\" + 0.005*\"family\" + 0.005*\"great\" + 0.005*\"trump\" + 0.004*\"people\" + 0.004*\"house\" + 0.004*\"health\" + 0.004*\"thank\"\n",
      "2019-02-27 00:11:37,728 : INFO : topic #2 (0.200): 0.067*\"SCREEN_NAME\" + 0.015*\"txlege\" + 0.015*\"texas\" + 0.012*\"today\" + 0.010*\"thank\" + 0.009*\"great\" + 0.007*\"teamina\" + 0.006*\"honor\" + 0.006*\"hd124\" + 0.005*\"state\"\n",
      "2019-02-27 00:11:37,739 : INFO : topic #3 (0.200): 0.073*\"SCREEN_NAME\" + 0.015*\"today\" + 0.015*\"great\" + 0.009*\"state\" + 0.009*\"thank\" + 0.007*\"county\" + 0.006*\"thanks\" + 0.006*\"house\" + 0.005*\"honor\" + 0.005*\"school\"\n",
      "2019-02-27 00:11:37,748 : INFO : topic #4 (0.200): 0.050*\"SCREEN_NAME\" + 0.007*\"thank\" + 0.007*\"community\" + 0.006*\"state\" + 0.006*\"brooklyn\" + 0.005*\"great\" + 0.004*\"today\" + 0.004*\"ksleg\" + 0.004*\"honor\" + 0.004*\"family\"\n",
      "2019-02-27 00:11:37,752 : INFO : topic diff=0.218961, rho=0.352837\n",
      "2019-02-27 00:11:39,155 : INFO : -7.663 per-word bound, 202.6 perplexity estimate based on a held-out corpus of 65 documents with 486380 words\n",
      "2019-02-27 00:11:39,156 : INFO : PROGRESS: pass 6, at document #2065/2065\n",
      "2019-02-27 00:11:39,487 : INFO : merging changes from 65 documents into a model of 2065 documents\n",
      "2019-02-27 00:11:39,651 : INFO : topic #0 (0.200): 0.194*\"SCREEN_NAME\" + 0.005*\"great\" + 0.005*\"today\" + 0.004*\"people\" + 0.004*\"thank\" + 0.004*\"thanks\" + 0.003*\"world\" + 0.003*\"woman\" + 0.003*\"first\" + 0.003*\"right\"\n",
      "2019-02-27 00:11:39,658 : INFO : topic #1 (0.200): 0.085*\"SCREEN_NAME\" + 0.010*\"today\" + 0.006*\"american\" + 0.005*\"family\" + 0.005*\"great\" + 0.005*\"trump\" + 0.005*\"people\" + 0.004*\"house\" + 0.004*\"health\" + 0.004*\"support\"\n",
      "2019-02-27 00:11:39,667 : INFO : topic #2 (0.200): 0.072*\"SCREEN_NAME\" + 0.016*\"txlege\" + 0.015*\"texas\" + 0.012*\"today\" + 0.011*\"thank\" + 0.009*\"great\" + 0.008*\"teamina\" + 0.007*\"hd124\" + 0.006*\"honor\" + 0.006*\"state\"\n",
      "2019-02-27 00:11:39,676 : INFO : topic #3 (0.200): 0.077*\"SCREEN_NAME\" + 0.015*\"today\" + 0.014*\"great\" + 0.010*\"state\" + 0.009*\"thank\" + 0.007*\"county\" + 0.006*\"thanks\" + 0.006*\"house\" + 0.005*\"honor\" + 0.005*\"school\"\n",
      "2019-02-27 00:11:39,686 : INFO : topic #4 (0.200): 0.051*\"SCREEN_NAME\" + 0.008*\"thank\" + 0.008*\"community\" + 0.007*\"state\" + 0.006*\"brooklyn\" + 0.005*\"great\" + 0.005*\"ksleg\" + 0.005*\"honor\" + 0.005*\"today\" + 0.004*\"family\"\n",
      "2019-02-27 00:11:39,691 : INFO : topic diff=0.211614, rho=0.352837\n",
      "2019-02-27 00:11:39,699 : INFO : PROGRESS: pass 7, at document #2000/2065\n",
      "2019-02-27 00:11:47,419 : INFO : merging changes from 2000 documents into a model of 2065 documents\n",
      "2019-02-27 00:11:47,578 : INFO : topic #0 (0.200): 0.199*\"SCREEN_NAME\" + 0.005*\"great\" + 0.005*\"today\" + 0.004*\"people\" + 0.004*\"thanks\" + 0.004*\"thank\" + 0.003*\"world\" + 0.003*\"first\" + 0.003*\"woman\" + 0.003*\"right\"\n",
      "2019-02-27 00:11:47,586 : INFO : topic #1 (0.200): 0.086*\"SCREEN_NAME\" + 0.010*\"today\" + 0.006*\"american\" + 0.005*\"family\" + 0.005*\"great\" + 0.005*\"trump\" + 0.004*\"people\" + 0.004*\"house\" + 0.004*\"health\" + 0.004*\"thank\"\n",
      "2019-02-27 00:11:47,596 : INFO : topic #2 (0.200): 0.070*\"SCREEN_NAME\" + 0.016*\"txlege\" + 0.015*\"texas\" + 0.012*\"today\" + 0.011*\"thank\" + 0.009*\"great\" + 0.007*\"teamina\" + 0.006*\"honor\" + 0.006*\"hd124\" + 0.005*\"state\"\n",
      "2019-02-27 00:11:47,603 : INFO : topic #3 (0.200): 0.077*\"SCREEN_NAME\" + 0.015*\"great\" + 0.015*\"today\" + 0.010*\"state\" + 0.009*\"thank\" + 0.007*\"county\" + 0.006*\"thanks\" + 0.006*\"house\" + 0.005*\"school\" + 0.005*\"honor\"\n",
      "2019-02-27 00:11:47,612 : INFO : topic #4 (0.200): 0.048*\"SCREEN_NAME\" + 0.008*\"thank\" + 0.008*\"community\" + 0.006*\"state\" + 0.006*\"brooklyn\" + 0.005*\"great\" + 0.004*\"today\" + 0.004*\"honor\" + 0.004*\"ksleg\" + 0.004*\"family\"\n",
      "2019-02-27 00:11:47,616 : INFO : topic diff=0.204887, rho=0.332733\n",
      "2019-02-27 00:11:49,028 : INFO : -7.653 per-word bound, 201.3 perplexity estimate based on a held-out corpus of 65 documents with 486380 words\n",
      "2019-02-27 00:11:49,030 : INFO : PROGRESS: pass 7, at document #2065/2065\n",
      "2019-02-27 00:11:49,358 : INFO : merging changes from 65 documents into a model of 2065 documents\n",
      "2019-02-27 00:11:49,521 : INFO : topic #0 (0.200): 0.195*\"SCREEN_NAME\" + 0.005*\"great\" + 0.005*\"today\" + 0.004*\"people\" + 0.004*\"thank\" + 0.003*\"thanks\" + 0.003*\"world\" + 0.003*\"woman\" + 0.003*\"first\" + 0.003*\"right\"\n",
      "2019-02-27 00:11:49,529 : INFO : topic #1 (0.200): 0.085*\"SCREEN_NAME\" + 0.010*\"today\" + 0.006*\"american\" + 0.005*\"family\" + 0.005*\"great\" + 0.005*\"trump\" + 0.005*\"people\" + 0.004*\"house\" + 0.004*\"health\" + 0.004*\"support\"\n",
      "2019-02-27 00:11:49,538 : INFO : topic #2 (0.200): 0.074*\"SCREEN_NAME\" + 0.016*\"txlege\" + 0.015*\"texas\" + 0.012*\"today\" + 0.011*\"thank\" + 0.009*\"great\" + 0.008*\"teamina\" + 0.007*\"hd124\" + 0.006*\"honor\" + 0.006*\"state\"\n",
      "2019-02-27 00:11:49,547 : INFO : topic #3 (0.200): 0.082*\"SCREEN_NAME\" + 0.015*\"today\" + 0.014*\"great\" + 0.010*\"state\" + 0.009*\"thank\" + 0.007*\"county\" + 0.006*\"thanks\" + 0.005*\"house\" + 0.005*\"school\" + 0.005*\"happy\"\n",
      "2019-02-27 00:11:49,557 : INFO : topic #4 (0.200): 0.050*\"SCREEN_NAME\" + 0.009*\"thank\" + 0.008*\"community\" + 0.007*\"state\" + 0.006*\"brooklyn\" + 0.005*\"great\" + 0.005*\"ksleg\" + 0.005*\"honor\" + 0.005*\"today\" + 0.004*\"family\"\n",
      "2019-02-27 00:11:49,561 : INFO : topic diff=0.197595, rho=0.332733\n",
      "2019-02-27 00:11:49,569 : INFO : PROGRESS: pass 8, at document #2000/2065\n",
      "2019-02-27 00:11:57,283 : INFO : merging changes from 2000 documents into a model of 2065 documents\n",
      "2019-02-27 00:11:57,442 : INFO : topic #0 (0.200): 0.199*\"SCREEN_NAME\" + 0.005*\"great\" + 0.005*\"today\" + 0.004*\"people\" + 0.004*\"thanks\" + 0.003*\"thank\" + 0.003*\"world\" + 0.003*\"first\" + 0.003*\"woman\" + 0.003*\"right\"\n",
      "2019-02-27 00:11:57,449 : INFO : topic #1 (0.200): 0.086*\"SCREEN_NAME\" + 0.010*\"today\" + 0.006*\"american\" + 0.005*\"family\" + 0.005*\"great\" + 0.005*\"trump\" + 0.005*\"house\" + 0.004*\"people\" + 0.004*\"health\" + 0.004*\"thank\"\n",
      "2019-02-27 00:11:57,459 : INFO : topic #2 (0.200): 0.071*\"SCREEN_NAME\" + 0.016*\"txlege\" + 0.015*\"texas\" + 0.012*\"today\" + 0.011*\"thank\" + 0.008*\"great\" + 0.007*\"teamina\" + 0.006*\"honor\" + 0.006*\"hd124\" + 0.005*\"state\"\n",
      "2019-02-27 00:11:57,468 : INFO : topic #3 (0.200): 0.082*\"SCREEN_NAME\" + 0.015*\"great\" + 0.015*\"today\" + 0.010*\"state\" + 0.009*\"thank\" + 0.007*\"county\" + 0.006*\"thanks\" + 0.005*\"house\" + 0.005*\"school\" + 0.005*\"happy\"\n",
      "2019-02-27 00:11:57,477 : INFO : topic #4 (0.200): 0.048*\"SCREEN_NAME\" + 0.008*\"thank\" + 0.008*\"community\" + 0.006*\"state\" + 0.006*\"brooklyn\" + 0.005*\"great\" + 0.004*\"honor\" + 0.004*\"today\" + 0.004*\"ksleg\" + 0.004*\"family\"\n",
      "2019-02-27 00:11:57,481 : INFO : topic diff=0.190116, rho=0.315715\n",
      "2019-02-27 00:11:58,878 : INFO : -7.646 per-word bound, 200.3 perplexity estimate based on a held-out corpus of 65 documents with 486380 words\n"
     ]
    },
    {
     "name": "stderr",
     "output_type": "stream",
     "text": [
      "2019-02-27 00:11:58,879 : INFO : PROGRESS: pass 8, at document #2065/2065\n",
      "2019-02-27 00:11:59,207 : INFO : merging changes from 65 documents into a model of 2065 documents\n",
      "2019-02-27 00:11:59,369 : INFO : topic #0 (0.200): 0.195*\"SCREEN_NAME\" + 0.005*\"great\" + 0.005*\"today\" + 0.004*\"people\" + 0.004*\"thank\" + 0.003*\"thanks\" + 0.003*\"world\" + 0.003*\"woman\" + 0.003*\"first\" + 0.003*\"right\"\n",
      "2019-02-27 00:11:59,376 : INFO : topic #1 (0.200): 0.086*\"SCREEN_NAME\" + 0.010*\"today\" + 0.006*\"american\" + 0.005*\"family\" + 0.005*\"great\" + 0.005*\"trump\" + 0.005*\"people\" + 0.005*\"house\" + 0.004*\"support\" + 0.004*\"health\"\n",
      "2019-02-27 00:11:59,386 : INFO : topic #2 (0.200): 0.076*\"SCREEN_NAME\" + 0.016*\"txlege\" + 0.015*\"texas\" + 0.012*\"today\" + 0.011*\"thank\" + 0.009*\"great\" + 0.008*\"teamina\" + 0.007*\"hd124\" + 0.006*\"honor\" + 0.006*\"state\"\n",
      "2019-02-27 00:11:59,395 : INFO : topic #3 (0.200): 0.088*\"SCREEN_NAME\" + 0.014*\"great\" + 0.014*\"today\" + 0.009*\"state\" + 0.009*\"thank\" + 0.007*\"county\" + 0.006*\"thanks\" + 0.005*\"house\" + 0.005*\"school\" + 0.005*\"happy\"\n",
      "2019-02-27 00:11:59,405 : INFO : topic #4 (0.200): 0.049*\"SCREEN_NAME\" + 0.009*\"thank\" + 0.009*\"community\" + 0.007*\"state\" + 0.006*\"brooklyn\" + 0.005*\"great\" + 0.005*\"ksleg\" + 0.005*\"honor\" + 0.004*\"family\" + 0.004*\"continue\"\n",
      "2019-02-27 00:11:59,410 : INFO : topic diff=0.189070, rho=0.315715\n",
      "2019-02-27 00:11:59,418 : INFO : PROGRESS: pass 9, at document #2000/2065\n",
      "2019-02-27 00:12:07,095 : INFO : merging changes from 2000 documents into a model of 2065 documents\n",
      "2019-02-27 00:12:07,260 : INFO : topic #0 (0.200): 0.199*\"SCREEN_NAME\" + 0.005*\"great\" + 0.004*\"today\" + 0.004*\"people\" + 0.004*\"thanks\" + 0.003*\"thank\" + 0.003*\"world\" + 0.003*\"first\" + 0.003*\"woman\" + 0.003*\"right\"\n",
      "2019-02-27 00:12:07,267 : INFO : topic #1 (0.200): 0.086*\"SCREEN_NAME\" + 0.010*\"today\" + 0.006*\"american\" + 0.005*\"great\" + 0.005*\"family\" + 0.005*\"trump\" + 0.005*\"house\" + 0.005*\"people\" + 0.004*\"thank\" + 0.004*\"health\"\n",
      "2019-02-27 00:12:07,276 : INFO : topic #2 (0.200): 0.073*\"SCREEN_NAME\" + 0.016*\"txlege\" + 0.015*\"texas\" + 0.012*\"today\" + 0.011*\"thank\" + 0.008*\"great\" + 0.007*\"teamina\" + 0.006*\"honor\" + 0.006*\"hd124\" + 0.005*\"state\"\n",
      "2019-02-27 00:12:07,285 : INFO : topic #3 (0.200): 0.087*\"SCREEN_NAME\" + 0.015*\"great\" + 0.014*\"today\" + 0.010*\"state\" + 0.009*\"thank\" + 0.007*\"county\" + 0.006*\"thanks\" + 0.005*\"house\" + 0.005*\"school\" + 0.005*\"happy\"\n",
      "2019-02-27 00:12:07,294 : INFO : topic #4 (0.200): 0.047*\"SCREEN_NAME\" + 0.008*\"thank\" + 0.008*\"community\" + 0.006*\"state\" + 0.006*\"brooklyn\" + 0.005*\"great\" + 0.004*\"honor\" + 0.004*\"ksleg\" + 0.004*\"today\" + 0.004*\"family\"\n",
      "2019-02-27 00:12:07,299 : INFO : topic diff=0.183022, rho=0.301067\n",
      "2019-02-27 00:12:08,691 : INFO : -7.642 per-word bound, 199.7 perplexity estimate based on a held-out corpus of 65 documents with 486380 words\n",
      "2019-02-27 00:12:08,692 : INFO : PROGRESS: pass 9, at document #2065/2065\n",
      "2019-02-27 00:12:09,032 : INFO : merging changes from 65 documents into a model of 2065 documents\n",
      "2019-02-27 00:12:09,197 : INFO : topic #0 (0.200): 0.195*\"SCREEN_NAME\" + 0.005*\"great\" + 0.005*\"today\" + 0.004*\"people\" + 0.003*\"thank\" + 0.003*\"thanks\" + 0.003*\"world\" + 0.003*\"woman\" + 0.003*\"first\" + 0.003*\"right\"\n",
      "2019-02-27 00:12:09,205 : INFO : topic #1 (0.200): 0.086*\"SCREEN_NAME\" + 0.010*\"today\" + 0.006*\"american\" + 0.005*\"great\" + 0.005*\"family\" + 0.005*\"trump\" + 0.005*\"people\" + 0.005*\"house\" + 0.004*\"thank\" + 0.004*\"support\"\n",
      "2019-02-27 00:12:09,213 : INFO : topic #2 (0.200): 0.077*\"SCREEN_NAME\" + 0.016*\"txlege\" + 0.015*\"texas\" + 0.012*\"today\" + 0.011*\"thank\" + 0.009*\"great\" + 0.008*\"teamina\" + 0.007*\"hd124\" + 0.006*\"honor\" + 0.006*\"state\"\n",
      "2019-02-27 00:12:09,221 : INFO : topic #3 (0.200): 0.094*\"SCREEN_NAME\" + 0.014*\"great\" + 0.014*\"today\" + 0.009*\"state\" + 0.009*\"thank\" + 0.006*\"county\" + 0.006*\"thanks\" + 0.005*\"house\" + 0.005*\"school\" + 0.005*\"happy\"\n",
      "2019-02-27 00:12:09,230 : INFO : topic #4 (0.200): 0.048*\"SCREEN_NAME\" + 0.009*\"thank\" + 0.009*\"community\" + 0.007*\"state\" + 0.006*\"brooklyn\" + 0.005*\"great\" + 0.005*\"ksleg\" + 0.005*\"honor\" + 0.004*\"continue\" + 0.004*\"family\"\n",
      "2019-02-27 00:12:09,234 : INFO : topic diff=0.177934, rho=0.301067\n",
      "2019-02-27 00:12:09,242 : INFO : PROGRESS: pass 10, at document #2000/2065\n",
      "2019-02-27 00:12:16,892 : INFO : merging changes from 2000 documents into a model of 2065 documents\n",
      "2019-02-27 00:12:17,048 : INFO : topic #0 (0.200): 0.199*\"SCREEN_NAME\" + 0.005*\"great\" + 0.004*\"today\" + 0.004*\"people\" + 0.003*\"thanks\" + 0.003*\"thank\" + 0.003*\"world\" + 0.003*\"first\" + 0.003*\"woman\" + 0.003*\"right\"\n",
      "2019-02-27 00:12:17,054 : INFO : topic #1 (0.200): 0.086*\"SCREEN_NAME\" + 0.010*\"today\" + 0.006*\"american\" + 0.005*\"great\" + 0.005*\"family\" + 0.005*\"trump\" + 0.005*\"house\" + 0.005*\"people\" + 0.004*\"thank\" + 0.004*\"health\"\n",
      "2019-02-27 00:12:17,063 : INFO : topic #2 (0.200): 0.074*\"SCREEN_NAME\" + 0.016*\"txlege\" + 0.015*\"texas\" + 0.012*\"today\" + 0.011*\"thank\" + 0.008*\"great\" + 0.007*\"teamina\" + 0.006*\"honor\" + 0.006*\"hd124\" + 0.005*\"state\"\n",
      "2019-02-27 00:12:17,072 : INFO : topic #3 (0.200): 0.093*\"SCREEN_NAME\" + 0.015*\"great\" + 0.014*\"today\" + 0.009*\"state\" + 0.009*\"thank\" + 0.007*\"county\" + 0.006*\"thanks\" + 0.005*\"house\" + 0.005*\"school\" + 0.005*\"happy\"\n",
      "2019-02-27 00:12:17,080 : INFO : topic #4 (0.200): 0.046*\"SCREEN_NAME\" + 0.008*\"thank\" + 0.008*\"community\" + 0.007*\"state\" + 0.006*\"brooklyn\" + 0.005*\"great\" + 0.004*\"honor\" + 0.004*\"ksleg\" + 0.004*\"today\" + 0.004*\"family\"\n",
      "2019-02-27 00:12:17,084 : INFO : topic diff=0.173123, rho=0.288285\n",
      "2019-02-27 00:12:18,509 : INFO : -7.638 per-word bound, 199.2 perplexity estimate based on a held-out corpus of 65 documents with 486380 words\n",
      "2019-02-27 00:12:18,510 : INFO : PROGRESS: pass 10, at document #2065/2065\n",
      "2019-02-27 00:12:18,846 : INFO : merging changes from 65 documents into a model of 2065 documents\n",
      "2019-02-27 00:12:19,005 : INFO : topic #0 (0.200): 0.194*\"SCREEN_NAME\" + 0.005*\"great\" + 0.005*\"today\" + 0.004*\"people\" + 0.003*\"thanks\" + 0.003*\"thank\" + 0.003*\"world\" + 0.003*\"woman\" + 0.003*\"first\" + 0.003*\"right\"\n",
      "2019-02-27 00:12:19,012 : INFO : topic #1 (0.200): 0.086*\"SCREEN_NAME\" + 0.010*\"today\" + 0.006*\"american\" + 0.005*\"great\" + 0.005*\"family\" + 0.005*\"trump\" + 0.005*\"people\" + 0.005*\"house\" + 0.004*\"thank\" + 0.004*\"support\"\n",
      "2019-02-27 00:12:19,020 : INFO : topic #2 (0.200): 0.078*\"SCREEN_NAME\" + 0.016*\"txlege\" + 0.015*\"texas\" + 0.012*\"today\" + 0.011*\"thank\" + 0.009*\"great\" + 0.008*\"teamina\" + 0.007*\"hd124\" + 0.006*\"honor\" + 0.006*\"state\"\n",
      "2019-02-27 00:12:19,029 : INFO : topic #3 (0.200): 0.100*\"SCREEN_NAME\" + 0.014*\"great\" + 0.014*\"today\" + 0.009*\"state\" + 0.009*\"thank\" + 0.006*\"county\" + 0.006*\"thanks\" + 0.005*\"house\" + 0.005*\"school\" + 0.005*\"happy\"\n",
      "2019-02-27 00:12:19,038 : INFO : topic #4 (0.200): 0.047*\"SCREEN_NAME\" + 0.009*\"thank\" + 0.009*\"community\" + 0.007*\"state\" + 0.006*\"brooklyn\" + 0.005*\"great\" + 0.005*\"ksleg\" + 0.005*\"honor\" + 0.004*\"continue\" + 0.004*\"family\"\n",
      "2019-02-27 00:12:19,043 : INFO : topic diff=0.166086, rho=0.288285\n",
      "2019-02-27 00:12:19,050 : INFO : PROGRESS: pass 11, at document #2000/2065\n",
      "2019-02-27 00:12:26,710 : INFO : merging changes from 2000 documents into a model of 2065 documents\n",
      "2019-02-27 00:12:26,868 : INFO : topic #0 (0.200): 0.198*\"SCREEN_NAME\" + 0.005*\"great\" + 0.004*\"today\" + 0.004*\"people\" + 0.003*\"thanks\" + 0.003*\"thank\" + 0.003*\"world\" + 0.003*\"first\" + 0.003*\"woman\" + 0.003*\"right\"\n",
      "2019-02-27 00:12:26,875 : INFO : topic #1 (0.200): 0.086*\"SCREEN_NAME\" + 0.010*\"today\" + 0.006*\"american\" + 0.005*\"great\" + 0.005*\"family\" + 0.005*\"trump\" + 0.005*\"house\" + 0.005*\"people\" + 0.004*\"thank\" + 0.004*\"health\"\n",
      "2019-02-27 00:12:26,884 : INFO : topic #2 (0.200): 0.075*\"SCREEN_NAME\" + 0.016*\"txlege\" + 0.015*\"texas\" + 0.012*\"today\" + 0.011*\"thank\" + 0.008*\"great\" + 0.007*\"teamina\" + 0.006*\"honor\" + 0.006*\"hd124\" + 0.005*\"state\"\n",
      "2019-02-27 00:12:26,893 : INFO : topic #3 (0.200): 0.099*\"SCREEN_NAME\" + 0.015*\"great\" + 0.014*\"today\" + 0.009*\"state\" + 0.009*\"thank\" + 0.007*\"county\" + 0.006*\"thanks\" + 0.005*\"school\" + 0.005*\"house\" + 0.005*\"happy\"\n",
      "2019-02-27 00:12:26,902 : INFO : topic #4 (0.200): 0.045*\"SCREEN_NAME\" + 0.008*\"thank\" + 0.008*\"community\" + 0.007*\"state\" + 0.006*\"brooklyn\" + 0.005*\"great\" + 0.004*\"honor\" + 0.004*\"ksleg\" + 0.004*\"albany\" + 0.004*\"family\"\n"
     ]
    },
    {
     "name": "stderr",
     "output_type": "stream",
     "text": [
      "2019-02-27 00:12:26,906 : INFO : topic diff=0.166144, rho=0.277004\n",
      "2019-02-27 00:12:28,313 : INFO : -7.635 per-word bound, 198.8 perplexity estimate based on a held-out corpus of 65 documents with 486380 words\n",
      "2019-02-27 00:12:28,314 : INFO : PROGRESS: pass 11, at document #2065/2065\n",
      "2019-02-27 00:12:28,643 : INFO : merging changes from 65 documents into a model of 2065 documents\n",
      "2019-02-27 00:12:28,805 : INFO : topic #0 (0.200): 0.194*\"SCREEN_NAME\" + 0.005*\"great\" + 0.004*\"today\" + 0.004*\"people\" + 0.003*\"thanks\" + 0.003*\"thank\" + 0.003*\"world\" + 0.003*\"woman\" + 0.003*\"first\" + 0.003*\"right\"\n",
      "2019-02-27 00:12:28,813 : INFO : topic #1 (0.200): 0.086*\"SCREEN_NAME\" + 0.010*\"today\" + 0.006*\"american\" + 0.005*\"great\" + 0.005*\"family\" + 0.005*\"trump\" + 0.005*\"people\" + 0.005*\"house\" + 0.004*\"thank\" + 0.004*\"support\"\n",
      "2019-02-27 00:12:28,821 : INFO : topic #2 (0.200): 0.079*\"SCREEN_NAME\" + 0.016*\"txlege\" + 0.015*\"texas\" + 0.012*\"today\" + 0.011*\"thank\" + 0.009*\"great\" + 0.008*\"teamina\" + 0.007*\"hd124\" + 0.006*\"honor\" + 0.006*\"state\"\n",
      "2019-02-27 00:12:28,830 : INFO : topic #3 (0.200): 0.106*\"SCREEN_NAME\" + 0.014*\"great\" + 0.014*\"today\" + 0.009*\"state\" + 0.009*\"thank\" + 0.006*\"county\" + 0.006*\"thanks\" + 0.005*\"house\" + 0.005*\"school\" + 0.005*\"happy\"\n",
      "2019-02-27 00:12:28,839 : INFO : topic #4 (0.200): 0.047*\"SCREEN_NAME\" + 0.009*\"thank\" + 0.009*\"community\" + 0.007*\"state\" + 0.007*\"brooklyn\" + 0.005*\"great\" + 0.005*\"ksleg\" + 0.005*\"honor\" + 0.004*\"continue\" + 0.004*\"albany\"\n",
      "2019-02-27 00:12:28,843 : INFO : topic diff=0.161434, rho=0.277004\n",
      "2019-02-27 00:12:28,851 : INFO : PROGRESS: pass 12, at document #2000/2065\n",
      "2019-02-27 00:12:36,518 : INFO : merging changes from 2000 documents into a model of 2065 documents\n",
      "2019-02-27 00:12:36,686 : INFO : topic #0 (0.200): 0.197*\"SCREEN_NAME\" + 0.005*\"great\" + 0.004*\"today\" + 0.004*\"people\" + 0.003*\"thanks\" + 0.003*\"world\" + 0.003*\"thank\" + 0.003*\"first\" + 0.003*\"woman\" + 0.003*\"right\"\n",
      "2019-02-27 00:12:36,693 : INFO : topic #1 (0.200): 0.086*\"SCREEN_NAME\" + 0.010*\"today\" + 0.006*\"american\" + 0.005*\"great\" + 0.005*\"family\" + 0.005*\"trump\" + 0.005*\"house\" + 0.005*\"people\" + 0.004*\"thank\" + 0.004*\"support\"\n",
      "2019-02-27 00:12:36,700 : INFO : topic #2 (0.200): 0.076*\"SCREEN_NAME\" + 0.016*\"txlege\" + 0.015*\"texas\" + 0.012*\"today\" + 0.011*\"thank\" + 0.008*\"great\" + 0.007*\"teamina\" + 0.006*\"honor\" + 0.006*\"hd124\" + 0.005*\"state\"\n",
      "2019-02-27 00:12:36,707 : INFO : topic #3 (0.200): 0.105*\"SCREEN_NAME\" + 0.015*\"great\" + 0.014*\"today\" + 0.009*\"state\" + 0.009*\"thank\" + 0.007*\"county\" + 0.006*\"thanks\" + 0.005*\"school\" + 0.005*\"house\" + 0.005*\"happy\"\n",
      "2019-02-27 00:12:36,717 : INFO : topic #4 (0.200): 0.045*\"SCREEN_NAME\" + 0.008*\"thank\" + 0.008*\"community\" + 0.007*\"state\" + 0.006*\"brooklyn\" + 0.005*\"great\" + 0.004*\"honor\" + 0.004*\"albany\" + 0.004*\"ksleg\" + 0.004*\"continue\"\n",
      "2019-02-27 00:12:36,721 : INFO : topic diff=0.160361, rho=0.266952\n",
      "2019-02-27 00:12:38,150 : INFO : -7.633 per-word bound, 198.5 perplexity estimate based on a held-out corpus of 65 documents with 486380 words\n",
      "2019-02-27 00:12:38,151 : INFO : PROGRESS: pass 12, at document #2065/2065\n",
      "2019-02-27 00:12:38,481 : INFO : merging changes from 65 documents into a model of 2065 documents\n",
      "2019-02-27 00:12:38,644 : INFO : topic #0 (0.200): 0.193*\"SCREEN_NAME\" + 0.005*\"great\" + 0.004*\"today\" + 0.004*\"people\" + 0.003*\"thanks\" + 0.003*\"world\" + 0.003*\"thank\" + 0.003*\"woman\" + 0.003*\"first\" + 0.003*\"right\"\n",
      "2019-02-27 00:12:38,652 : INFO : topic #1 (0.200): 0.086*\"SCREEN_NAME\" + 0.010*\"today\" + 0.006*\"american\" + 0.005*\"great\" + 0.005*\"family\" + 0.005*\"trump\" + 0.005*\"people\" + 0.005*\"house\" + 0.004*\"thank\" + 0.004*\"support\"\n",
      "2019-02-27 00:12:38,660 : INFO : topic #2 (0.200): 0.079*\"SCREEN_NAME\" + 0.016*\"txlege\" + 0.015*\"texas\" + 0.012*\"today\" + 0.011*\"thank\" + 0.009*\"great\" + 0.008*\"teamina\" + 0.007*\"hd124\" + 0.006*\"honor\" + 0.006*\"state\"\n",
      "2019-02-27 00:12:38,667 : INFO : topic #3 (0.200): 0.111*\"SCREEN_NAME\" + 0.014*\"great\" + 0.013*\"today\" + 0.009*\"state\" + 0.009*\"thank\" + 0.006*\"county\" + 0.006*\"thanks\" + 0.005*\"house\" + 0.005*\"school\" + 0.005*\"happy\"\n",
      "2019-02-27 00:12:38,678 : INFO : topic #4 (0.200): 0.046*\"SCREEN_NAME\" + 0.009*\"thank\" + 0.009*\"community\" + 0.007*\"state\" + 0.007*\"brooklyn\" + 0.005*\"great\" + 0.005*\"ksleg\" + 0.005*\"honor\" + 0.005*\"albany\" + 0.004*\"continue\"\n",
      "2019-02-27 00:12:38,682 : INFO : topic diff=0.154154, rho=0.266952\n",
      "2019-02-27 00:12:38,691 : INFO : PROGRESS: pass 13, at document #2000/2065\n",
      "2019-02-27 00:12:46,640 : INFO : merging changes from 2000 documents into a model of 2065 documents\n",
      "2019-02-27 00:12:46,798 : INFO : topic #0 (0.200): 0.197*\"SCREEN_NAME\" + 0.005*\"great\" + 0.004*\"today\" + 0.004*\"people\" + 0.003*\"thanks\" + 0.003*\"world\" + 0.003*\"thank\" + 0.003*\"first\" + 0.003*\"woman\" + 0.003*\"right\"\n",
      "2019-02-27 00:12:46,804 : INFO : topic #1 (0.200): 0.086*\"SCREEN_NAME\" + 0.010*\"today\" + 0.006*\"american\" + 0.005*\"great\" + 0.005*\"family\" + 0.005*\"trump\" + 0.005*\"house\" + 0.005*\"people\" + 0.004*\"thank\" + 0.004*\"support\"\n",
      "2019-02-27 00:12:46,812 : INFO : topic #2 (0.200): 0.077*\"SCREEN_NAME\" + 0.016*\"txlege\" + 0.015*\"texas\" + 0.012*\"today\" + 0.011*\"thank\" + 0.008*\"great\" + 0.007*\"teamina\" + 0.006*\"honor\" + 0.006*\"hd124\" + 0.005*\"state\"\n",
      "2019-02-27 00:12:46,821 : INFO : topic #3 (0.200): 0.110*\"SCREEN_NAME\" + 0.015*\"great\" + 0.013*\"today\" + 0.009*\"state\" + 0.009*\"thank\" + 0.006*\"county\" + 0.006*\"thanks\" + 0.005*\"school\" + 0.005*\"house\" + 0.005*\"happy\"\n",
      "2019-02-27 00:12:46,831 : INFO : topic #4 (0.200): 0.044*\"SCREEN_NAME\" + 0.009*\"thank\" + 0.008*\"community\" + 0.007*\"state\" + 0.006*\"brooklyn\" + 0.005*\"great\" + 0.005*\"albany\" + 0.004*\"honor\" + 0.004*\"ksleg\" + 0.004*\"continue\"\n",
      "2019-02-27 00:12:46,835 : INFO : topic diff=0.154368, rho=0.257920\n",
      "2019-02-27 00:12:48,250 : INFO : -7.631 per-word bound, 198.2 perplexity estimate based on a held-out corpus of 65 documents with 486380 words\n",
      "2019-02-27 00:12:48,251 : INFO : PROGRESS: pass 13, at document #2065/2065\n",
      "2019-02-27 00:12:48,582 : INFO : merging changes from 65 documents into a model of 2065 documents\n",
      "2019-02-27 00:12:48,742 : INFO : topic #0 (0.200): 0.192*\"SCREEN_NAME\" + 0.005*\"great\" + 0.004*\"today\" + 0.004*\"people\" + 0.003*\"thanks\" + 0.003*\"world\" + 0.003*\"thank\" + 0.003*\"woman\" + 0.003*\"first\" + 0.003*\"right\"\n",
      "2019-02-27 00:12:48,749 : INFO : topic #1 (0.200): 0.086*\"SCREEN_NAME\" + 0.010*\"today\" + 0.006*\"american\" + 0.005*\"great\" + 0.005*\"family\" + 0.005*\"trump\" + 0.005*\"people\" + 0.005*\"house\" + 0.004*\"thank\" + 0.004*\"support\"\n",
      "2019-02-27 00:12:48,758 : INFO : topic #2 (0.200): 0.080*\"SCREEN_NAME\" + 0.016*\"txlege\" + 0.015*\"texas\" + 0.012*\"today\" + 0.011*\"thank\" + 0.009*\"great\" + 0.008*\"teamina\" + 0.007*\"hd124\" + 0.006*\"honor\" + 0.006*\"state\"\n",
      "2019-02-27 00:12:48,767 : INFO : topic #3 (0.200): 0.116*\"SCREEN_NAME\" + 0.014*\"great\" + 0.013*\"today\" + 0.009*\"state\" + 0.009*\"thank\" + 0.006*\"county\" + 0.006*\"thanks\" + 0.005*\"school\" + 0.005*\"house\" + 0.005*\"happy\"\n",
      "2019-02-27 00:12:48,777 : INFO : topic #4 (0.200): 0.045*\"SCREEN_NAME\" + 0.009*\"thank\" + 0.009*\"community\" + 0.007*\"state\" + 0.007*\"brooklyn\" + 0.005*\"great\" + 0.005*\"ksleg\" + 0.005*\"honor\" + 0.005*\"albany\" + 0.004*\"continue\"\n",
      "2019-02-27 00:12:48,782 : INFO : topic diff=0.149086, rho=0.257920\n",
      "2019-02-27 00:12:48,789 : INFO : PROGRESS: pass 14, at document #2000/2065\n",
      "2019-02-27 00:12:56,505 : INFO : merging changes from 2000 documents into a model of 2065 documents\n",
      "2019-02-27 00:12:56,666 : INFO : topic #0 (0.200): 0.196*\"SCREEN_NAME\" + 0.005*\"great\" + 0.004*\"today\" + 0.004*\"people\" + 0.003*\"thanks\" + 0.003*\"world\" + 0.003*\"thank\" + 0.003*\"first\" + 0.003*\"woman\" + 0.003*\"right\"\n",
      "2019-02-27 00:12:56,673 : INFO : topic #1 (0.200): 0.086*\"SCREEN_NAME\" + 0.010*\"today\" + 0.006*\"american\" + 0.005*\"great\" + 0.005*\"family\" + 0.005*\"trump\" + 0.005*\"house\" + 0.005*\"people\" + 0.004*\"thank\" + 0.004*\"support\"\n",
      "2019-02-27 00:12:56,679 : INFO : topic #2 (0.200): 0.078*\"SCREEN_NAME\" + 0.016*\"txlege\" + 0.015*\"texas\" + 0.012*\"today\" + 0.011*\"thank\" + 0.008*\"great\" + 0.007*\"teamina\" + 0.006*\"honor\" + 0.006*\"hd124\" + 0.005*\"state\"\n",
      "2019-02-27 00:12:56,687 : INFO : topic #3 (0.200): 0.115*\"SCREEN_NAME\" + 0.014*\"great\" + 0.013*\"today\" + 0.009*\"state\" + 0.009*\"thank\" + 0.006*\"county\" + 0.006*\"thanks\" + 0.005*\"school\" + 0.005*\"house\" + 0.005*\"happy\"\n"
     ]
    },
    {
     "name": "stderr",
     "output_type": "stream",
     "text": [
      "2019-02-27 00:12:56,694 : INFO : topic #4 (0.200): 0.044*\"SCREEN_NAME\" + 0.009*\"thank\" + 0.009*\"community\" + 0.007*\"state\" + 0.006*\"brooklyn\" + 0.005*\"great\" + 0.005*\"albany\" + 0.004*\"honor\" + 0.004*\"ksleg\" + 0.004*\"continue\"\n",
      "2019-02-27 00:12:56,698 : INFO : topic diff=0.149296, rho=0.249746\n",
      "2019-02-27 00:12:58,145 : INFO : -7.629 per-word bound, 197.9 perplexity estimate based on a held-out corpus of 65 documents with 486380 words\n",
      "2019-02-27 00:12:58,147 : INFO : PROGRESS: pass 14, at document #2065/2065\n",
      "2019-02-27 00:12:58,481 : INFO : merging changes from 65 documents into a model of 2065 documents\n",
      "2019-02-27 00:12:58,641 : INFO : topic #0 (0.200): 0.191*\"SCREEN_NAME\" + 0.005*\"great\" + 0.004*\"today\" + 0.004*\"people\" + 0.003*\"thanks\" + 0.003*\"world\" + 0.003*\"thank\" + 0.003*\"woman\" + 0.003*\"first\" + 0.003*\"right\"\n",
      "2019-02-27 00:12:58,648 : INFO : topic #1 (0.200): 0.086*\"SCREEN_NAME\" + 0.010*\"today\" + 0.006*\"american\" + 0.005*\"great\" + 0.005*\"family\" + 0.005*\"trump\" + 0.005*\"people\" + 0.005*\"house\" + 0.004*\"thank\" + 0.004*\"support\"\n",
      "2019-02-27 00:12:58,655 : INFO : topic #2 (0.200): 0.081*\"SCREEN_NAME\" + 0.016*\"txlege\" + 0.015*\"texas\" + 0.012*\"today\" + 0.011*\"thank\" + 0.009*\"great\" + 0.008*\"teamina\" + 0.007*\"hd124\" + 0.006*\"honor\" + 0.006*\"state\"\n",
      "2019-02-27 00:12:58,663 : INFO : topic #3 (0.200): 0.121*\"SCREEN_NAME\" + 0.014*\"great\" + 0.013*\"today\" + 0.009*\"state\" + 0.009*\"thank\" + 0.006*\"county\" + 0.006*\"thanks\" + 0.005*\"school\" + 0.005*\"happy\" + 0.005*\"house\"\n",
      "2019-02-27 00:12:58,670 : INFO : topic #4 (0.200): 0.045*\"SCREEN_NAME\" + 0.009*\"thank\" + 0.009*\"community\" + 0.007*\"state\" + 0.007*\"brooklyn\" + 0.005*\"great\" + 0.005*\"ksleg\" + 0.005*\"albany\" + 0.005*\"honor\" + 0.005*\"continue\"\n",
      "2019-02-27 00:12:58,675 : INFO : topic diff=0.140469, rho=0.249746\n",
      "2019-02-27 00:12:58,680 : INFO : saving LdaState object under /Users/daveyproctor/Documents/Polyspeech/data/tweets/analysis/LDA/LDAModels/model.docNum=None.grouped=True.NUM_TOPICS=5.gensim.state, separately None\n",
      "2019-02-27 00:12:58,776 : INFO : saved /Users/daveyproctor/Documents/Polyspeech/data/tweets/analysis/LDA/LDAModels/model.docNum=None.grouped=True.NUM_TOPICS=5.gensim.state\n",
      "2019-02-27 00:12:59,186 : INFO : saving LdaModel object under /Users/daveyproctor/Documents/Polyspeech/data/tweets/analysis/LDA/LDAModels/model.docNum=None.grouped=True.NUM_TOPICS=5.gensim, separately ['expElogbeta', 'sstats']\n",
      "2019-02-27 00:12:59,187 : INFO : storing np array 'expElogbeta' to /Users/daveyproctor/Documents/Polyspeech/data/tweets/analysis/LDA/LDAModels/model.docNum=None.grouped=True.NUM_TOPICS=5.gensim.expElogbeta.npy\n",
      "2019-02-27 00:12:59,248 : INFO : not storing attribute dispatcher\n",
      "2019-02-27 00:12:59,249 : INFO : not storing attribute id2word\n",
      "2019-02-27 00:12:59,250 : INFO : not storing attribute state\n",
      "2019-02-27 00:12:59,264 : INFO : saved /Users/daveyproctor/Documents/Polyspeech/data/tweets/analysis/LDA/LDAModels/model.docNum=None.grouped=True.NUM_TOPICS=5.gensim\n"
     ]
    }
   ],
   "source": [
    "model.train()"
   ]
  },
  {
   "cell_type": "code",
   "execution_count": 34,
   "metadata": {},
   "outputs": [
    {
     "name": "stderr",
     "output_type": "stream",
     "text": [
      "2019-02-27 00:14:56,899 : INFO : topic #0 (0.200): 0.191*\"SCREEN_NAME\" + 0.005*\"great\" + 0.004*\"today\" + 0.004*\"people\" + 0.003*\"thanks\" + 0.003*\"world\" + 0.003*\"thank\" + 0.003*\"woman\" + 0.003*\"first\" + 0.003*\"right\" + 0.002*\"bitcoin\" + 0.002*\"change\"\n",
      "2019-02-27 00:14:56,912 : INFO : topic #1 (0.200): 0.086*\"SCREEN_NAME\" + 0.010*\"today\" + 0.006*\"american\" + 0.005*\"great\" + 0.005*\"family\" + 0.005*\"trump\" + 0.005*\"people\" + 0.005*\"house\" + 0.004*\"thank\" + 0.004*\"support\" + 0.004*\"health\" + 0.004*\"state\"\n",
      "2019-02-27 00:14:56,929 : INFO : topic #2 (0.200): 0.081*\"SCREEN_NAME\" + 0.016*\"txlege\" + 0.015*\"texas\" + 0.012*\"today\" + 0.011*\"thank\" + 0.009*\"great\" + 0.008*\"teamina\" + 0.007*\"hd124\" + 0.006*\"honor\" + 0.006*\"state\" + 0.005*\"corpus\" + 0.005*\"christi\"\n",
      "2019-02-27 00:14:56,947 : INFO : topic #3 (0.200): 0.121*\"SCREEN_NAME\" + 0.014*\"great\" + 0.013*\"today\" + 0.009*\"state\" + 0.009*\"thank\" + 0.006*\"county\" + 0.006*\"thanks\" + 0.005*\"school\" + 0.005*\"happy\" + 0.005*\"house\" + 0.005*\"support\" + 0.004*\"tonight\"\n",
      "2019-02-27 00:14:56,960 : INFO : topic #4 (0.200): 0.045*\"SCREEN_NAME\" + 0.009*\"thank\" + 0.009*\"community\" + 0.007*\"state\" + 0.007*\"brooklyn\" + 0.005*\"great\" + 0.005*\"ksleg\" + 0.005*\"albany\" + 0.005*\"honor\" + 0.005*\"continue\" + 0.004*\"assembly\" + 0.004*\"family\"\n"
     ]
    },
    {
     "data": {
      "text/plain": [
       "[(0,\n",
       "  '0.191*\"SCREEN_NAME\" + 0.005*\"great\" + 0.004*\"today\" + 0.004*\"people\" + 0.003*\"thanks\" + 0.003*\"world\" + 0.003*\"thank\" + 0.003*\"woman\" + 0.003*\"first\" + 0.003*\"right\" + 0.002*\"bitcoin\" + 0.002*\"change\"'),\n",
       " (1,\n",
       "  '0.086*\"SCREEN_NAME\" + 0.010*\"today\" + 0.006*\"american\" + 0.005*\"great\" + 0.005*\"family\" + 0.005*\"trump\" + 0.005*\"people\" + 0.005*\"house\" + 0.004*\"thank\" + 0.004*\"support\" + 0.004*\"health\" + 0.004*\"state\"'),\n",
       " (2,\n",
       "  '0.081*\"SCREEN_NAME\" + 0.016*\"txlege\" + 0.015*\"texas\" + 0.012*\"today\" + 0.011*\"thank\" + 0.009*\"great\" + 0.008*\"teamina\" + 0.007*\"hd124\" + 0.006*\"honor\" + 0.006*\"state\" + 0.005*\"corpus\" + 0.005*\"christi\"'),\n",
       " (3,\n",
       "  '0.121*\"SCREEN_NAME\" + 0.014*\"great\" + 0.013*\"today\" + 0.009*\"state\" + 0.009*\"thank\" + 0.006*\"county\" + 0.006*\"thanks\" + 0.005*\"school\" + 0.005*\"happy\" + 0.005*\"house\" + 0.005*\"support\" + 0.004*\"tonight\"'),\n",
       " (4,\n",
       "  '0.045*\"SCREEN_NAME\" + 0.009*\"thank\" + 0.009*\"community\" + 0.007*\"state\" + 0.007*\"brooklyn\" + 0.005*\"great\" + 0.005*\"ksleg\" + 0.005*\"albany\" + 0.005*\"honor\" + 0.005*\"continue\" + 0.004*\"assembly\" + 0.004*\"family\"')]"
      ]
     },
     "execution_count": 34,
     "metadata": {},
     "output_type": "execute_result"
    }
   ],
   "source": [
    "model.ldamodel.print_topics(num_words=12)"
   ]
  },
  {
   "cell_type": "code",
   "execution_count": 21,
   "metadata": {},
   "outputs": [
    {
     "data": {
      "text/plain": [
       "'RT @NewEng_DadLife: Why is it that when the CDC says to throw out your romaine lettuce everyone takes it as gospel yet when the same agency…'"
      ]
     },
     "execution_count": 21,
     "metadata": {},
     "output_type": "execute_result"
    }
   ],
   "source": [
    "allTweets.loc[3,\"full_text\"]"
   ]
  },
  {
   "cell_type": "code",
   "execution_count": 35,
   "metadata": {
    "scrolled": true
   },
   "outputs": [
    {
     "data": {
      "text/plain": [
       "['proud',\n",
       " 'school',\n",
       " 'student',\n",
       " 'graduate',\n",
       " 'couple',\n",
       " 'week',\n",
       " 'SCREEN_NAME',\n",
       " 'SCREEN_NAME',\n",
       " 'thank',\n",
       " 'friend',\n",
       " 'wishing',\n",
       " 'happy',\n",
       " 'birthday',\n",
       " 'friend',\n",
       " 'SCREEN_NAME',\n",
       " 'SCREEN_NAME',\n",
       " 'SCREEN_NAME',\n",
       " 'jimmy',\n",
       " 'eldridge',\n",
       " 'attendance',\n",
       " 'mention',\n",
       " 'jenci',\n",
       " 'SCREEN_NAME',\n",
       " 'SCREEN_NAME',\n",
       " 'thank',\n",
       " 'secretary',\n",
       " 'state',\n",
       " 'speaking',\n",
       " 'rotary',\n",
       " 'spending',\n",
       " 'plant',\n",
       " 'jackson',\n",
       " 'happy',\n",
       " 'birthday',\n",
       " 'wonderful',\n",
       " 'awesome',\n",
       " 'speaker',\n",
       " 'enjoy',\n",
       " 'morning',\n",
       " 'think',\n",
       " 'blessing',\n",
       " 'citizen',\n",
       " 'great',\n",
       " 'nation',\n",
       " 'bless',\n",
       " 'SCREEN_NAME',\n",
       " 'SCREEN_NAME',\n",
       " 'scott',\n",
       " 'thank',\n",
       " 'great',\n",
       " 'leader',\n",
       " 'friend',\n",
       " 'SCREEN_NAME',\n",
       " 'SCREEN_NAME',\n",
       " 'SCREEN_NAME',\n",
       " 'proud',\n",
       " 'hargett',\n",
       " 'prove',\n",
       " 'great',\n",
       " 'leader',\n",
       " 'treasurer',\n",
       " 'lillard',\n",
       " 'frankie',\n",
       " 'radio',\n",
       " 'treasurer',\n",
       " 'lillard',\n",
       " 'lattimore',\n",
       " 'beautiful',\n",
       " 'SCREEN_NAME',\n",
       " 'lambuth',\n",
       " 'campus',\n",
       " 'taking',\n",
       " 'treasurer',\n",
       " 'lillard',\n",
       " 'SCREEN_NAME',\n",
       " 'lambuth',\n",
       " 'campus',\n",
       " 'nursing',\n",
       " 'great',\n",
       " 'treas',\n",
       " 'lillard',\n",
       " 'mayor',\n",
       " 'harris',\n",
       " 'several',\n",
       " 'county',\n",
       " 'commissioner',\n",
       " 'jackson',\n",
       " 'treasurer',\n",
       " 'david',\n",
       " 'lillard',\n",
       " 'jackson',\n",
       " 'today',\n",
       " 'honor',\n",
       " 'state',\n",
       " 'treasurer',\n",
       " 'david',\n",
       " 'lillard',\n",
       " 'jackson',\n",
       " 'today',\n",
       " 'several',\n",
       " 'meeting',\n",
       " 'SCREEN_NAME',\n",
       " 'thanks',\n",
       " 'jimmy',\n",
       " 'eldridge',\n",
       " 'great',\n",
       " 'program',\n",
       " 'morning',\n",
       " 'rotary',\n",
       " 'friend',\n",
       " 'happy']"
      ]
     },
     "execution_count": 35,
     "metadata": {},
     "output_type": "execute_result"
    }
   ],
   "source": [
    "tweet = model.text_data[3]\n",
    "tweet"
   ]
  },
  {
   "cell_type": "code",
   "execution_count": 36,
   "metadata": {},
   "outputs": [
    {
     "name": "stdout",
     "output_type": "stream",
     "text": [
      "[(3, 0.9924446)]\n"
     ]
    }
   ],
   "source": [
    "new_doc2bow = model.dictionary.doc2bow(tweet)\n",
    "print(model.ldamodel.get_document_topics(new_doc2bow))"
   ]
  },
  {
   "cell_type": "code",
   "execution_count": null,
   "metadata": {},
   "outputs": [],
   "source": []
  }
 ],
 "metadata": {
  "kernelspec": {
   "display_name": "PolySpeech",
   "language": "python",
   "name": "polyspeech"
  },
  "language_info": {
   "codemirror_mode": {
    "name": "ipython",
    "version": 3
   },
   "file_extension": ".py",
   "mimetype": "text/x-python",
   "name": "python",
   "nbconvert_exporter": "python",
   "pygments_lexer": "ipython3",
   "version": "3.7.2"
  }
 },
 "nbformat": 4,
 "nbformat_minor": 2
}
